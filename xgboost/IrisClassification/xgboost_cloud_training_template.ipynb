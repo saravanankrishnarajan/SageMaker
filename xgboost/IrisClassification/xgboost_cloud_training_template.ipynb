{
 "cells": [
  {
   "cell_type": "markdown",
   "id": "f32d8220",
   "metadata": {},
   "source": [
    "### XGBoost cloud training template for Iris Classification example"
   ]
  },
  {
   "cell_type": "code",
   "execution_count": 2,
   "id": "53018a1c",
   "metadata": {},
   "outputs": [],
   "source": [
    "import numpy as np\n",
    "import pandas as pd\n",
    "\n",
    "# libs for s3 access\n",
    "import boto3\n",
    "import re\n",
    "import sagemaker\n",
    "from sagemaker import get_execution_role"
   ]
  },
  {
   "cell_type": "code",
   "execution_count": 3,
   "id": "95a23e3f",
   "metadata": {},
   "outputs": [],
   "source": [
    "### Import s3 bucket name as environment variable\n",
    "\n",
    "import os\n",
    "env_vars = !cat ./.env\n",
    "for var in env_vars:\n",
    "    key, value = var.split('=')\n",
    "    os.environ[key] = value"
   ]
  },
  {
   "cell_type": "code",
   "execution_count": 4,
   "id": "fb12c936",
   "metadata": {},
   "outputs": [],
   "source": [
    "bucket_name = os.environ['BUCKET_NAME']"
   ]
  },
  {
   "cell_type": "code",
   "execution_count": null,
   "id": "655004a2",
   "metadata": {},
   "outputs": [],
   "source": [
    "bucket_name"
   ]
  },
  {
   "cell_type": "code",
   "execution_count": 6,
   "id": "c0348889",
   "metadata": {},
   "outputs": [],
   "source": [
    "## bucket name and folders for Iris model\n",
    "\n",
    "training_file_key = 'iris/iris_train.csv'\n",
    "validation_file_key = 'iris/iris_validation.csv'\n",
    "\n",
    "s3_model_outputl_location = r's3://{0}/iris/model'.format(bucket_name)\n",
    "s3_training_file_location = r's3://{0}/{1}'.format(bucket_name, training_file_key)\n",
    "s3_validation_file_location = r's3://{0}/{1}'.format(bucket_name, training_file_key)"
   ]
  },
  {
   "cell_type": "code",
   "execution_count": 7,
   "id": "fa1525db",
   "metadata": {},
   "outputs": [
    {
     "name": "stdout",
     "output_type": "stream",
     "text": [
      "s3://skk-ml-sagemaker/iris/model\n",
      "s3://skk-ml-sagemaker/iris/iris_train.csv\n",
      "s3://skk-ml-sagemaker/iris/iris_train.csv\n"
     ]
    }
   ],
   "source": [
    "print(s3_model_outputl_location)\n",
    "print(s3_training_file_location)\n",
    "print(s3_validation_file_location)"
   ]
  },
  {
   "cell_type": "code",
   "execution_count": 10,
   "id": "86015df8",
   "metadata": {},
   "outputs": [],
   "source": [
    "# Write and Reading from S3 is just as easy\n",
    "# files are referred as objects in S3.  \n",
    "# file name is referred as key name in S3\n",
    "# Files stored in S3 are automatically replicated across 3 different availability zones \n",
    "# in the region where the bucket was created.\n",
    "\n",
    "def write_to_s3(filename, bucket, key):\n",
    "    with open(filename,'rb') as f:\n",
    "        return boto3.Session().resource('s3').Bucket(bucket).Object(key).upload_fileobj(f)"
   ]
  },
  {
   "cell_type": "code",
   "execution_count": 11,
   "id": "427ea888",
   "metadata": {},
   "outputs": [],
   "source": [
    "write_to_s3('iris_train.csv',bucket_name,training_file_key)\n",
    "write_to_s3('iris_validation.csv',bucket_name, validation_file_key)"
   ]
  },
  {
   "cell_type": "markdown",
   "id": "8fc451d6",
   "metadata": {},
   "source": [
    "### Training XGBoost Algorithm in Docker Image"
   ]
  },
  {
   "cell_type": "markdown",
   "id": "342191e0",
   "metadata": {},
   "source": [
    "#### AWS maintain separage images for every region and algorithm"
   ]
  },
  {
   "cell_type": "code",
   "execution_count": 14,
   "id": "0a889ba3",
   "metadata": {},
   "outputs": [],
   "source": [
    "# Use Spot Instance - Save up to 90% of training cost by using spot instances when compared to on-demand instances\n",
    "# Reference: https://github.com/aws-samples/amazon-sagemaker-managed-spot-training/blob/main/xgboost_built_in_managed_spot_training_checkpointing/xgboost_built_in_managed_spot_training_checkpointing.ipynb\n",
    "\n",
    "# use spot instance\n",
    "\n",
    "use_spot_instances=True\n",
    "max_run = 3600\n",
    "max_wait = 7200\n",
    "\n",
    "job_name = 'xgboost-iris-v1'\n",
    "\n",
    "checkpoint_s3_uri = None\n",
    "\n",
    "if use_spot_instances:\n",
    "    checkpoint_s3_uri = f's3://{bucket_name}/iris/checkpoints/{job_name}'\n"
   ]
  },
  {
   "cell_type": "code",
   "execution_count": null,
   "id": "e287d98f",
   "metadata": {},
   "outputs": [],
   "source": [
    "print(f'Checkpoint uri: {checkpoint_s3_uri}')"
   ]
  },
  {
   "cell_type": "code",
   "execution_count": 16,
   "id": "5d978f52",
   "metadata": {},
   "outputs": [],
   "source": [
    "sess = sagemaker.Session()"
   ]
  },
  {
   "cell_type": "code",
   "execution_count": 17,
   "id": "351d2d4d",
   "metadata": {},
   "outputs": [],
   "source": [
    "role = get_execution_role()"
   ]
  },
  {
   "cell_type": "code",
   "execution_count": null,
   "id": "27827960",
   "metadata": {},
   "outputs": [],
   "source": [
    "print(role)"
   ]
  },
  {
   "cell_type": "code",
   "execution_count": 19,
   "id": "e2954ab7",
   "metadata": {},
   "outputs": [
    {
     "name": "stdout",
     "output_type": "stream",
     "text": [
      "Using XGBoost Container: 683313688378.dkr.ecr.us-east-1.amazonaws.com/sagemaker-xgboost:1.2-2\n"
     ]
    }
   ],
   "source": [
    "container = sagemaker.image_uris.retrieve(\"xgboost\", sess.boto_region_name,version='1.2-2')\n",
    "\n",
    "print(f'Using XGBoost Container: {container}')"
   ]
  },
  {
   "cell_type": "markdown",
   "id": "c859a259",
   "metadata": {},
   "source": [
    "### Build Model"
   ]
  },
  {
   "cell_type": "code",
   "execution_count": 30,
   "id": "425f6e1e",
   "metadata": {},
   "outputs": [],
   "source": [
    "# Configure the training job\n",
    "# Specify type and number of instances to use\n",
    "# S3 location where final artifacts needs to be stored\n",
    "\n",
    "#   Reference: http://sagemaker.readthedocs.io/en/latest/estimators.html\n",
    "\n",
    "# for managed spot training, specify the use_spot_instances flag, max_run, max_wait and checkpoint_s3_uri\n",
    "\n",
    "# SDK 2.x version does not require train prefix for instance count and type\n",
    "\n",
    "estimator = sagemaker.estimator.Estimator(\n",
    "    container,\n",
    "    role,\n",
    "    instance_count=1,\n",
    "    instance_type='ml.m5.xlarge',\n",
    "    output_path=s3_model_outputl_location,\n",
    "    sagemaker_session=sess,\n",
    "    base_job_name=job_name,\n",
    "    use_spot_instances=use_spot_instances,\n",
    "    max_run=max_run,\n",
    "    max_wait=max_wait,\n",
    "    checkpoint_s3_uri=checkpoint_s3_uri\n",
    ")"
   ]
  },
  {
   "cell_type": "code",
   "execution_count": 31,
   "id": "3464212a",
   "metadata": {},
   "outputs": [],
   "source": [
    "# Specify hyper parameters that appropriate for the training algorithm\n",
    "# XGBoost Training Parameter Reference: \n",
    "#   https://github.com/dmlc/xgboost/blob/master/doc/parameter.md\n",
    "\n",
    "estimator.set_hyperparameters(\n",
    "    max_depth=5,\n",
    "    objective=\"multi:softmax\",\n",
    "    eval_metric=\"mlogloss\",\n",
    "    num_class=3,\n",
    "    num_round=100,\n",
    "    early_stopping_rounds=10)"
   ]
  },
  {
   "cell_type": "code",
   "execution_count": 32,
   "id": "a23980d6",
   "metadata": {},
   "outputs": [
    {
     "data": {
      "text/plain": [
       "{'max_depth': 5,\n",
       " 'objective': 'multi:softmax',\n",
       " 'eval_metric': 'mlogloss',\n",
       " 'num_class': 3,\n",
       " 'num_round': 100,\n",
       " 'early_stopping_rounds': 10}"
      ]
     },
     "execution_count": 32,
     "metadata": {},
     "output_type": "execute_result"
    }
   ],
   "source": [
    "estimator.hyperparameters()"
   ]
  },
  {
   "cell_type": "markdown",
   "id": "179f79bb",
   "metadata": {},
   "source": [
    "### Prepare Training data location details"
   ]
  },
  {
   "cell_type": "code",
   "execution_count": 33,
   "id": "2b40ae39",
   "metadata": {},
   "outputs": [],
   "source": [
    "training_input_config = sagemaker.session.TrainingInput(\n",
    "    s3_data=s3_training_file_location,\n",
    "    content_type='csv',\n",
    "    s3_data_type='S3Prefix'\n",
    ")\n",
    "\n",
    "validation_input_config = sagemaker.session.TrainingInput(\n",
    "    s3_data=s3_validation_file_location,\n",
    "    content_type='csv',\n",
    "    s3_data_type='S3Prefix'\n",
    ")\n",
    "\n",
    "data_channels = {'train': training_input_config, 'validation': validation_input_config}"
   ]
  },
  {
   "cell_type": "code",
   "execution_count": 34,
   "id": "69538570",
   "metadata": {},
   "outputs": [
    {
     "name": "stdout",
     "output_type": "stream",
     "text": [
      "<sagemaker.inputs.TrainingInput object at 0x7f44d63724d0>\n",
      "<sagemaker.inputs.TrainingInput object at 0x7f44defd45e0>\n"
     ]
    }
   ],
   "source": [
    "print(training_input_config)\n",
    "print(validation_input_config)"
   ]
  },
  {
   "cell_type": "markdown",
   "id": "fbf7f89d",
   "metadata": {},
   "source": [
    "### Train the model"
   ]
  },
  {
   "cell_type": "code",
   "execution_count": 35,
   "id": "b00f8dab",
   "metadata": {},
   "outputs": [
    {
     "name": "stderr",
     "output_type": "stream",
     "text": [
      "INFO:sagemaker:Creating training-job with name: xgboost-iris-v1-2024-04-29-00-03-57-358\n"
     ]
    },
    {
     "name": "stdout",
     "output_type": "stream",
     "text": [
      "2024-04-29 00:03:57 Starting - Starting the training job...\n",
      "2024-04-29 00:04:13 Starting - Preparing the instances for training...\n",
      "2024-04-29 00:04:43 Downloading - Downloading input data...\n",
      "2024-04-29 00:05:04 Downloading - Downloading the training image...\n",
      "2024-04-29 00:05:49 Training - Training image download completed. Training in progress...\u001b[34m[2024-04-29 00:05:59.689 ip-10-0-68-202.ec2.internal:7 INFO utils.py:27] RULE_JOB_STOP_SIGNAL_FILENAME: None\u001b[0m\n",
      "\u001b[34m[2024-04-29:00:05:59:INFO] Imported framework sagemaker_xgboost_container.training\u001b[0m\n",
      "\u001b[34m[2024-04-29:00:05:59:INFO] Failed to parse hyperparameter eval_metric value mlogloss to Json.\u001b[0m\n",
      "\u001b[34mReturning the value itself\u001b[0m\n",
      "\u001b[34m[2024-04-29:00:05:59:INFO] Failed to parse hyperparameter objective value multi:softmax to Json.\u001b[0m\n",
      "\u001b[34mReturning the value itself\u001b[0m\n",
      "\u001b[34m[2024-04-29:00:05:59:INFO] No GPUs detected (normal if no gpus installed)\u001b[0m\n",
      "\u001b[34m[2024-04-29:00:05:59:INFO] Running XGBoost Sagemaker in algorithm mode\u001b[0m\n",
      "\u001b[34m[2024-04-29:00:05:59:INFO] Determined delimiter of CSV input is ','\u001b[0m\n",
      "\u001b[34m[2024-04-29:00:05:59:INFO] Determined delimiter of CSV input is ','\u001b[0m\n",
      "\u001b[34m[2024-04-29:00:05:59:INFO] Determined delimiter of CSV input is ','\u001b[0m\n",
      "\u001b[34m[2024-04-29:00:05:59:INFO] Determined delimiter of CSV input is ','\u001b[0m\n",
      "\u001b[34m[2024-04-29:00:05:59:INFO] Single node training.\u001b[0m\n",
      "\u001b[34m[2024-04-29:00:05:59:INFO] Train matrix has 105 rows and 4 columns\u001b[0m\n",
      "\u001b[34m[2024-04-29:00:05:59:INFO] Validation matrix has 105 rows\u001b[0m\n",
      "\u001b[34m[2024-04-29 00:05:59.772 ip-10-0-68-202.ec2.internal:7 INFO json_config.py:91] Creating hook from json_config at /opt/ml/input/config/debughookconfig.json.\u001b[0m\n",
      "\u001b[34m[2024-04-29 00:05:59.772 ip-10-0-68-202.ec2.internal:7 INFO hook.py:201] tensorboard_dir has not been set for the hook. SMDebug will not be exporting tensorboard summaries.\u001b[0m\n",
      "\u001b[34m[2024-04-29 00:05:59.773 ip-10-0-68-202.ec2.internal:7 INFO profiler_config_parser.py:102] User has disabled profiler.\u001b[0m\n",
      "\u001b[34m[2024-04-29 00:05:59.773 ip-10-0-68-202.ec2.internal:7 INFO hook.py:255] Saving to /opt/ml/output/tensors\u001b[0m\n",
      "\u001b[34m[2024-04-29:00:05:59:INFO] Debug hook created from config\u001b[0m\n",
      "\u001b[34m[0]#011train-mlogloss:0.73876#011validation-mlogloss:0.73876\u001b[0m\n",
      "\u001b[34m[2024-04-29 00:05:59.777 ip-10-0-68-202.ec2.internal:7 INFO hook.py:423] Monitoring the collections: metrics\u001b[0m\n",
      "\u001b[34m[2024-04-29 00:05:59.780 ip-10-0-68-202.ec2.internal:7 INFO hook.py:486] Hook is writing from the hook with pid: 7\u001b[0m\n",
      "\u001b[34m[1]#011train-mlogloss:0.52787#011validation-mlogloss:0.52787\u001b[0m\n",
      "\u001b[34m[2]#011train-mlogloss:0.38960#011validation-mlogloss:0.38960\u001b[0m\n",
      "\u001b[34m[3]#011train-mlogloss:0.29429#011validation-mlogloss:0.29429\u001b[0m\n",
      "\u001b[34m[4]#011train-mlogloss:0.22736#011validation-mlogloss:0.22736\u001b[0m\n",
      "\u001b[34m[5]#011train-mlogloss:0.17920#011validation-mlogloss:0.17920\u001b[0m\n",
      "\u001b[34m[6]#011train-mlogloss:0.14403#011validation-mlogloss:0.14403\u001b[0m\n",
      "\u001b[34m[7]#011train-mlogloss:0.11664#011validation-mlogloss:0.11664\u001b[0m\n",
      "\u001b[34m[8]#011train-mlogloss:0.09668#011validation-mlogloss:0.09668\u001b[0m\n",
      "\u001b[34m[9]#011train-mlogloss:0.08128#011validation-mlogloss:0.08128\u001b[0m\n",
      "\u001b[34m[10]#011train-mlogloss:0.06783#011validation-mlogloss:0.06783\u001b[0m\n",
      "\u001b[34m[11]#011train-mlogloss:0.05794#011validation-mlogloss:0.05794\u001b[0m\n",
      "\u001b[34m[12]#011train-mlogloss:0.05011#011validation-mlogloss:0.05011\u001b[0m\n",
      "\u001b[34m[13]#011train-mlogloss:0.04428#011validation-mlogloss:0.04428\u001b[0m\n",
      "\u001b[34m[14]#011train-mlogloss:0.03993#011validation-mlogloss:0.03993\u001b[0m\n",
      "\u001b[34m[15]#011train-mlogloss:0.03615#011validation-mlogloss:0.03615\u001b[0m\n",
      "\u001b[34m[16]#011train-mlogloss:0.03310#011validation-mlogloss:0.03310\u001b[0m\n",
      "\u001b[34m[17]#011train-mlogloss:0.03065#011validation-mlogloss:0.03065\u001b[0m\n",
      "\u001b[34m[18]#011train-mlogloss:0.02874#011validation-mlogloss:0.02874\u001b[0m\n",
      "\u001b[34m[19]#011train-mlogloss:0.02739#011validation-mlogloss:0.02739\u001b[0m\n",
      "\u001b[34m[20]#011train-mlogloss:0.02639#011validation-mlogloss:0.02639\u001b[0m\n",
      "\u001b[34m[21]#011train-mlogloss:0.02583#011validation-mlogloss:0.02583\u001b[0m\n",
      "\u001b[34m[22]#011train-mlogloss:0.02513#011validation-mlogloss:0.02513\u001b[0m\n",
      "\u001b[34m[23]#011train-mlogloss:0.02444#011validation-mlogloss:0.02444\u001b[0m\n",
      "\u001b[34m[24]#011train-mlogloss:0.02398#011validation-mlogloss:0.02398\u001b[0m\n",
      "\u001b[34m[25]#011train-mlogloss:0.02340#011validation-mlogloss:0.02340\u001b[0m\n",
      "\u001b[34m[26]#011train-mlogloss:0.02287#011validation-mlogloss:0.02287\u001b[0m\n",
      "\u001b[34m[27]#011train-mlogloss:0.02250#011validation-mlogloss:0.02250\u001b[0m\n",
      "\u001b[34m[28]#011train-mlogloss:0.02217#011validation-mlogloss:0.02217\u001b[0m\n",
      "\u001b[34m[29]#011train-mlogloss:0.02185#011validation-mlogloss:0.02185\u001b[0m\n",
      "\u001b[34m[30]#011train-mlogloss:0.02150#011validation-mlogloss:0.02150\u001b[0m\n",
      "\u001b[34m[31]#011train-mlogloss:0.02122#011validation-mlogloss:0.02122\u001b[0m\n",
      "\u001b[34m[32]#011train-mlogloss:0.02091#011validation-mlogloss:0.02091\u001b[0m\n",
      "\u001b[34m[33]#011train-mlogloss:0.02065#011validation-mlogloss:0.02065\u001b[0m\n",
      "\u001b[34m[34]#011train-mlogloss:0.02038#011validation-mlogloss:0.02038\u001b[0m\n",
      "\u001b[34m[35]#011train-mlogloss:0.02010#011validation-mlogloss:0.02010\u001b[0m\n",
      "\u001b[34m[36]#011train-mlogloss:0.01989#011validation-mlogloss:0.01989\u001b[0m\n",
      "\u001b[34m[37]#011train-mlogloss:0.01964#011validation-mlogloss:0.01964\u001b[0m\n",
      "\u001b[34m[38]#011train-mlogloss:0.01945#011validation-mlogloss:0.01945\u001b[0m\n",
      "\u001b[34m[39]#011train-mlogloss:0.01927#011validation-mlogloss:0.01927\u001b[0m\n",
      "\u001b[34m[40]#011train-mlogloss:0.01907#011validation-mlogloss:0.01907\u001b[0m\n",
      "\u001b[34m[41]#011train-mlogloss:0.01890#011validation-mlogloss:0.01890\u001b[0m\n",
      "\u001b[34m[42]#011train-mlogloss:0.01872#011validation-mlogloss:0.01872\u001b[0m\n",
      "\u001b[34m[43]#011train-mlogloss:0.01856#011validation-mlogloss:0.01856\u001b[0m\n",
      "\u001b[34m[44]#011train-mlogloss:0.01840#011validation-mlogloss:0.01840\u001b[0m\n",
      "\u001b[34m[45]#011train-mlogloss:0.01824#011validation-mlogloss:0.01824\u001b[0m\n",
      "\u001b[34m[46]#011train-mlogloss:0.01809#011validation-mlogloss:0.01809\u001b[0m\n",
      "\u001b[34m[47]#011train-mlogloss:0.01794#011validation-mlogloss:0.01794\u001b[0m\n",
      "\u001b[34m[48]#011train-mlogloss:0.01780#011validation-mlogloss:0.01780\u001b[0m\n",
      "\u001b[34m[49]#011train-mlogloss:0.01766#011validation-mlogloss:0.01766\u001b[0m\n",
      "\u001b[34m[50]#011train-mlogloss:0.01752#011validation-mlogloss:0.01752\u001b[0m\n",
      "\u001b[34m[51]#011train-mlogloss:0.01740#011validation-mlogloss:0.01740\u001b[0m\n",
      "\u001b[34m[52]#011train-mlogloss:0.01727#011validation-mlogloss:0.01727\u001b[0m\n",
      "\u001b[34m[53]#011train-mlogloss:0.01715#011validation-mlogloss:0.01715\u001b[0m\n",
      "\u001b[34m[54]#011train-mlogloss:0.01703#011validation-mlogloss:0.01703\u001b[0m\n",
      "\u001b[34m[55]#011train-mlogloss:0.01692#011validation-mlogloss:0.01692\u001b[0m\n",
      "\u001b[34m[56]#011train-mlogloss:0.01681#011validation-mlogloss:0.01681\u001b[0m\n",
      "\u001b[34m[57]#011train-mlogloss:0.01670#011validation-mlogloss:0.01670\u001b[0m\n",
      "\u001b[34m[58]#011train-mlogloss:0.01659#011validation-mlogloss:0.01659\u001b[0m\n",
      "\u001b[34m[59]#011train-mlogloss:0.01650#011validation-mlogloss:0.01650\u001b[0m\n",
      "\u001b[34m[60]#011train-mlogloss:0.01641#011validation-mlogloss:0.01641\u001b[0m\n",
      "\u001b[34m[61]#011train-mlogloss:0.01632#011validation-mlogloss:0.01632\u001b[0m\n",
      "\u001b[34m[62]#011train-mlogloss:0.01623#011validation-mlogloss:0.01623\u001b[0m\n",
      "\u001b[34m[63]#011train-mlogloss:0.01620#011validation-mlogloss:0.01620\u001b[0m\n",
      "\u001b[34m[64]#011train-mlogloss:0.01617#011validation-mlogloss:0.01617\u001b[0m\n",
      "\u001b[34m[65]#011train-mlogloss:0.01614#011validation-mlogloss:0.01614\u001b[0m\n",
      "\u001b[34m[66]#011train-mlogloss:0.01612#011validation-mlogloss:0.01612\u001b[0m\n",
      "\u001b[34m[67]#011train-mlogloss:0.01609#011validation-mlogloss:0.01609\u001b[0m\n",
      "\u001b[34m[68]#011train-mlogloss:0.01606#011validation-mlogloss:0.01606\u001b[0m\n",
      "\u001b[34m[69]#011train-mlogloss:0.01604#011validation-mlogloss:0.01604\u001b[0m\n",
      "\u001b[34m[70]#011train-mlogloss:0.01602#011validation-mlogloss:0.01602\u001b[0m\n",
      "\u001b[34m[71]#011train-mlogloss:0.01599#011validation-mlogloss:0.01599\u001b[0m\n",
      "\u001b[34m[72]#011train-mlogloss:0.01597#011validation-mlogloss:0.01597\u001b[0m\n",
      "\u001b[34m[73]#011train-mlogloss:0.01595#011validation-mlogloss:0.01595\u001b[0m\n",
      "\u001b[34m[74]#011train-mlogloss:0.01592#011validation-mlogloss:0.01592\u001b[0m\n",
      "\u001b[34m[75]#011train-mlogloss:0.01590#011validation-mlogloss:0.01590\u001b[0m\n",
      "\u001b[34m[76]#011train-mlogloss:0.01588#011validation-mlogloss:0.01588\u001b[0m\n",
      "\u001b[34m[77]#011train-mlogloss:0.01586#011validation-mlogloss:0.01586\u001b[0m\n",
      "\u001b[34m[78]#011train-mlogloss:0.01584#011validation-mlogloss:0.01584\u001b[0m\n",
      "\u001b[34m[79]#011train-mlogloss:0.01582#011validation-mlogloss:0.01582\u001b[0m\n",
      "\u001b[34m[80]#011train-mlogloss:0.01580#011validation-mlogloss:0.01580\u001b[0m\n",
      "\u001b[34m[81]#011train-mlogloss:0.01578#011validation-mlogloss:0.01578\u001b[0m\n",
      "\u001b[34m[82]#011train-mlogloss:0.01576#011validation-mlogloss:0.01576\u001b[0m\n",
      "\u001b[34m[83]#011train-mlogloss:0.01574#011validation-mlogloss:0.01574\u001b[0m\n",
      "\u001b[34m[84]#011train-mlogloss:0.01572#011validation-mlogloss:0.01572\u001b[0m\n",
      "\u001b[34m[85]#011train-mlogloss:0.01571#011validation-mlogloss:0.01571\u001b[0m\n",
      "\u001b[34m[86]#011train-mlogloss:0.01569#011validation-mlogloss:0.01569\u001b[0m\n",
      "\u001b[34m[87]#011train-mlogloss:0.01567#011validation-mlogloss:0.01567\u001b[0m\n",
      "\u001b[34m[88]#011train-mlogloss:0.01566#011validation-mlogloss:0.01566\u001b[0m\n",
      "\u001b[34m[89]#011train-mlogloss:0.01564#011validation-mlogloss:0.01564\u001b[0m\n",
      "\u001b[34m[90]#011train-mlogloss:0.01562#011validation-mlogloss:0.01562\u001b[0m\n",
      "\u001b[34m[91]#011train-mlogloss:0.01561#011validation-mlogloss:0.01561\u001b[0m\n",
      "\u001b[34m[92]#011train-mlogloss:0.01559#011validation-mlogloss:0.01559\u001b[0m\n",
      "\u001b[34m[93]#011train-mlogloss:0.01558#011validation-mlogloss:0.01558\u001b[0m\n",
      "\u001b[34m[94]#011train-mlogloss:0.01556#011validation-mlogloss:0.01556\u001b[0m\n",
      "\u001b[34m[95]#011train-mlogloss:0.01555#011validation-mlogloss:0.01555\u001b[0m\n",
      "\u001b[34m[96]#011train-mlogloss:0.01553#011validation-mlogloss:0.01553\u001b[0m\n",
      "\u001b[34m[97]#011train-mlogloss:0.01552#011validation-mlogloss:0.01552\u001b[0m\n",
      "\u001b[34m[98]#011train-mlogloss:0.01550#011validation-mlogloss:0.01550\u001b[0m\n",
      "\u001b[34m[99]#011train-mlogloss:0.01549#011validation-mlogloss:0.01549\u001b[0m\n"
     ]
    },
    {
     "name": "stdout",
     "output_type": "stream",
     "text": [
      "\n",
      "2024-04-29 00:06:17 Uploading - Uploading generated training model\n",
      "2024-04-29 00:06:17 Completed - Training job completed\n",
      "Training seconds: 94\n",
      "Billable seconds: 39\n",
      "Managed Spot Training savings: 58.5%\n"
     ]
    }
   ],
   "source": [
    "# XGBoost supports \"train\", \"validation\" channels\n",
    "\n",
    "estimator.fit(data_channels)"
   ]
  },
  {
   "cell_type": "markdown",
   "id": "80390526",
   "metadata": {},
   "source": [
    "### Deploy Model"
   ]
  },
  {
   "cell_type": "code",
   "execution_count": 37,
   "id": "247fdbf5",
   "metadata": {},
   "outputs": [
    {
     "name": "stderr",
     "output_type": "stream",
     "text": [
      "INFO:sagemaker:Creating model with name: xgboost-iris-v1-2024-04-29-00-07-10-295\n",
      "INFO:sagemaker:Creating endpoint-config with name xgboost-iris-v1\n",
      "INFO:sagemaker:Creating endpoint with name xgboost-iris-v1\n"
     ]
    },
    {
     "name": "stdout",
     "output_type": "stream",
     "text": [
      "-----!"
     ]
    }
   ],
   "source": [
    "predictor = estimator.deploy(\n",
    "                        initial_instance_count=1,\n",
    "                        instance_type='ml.m5.xlarge',\n",
    "                        endpoint_name=job_name)"
   ]
  },
  {
   "cell_type": "markdown",
   "id": "8c2a4347",
   "metadata": {},
   "source": [
    "### Run Predictions"
   ]
  },
  {
   "cell_type": "code",
   "execution_count": 40,
   "id": "28882b19",
   "metadata": {},
   "outputs": [],
   "source": [
    "# SDK 2.0 serializers\n",
    "\n",
    "from sagemaker.serializers import CSVSerializer\n",
    "predictor.serializer = CSVSerializer()"
   ]
  },
  {
   "cell_type": "code",
   "execution_count": 43,
   "id": "3d12d328",
   "metadata": {},
   "outputs": [
    {
     "data": {
      "text/plain": [
       "b'0.0\\n0.0\\n1.0\\n'"
      ]
     },
     "execution_count": 43,
     "metadata": {},
     "output_type": "execute_result"
    }
   ],
   "source": [
    "predictor.predict([[4.8,3.4,1.6,0.2],[4.8,3.4,1.6,0.2],[5.8,2.7,4.1,1.0]])"
   ]
  },
  {
   "cell_type": "code",
   "execution_count": null,
   "id": "40129513",
   "metadata": {},
   "outputs": [],
   "source": []
  }
 ],
 "metadata": {
  "kernelspec": {
   "display_name": "conda_tensorflow2_p310",
   "language": "python",
   "name": "conda_tensorflow2_p310"
  },
  "language_info": {
   "codemirror_mode": {
    "name": "ipython",
    "version": 3
   },
   "file_extension": ".py",
   "mimetype": "text/x-python",
   "name": "python",
   "nbconvert_exporter": "python",
   "pygments_lexer": "ipython3",
   "version": "3.10.13"
  }
 },
 "nbformat": 4,
 "nbformat_minor": 5
}
