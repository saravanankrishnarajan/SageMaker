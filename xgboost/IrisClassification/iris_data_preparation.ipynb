{
 "cells": [
  {
   "cell_type": "markdown",
   "id": "f482ea27",
   "metadata": {},
   "source": [
    "### Iris Classification\n",
    "\n",
    "Input Features:<br>\n",
    "sepal_length, sepal_width, petal_length, petal_width\n",
    "\n",
    "Target:\n",
    "Iris plant Class\n",
    "\n",
    "Objective: Predict iris plant class for a given sepal_length,sepal_width,petal_length,petal_width\n",
    "\n",
    "Data source: https://archive.ics.uci.edu/ml/datasets/iris"
   ]
  },
  {
   "cell_type": "code",
   "execution_count": 1,
   "id": "8e60a5bc",
   "metadata": {},
   "outputs": [
    {
     "name": "stderr",
     "output_type": "stream",
     "text": [
      "Matplotlib is building the font cache; this may take a moment.\n"
     ]
    }
   ],
   "source": [
    "import numpy as np\n",
    "import pandas as pd\n",
    "import matplotlib.pyplot as plt\n",
    "from sklearn import preprocessing"
   ]
  },
  {
   "cell_type": "code",
   "execution_count": null,
   "id": "bd00fac0",
   "metadata": {},
   "outputs": [],
   "source": [
    "columns = ['encoded_class']"
   ]
  }
 ],
 "metadata": {
  "kernelspec": {
   "display_name": "conda_tensorflow2_p310",
   "language": "python",
   "name": "conda_tensorflow2_p310"
  },
  "language_info": {
   "codemirror_mode": {
    "name": "ipython",
    "version": 3
   },
   "file_extension": ".py",
   "mimetype": "text/x-python",
   "name": "python",
   "nbconvert_exporter": "python",
   "pygments_lexer": "ipython3",
   "version": "3.10.14"
  }
 },
 "nbformat": 4,
 "nbformat_minor": 5
}
