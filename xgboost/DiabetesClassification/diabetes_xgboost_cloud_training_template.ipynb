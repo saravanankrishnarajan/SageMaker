{
 "cells": [
  {
   "cell_type": "markdown",
   "id": "344ae836",
   "metadata": {},
   "source": [
    "### XGBoost cloud training template for Diabetes Prediction"
   ]
  },
  {
   "cell_type": "code",
   "execution_count": 1,
   "id": "5ef0fdde",
   "metadata": {},
   "outputs": [
    {
     "name": "stdout",
     "output_type": "stream",
     "text": [
      "sagemaker.config INFO - Not applying SDK defaults from location: /etc/xdg/sagemaker/config.yaml\n",
      "sagemaker.config INFO - Not applying SDK defaults from location: /home/ec2-user/.config/sagemaker/config.yaml\n"
     ]
    }
   ],
   "source": [
    "import numpy as np\n",
    "import pandas as pd\n",
    "\n",
    "import boto3\n",
    "import re\n",
    "import sagemaker\n",
    "from sagemaker import get_execution_role"
   ]
  },
  {
   "cell_type": "code",
   "execution_count": 2,
   "id": "b4486a5c",
   "metadata": {},
   "outputs": [],
   "source": [
    "# Import s3 bucket name from .env file\n",
    "\n",
    "import os\n",
    "env_vars = !cat ./.env\n",
    "for var in env_vars:\n",
    "    key, value = var.split('=')\n",
    "    os.environ[key]=value"
   ]
  },
  {
   "cell_type": "code",
   "execution_count": 3,
   "id": "7e847622",
   "metadata": {},
   "outputs": [],
   "source": [
    "bucket_name = os.environ['BUCKET_NAME']"
   ]
  },
  {
   "cell_type": "code",
   "execution_count": null,
   "id": "d5ea312f",
   "metadata": {},
   "outputs": [],
   "source": [
    "bucket_name"
   ]
  },
  {
   "cell_type": "code",
   "execution_count": 5,
   "id": "4c70b1ce",
   "metadata": {},
   "outputs": [],
   "source": [
    "# bucket name and folders for Diabetes files in s3\n",
    "\n",
    "training_file_key = 'diabetes/diabetes_train.csv'\n",
    "validation_file_key = 'diabetes/diabetes_validation.csv'\n",
    "\n",
    "s3_model_output_location = r's3://{0}/iris/model'.format(bucket_name)\n",
    "s3_training_file_location = r's3://{0}/{1}'.format(bucket_name, training_file_key)\n",
    "s3_validation_file_location = r's3://{0}/{1}'.format(bucket_name, validation_file_key)"
   ]
  },
  {
   "cell_type": "code",
   "execution_count": null,
   "id": "07aff837",
   "metadata": {},
   "outputs": [],
   "source": [
    "print(s3_model_output_location)\n",
    "print(s3_training_file_location)\n",
    "print(s3_validation_file_location)"
   ]
  },
  {
   "cell_type": "code",
   "execution_count": 7,
   "id": "2539d86f",
   "metadata": {},
   "outputs": [],
   "source": [
    "# function to write files into s3\n",
    "\n",
    "def write_to_s3(filename, bucket, key):\n",
    "    with open(filename,'rb') as f:\n",
    "        return boto3.Session().resource('s3').Bucket(bucket).Object(key).upload_fileobj(f)"
   ]
  },
  {
   "cell_type": "code",
   "execution_count": 8,
   "id": "e16c1bdb",
   "metadata": {},
   "outputs": [],
   "source": [
    "write_to_s3('diabetes_train_imputed.csv',bucket_name,training_file_key)\n",
    "write_to_s3('diabetes_validation_imputed.csv',bucket_name, validation_file_key)"
   ]
  },
  {
   "cell_type": "code",
   "execution_count": 9,
   "id": "c53435d7",
   "metadata": {},
   "outputs": [],
   "source": [
    "diabetes_training_column_list_file_key = 'diabetes/diabetes_training_column_list.txt'\n",
    "s3_training_column_list_file_location = r's3://{0}/{1}'.format(bucket_name, diabetes_training_column_list_file_key)"
   ]
  },
  {
   "cell_type": "code",
   "execution_count": 10,
   "id": "5e9740b9",
   "metadata": {},
   "outputs": [],
   "source": [
    "write_to_s3('diabetes_training_column_list.txt',bucket_name, diabetes_training_column_list_file_key)"
   ]
  },
  {
   "cell_type": "markdown",
   "id": "4841cd3c",
   "metadata": {},
   "source": [
    "### Training XGBoost Algorithm in Docker Image"
   ]
  },
  {
   "cell_type": "markdown",
   "id": "03478fdd",
   "metadata": {},
   "source": [
    "#### using the AWS maintained xgboost image for every region"
   ]
  },
  {
   "cell_type": "code",
   "execution_count": 13,
   "id": "c7518e26",
   "metadata": {},
   "outputs": [],
   "source": [
    "# Use spot instance\n",
    "\n",
    "use_spot_instance = True\n",
    "max_run = 3600\n",
    "max_wait = 7200\n",
    "\n",
    "job_name = 'xgboost-diabetes-v1'\n",
    "\n",
    "checkpoint_s3_uri = None\n",
    "\n",
    "if use_spot_instance:\n",
    "    checkpoint_s3_uri = f's3://{bucket_name}/diabetes/checkpoints/{job_name}'"
   ]
  },
  {
   "cell_type": "code",
   "execution_count": 14,
   "id": "3d16b244",
   "metadata": {},
   "outputs": [],
   "source": [
    "sess = sagemaker.Session()"
   ]
  },
  {
   "cell_type": "code",
   "execution_count": 15,
   "id": "c68c2f10",
   "metadata": {},
   "outputs": [],
   "source": [
    "role = get_execution_role()"
   ]
  },
  {
   "cell_type": "code",
   "execution_count": null,
   "id": "ddbbb184",
   "metadata": {},
   "outputs": [],
   "source": [
    "print(role)"
   ]
  },
  {
   "cell_type": "code",
   "execution_count": 17,
   "id": "3041c8d0",
   "metadata": {},
   "outputs": [
    {
     "name": "stdout",
     "output_type": "stream",
     "text": [
      "Using XGBoost container:683313688378.dkr.ecr.us-east-1.amazonaws.com/sagemaker-xgboost:1.2-2\n"
     ]
    }
   ],
   "source": [
    "container = sagemaker.image_uris.retrieve(\"xgboost\",sess.boto_region_name, version='1.2-2')\n",
    "print(f'Using XGBoost container:{container}')"
   ]
  },
  {
   "cell_type": "markdown",
   "id": "b1571f56",
   "metadata": {},
   "source": [
    "### Build Model"
   ]
  },
  {
   "cell_type": "code",
   "execution_count": 67,
   "id": "03ccdad2",
   "metadata": {},
   "outputs": [],
   "source": [
    "# Configure the training job\n",
    "# Specify type and number of instances will be used\n",
    "# s3 location where final artifacts needs to be stored\n",
    "#   Reference: http://sagemaker.readthedocs.io/en/latest/estimators.html\n",
    "\n",
    "# for managed spot training, specify the use_spot_instances flag, max_run, max_wait and checkpoint_s3_uri\n",
    "\n",
    "# SDK 2.x version does not require train prefix for instance count and type\n",
    "\n",
    "estimator = sagemaker.estimator.Estimator(\n",
    "    container,\n",
    "    role,\n",
    "    instance_count=1,\n",
    "    instance_type='ml.m5.xlarge',\n",
    "    output_path = s3_model_output_location,\n",
    "    sagemaker_session = sess,\n",
    "    base_job_name=job_name,\n",
    "    use_spot_instances=use_spot_instance,\n",
    "    max_run=max_run,\n",
    "    max_wait=max_wait,\n",
    "    checkpoint_s3_uri=checkpoint_s3_uri\n",
    ")"
   ]
  },
  {
   "cell_type": "code",
   "execution_count": 69,
   "id": "b177d81d",
   "metadata": {},
   "outputs": [],
   "source": [
    "# Specify hyper parameters that appropriate for the training algorithm\n",
    "# XGBoost Training parameter Reference:\n",
    "\n",
    "estimator.set_hyperparameters(\n",
    "    max_depth=5,\n",
    "    objective='binary:logistic',\n",
    "    eval_metric='logloss',\n",
    "    num_round=100,\n",
    "    early_stopping_rounds=10\n",
    ")"
   ]
  },
  {
   "cell_type": "code",
   "execution_count": 70,
   "id": "cd6cb3f1",
   "metadata": {},
   "outputs": [
    {
     "data": {
      "text/plain": [
       "{'max_depth': 5,\n",
       " 'objective': 'binary:logistic',\n",
       " 'eval_metric': 'logloss',\n",
       " 'num_round': 100,\n",
       " 'early_stopping_rounds': 10}"
      ]
     },
     "execution_count": 70,
     "metadata": {},
     "output_type": "execute_result"
    }
   ],
   "source": [
    "estimator.hyperparameters()"
   ]
  },
  {
   "cell_type": "code",
   "execution_count": 71,
   "id": "4954f6be",
   "metadata": {},
   "outputs": [],
   "source": [
    "### Preparing Training data locations\n",
    "\n",
    "training_input_config = sagemaker.session.TrainingInput(\n",
    "    s3_data = s3_training_file_location,\n",
    "    content_type = 'csv',\n",
    "    s3_data_type = 'S3Prefix'\n",
    ")\n",
    "\n",
    "validation_input_config = sagemaker.session.TrainingInput(\n",
    "    s3_data = s3_validation_file_location,\n",
    "    content_type = 'csv',\n",
    "    s3_data_type = 'S3Prefix'\n",
    ")\n",
    "\n",
    "data_channels = {'train':training_input_config, 'validation':validation_input_config}"
   ]
  },
  {
   "cell_type": "code",
   "execution_count": 72,
   "id": "d93268d2",
   "metadata": {},
   "outputs": [
    {
     "name": "stdout",
     "output_type": "stream",
     "text": [
      "<sagemaker.inputs.TrainingInput object at 0x7f720d9ec550>\n",
      "<sagemaker.inputs.TrainingInput object at 0x7f720d9ef970>\n"
     ]
    }
   ],
   "source": [
    "print(training_input_config)\n",
    "print(validation_input_config)"
   ]
  },
  {
   "cell_type": "code",
   "execution_count": 73,
   "id": "61b07aa8",
   "metadata": {},
   "outputs": [
    {
     "name": "stdout",
     "output_type": "stream",
     "text": [
      "{'train': <sagemaker.inputs.TrainingInput object at 0x7f720d9ec550>, 'validation': <sagemaker.inputs.TrainingInput object at 0x7f720d9ef970>}\n"
     ]
    }
   ],
   "source": [
    "print(data_channels)"
   ]
  },
  {
   "cell_type": "markdown",
   "id": "8fe7e0e7",
   "metadata": {},
   "source": [
    "### Train the model"
   ]
  },
  {
   "cell_type": "code",
   "execution_count": 74,
   "id": "4d103929",
   "metadata": {},
   "outputs": [
    {
     "name": "stderr",
     "output_type": "stream",
     "text": [
      "INFO:sagemaker:Creating training-job with name: xgboost-diabetes-v1-2024-05-04-22-03-06-826\n"
     ]
    },
    {
     "name": "stdout",
     "output_type": "stream",
     "text": [
      "2024-05-04 22:03:06 Starting - Starting the training job...\n",
      "2024-05-04 22:03:20 Starting - Preparing the instances for training...\n",
      "2024-05-04 22:03:57 Downloading - Downloading input data...\n",
      "2024-05-04 22:04:23 Downloading - Downloading the training image...\n",
      "2024-05-04 22:04:58 Training - Training image download completed. Training in progress..\u001b[34m[2024-05-04 22:05:07.978 ip-10-2-115-53.ec2.internal:7 INFO utils.py:27] RULE_JOB_STOP_SIGNAL_FILENAME: None\u001b[0m\n",
      "\u001b[34m[2024-05-04:22:05:08:INFO] Imported framework sagemaker_xgboost_container.training\u001b[0m\n",
      "\u001b[34m[2024-05-04:22:05:08:INFO] Failed to parse hyperparameter eval_metric value logloss to Json.\u001b[0m\n",
      "\u001b[34mReturning the value itself\u001b[0m\n",
      "\u001b[34m[2024-05-04:22:05:08:INFO] Failed to parse hyperparameter objective value binary:logistic to Json.\u001b[0m\n",
      "\u001b[34mReturning the value itself\u001b[0m\n",
      "\u001b[34m[2024-05-04:22:05:08:INFO] No GPUs detected (normal if no gpus installed)\u001b[0m\n",
      "\u001b[34m[2024-05-04:22:05:08:INFO] Running XGBoost Sagemaker in algorithm mode\u001b[0m\n",
      "\u001b[34m[2024-05-04:22:05:08:INFO] Determined delimiter of CSV input is ','\u001b[0m\n",
      "\u001b[34m[2024-05-04:22:05:08:INFO] Determined delimiter of CSV input is ','\u001b[0m\n",
      "\u001b[34m[2024-05-04:22:05:08:INFO] Determined delimiter of CSV input is ','\u001b[0m\n",
      "\u001b[34m[2024-05-04:22:05:08:INFO] Determined delimiter of CSV input is ','\u001b[0m\n",
      "\u001b[34m[2024-05-04:22:05:08:INFO] Single node training.\u001b[0m\n",
      "\u001b[34m[2024-05-04:22:05:08:INFO] Train matrix has 537 rows and 8 columns\u001b[0m\n",
      "\u001b[34m[2024-05-04:22:05:08:INFO] Validation matrix has 231 rows\u001b[0m\n",
      "\u001b[34m[2024-05-04:22:05:08:INFO] Checkpoint loaded from /opt/ml/checkpoints/xgboost-checkpoint.15\u001b[0m\n",
      "\u001b[34m[2024-05-04:22:05:08:INFO] Resuming from iteration 16\u001b[0m\n",
      "\u001b[34m[2024-05-04 22:05:08.064 ip-10-2-115-53.ec2.internal:7 INFO json_config.py:91] Creating hook from json_config at /opt/ml/input/config/debughookconfig.json.\u001b[0m\n",
      "\u001b[34m[2024-05-04 22:05:08.065 ip-10-2-115-53.ec2.internal:7 INFO hook.py:201] tensorboard_dir has not been set for the hook. SMDebug will not be exporting tensorboard summaries.\u001b[0m\n",
      "\u001b[34m[2024-05-04 22:05:08.065 ip-10-2-115-53.ec2.internal:7 INFO profiler_config_parser.py:102] User has disabled profiler.\u001b[0m\n",
      "\u001b[34m[2024-05-04 22:05:08.065 ip-10-2-115-53.ec2.internal:7 INFO hook.py:255] Saving to /opt/ml/output/tensors\u001b[0m\n",
      "\u001b[34m[2024-05-04:22:05:08:INFO] Debug hook created from config\u001b[0m\n",
      "\u001b[34m[16]#011train-logloss:0.07810#011validation-logloss:0.30794\u001b[0m\n",
      "\u001b[34m[2024-05-04 22:05:08.071 ip-10-2-115-53.ec2.internal:7 INFO hook.py:423] Monitoring the collections: metrics\u001b[0m\n",
      "\u001b[34m[2024-05-04 22:05:08.074 ip-10-2-115-53.ec2.internal:7 INFO hook.py:486] Hook is writing from the hook with pid: 7\u001b[0m\n",
      "\u001b[34m[17]#011train-logloss:0.07203#011validation-logloss:0.30844\u001b[0m\n",
      "\u001b[34m[18]#011train-logloss:0.06761#011validation-logloss:0.31194\u001b[0m\n",
      "\u001b[34m[19]#011train-logloss:0.06315#011validation-logloss:0.31363\u001b[0m\n",
      "\u001b[34m[20]#011train-logloss:0.06068#011validation-logloss:0.31644\u001b[0m\n",
      "\u001b[34m[21]#011train-logloss:0.05841#011validation-logloss:0.31705\u001b[0m\n",
      "\u001b[34m[22]#011train-logloss:0.05659#011validation-logloss:0.31733\u001b[0m\n",
      "\u001b[34m[23]#011train-logloss:0.05357#011validation-logloss:0.32448\u001b[0m\n",
      "\u001b[34m[24]#011train-logloss:0.05107#011validation-logloss:0.32517\u001b[0m\n",
      "\u001b[34m[25]#011train-logloss:0.04847#011validation-logloss:0.32953\u001b[0m\n",
      "\u001b[34m[26]#011train-logloss:0.04704#011validation-logloss:0.32871\u001b[0m\n",
      "\u001b[34m[27]#011train-logloss:0.04532#011validation-logloss:0.33176\u001b[0m\n",
      "\u001b[34m[28]#011train-logloss:0.04330#011validation-logloss:0.33309\u001b[0m\n",
      "\u001b[34m[29]#011train-logloss:0.04166#011validation-logloss:0.33646\u001b[0m\n",
      "\u001b[34m[30]#011train-logloss:0.04081#011validation-logloss:0.33608\u001b[0m\n",
      "\u001b[34m[31]#011train-logloss:0.03948#011validation-logloss:0.33603\u001b[0m\n",
      "\n",
      "2024-05-04 22:05:24 Uploading - Uploading generated training model\n",
      "2024-05-04 22:05:24 Completed - Training job completed\n",
      "Training seconds: 87\n",
      "Billable seconds: 37\n",
      "Managed Spot Training savings: 57.5%\n"
     ]
    }
   ],
   "source": [
    "# XGBoost supports \"train\", \"validation\" data channels\n",
    "\n",
    "estimator.fit(data_channels)"
   ]
  },
  {
   "cell_type": "markdown",
   "id": "1b1d67e1",
   "metadata": {},
   "source": [
    "### Deploy Predictor Model"
   ]
  },
  {
   "cell_type": "code",
   "execution_count": 76,
   "id": "a3d698f2",
   "metadata": {},
   "outputs": [
    {
     "name": "stderr",
     "output_type": "stream",
     "text": [
      "INFO:sagemaker:Creating model with name: xgboost-diabetes-v1-2024-05-04-22-07-12-539\n",
      "INFO:sagemaker:Creating endpoint-config with name xgboost-diabetes-v1\n",
      "INFO:sagemaker:Creating endpoint with name xgboost-diabetes-v1\n"
     ]
    },
    {
     "name": "stdout",
     "output_type": "stream",
     "text": [
      "-----!"
     ]
    }
   ],
   "source": [
    "predictor = estimator.deploy(\n",
    "                        initial_instance_count=1,\n",
    "                        instance_type='ml.m5.xlarge',\n",
    "                        endpoint_name=job_name)"
   ]
  },
  {
   "cell_type": "markdown",
   "id": "0e503dea",
   "metadata": {},
   "source": [
    "### Try Predicting"
   ]
  },
  {
   "cell_type": "code",
   "execution_count": 77,
   "id": "bcbafd92",
   "metadata": {},
   "outputs": [],
   "source": [
    "# SDK 2.0 serializers\n",
    "\n",
    "from sagemaker.serializers import CSVSerializer\n",
    "predictor.serializer = CSVSerializer()"
   ]
  },
  {
   "cell_type": "code",
   "execution_count": 78,
   "id": "fe569b93",
   "metadata": {},
   "outputs": [
    {
     "data": {
      "text/plain": [
       "b'0.22223027050495148\\n0.9175506830215454\\n0.9175506830215454\\n0.9175506830215454\\n'"
      ]
     },
     "execution_count": 78,
     "metadata": {},
     "output_type": "execute_result"
    }
   ],
   "source": [
    "predictor.predict(\n",
    "    [[1.0,130.0,70.0,13.0,105.0,25.9,0.472,22],\n",
    "[8.0,133.0,72.0,33.0,207.0,32.9,0.27,39],\n",
    "[9.0,130.0,70.0,33.0,207.0,34.2,0.652,45],\n",
    "[7.0,107.0,74.0,33.0,207.0,29.6,0.254,31]]\n",
    ")"
   ]
  },
  {
   "cell_type": "code",
   "execution_count": null,
   "id": "e72829e3",
   "metadata": {},
   "outputs": [],
   "source": []
  }
 ],
 "metadata": {
  "kernelspec": {
   "display_name": "conda_tensorflow2_p310",
   "language": "python",
   "name": "conda_tensorflow2_p310"
  },
  "language_info": {
   "codemirror_mode": {
    "name": "ipython",
    "version": 3
   },
   "file_extension": ".py",
   "mimetype": "text/x-python",
   "name": "python",
   "nbconvert_exporter": "python",
   "pygments_lexer": "ipython3",
   "version": "3.10.14"
  }
 },
 "nbformat": 4,
 "nbformat_minor": 5
}
