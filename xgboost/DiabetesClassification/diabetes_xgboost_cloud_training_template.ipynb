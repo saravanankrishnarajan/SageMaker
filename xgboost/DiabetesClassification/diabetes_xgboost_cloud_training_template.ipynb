{
 "cells": [
  {
   "cell_type": "markdown",
   "id": "47755836",
   "metadata": {},
   "source": [
    "### XGBoost cloud training template for Diabetes Prediction"
   ]
  },
  {
   "cell_type": "code",
   "execution_count": 1,
   "id": "b8f96e5a",
   "metadata": {},
   "outputs": [
    {
     "name": "stdout",
     "output_type": "stream",
     "text": [
      "sagemaker.config INFO - Not applying SDK defaults from location: /etc/xdg/sagemaker/config.yaml\n",
      "sagemaker.config INFO - Not applying SDK defaults from location: /home/ec2-user/.config/sagemaker/config.yaml\n"
     ]
    }
   ],
   "source": [
    "import numpy as np\n",
    "import pandas as pd\n",
    "\n",
    "import boto3\n",
    "import re\n",
    "import sagemaker\n",
    "from sagemaker import get_execution_role"
   ]
  },
  {
   "cell_type": "code",
   "execution_count": 2,
   "id": "b9a33cd5",
   "metadata": {},
   "outputs": [],
   "source": [
    "# Import s3 bucket name from .env file\n",
    "\n",
    "import os\n",
    "env_vars = !cat ./.env\n",
    "for var in env_vars:\n",
    "    key, value = var.split('=')\n",
    "    os.environ[key]=value"
   ]
  },
  {
   "cell_type": "code",
   "execution_count": 3,
   "id": "9599ecd4",
   "metadata": {},
   "outputs": [],
   "source": [
    "bucket_name = os.environ['BUCKET_NAME']"
   ]
  },
  {
   "cell_type": "code",
   "execution_count": null,
   "id": "1e37dd4a",
   "metadata": {},
   "outputs": [],
   "source": [
    "bucket_name"
   ]
  },
  {
   "cell_type": "code",
   "execution_count": 5,
   "id": "584722b1",
   "metadata": {},
   "outputs": [],
   "source": [
    "# bucket name and folders for Diabetes files in s3\n",
    "\n",
    "training_file_key = 'diabetes/diabetes_train.csv'\n",
    "validation_file_key = 'diabetes/diabetes_validation.csv'\n",
    "\n",
    "s3_model_output_location = r's3://{0}/iris/model'.format(bucket_name)\n",
    "s3_training_file_location = r's3://{0}/{1}'.format(bucket_name, training_file_key)\n",
    "s3_validation_file_location = r's3://{0}/{1}'.format(bucket_name, validation_file_key)"
   ]
  },
  {
   "cell_type": "code",
   "execution_count": null,
   "id": "afe16b4b",
   "metadata": {},
   "outputs": [],
   "source": [
    "print(s3_model_output_location)\n",
    "print(s3_training_file_location)\n",
    "print(s3_validation_file_location)"
   ]
  },
  {
   "cell_type": "code",
   "execution_count": 7,
   "id": "6a24d95f",
   "metadata": {},
   "outputs": [],
   "source": [
    "# function to write files into s3\n",
    "\n",
    "def write_to_s3(filename, bucket, key):\n",
    "    with open(filename,'rb') as f:\n",
    "        return boto3.Session().resource('s3').Bucket(bucket).Object(key).upload_fileobj(f)"
   ]
  },
  {
   "cell_type": "code",
   "execution_count": 8,
   "id": "176a9aaf",
   "metadata": {},
   "outputs": [],
   "source": [
    "write_to_s3('diabetes_train_imputed.csv',bucket_name,training_file_key)\n",
    "write_to_s3('diabetes_validation_imputed.csv',bucket_name, validation_file_key)"
   ]
  },
  {
   "cell_type": "code",
   "execution_count": 9,
   "id": "93b46c5a",
   "metadata": {},
   "outputs": [],
   "source": [
    "diabetes_training_column_list_file_key = 'diabetes/diabetes_training_column_list.txt'\n",
    "s3_training_column_list_file_location = r's3://{0}/{1}'.format(bucket_name, diabetes_training_column_list_file_key)"
   ]
  },
  {
   "cell_type": "code",
   "execution_count": 10,
   "id": "64402e0b",
   "metadata": {},
   "outputs": [],
   "source": [
    "write_to_s3('diabetes_training_column_list.txt',bucket_name, diabetes_training_column_list_file_key)"
   ]
  },
  {
   "cell_type": "markdown",
   "id": "04305fd6",
   "metadata": {},
   "source": [
    "### Training XGBoost Algorithm in Docker Image"
   ]
  },
  {
   "cell_type": "markdown",
   "id": "e887ff31",
   "metadata": {},
   "source": [
    "#### using the AWS maintained xgboost image for every region"
   ]
  },
  {
   "cell_type": "code",
   "execution_count": 13,
   "id": "656ee5bd",
   "metadata": {},
   "outputs": [],
   "source": [
    "# Use spot instance\n",
    "\n",
    "use_spot_instance = True\n",
    "max_run = 3600\n",
    "max_wait = 7200\n",
    "\n",
    "job_name = 'xgboost-diabetes-v1'\n",
    "\n",
    "checkpoint_s3_uri = None\n",
    "\n",
    "if use_spot_instance:\n",
    "    checkpoint_s3_uri = f's3://{bucket_name}/diabetes/checkpoints/{job_name}'"
   ]
  },
  {
   "cell_type": "code",
   "execution_count": 14,
   "id": "78773118",
   "metadata": {},
   "outputs": [],
   "source": [
    "sess = sagemaker.Session()"
   ]
  },
  {
   "cell_type": "code",
   "execution_count": 15,
   "id": "d7c98101",
   "metadata": {},
   "outputs": [],
   "source": [
    "role = get_execution_role()"
   ]
  },
  {
   "cell_type": "code",
   "execution_count": null,
   "id": "fe81c00f",
   "metadata": {},
   "outputs": [],
   "source": [
    "print(role)"
   ]
  },
  {
   "cell_type": "code",
   "execution_count": 17,
   "id": "5a8a5bee",
   "metadata": {},
   "outputs": [
    {
     "name": "stdout",
     "output_type": "stream",
     "text": [
      "Using XGBoost container:683313688378.dkr.ecr.us-east-1.amazonaws.com/sagemaker-xgboost:1.2-2\n"
     ]
    }
   ],
   "source": [
    "container = sagemaker.image_uris.retrieve(\"xgboost\",sess.boto_region_name, version='1.2-2')\n",
    "print(f'Using XGBoost container:{container}')"
   ]
  },
  {
   "cell_type": "markdown",
   "id": "336df588",
   "metadata": {},
   "source": [
    "### Build Model"
   ]
  },
  {
   "cell_type": "code",
   "execution_count": null,
   "id": "73c4897d",
   "metadata": {},
   "outputs": [],
   "source": []
  }
 ],
 "metadata": {
  "kernelspec": {
   "display_name": "conda_tensorflow2_p310",
   "language": "python",
   "name": "conda_tensorflow2_p310"
  },
  "language_info": {
   "codemirror_mode": {
    "name": "ipython",
    "version": 3
   },
   "file_extension": ".py",
   "mimetype": "text/x-python",
   "name": "python",
   "nbconvert_exporter": "python",
   "pygments_lexer": "ipython3",
   "version": "3.10.14"
  }
 },
 "nbformat": 4,
 "nbformat_minor": 5
}
