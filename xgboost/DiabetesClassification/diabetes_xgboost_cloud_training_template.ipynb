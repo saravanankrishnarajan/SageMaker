{
 "cells": [
  {
   "cell_type": "markdown",
   "id": "344ae836",
   "metadata": {},
   "source": [
    "### XGBoost cloud training template for Diabetes Prediction"
   ]
  },
  {
   "cell_type": "code",
   "execution_count": 1,
   "id": "5ef0fdde",
   "metadata": {},
   "outputs": [
    {
     "name": "stdout",
     "output_type": "stream",
     "text": [
      "sagemaker.config INFO - Not applying SDK defaults from location: /etc/xdg/sagemaker/config.yaml\n",
      "sagemaker.config INFO - Not applying SDK defaults from location: /home/ec2-user/.config/sagemaker/config.yaml\n"
     ]
    }
   ],
   "source": [
    "import numpy as np\n",
    "import pandas as pd\n",
    "\n",
    "import boto3\n",
    "import re\n",
    "import sagemaker\n",
    "from sagemaker import get_execution_role"
   ]
  },
  {
   "cell_type": "code",
   "execution_count": 2,
   "id": "b4486a5c",
   "metadata": {},
   "outputs": [],
   "source": [
    "# Import s3 bucket name from .env file\n",
    "\n",
    "import os\n",
    "env_vars = !cat ./.env\n",
    "for var in env_vars:\n",
    "    key, value = var.split('=')\n",
    "    os.environ[key]=value"
   ]
  },
  {
   "cell_type": "code",
   "execution_count": 3,
   "id": "7e847622",
   "metadata": {},
   "outputs": [],
   "source": [
    "bucket_name = os.environ['BUCKET_NAME']"
   ]
  },
  {
   "cell_type": "code",
   "execution_count": null,
   "id": "d5ea312f",
   "metadata": {},
   "outputs": [],
   "source": [
    "bucket_name"
   ]
  },
  {
   "cell_type": "code",
   "execution_count": 5,
   "id": "4c70b1ce",
   "metadata": {},
   "outputs": [],
   "source": [
    "# bucket name and folders for Diabetes files in s3\n",
    "\n",
    "training_file_key = 'diabetes/diabetes_train.csv'\n",
    "validation_file_key = 'diabetes/diabetes_validation.csv'\n",
    "\n",
    "s3_model_output_location = r's3://{0}/diabetes/model'.format(bucket_name)\n",
    "s3_training_file_location = r's3://{0}/{1}'.format(bucket_name, training_file_key)\n",
    "s3_validation_file_location = r's3://{0}/{1}'.format(bucket_name, validation_file_key)"
   ]
  },
  {
   "cell_type": "code",
   "execution_count": null,
   "id": "07aff837",
   "metadata": {},
   "outputs": [],
   "source": [
    "print(s3_model_output_location)\n",
    "print(s3_training_file_location)\n",
    "print(s3_validation_file_location)"
   ]
  },
  {
   "cell_type": "code",
   "execution_count": 7,
   "id": "2539d86f",
   "metadata": {},
   "outputs": [],
   "source": [
    "# function to write files into s3\n",
    "\n",
    "def write_to_s3(filename, bucket, key):\n",
    "    with open(filename,'rb') as f:\n",
    "        return boto3.Session().resource('s3').Bucket(bucket).Object(key).upload_fileobj(f)"
   ]
  },
  {
   "cell_type": "code",
   "execution_count": 8,
   "id": "e16c1bdb",
   "metadata": {},
   "outputs": [],
   "source": [
    "write_to_s3('diabetes_train_imputed.csv',bucket_name,training_file_key)\n",
    "write_to_s3('diabetes_validation_imputed.csv',bucket_name, validation_file_key)"
   ]
  },
  {
   "cell_type": "code",
   "execution_count": 9,
   "id": "c53435d7",
   "metadata": {},
   "outputs": [],
   "source": [
    "diabetes_training_column_list_file_key = 'diabetes/diabetes_training_column_list.txt'\n",
    "s3_training_column_list_file_location = r's3://{0}/{1}'.format(bucket_name, diabetes_training_column_list_file_key)"
   ]
  },
  {
   "cell_type": "code",
   "execution_count": 10,
   "id": "5e9740b9",
   "metadata": {},
   "outputs": [],
   "source": [
    "write_to_s3('diabetes_training_column_list.txt',bucket_name, diabetes_training_column_list_file_key)"
   ]
  },
  {
   "cell_type": "markdown",
   "id": "4841cd3c",
   "metadata": {},
   "source": [
    "### Training XGBoost Algorithm in Docker Image"
   ]
  },
  {
   "cell_type": "markdown",
   "id": "03478fdd",
   "metadata": {},
   "source": [
    "#### using the AWS maintained xgboost image for every region"
   ]
  },
  {
   "cell_type": "code",
   "execution_count": 9,
   "id": "c7518e26",
   "metadata": {},
   "outputs": [],
   "source": [
    "# Use spot instance\n",
    "\n",
    "use_spot_instance = True\n",
    "max_run = 3600\n",
    "max_wait = 7200\n",
    "\n",
    "job_name = 'xgboost-diabetes-v1'\n",
    "\n",
    "checkpoint_s3_uri = None\n",
    "\n",
    "if use_spot_instance:\n",
    "    checkpoint_s3_uri = f's3://{bucket_name}/diabetes/checkpoints/{job_name}'"
   ]
  },
  {
   "cell_type": "code",
   "execution_count": 10,
   "id": "3d16b244",
   "metadata": {},
   "outputs": [],
   "source": [
    "sess = sagemaker.Session()"
   ]
  },
  {
   "cell_type": "code",
   "execution_count": 11,
   "id": "c68c2f10",
   "metadata": {},
   "outputs": [],
   "source": [
    "role = get_execution_role()"
   ]
  },
  {
   "cell_type": "code",
   "execution_count": null,
   "id": "ddbbb184",
   "metadata": {},
   "outputs": [],
   "source": [
    "print(role)"
   ]
  },
  {
   "cell_type": "code",
   "execution_count": 13,
   "id": "3041c8d0",
   "metadata": {},
   "outputs": [
    {
     "name": "stdout",
     "output_type": "stream",
     "text": [
      "Using XGBoost container:683313688378.dkr.ecr.us-east-1.amazonaws.com/sagemaker-xgboost:1.7-1\n"
     ]
    }
   ],
   "source": [
    "#container = sagemaker.image_uris.retrieve(\"xgboost\",sess.boto_region_name, version='1.2-2')\n",
    "container = sagemaker.image_uris.retrieve(\"xgboost\",sess.boto_region_name, version='1.7-1')\n",
    "\n",
    "print(f'Using XGBoost container:{container}')"
   ]
  },
  {
   "cell_type": "markdown",
   "id": "b1571f56",
   "metadata": {},
   "source": [
    "### Build Model"
   ]
  },
  {
   "cell_type": "code",
   "execution_count": 14,
   "id": "03ccdad2",
   "metadata": {},
   "outputs": [],
   "source": [
    "# Configure the training job\n",
    "# Specify type and number of instances will be used\n",
    "# s3 location where final artifacts needs to be stored\n",
    "#   Reference: http://sagemaker.readthedocs.io/en/latest/estimators.html\n",
    "\n",
    "# for managed spot training, specify the use_spot_instances flag, max_run, max_wait and checkpoint_s3_uri\n",
    "\n",
    "# SDK 2.x version does not require train prefix for instance count and type\n",
    "\n",
    "estimator = sagemaker.estimator.Estimator(\n",
    "    container,\n",
    "    role,\n",
    "    instance_count=1,\n",
    "    instance_type='ml.m5.xlarge',\n",
    "    output_path = s3_model_output_location,\n",
    "    sagemaker_session = sess,\n",
    "    base_job_name=job_name,\n",
    "    use_spot_instances=use_spot_instance,\n",
    "    max_run=max_run,\n",
    "    max_wait=max_wait,\n",
    "    checkpoint_s3_uri=checkpoint_s3_uri\n",
    ")"
   ]
  },
  {
   "cell_type": "code",
   "execution_count": 15,
   "id": "b177d81d",
   "metadata": {},
   "outputs": [],
   "source": [
    "# Specify hyper parameters that appropriate for the training algorithm\n",
    "# XGBoost Training parameter Reference:\n",
    "\n",
    "estimator.set_hyperparameters(\n",
    "    max_depth=5,\n",
    "    objective='binary:logistic',\n",
    "    eval_metric='logloss',\n",
    "    num_round=100,\n",
    "    early_stopping_rounds=10\n",
    ")"
   ]
  },
  {
   "cell_type": "code",
   "execution_count": 16,
   "id": "cd6cb3f1",
   "metadata": {},
   "outputs": [
    {
     "data": {
      "text/plain": [
       "{'max_depth': 5,\n",
       " 'objective': 'binary:logistic',\n",
       " 'eval_metric': 'logloss',\n",
       " 'num_round': 100,\n",
       " 'early_stopping_rounds': 10}"
      ]
     },
     "execution_count": 16,
     "metadata": {},
     "output_type": "execute_result"
    }
   ],
   "source": [
    "estimator.hyperparameters()"
   ]
  },
  {
   "cell_type": "code",
   "execution_count": 17,
   "id": "4954f6be",
   "metadata": {},
   "outputs": [],
   "source": [
    "### Preparing Training data locations\n",
    "\n",
    "training_input_config = sagemaker.session.TrainingInput(\n",
    "    s3_data = s3_training_file_location,\n",
    "    content_type = 'csv',\n",
    "    s3_data_type = 'S3Prefix'\n",
    ")\n",
    "\n",
    "validation_input_config = sagemaker.session.TrainingInput(\n",
    "    s3_data = s3_validation_file_location,\n",
    "    content_type = 'csv',\n",
    "    s3_data_type = 'S3Prefix'\n",
    ")\n",
    "\n",
    "data_channels = {'train':training_input_config, 'validation':validation_input_config}"
   ]
  },
  {
   "cell_type": "code",
   "execution_count": 18,
   "id": "d93268d2",
   "metadata": {},
   "outputs": [
    {
     "name": "stdout",
     "output_type": "stream",
     "text": [
      "<sagemaker.inputs.TrainingInput object at 0x7ff713bf7b20>\n",
      "<sagemaker.inputs.TrainingInput object at 0x7ff718183ee0>\n"
     ]
    }
   ],
   "source": [
    "print(training_input_config)\n",
    "print(validation_input_config)"
   ]
  },
  {
   "cell_type": "code",
   "execution_count": 19,
   "id": "61b07aa8",
   "metadata": {},
   "outputs": [
    {
     "name": "stdout",
     "output_type": "stream",
     "text": [
      "{'train': <sagemaker.inputs.TrainingInput object at 0x7ff713bf7b20>, 'validation': <sagemaker.inputs.TrainingInput object at 0x7ff718183ee0>}\n"
     ]
    }
   ],
   "source": [
    "print(data_channels)"
   ]
  },
  {
   "cell_type": "markdown",
   "id": "8fe7e0e7",
   "metadata": {},
   "source": [
    "### Train the model"
   ]
  },
  {
   "cell_type": "code",
   "execution_count": 20,
   "id": "4d103929",
   "metadata": {},
   "outputs": [
    {
     "name": "stderr",
     "output_type": "stream",
     "text": [
      "INFO:sagemaker:Creating training-job with name: xgboost-diabetes-v1-2024-05-05-07-12-52-922\n"
     ]
    },
    {
     "name": "stdout",
     "output_type": "stream",
     "text": [
      "2024-05-05 07:12:53 Starting - Starting the training job...\n",
      "2024-05-05 07:13:08 Starting - Preparing the instances for training...\n",
      "2024-05-05 07:13:33 Downloading - Downloading input data...\n",
      "2024-05-05 07:13:58 Downloading - Downloading the training image...\n",
      "2024-05-05 07:14:39 Training - Training image download completed. Training in progress..\u001b[34m[2024-05-05 07:14:50.333 ip-10-2-68-165.ec2.internal:7 INFO utils.py:28] RULE_JOB_STOP_SIGNAL_FILENAME: None\u001b[0m\n",
      "\u001b[34m[2024-05-05 07:14:50.360 ip-10-2-68-165.ec2.internal:7 INFO profiler_config_parser.py:111] User has disabled profiler.\u001b[0m\n",
      "\u001b[34m[2024-05-05:07:14:50:INFO] Imported framework sagemaker_xgboost_container.training\u001b[0m\n",
      "\u001b[34m[2024-05-05:07:14:50:INFO] Failed to parse hyperparameter eval_metric value logloss to Json.\u001b[0m\n",
      "\u001b[34mReturning the value itself\u001b[0m\n",
      "\u001b[34m[2024-05-05:07:14:50:INFO] Failed to parse hyperparameter objective value binary:logistic to Json.\u001b[0m\n",
      "\u001b[34mReturning the value itself\u001b[0m\n",
      "\u001b[34m[2024-05-05:07:14:50:INFO] No GPUs detected (normal if no gpus installed)\u001b[0m\n",
      "\u001b[34m[2024-05-05:07:14:50:INFO] Running XGBoost Sagemaker in algorithm mode\u001b[0m\n",
      "\u001b[34m[2024-05-05:07:14:50:INFO] Determined 0 GPU(s) available on the instance.\u001b[0m\n",
      "\u001b[34m[2024-05-05:07:14:50:INFO] Determined delimiter of CSV input is ','\u001b[0m\n",
      "\u001b[34m[2024-05-05:07:14:50:INFO] Determined delimiter of CSV input is ','\u001b[0m\n",
      "\u001b[34m[2024-05-05:07:14:50:INFO] File path /opt/ml/input/data/train of input files\u001b[0m\n",
      "\u001b[34m[2024-05-05:07:14:50:INFO] Making smlinks from folder /opt/ml/input/data/train to folder /tmp/sagemaker_xgboost_input_data\u001b[0m\n",
      "\u001b[34m[2024-05-05:07:14:50:INFO] creating symlink between Path /opt/ml/input/data/train/diabetes_train.csv and destination /tmp/sagemaker_xgboost_input_data/diabetes_train.csv-5411727034788870318\u001b[0m\n",
      "\u001b[34m[2024-05-05:07:14:50:INFO] files path: /tmp/sagemaker_xgboost_input_data\u001b[0m\n",
      "\u001b[34m[2024-05-05:07:14:50:INFO] Determined delimiter of CSV input is ','\u001b[0m\n",
      "\u001b[34m[2024-05-05:07:14:50:INFO] File path /opt/ml/input/data/validation of input files\u001b[0m\n",
      "\u001b[34m[2024-05-05:07:14:50:INFO] Making smlinks from folder /opt/ml/input/data/validation to folder /tmp/sagemaker_xgboost_input_data\u001b[0m\n",
      "\u001b[34m[2024-05-05:07:14:50:INFO] creating symlink between Path /opt/ml/input/data/validation/diabetes_validation.csv and destination /tmp/sagemaker_xgboost_input_data/diabetes_validation.csv7302202566351411964\u001b[0m\n",
      "\u001b[34m[2024-05-05:07:14:50:INFO] files path: /tmp/sagemaker_xgboost_input_data\u001b[0m\n",
      "\u001b[34m[2024-05-05:07:14:50:INFO] Determined delimiter of CSV input is ','\u001b[0m\n",
      "\u001b[34m[2024-05-05:07:14:50:INFO] Single node training.\u001b[0m\n",
      "\u001b[34m[2024-05-05:07:14:50:INFO] Train matrix has 537 rows and 8 columns\u001b[0m\n",
      "\u001b[34m[2024-05-05:07:14:50:INFO] Validation matrix has 231 rows\u001b[0m\n",
      "\u001b[34m[2024-05-05:07:14:50:INFO] Checkpoint loaded from /opt/ml/checkpoints/xgboost-checkpoint.47\u001b[0m\n",
      "\u001b[34m[2024-05-05:07:14:50:INFO] Resuming from iteration 48\u001b[0m\n",
      "\u001b[34m[2024-05-05 07:14:50.801 ip-10-2-68-165.ec2.internal:7 INFO json_config.py:92] Creating hook from json_config at /opt/ml/input/config/debughookconfig.json.\u001b[0m\n",
      "\u001b[34m[2024-05-05 07:14:50.802 ip-10-2-68-165.ec2.internal:7 INFO hook.py:206] tensorboard_dir has not been set for the hook. SMDebug will not be exporting tensorboard summaries.\u001b[0m\n",
      "\u001b[34m[2024-05-05 07:14:50.802 ip-10-2-68-165.ec2.internal:7 INFO hook.py:259] Saving to /opt/ml/output/tensors\u001b[0m\n",
      "\u001b[34m[2024-05-05:07:14:50:INFO] Debug hook created from config\u001b[0m\n",
      "\u001b[34m[0]#011train-logloss:0.02517#011validation-logloss:0.35665\u001b[0m\n",
      "\u001b[34m[2024-05-05 07:14:50.807 ip-10-2-68-165.ec2.internal:7 INFO hook.py:427] Monitoring the collections: metrics\u001b[0m\n",
      "\u001b[34m[2024-05-05 07:14:50.809 ip-10-2-68-165.ec2.internal:7 INFO hook.py:491] Hook is writing from the hook with pid: 7\u001b[0m\n",
      "\u001b[34m[1]#011train-logloss:0.02473#011validation-logloss:0.35814\u001b[0m\n",
      "\u001b[34m[2]#011train-logloss:0.02428#011validation-logloss:0.35700\u001b[0m\n",
      "\u001b[34m[3]#011train-logloss:0.02377#011validation-logloss:0.35738\u001b[0m\n",
      "\u001b[34m[4]#011train-logloss:0.02343#011validation-logloss:0.35655\u001b[0m\n",
      "\u001b[34m[5]#011train-logloss:0.02296#011validation-logloss:0.36040\u001b[0m\n",
      "\u001b[34m[6]#011train-logloss:0.02260#011validation-logloss:0.35942\u001b[0m\n",
      "\u001b[34m[7]#011train-logloss:0.02218#011validation-logloss:0.36220\u001b[0m\n",
      "\u001b[34m[8]#011train-logloss:0.02187#011validation-logloss:0.36334\u001b[0m\n",
      "\u001b[34m[9]#011train-logloss:0.02156#011validation-logloss:0.36508\u001b[0m\n",
      "\u001b[34m[10]#011train-logloss:0.02111#011validation-logloss:0.36541\u001b[0m\n",
      "\u001b[34m[11]#011train-logloss:0.02083#011validation-logloss:0.36613\u001b[0m\n",
      "\u001b[34m[12]#011train-logloss:0.02061#011validation-logloss:0.36756\u001b[0m\n",
      "\u001b[34m[13]#011train-logloss:0.02030#011validation-logloss:0.36978\u001b[0m\n",
      "\u001b[34m[14]#011train-logloss:0.02007#011validation-logloss:0.37031\u001b[0m\n",
      "\n",
      "2024-05-05 07:15:10 Uploading - Uploading generated training model\n",
      "2024-05-05 07:15:10 Completed - Training job completed\n",
      "Training seconds: 97\n",
      "Billable seconds: 41\n",
      "Managed Spot Training savings: 57.7%\n"
     ]
    }
   ],
   "source": [
    "# XGBoost supports \"train\", \"validation\" data channels\n",
    "\n",
    "estimator.fit(data_channels)"
   ]
  },
  {
   "cell_type": "markdown",
   "id": "1b1d67e1",
   "metadata": {},
   "source": [
    "### Deploy Predictor Model"
   ]
  },
  {
   "cell_type": "code",
   "execution_count": 21,
   "id": "a3d698f2",
   "metadata": {},
   "outputs": [
    {
     "name": "stderr",
     "output_type": "stream",
     "text": [
      "INFO:sagemaker:Creating model with name: xgboost-diabetes-v1-2024-05-05-07-15-58-402\n",
      "INFO:sagemaker:Creating endpoint-config with name xgboost-diabetes-v1\n",
      "INFO:sagemaker:Creating endpoint with name xgboost-diabetes-v1\n"
     ]
    },
    {
     "name": "stdout",
     "output_type": "stream",
     "text": [
      "-----!"
     ]
    }
   ],
   "source": [
    "predictor = estimator.deploy(\n",
    "                        initial_instance_count=1,\n",
    "                        instance_type='ml.m5.xlarge',\n",
    "                        endpoint_name=job_name)"
   ]
  },
  {
   "cell_type": "markdown",
   "id": "0e503dea",
   "metadata": {},
   "source": [
    "### Try Predicting"
   ]
  },
  {
   "cell_type": "code",
   "execution_count": 22,
   "id": "bcbafd92",
   "metadata": {},
   "outputs": [],
   "source": [
    "# SDK 2.0 serializers\n",
    "\n",
    "from sagemaker.serializers import CSVSerializer\n",
    "predictor.serializer = CSVSerializer()"
   ]
  },
  {
   "cell_type": "code",
   "execution_count": 23,
   "id": "fe569b93",
   "metadata": {},
   "outputs": [
    {
     "data": {
      "text/plain": [
       "b'0.08117855340242386\\n0.9971675276756287\\n0.9987726807594299\\n0.9963440299034119\\n'"
      ]
     },
     "execution_count": 23,
     "metadata": {},
     "output_type": "execute_result"
    }
   ],
   "source": [
    "predictor.predict(\n",
    "    [[1.0,130.0,70.0,13.0,105.0,25.9,0.472,22],\n",
    "[8.0,133.0,72.0,33.0,207.0,32.9,0.27,39],\n",
    "[9.0,130.0,70.0,33.0,207.0,34.2,0.652,45],\n",
    "[7.0,107.0,74.0,33.0,207.0,29.6,0.254,31]]\n",
    ")"
   ]
  },
  {
   "cell_type": "code",
   "execution_count": 28,
   "id": "64e3af04",
   "metadata": {
    "scrolled": true
   },
   "outputs": [],
   "source": [
    "result = predictor.predict(\n",
    "    [[1.0,130.0,70.0,13.0,105.0,25.9,0.472,22],\n",
    "[8.0,133.0,72.0,33.0,207.0,32.9,0.27,39],\n",
    "[9.0,130.0,70.0,33.0,207.0,34.2,0.652,45],\n",
    "[7.0,107.0,74.0,33.0,207.0,29.6,0.254,31]]\n",
    ")"
   ]
  },
  {
   "cell_type": "code",
   "execution_count": 30,
   "id": "410860d9",
   "metadata": {},
   "outputs": [],
   "source": [
    "#result = b'0.08117855340242386\\n0.9971675276756287\\n0.9987726807594299\\n0.9963440299034119\\n'.decode('ascii')\n",
    "result = result.decode(\"utf-8\").split('\\n')\n",
    "result = result[:len(result)-1]"
   ]
  },
  {
   "cell_type": "code",
   "execution_count": 31,
   "id": "7af7a640",
   "metadata": {},
   "outputs": [
    {
     "data": {
      "text/plain": [
       "['0.08117855340242386',\n",
       " '0.9971675276756287',\n",
       " '0.9987726807594299',\n",
       " '0.9963440299034119']"
      ]
     },
     "execution_count": 31,
     "metadata": {},
     "output_type": "execute_result"
    }
   ],
   "source": [
    "result"
   ]
  },
  {
   "cell_type": "code",
   "execution_count": 32,
   "id": "d765fabd",
   "metadata": {},
   "outputs": [],
   "source": [
    "def proba_to_class(arr_res,margin=.5):\n",
    "    \n",
    "    return_res = []\n",
    "    for val in arr_res:\n",
    "        if float(val) >= margin:\n",
    "            return_res.append(1)\n",
    "        else:\n",
    "            return_res.append(0)\n",
    "    return return_res"
   ]
  },
  {
   "cell_type": "code",
   "execution_count": 33,
   "id": "dbda920f",
   "metadata": {},
   "outputs": [
    {
     "data": {
      "text/plain": [
       "[0, 1, 1, 1]"
      ]
     },
     "execution_count": 33,
     "metadata": {},
     "output_type": "execute_result"
    }
   ],
   "source": [
    "proba_to_class(result)"
   ]
  },
  {
   "cell_type": "code",
   "execution_count": null,
   "id": "01077e99",
   "metadata": {},
   "outputs": [],
   "source": []
  }
 ],
 "metadata": {
  "kernelspec": {
   "display_name": "conda_tensorflow2_p310",
   "language": "python",
   "name": "conda_tensorflow2_p310"
  },
  "language_info": {
   "codemirror_mode": {
    "name": "ipython",
    "version": 3
   },
   "file_extension": ".py",
   "mimetype": "text/x-python",
   "name": "python",
   "nbconvert_exporter": "python",
   "pygments_lexer": "ipython3",
   "version": "3.10.14"
  }
 },
 "nbformat": 4,
 "nbformat_minor": 5
}
