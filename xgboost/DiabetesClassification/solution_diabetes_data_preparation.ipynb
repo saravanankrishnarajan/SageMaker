{
 "cells": [
  {
   "cell_type": "code",
   "execution_count": null,
   "id": "4cdee330",
   "metadata": {},
   "outputs": [],
   "source": [
    "# Solution:\n",
    "\n",
    "# In this dataset we have lots of observations that have missing values\n",
    "# Missing values are represented using 0s\n",
    "# We need to impute values with mean of every feature and substitute for missing values"
   ]
  }
 ],
 "metadata": {
  "kernelspec": {
   "display_name": "conda_tensorflow2_p310",
   "language": "python",
   "name": "conda_tensorflow2_p310"
  },
  "language_info": {
   "codemirror_mode": {
    "name": "ipython",
    "version": 3
   },
   "file_extension": ".py",
   "mimetype": "text/x-python",
   "name": "python",
   "nbconvert_exporter": "python",
   "pygments_lexer": "ipython3",
   "version": "3.10.13"
  }
 },
 "nbformat": 4,
 "nbformat_minor": 5
}
