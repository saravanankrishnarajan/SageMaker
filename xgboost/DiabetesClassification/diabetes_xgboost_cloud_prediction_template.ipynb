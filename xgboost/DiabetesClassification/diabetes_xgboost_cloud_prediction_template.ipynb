{
 "cells": [
  {
   "cell_type": "markdown",
   "id": "0d24353b",
   "metadata": {},
   "source": [
    "### XGBoost Cloud Prediction - Diabetes prediction"
   ]
  },
  {
   "cell_type": "code",
   "execution_count": 3,
   "id": "e4422ea9",
   "metadata": {},
   "outputs": [],
   "source": [
    "import sys\n",
    "import numpy as np\n",
    "import pandas as pd\n",
    "import matplotlib.pyplot as plt\n",
    "import math\n",
    "import os\n",
    "\n",
    "import boto3\n",
    "import re\n",
    "from sagemaker import get_execution_role\n",
    "import sagemaker\n",
    "\n",
    "# SDK 2 serializers and deserializers\n",
    "from sagemaker.serializers import CSVSerializer\n",
    "from sagemaker.deserializers import JSONDeserializer"
   ]
  },
  {
   "cell_type": "markdown",
   "id": "ee2ea0ca",
   "metadata": {},
   "source": [
    "### Invoke SageMaker Prediction service"
   ]
  },
  {
   "cell_type": "code",
   "execution_count": 28,
   "id": "7c5102b7",
   "metadata": {},
   "outputs": [],
   "source": [
    "# Acuqure the realtime sagemaker endpoint\n",
    "\n",
    "endpoint_name = 'xgboost-diabetes-v1'\n",
    "predictor = sagemaker.predictor.Predictor(endpoint_name=endpoint_name)"
   ]
  },
  {
   "cell_type": "code",
   "execution_count": 29,
   "id": "3ad7d2e4",
   "metadata": {},
   "outputs": [],
   "source": [
    "predictor.serializer = CSVSerializer()"
   ]
  },
  {
   "cell_type": "code",
   "execution_count": 4,
   "id": "18f4e059",
   "metadata": {},
   "outputs": [
    {
     "data": {
      "text/plain": [
       "['diabetes_class',\n",
       " 'preg_count',\n",
       " 'glucose_concentration',\n",
       " 'diastolic_bp',\n",
       " 'triceps_skin_fold_thickness',\n",
       " 'two_hr_serum_insulin',\n",
       " 'bmi',\n",
       " 'diabetes_pedi',\n",
       " 'age']"
      ]
     },
     "execution_count": 4,
     "metadata": {},
     "output_type": "execute_result"
    }
   ],
   "source": [
    "with open('diabetes_training_column_list.txt','r') as f:\n",
    "    diabetes_column_names = f.read().split(',')\n",
    "diabetes_column_names"
   ]
  },
  {
   "cell_type": "code",
   "execution_count": 5,
   "id": "bcf4f23a",
   "metadata": {},
   "outputs": [],
   "source": [
    "# Test predictive quality against data in validation file\n",
    "\n",
    "df_all = pd.read_csv(\n",
    "    'diabetes_validation_imputed.csv',\n",
    "    names = diabetes_column_names\n",
    ")"
   ]
  },
  {
   "cell_type": "code",
   "execution_count": 6,
   "id": "7b1f71b5",
   "metadata": {},
   "outputs": [
    {
     "data": {
      "text/html": [
       "<div>\n",
       "<style scoped>\n",
       "    .dataframe tbody tr th:only-of-type {\n",
       "        vertical-align: middle;\n",
       "    }\n",
       "\n",
       "    .dataframe tbody tr th {\n",
       "        vertical-align: top;\n",
       "    }\n",
       "\n",
       "    .dataframe thead th {\n",
       "        text-align: right;\n",
       "    }\n",
       "</style>\n",
       "<table border=\"1\" class=\"dataframe\">\n",
       "  <thead>\n",
       "    <tr style=\"text-align: right;\">\n",
       "      <th></th>\n",
       "      <th>diabetes_class</th>\n",
       "      <th>preg_count</th>\n",
       "      <th>glucose_concentration</th>\n",
       "      <th>diastolic_bp</th>\n",
       "      <th>triceps_skin_fold_thickness</th>\n",
       "      <th>two_hr_serum_insulin</th>\n",
       "      <th>bmi</th>\n",
       "      <th>diabetes_pedi</th>\n",
       "      <th>age</th>\n",
       "    </tr>\n",
       "  </thead>\n",
       "  <tbody>\n",
       "    <tr>\n",
       "      <th>0</th>\n",
       "      <td>0</td>\n",
       "      <td>1.0</td>\n",
       "      <td>130.0</td>\n",
       "      <td>70.0</td>\n",
       "      <td>13.0</td>\n",
       "      <td>105.0</td>\n",
       "      <td>25.9</td>\n",
       "      <td>0.472</td>\n",
       "      <td>22</td>\n",
       "    </tr>\n",
       "    <tr>\n",
       "      <th>1</th>\n",
       "      <td>1</td>\n",
       "      <td>8.0</td>\n",
       "      <td>133.0</td>\n",
       "      <td>72.0</td>\n",
       "      <td>33.0</td>\n",
       "      <td>207.0</td>\n",
       "      <td>32.9</td>\n",
       "      <td>0.270</td>\n",
       "      <td>39</td>\n",
       "    </tr>\n",
       "    <tr>\n",
       "      <th>2</th>\n",
       "      <td>0</td>\n",
       "      <td>4.0</td>\n",
       "      <td>137.0</td>\n",
       "      <td>68.0</td>\n",
       "      <td>14.0</td>\n",
       "      <td>148.0</td>\n",
       "      <td>24.8</td>\n",
       "      <td>0.143</td>\n",
       "      <td>21</td>\n",
       "    </tr>\n",
       "    <tr>\n",
       "      <th>3</th>\n",
       "      <td>0</td>\n",
       "      <td>2.0</td>\n",
       "      <td>88.0</td>\n",
       "      <td>74.0</td>\n",
       "      <td>19.0</td>\n",
       "      <td>53.0</td>\n",
       "      <td>29.0</td>\n",
       "      <td>0.229</td>\n",
       "      <td>22</td>\n",
       "    </tr>\n",
       "    <tr>\n",
       "      <th>4</th>\n",
       "      <td>1</td>\n",
       "      <td>9.0</td>\n",
       "      <td>130.0</td>\n",
       "      <td>70.0</td>\n",
       "      <td>33.0</td>\n",
       "      <td>207.0</td>\n",
       "      <td>34.2</td>\n",
       "      <td>0.652</td>\n",
       "      <td>45</td>\n",
       "    </tr>\n",
       "  </tbody>\n",
       "</table>\n",
       "</div>"
      ],
      "text/plain": [
       "   diabetes_class  preg_count  glucose_concentration  ...   bmi  diabetes_pedi  age\n",
       "0               0         1.0                  130.0  ...  25.9          0.472   22\n",
       "1               1         8.0                  133.0  ...  32.9          0.270   39\n",
       "2               0         4.0                  137.0  ...  24.8          0.143   21\n",
       "3               0         2.0                   88.0  ...  29.0          0.229   22\n",
       "4               1         9.0                  130.0  ...  34.2          0.652   45\n",
       "\n",
       "[5 rows x 9 columns]"
      ]
     },
     "execution_count": 6,
     "metadata": {},
     "output_type": "execute_result"
    }
   ],
   "source": [
    "df_all.head()"
   ]
  },
  {
   "cell_type": "code",
   "execution_count": 7,
   "id": "1ded1d06",
   "metadata": {},
   "outputs": [
    {
     "data": {
      "text/plain": [
       "Index(['diabetes_class', 'preg_count', 'glucose_concentration', 'diastolic_bp',\n",
       "       'triceps_skin_fold_thickness', 'two_hr_serum_insulin', 'bmi',\n",
       "       'diabetes_pedi', 'age'],\n",
       "      dtype='object')"
      ]
     },
     "execution_count": 7,
     "metadata": {},
     "output_type": "execute_result"
    }
   ],
   "source": [
    "df_all.columns"
   ]
  },
  {
   "cell_type": "code",
   "execution_count": 21,
   "id": "e7de6223",
   "metadata": {},
   "outputs": [],
   "source": [
    "# need to pass as array to the predictions\n",
    "arr_test = np.array(df_all.drop('diabetes_class',axis=1))"
   ]
  },
  {
   "cell_type": "code",
   "execution_count": 23,
   "id": "8aa3fd33",
   "metadata": {},
   "outputs": [
    {
     "data": {
      "text/plain": [
       "numpy.ndarray"
      ]
     },
     "execution_count": 23,
     "metadata": {},
     "output_type": "execute_result"
    }
   ],
   "source": [
    "type(arr_test)"
   ]
  },
  {
   "cell_type": "code",
   "execution_count": 24,
   "id": "74de9f51",
   "metadata": {},
   "outputs": [
    {
     "data": {
      "text/plain": [
       "array([[1.00e+00, 1.30e+02, 7.00e+01, ..., 2.59e+01, 4.72e-01, 2.20e+01],\n",
       "       [8.00e+00, 1.33e+02, 7.20e+01, ..., 3.29e+01, 2.70e-01, 3.90e+01],\n",
       "       [4.00e+00, 1.37e+02, 6.80e+01, ..., 2.48e+01, 1.43e-01, 2.10e+01],\n",
       "       ...,\n",
       "       [4.00e+00, 9.70e+01, 6.00e+01, ..., 2.82e+01, 4.43e-01, 2.20e+01],\n",
       "       [6.00e+00, 1.25e+02, 7.80e+01, ..., 2.76e+01, 5.65e-01, 4.90e+01],\n",
       "       [8.00e+00, 1.96e+02, 7.60e+01, ..., 3.75e+01, 6.05e-01, 5.70e+01]])"
      ]
     },
     "execution_count": 24,
     "metadata": {},
     "output_type": "execute_result"
    }
   ],
   "source": [
    "np.array(arr_test)"
   ]
  },
  {
   "cell_type": "code",
   "execution_count": 25,
   "id": "e404d139",
   "metadata": {},
   "outputs": [
    {
     "data": {
      "text/plain": [
       "(231, 8)"
      ]
     },
     "execution_count": 25,
     "metadata": {},
     "output_type": "execute_result"
    }
   ],
   "source": [
    "arr_test.shape"
   ]
  },
  {
   "cell_type": "code",
   "execution_count": 44,
   "id": "99ef2af4",
   "metadata": {},
   "outputs": [
    {
     "data": {
      "text/plain": [
       "(231, 9)"
      ]
     },
     "execution_count": 44,
     "metadata": {},
     "output_type": "execute_result"
    }
   ],
   "source": [
    "df_all.shape"
   ]
  },
  {
   "cell_type": "code",
   "execution_count": 27,
   "id": "dfc9aadd",
   "metadata": {},
   "outputs": [
    {
     "data": {
      "text/plain": [
       "array([[1.00e+00, 1.30e+02, 7.00e+01, 1.30e+01, 1.05e+02, 2.59e+01,\n",
       "        4.72e-01, 2.20e+01],\n",
       "       [8.00e+00, 1.33e+02, 7.20e+01, 3.30e+01, 2.07e+02, 3.29e+01,\n",
       "        2.70e-01, 3.90e+01],\n",
       "       [4.00e+00, 1.37e+02, 6.80e+01, 1.40e+01, 1.48e+02, 2.48e+01,\n",
       "        1.43e-01, 2.10e+01],\n",
       "       [2.00e+00, 8.80e+01, 7.40e+01, 1.90e+01, 5.30e+01, 2.90e+01,\n",
       "        2.29e-01, 2.20e+01],\n",
       "       [9.00e+00, 1.30e+02, 7.00e+01, 3.30e+01, 2.07e+02, 3.42e+01,\n",
       "        6.52e-01, 4.50e+01]])"
      ]
     },
     "execution_count": 27,
     "metadata": {},
     "output_type": "execute_result"
    }
   ],
   "source": [
    "arr_test[:5]"
   ]
  },
  {
   "cell_type": "code",
   "execution_count": 45,
   "id": "921fd959",
   "metadata": {},
   "outputs": [],
   "source": [
    "result = predictor.predict(arr_test[:2])"
   ]
  },
  {
   "cell_type": "code",
   "execution_count": 46,
   "id": "bbfae9dd",
   "metadata": {},
   "outputs": [
    {
     "data": {
      "text/plain": [
       "b'0.08117855340242386\\n0.9971675276756287\\n'"
      ]
     },
     "execution_count": 46,
     "metadata": {},
     "output_type": "execute_result"
    }
   ],
   "source": [
    "result"
   ]
  },
  {
   "cell_type": "code",
   "execution_count": 74,
   "id": "ed4923fb",
   "metadata": {},
   "outputs": [
    {
     "name": "stdout",
     "output_type": "stream",
     "text": [
      "(24, 8)\n",
      "(23, 8)\n",
      "(23, 8)\n",
      "(23, 8)\n",
      "(23, 8)\n",
      "(23, 8)\n",
      "(23, 8)\n",
      "(23, 8)\n",
      "(23, 8)\n",
      "(23, 8)\n"
     ]
    }
   ],
   "source": [
    "# For large data set we can split into multiple chunks for prediction\n",
    "\n",
    "pattern = r'\\n'\n",
    "\n",
    "predictions = []\n",
    "for arr in np.array_split(arr_test,10):\n",
    "    print(arr.shape)\n",
    "    result = predictor.predict(arr)\n",
    "    result = re.split(pattern,result.decode(\"utf-8\"))\n",
    "    prediction = [float(r) for r in result if r!=\"\"]\n",
    "    predictions += prediction\n"
   ]
  },
  {
   "cell_type": "code",
   "execution_count": 75,
   "id": "d8817a58",
   "metadata": {},
   "outputs": [
    {
     "data": {
      "text/plain": [
       "230"
      ]
     },
     "execution_count": 75,
     "metadata": {},
     "output_type": "execute_result"
    }
   ],
   "source": [
    "23*10"
   ]
  },
  {
   "cell_type": "code",
   "execution_count": 76,
   "id": "1f1c8ebf",
   "metadata": {},
   "outputs": [
    {
     "data": {
      "text/plain": [
       "231"
      ]
     },
     "execution_count": 76,
     "metadata": {},
     "output_type": "execute_result"
    }
   ],
   "source": [
    "len(predictions)"
   ]
  },
  {
   "cell_type": "code",
   "execution_count": 77,
   "id": "dbfcd0e2",
   "metadata": {},
   "outputs": [
    {
     "data": {
      "text/plain": [
       "[0.08117855340242386,\n",
       " 0.9971675276756287,\n",
       " 0.015525220893323421,\n",
       " 0.009723171591758728,\n",
       " 0.9987726807594299]"
      ]
     },
     "execution_count": 77,
     "metadata": {},
     "output_type": "execute_result"
    }
   ],
   "source": [
    "predictions[:5]"
   ]
  },
  {
   "cell_type": "code",
   "execution_count": 78,
   "id": "967519d7",
   "metadata": {},
   "outputs": [],
   "source": [
    "def proba_to_class(arr_res,margin=.5):\n",
    "    \n",
    "    return_res = []\n",
    "    for val in arr_res:\n",
    "        if float(val) >= margin:\n",
    "            return_res.append(1)\n",
    "        else:\n",
    "            return_res.append(0)\n",
    "    return return_res"
   ]
  },
  {
   "cell_type": "code",
   "execution_count": 79,
   "id": "9458e775",
   "metadata": {},
   "outputs": [
    {
     "data": {
      "text/plain": [
       "[0.23487329483032227,\n",
       " 0.9930289387702942,\n",
       " 0.0006288688164204359,\n",
       " 0.9792784452438354,\n",
       " 0.996086597442627]"
      ]
     },
     "execution_count": 79,
     "metadata": {},
     "output_type": "execute_result"
    }
   ],
   "source": [
    "predictions[-5:]"
   ]
  },
  {
   "cell_type": "code",
   "execution_count": 80,
   "id": "e8ce60b5",
   "metadata": {},
   "outputs": [],
   "source": [
    "binary_predictions = proba_to_class(predictions)"
   ]
  },
  {
   "cell_type": "code",
   "execution_count": 81,
   "id": "484f4890",
   "metadata": {},
   "outputs": [
    {
     "data": {
      "text/plain": [
       "[0, 1, 0, 0, 1]"
      ]
     },
     "execution_count": 81,
     "metadata": {},
     "output_type": "execute_result"
    }
   ],
   "source": [
    "binary_predictions[:5]"
   ]
  },
  {
   "cell_type": "code",
   "execution_count": 86,
   "id": "42c72885",
   "metadata": {},
   "outputs": [
    {
     "data": {
      "text/plain": [
       "0    0\n",
       "1    1\n",
       "2    0\n",
       "3    0\n",
       "4    1\n",
       "Name: diabetes_class, dtype: int64"
      ]
     },
     "execution_count": 86,
     "metadata": {},
     "output_type": "execute_result"
    }
   ],
   "source": [
    "df_all.iloc[:5,0]"
   ]
  },
  {
   "cell_type": "code",
   "execution_count": 87,
   "id": "62d84bb2",
   "metadata": {},
   "outputs": [],
   "source": [
    "df_all['predicted_diabetes_class']=binary_predictions"
   ]
  },
  {
   "cell_type": "code",
   "execution_count": 89,
   "id": "48ea13e1",
   "metadata": {},
   "outputs": [
    {
     "data": {
      "text/html": [
       "<div>\n",
       "<style scoped>\n",
       "    .dataframe tbody tr th:only-of-type {\n",
       "        vertical-align: middle;\n",
       "    }\n",
       "\n",
       "    .dataframe tbody tr th {\n",
       "        vertical-align: top;\n",
       "    }\n",
       "\n",
       "    .dataframe thead th {\n",
       "        text-align: right;\n",
       "    }\n",
       "</style>\n",
       "<table border=\"1\" class=\"dataframe\">\n",
       "  <thead>\n",
       "    <tr style=\"text-align: right;\">\n",
       "      <th></th>\n",
       "      <th>diabetes_class</th>\n",
       "      <th>predicted_diabetes_class</th>\n",
       "    </tr>\n",
       "  </thead>\n",
       "  <tbody>\n",
       "    <tr>\n",
       "      <th>0</th>\n",
       "      <td>0</td>\n",
       "      <td>0</td>\n",
       "    </tr>\n",
       "    <tr>\n",
       "      <th>1</th>\n",
       "      <td>1</td>\n",
       "      <td>1</td>\n",
       "    </tr>\n",
       "    <tr>\n",
       "      <th>2</th>\n",
       "      <td>0</td>\n",
       "      <td>0</td>\n",
       "    </tr>\n",
       "    <tr>\n",
       "      <th>3</th>\n",
       "      <td>0</td>\n",
       "      <td>0</td>\n",
       "    </tr>\n",
       "    <tr>\n",
       "      <th>4</th>\n",
       "      <td>1</td>\n",
       "      <td>1</td>\n",
       "    </tr>\n",
       "    <tr>\n",
       "      <th>...</th>\n",
       "      <td>...</td>\n",
       "      <td>...</td>\n",
       "    </tr>\n",
       "    <tr>\n",
       "      <th>226</th>\n",
       "      <td>0</td>\n",
       "      <td>0</td>\n",
       "    </tr>\n",
       "    <tr>\n",
       "      <th>227</th>\n",
       "      <td>1</td>\n",
       "      <td>1</td>\n",
       "    </tr>\n",
       "    <tr>\n",
       "      <th>228</th>\n",
       "      <td>0</td>\n",
       "      <td>0</td>\n",
       "    </tr>\n",
       "    <tr>\n",
       "      <th>229</th>\n",
       "      <td>1</td>\n",
       "      <td>1</td>\n",
       "    </tr>\n",
       "    <tr>\n",
       "      <th>230</th>\n",
       "      <td>1</td>\n",
       "      <td>1</td>\n",
       "    </tr>\n",
       "  </tbody>\n",
       "</table>\n",
       "<p>231 rows × 2 columns</p>\n",
       "</div>"
      ],
      "text/plain": [
       "     diabetes_class  predicted_diabetes_class\n",
       "0                 0                         0\n",
       "1                 1                         1\n",
       "2                 0                         0\n",
       "3                 0                         0\n",
       "4                 1                         1\n",
       "..              ...                       ...\n",
       "226               0                         0\n",
       "227               1                         1\n",
       "228               0                         0\n",
       "229               1                         1\n",
       "230               1                         1\n",
       "\n",
       "[231 rows x 2 columns]"
      ]
     },
     "execution_count": 89,
     "metadata": {},
     "output_type": "execute_result"
    }
   ],
   "source": [
    "df_all[['diabetes_class','predicted_diabetes_class']]"
   ]
  },
  {
   "cell_type": "code",
   "execution_count": 91,
   "id": "bce95229",
   "metadata": {},
   "outputs": [
    {
     "name": "stdout",
     "output_type": "stream",
     "text": [
      "Confusion matrix - Actual versul Predicted\n"
     ]
    },
    {
     "data": {
      "text/html": [
       "<div>\n",
       "<style scoped>\n",
       "    .dataframe tbody tr th:only-of-type {\n",
       "        vertical-align: middle;\n",
       "    }\n",
       "\n",
       "    .dataframe tbody tr th {\n",
       "        vertical-align: top;\n",
       "    }\n",
       "\n",
       "    .dataframe thead th {\n",
       "        text-align: right;\n",
       "    }\n",
       "</style>\n",
       "<table border=\"1\" class=\"dataframe\">\n",
       "  <thead>\n",
       "    <tr style=\"text-align: right;\">\n",
       "      <th>predicted_diabetes_class</th>\n",
       "      <th>0</th>\n",
       "      <th>1</th>\n",
       "    </tr>\n",
       "    <tr>\n",
       "      <th>diabetes_class</th>\n",
       "      <th></th>\n",
       "      <th></th>\n",
       "    </tr>\n",
       "  </thead>\n",
       "  <tbody>\n",
       "    <tr>\n",
       "      <th>0</th>\n",
       "      <td>137</td>\n",
       "      <td>15</td>\n",
       "    </tr>\n",
       "    <tr>\n",
       "      <th>1</th>\n",
       "      <td>20</td>\n",
       "      <td>59</td>\n",
       "    </tr>\n",
       "  </tbody>\n",
       "</table>\n",
       "</div>"
      ],
      "text/plain": [
       "predicted_diabetes_class    0   1\n",
       "diabetes_class                   \n",
       "0                         137  15\n",
       "1                          20  59"
      ]
     },
     "execution_count": 91,
     "metadata": {},
     "output_type": "execute_result"
    }
   ],
   "source": [
    "print('Confusion matrix - Actual versul Predicted')\n",
    "\n",
    "pd.crosstab(df_all['diabetes_class'],df_all['predicted_diabetes_class'])"
   ]
  },
  {
   "cell_type": "code",
   "execution_count": 92,
   "id": "a35ba735",
   "metadata": {},
   "outputs": [
    {
     "name": "stdout",
     "output_type": "stream",
     "text": [
      "              precision    recall  f1-score   support\n",
      "\n",
      "           0       0.87      0.90      0.89       152\n",
      "           1       0.80      0.75      0.77        79\n",
      "\n",
      "    accuracy                           0.85       231\n",
      "   macro avg       0.83      0.82      0.83       231\n",
      "weighted avg       0.85      0.85      0.85       231\n",
      "\n"
     ]
    }
   ],
   "source": [
    "import sklearn.metrics as metrics\n",
    "\n",
    "print(metrics.classification_report(df_all['diabetes_class'], df_all['predicted_diabetes_class']))"
   ]
  },
  {
   "cell_type": "code",
   "execution_count": null,
   "id": "7c010a28",
   "metadata": {},
   "outputs": [],
   "source": []
  }
 ],
 "metadata": {
  "kernelspec": {
   "display_name": "Python 3 (ipykernel)",
   "language": "python",
   "name": "python3"
  },
  "language_info": {
   "codemirror_mode": {
    "name": "ipython",
    "version": 3
   },
   "file_extension": ".py",
   "mimetype": "text/x-python",
   "name": "python",
   "nbconvert_exporter": "python",
   "pygments_lexer": "ipython3",
   "version": "3.8.10"
  }
 },
 "nbformat": 4,
 "nbformat_minor": 5
}
