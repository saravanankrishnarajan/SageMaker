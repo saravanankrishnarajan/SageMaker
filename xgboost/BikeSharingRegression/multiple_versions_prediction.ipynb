{
 "cells": [
  {
   "cell_type": "markdown",
   "id": "e55d141e",
   "metadata": {},
   "source": [
    "### XGBoost Endpoint Versions\n",
    "\n",
    "#### Invoke specific version, invoke generic endpoind"
   ]
  },
  {
   "cell_type": "code",
   "execution_count": 20,
   "id": "a21887db",
   "metadata": {},
   "outputs": [],
   "source": [
    "import sys\n",
    "import numpy as np\n",
    "import pandas as pd\n",
    "import matplotlib.pyplot as plt\n",
    "import math\n",
    "import os\n",
    "\n",
    "import boto3\n",
    "import re\n",
    "from sagemaker import get_execution_role\n",
    "import sagemaker\n",
    "\n",
    "# sdk 2 serializer and deserializer\n",
    "from sagemaker.serializers import CSVSerializer\n",
    "from sagemaker.deserializers import JSONDeserializer"
   ]
  },
  {
   "cell_type": "code",
   "execution_count": 5,
   "id": "caf87668",
   "metadata": {},
   "outputs": [],
   "source": [
    "# Create a predictor and point to an existing endpoint\n",
    "# This endpoint has two versions models\n",
    "\n",
    "endpoint_name = 'xgboost-bikerental'\n",
    "predictor = sagemaker.predictor.Predictor(endpoint_name=endpoint_name)\n",
    "predictor.serializer = CSVSerializer()\n"
   ]
  },
  {
   "cell_type": "code",
   "execution_count": 6,
   "id": "8ff98412",
   "metadata": {},
   "outputs": [],
   "source": [
    "# read Test data\n",
    "df_all = pd.read_csv('bike_test_rev3.csv')"
   ]
  },
  {
   "cell_type": "code",
   "execution_count": 7,
   "id": "bfac31d8",
   "metadata": {},
   "outputs": [
    {
     "data": {
      "text/html": [
       "<div>\n",
       "<style scoped>\n",
       "    .dataframe tbody tr th:only-of-type {\n",
       "        vertical-align: middle;\n",
       "    }\n",
       "\n",
       "    .dataframe tbody tr th {\n",
       "        vertical-align: top;\n",
       "    }\n",
       "\n",
       "    .dataframe thead th {\n",
       "        text-align: right;\n",
       "    }\n",
       "</style>\n",
       "<table border=\"1\" class=\"dataframe\">\n",
       "  <thead>\n",
       "    <tr style=\"text-align: right;\">\n",
       "      <th></th>\n",
       "      <th>datetime</th>\n",
       "      <th>season</th>\n",
       "      <th>holiday</th>\n",
       "      <th>workingday</th>\n",
       "      <th>weather</th>\n",
       "      <th>temp</th>\n",
       "      <th>atemp</th>\n",
       "      <th>humidity</th>\n",
       "      <th>windspeed</th>\n",
       "      <th>year</th>\n",
       "      <th>month</th>\n",
       "      <th>day</th>\n",
       "      <th>dayofweek</th>\n",
       "      <th>hour</th>\n",
       "    </tr>\n",
       "  </thead>\n",
       "  <tbody>\n",
       "    <tr>\n",
       "      <th>0</th>\n",
       "      <td>2011-01-20 00:00:00</td>\n",
       "      <td>1</td>\n",
       "      <td>0</td>\n",
       "      <td>1</td>\n",
       "      <td>1</td>\n",
       "      <td>10.66</td>\n",
       "      <td>11.365</td>\n",
       "      <td>56</td>\n",
       "      <td>26.0027</td>\n",
       "      <td>2011</td>\n",
       "      <td>1</td>\n",
       "      <td>20</td>\n",
       "      <td>3</td>\n",
       "      <td>0</td>\n",
       "    </tr>\n",
       "    <tr>\n",
       "      <th>1</th>\n",
       "      <td>2011-01-20 01:00:00</td>\n",
       "      <td>1</td>\n",
       "      <td>0</td>\n",
       "      <td>1</td>\n",
       "      <td>1</td>\n",
       "      <td>10.66</td>\n",
       "      <td>13.635</td>\n",
       "      <td>56</td>\n",
       "      <td>0.0000</td>\n",
       "      <td>2011</td>\n",
       "      <td>1</td>\n",
       "      <td>20</td>\n",
       "      <td>3</td>\n",
       "      <td>1</td>\n",
       "    </tr>\n",
       "    <tr>\n",
       "      <th>2</th>\n",
       "      <td>2011-01-20 02:00:00</td>\n",
       "      <td>1</td>\n",
       "      <td>0</td>\n",
       "      <td>1</td>\n",
       "      <td>1</td>\n",
       "      <td>10.66</td>\n",
       "      <td>13.635</td>\n",
       "      <td>56</td>\n",
       "      <td>0.0000</td>\n",
       "      <td>2011</td>\n",
       "      <td>1</td>\n",
       "      <td>20</td>\n",
       "      <td>3</td>\n",
       "      <td>2</td>\n",
       "    </tr>\n",
       "    <tr>\n",
       "      <th>3</th>\n",
       "      <td>2011-01-20 03:00:00</td>\n",
       "      <td>1</td>\n",
       "      <td>0</td>\n",
       "      <td>1</td>\n",
       "      <td>1</td>\n",
       "      <td>10.66</td>\n",
       "      <td>12.880</td>\n",
       "      <td>56</td>\n",
       "      <td>11.0014</td>\n",
       "      <td>2011</td>\n",
       "      <td>1</td>\n",
       "      <td>20</td>\n",
       "      <td>3</td>\n",
       "      <td>3</td>\n",
       "    </tr>\n",
       "    <tr>\n",
       "      <th>4</th>\n",
       "      <td>2011-01-20 04:00:00</td>\n",
       "      <td>1</td>\n",
       "      <td>0</td>\n",
       "      <td>1</td>\n",
       "      <td>1</td>\n",
       "      <td>10.66</td>\n",
       "      <td>12.880</td>\n",
       "      <td>56</td>\n",
       "      <td>11.0014</td>\n",
       "      <td>2011</td>\n",
       "      <td>1</td>\n",
       "      <td>20</td>\n",
       "      <td>3</td>\n",
       "      <td>4</td>\n",
       "    </tr>\n",
       "  </tbody>\n",
       "</table>\n",
       "</div>"
      ],
      "text/plain": [
       "              datetime  season  holiday  ...  day  dayofweek  hour\n",
       "0  2011-01-20 00:00:00       1        0  ...   20          3     0\n",
       "1  2011-01-20 01:00:00       1        0  ...   20          3     1\n",
       "2  2011-01-20 02:00:00       1        0  ...   20          3     2\n",
       "3  2011-01-20 03:00:00       1        0  ...   20          3     3\n",
       "4  2011-01-20 04:00:00       1        0  ...   20          3     4\n",
       "\n",
       "[5 rows x 14 columns]"
      ]
     },
     "execution_count": 7,
     "metadata": {},
     "output_type": "execute_result"
    }
   ],
   "source": [
    "df_all.head(5)"
   ]
  },
  {
   "cell_type": "code",
   "execution_count": 8,
   "id": "b5e1573b",
   "metadata": {},
   "outputs": [],
   "source": [
    "# Need to pass an array to the prediction\n",
    "# pass except the first column 'datetime'\n",
    "arr_test = df_all[df_all.columns[1:]]"
   ]
  },
  {
   "cell_type": "code",
   "execution_count": 9,
   "id": "56df46b8",
   "metadata": {},
   "outputs": [
    {
     "data": {
      "text/plain": [
       "(6493, 13)"
      ]
     },
     "execution_count": 9,
     "metadata": {},
     "output_type": "execute_result"
    }
   ],
   "source": [
    "arr_test.shape"
   ]
  },
  {
   "cell_type": "code",
   "execution_count": 10,
   "id": "9b0041f6",
   "metadata": {},
   "outputs": [],
   "source": [
    "#### No variant specified - Endpoint distributes request based on configured weight\n",
    "# target_variant = NNone\n",
    "\n",
    "result = predictor.predict(arr_test[:5],target_variant=None)"
   ]
  },
  {
   "cell_type": "code",
   "execution_count": 11,
   "id": "cd3428ab",
   "metadata": {},
   "outputs": [
    {
     "name": "stdout",
     "output_type": "stream",
     "text": [
      "b'2.332122325897217,1.9005593061447144,1.6316101551055908,1.0376962423324585,0.9574321508407593'\n"
     ]
    }
   ],
   "source": [
    "print(result)"
   ]
  },
  {
   "cell_type": "markdown",
   "id": "8f2abd77",
   "metadata": {},
   "source": [
    "### Variant specified - Endpoint routs request to configured variant"
   ]
  },
  {
   "cell_type": "code",
   "execution_count": 12,
   "id": "cf4fe368",
   "metadata": {},
   "outputs": [
    {
     "name": "stdout",
     "output_type": "stream",
     "text": [
      "b'2.332122325897217,1.9005593061447144,1.6316101551055908,1.0376962423324585,0.9574321508407593'\n"
     ]
    }
   ],
   "source": [
    "#target_variant = 'version-0-90-2'\n",
    "result = predictor.predict(arr_test[:5],target_variant='version-0-90-2')\n",
    "print(result)"
   ]
  },
  {
   "cell_type": "code",
   "execution_count": 13,
   "id": "c60e0ba6",
   "metadata": {},
   "outputs": [
    {
     "name": "stdout",
     "output_type": "stream",
     "text": [
      "b'2.332122325897217\\n1.9005593061447144\\n1.6316101551055908\\n1.0376962423324585\\n0.9574321508407593\\n'\n"
     ]
    }
   ],
   "source": [
    "#target_variant = 'version-1-2-2'\n",
    "result = predictor.predict(arr_test[:5],target_variant='version-1-2-2')\n",
    "print(result)"
   ]
  },
  {
   "cell_type": "markdown",
   "id": "5d233fad",
   "metadata": {},
   "source": [
    "### Split the input data into chunks\n",
    "\n",
    "There are thousands of rows in this data which needs to inference<br>\n",
    "It is good to split the data into chunks to prevent payload or timeout error\n",
    "\n"
   ]
  },
  {
   "cell_type": "code",
   "execution_count": 14,
   "id": "b6500262",
   "metadata": {},
   "outputs": [],
   "source": [
    "# splitting using regular expression as xgboost 1-2-2 is returning\n",
    "\n",
    "# pattern looks for one or more non-numeric characters\n",
    "pattern = r'[^0-9.]+'\n",
    "\n",
    "def inference_by_version(targetVariant = None):\n",
    "    predictions = []\n",
    "    for arr in np.array_split(arr_test,10):\n",
    "        result = predictor.predict(arr, target_variant=targetVariant)\n",
    "        result = re.split(pattern,result.decode('utf8'))\n",
    "        \n",
    "        print(arr.shape)\n",
    "        predictions += [float(r) for r in result if r!=\"\"]\n",
    "        \n",
    "    return predictions"
   ]
  },
  {
   "cell_type": "markdown",
   "id": "7a8320d3",
   "metadata": {},
   "source": [
    "### Use all available variants"
   ]
  },
  {
   "cell_type": "code",
   "execution_count": 15,
   "id": "f26b3ce0",
   "metadata": {},
   "outputs": [],
   "source": [
    "# None - no preference to variant\n",
    "targetVariants = [None, 'version-0-90-2', 'version-1-2-2']\n",
    "countColumns = {}\n",
    "for variant in targetVariants:\n",
    "    countColumns[str(variant)] = 'count_'+ variant if variant else 'count_all'"
   ]
  },
  {
   "cell_type": "code",
   "execution_count": 16,
   "id": "1a8401ad",
   "metadata": {},
   "outputs": [
    {
     "name": "stdout",
     "output_type": "stream",
     "text": [
      "{'None': 'count_all', 'version-0-90-2': 'count_version-0-90-2', 'version-1-2-2': 'count_version-1-2-2'}\n"
     ]
    }
   ],
   "source": [
    "print(countColumns)"
   ]
  },
  {
   "cell_type": "code",
   "execution_count": 17,
   "id": "f75bb9ae",
   "metadata": {},
   "outputs": [
    {
     "name": "stdout",
     "output_type": "stream",
     "text": [
      "Target Variant: None\n",
      "Target Variant: version-0-90-2\n",
      "Target Variant: version-1-2-2\n"
     ]
    }
   ],
   "source": [
    "for variant in targetVariants:\n",
    "    print(f'Target Variant: {variant}')"
   ]
  },
  {
   "cell_type": "code",
   "execution_count": 21,
   "id": "20ae311f",
   "metadata": {},
   "outputs": [
    {
     "name": "stdout",
     "output_type": "stream",
     "text": [
      "Target Variant: None\n",
      "(650, 13)\n",
      "(650, 13)\n",
      "(650, 13)\n",
      "(649, 13)\n",
      "(649, 13)\n",
      "(649, 13)\n",
      "(649, 13)\n",
      "(649, 13)\n",
      "(649, 13)\n",
      "(649, 13)\n",
      "Target Variant: version-0-90-2\n",
      "(650, 13)\n",
      "(650, 13)\n",
      "(650, 13)\n",
      "(649, 13)\n",
      "(649, 13)\n",
      "(649, 13)\n",
      "(649, 13)\n",
      "(649, 13)\n",
      "(649, 13)\n",
      "(649, 13)\n",
      "Target Variant: version-1-2-2\n",
      "(650, 13)\n",
      "(650, 13)\n",
      "(650, 13)\n",
      "(649, 13)\n",
      "(649, 13)\n",
      "(649, 13)\n",
      "(649, 13)\n",
      "(649, 13)\n",
      "(649, 13)\n",
      "(649, 13)\n"
     ]
    }
   ],
   "source": [
    "for variant in targetVariants:\n",
    "    print(f'Target Variant: {variant}')\n",
    "    df_all[countColumns[str(variant)]] = np.expm1(inference_by_version(variant))"
   ]
  },
  {
   "cell_type": "code",
   "execution_count": 25,
   "id": "c0832d23",
   "metadata": {},
   "outputs": [
    {
     "data": {
      "text/plain": [
       "dict_values(['count_all', 'count_version-0-90-2', 'count_version-1-2-2'])"
      ]
     },
     "execution_count": 25,
     "metadata": {},
     "output_type": "execute_result"
    }
   ],
   "source": [
    "countColumns.values()"
   ]
  },
  {
   "cell_type": "code",
   "execution_count": 23,
   "id": "12e334a1",
   "metadata": {},
   "outputs": [
    {
     "data": {
      "text/html": [
       "<div>\n",
       "<style scoped>\n",
       "    .dataframe tbody tr th:only-of-type {\n",
       "        vertical-align: middle;\n",
       "    }\n",
       "\n",
       "    .dataframe tbody tr th {\n",
       "        vertical-align: top;\n",
       "    }\n",
       "\n",
       "    .dataframe thead th {\n",
       "        text-align: right;\n",
       "    }\n",
       "</style>\n",
       "<table border=\"1\" class=\"dataframe\">\n",
       "  <thead>\n",
       "    <tr style=\"text-align: right;\">\n",
       "      <th></th>\n",
       "      <th>count_all</th>\n",
       "      <th>count_version-0-90-2</th>\n",
       "      <th>count_version-1-2-2</th>\n",
       "    </tr>\n",
       "  </thead>\n",
       "  <tbody>\n",
       "    <tr>\n",
       "      <th>0</th>\n",
       "      <td>9.299778</td>\n",
       "      <td>9.299778</td>\n",
       "      <td>9.299778</td>\n",
       "    </tr>\n",
       "    <tr>\n",
       "      <th>1</th>\n",
       "      <td>5.689635</td>\n",
       "      <td>5.689635</td>\n",
       "      <td>5.689635</td>\n",
       "    </tr>\n",
       "    <tr>\n",
       "      <th>2</th>\n",
       "      <td>4.112099</td>\n",
       "      <td>4.112099</td>\n",
       "      <td>4.112099</td>\n",
       "    </tr>\n",
       "    <tr>\n",
       "      <th>3</th>\n",
       "      <td>1.822707</td>\n",
       "      <td>1.822707</td>\n",
       "      <td>1.822707</td>\n",
       "    </tr>\n",
       "    <tr>\n",
       "      <th>4</th>\n",
       "      <td>1.604999</td>\n",
       "      <td>1.604999</td>\n",
       "      <td>1.604999</td>\n",
       "    </tr>\n",
       "    <tr>\n",
       "      <th>...</th>\n",
       "      <td>...</td>\n",
       "      <td>...</td>\n",
       "      <td>...</td>\n",
       "    </tr>\n",
       "    <tr>\n",
       "      <th>6488</th>\n",
       "      <td>257.326183</td>\n",
       "      <td>257.326183</td>\n",
       "      <td>257.326183</td>\n",
       "    </tr>\n",
       "    <tr>\n",
       "      <th>6489</th>\n",
       "      <td>171.026137</td>\n",
       "      <td>171.026137</td>\n",
       "      <td>171.026137</td>\n",
       "    </tr>\n",
       "    <tr>\n",
       "      <th>6490</th>\n",
       "      <td>133.685980</td>\n",
       "      <td>133.685980</td>\n",
       "      <td>133.685980</td>\n",
       "    </tr>\n",
       "    <tr>\n",
       "      <th>6491</th>\n",
       "      <td>92.357978</td>\n",
       "      <td>92.357978</td>\n",
       "      <td>92.357978</td>\n",
       "    </tr>\n",
       "    <tr>\n",
       "      <th>6492</th>\n",
       "      <td>52.001918</td>\n",
       "      <td>52.001918</td>\n",
       "      <td>52.001918</td>\n",
       "    </tr>\n",
       "  </tbody>\n",
       "</table>\n",
       "<p>6493 rows × 3 columns</p>\n",
       "</div>"
      ],
      "text/plain": [
       "       count_all  count_version-0-90-2  count_version-1-2-2\n",
       "0       9.299778              9.299778             9.299778\n",
       "1       5.689635              5.689635             5.689635\n",
       "2       4.112099              4.112099             4.112099\n",
       "3       1.822707              1.822707             1.822707\n",
       "4       1.604999              1.604999             1.604999\n",
       "...          ...                   ...                  ...\n",
       "6488  257.326183            257.326183           257.326183\n",
       "6489  171.026137            171.026137           171.026137\n",
       "6490  133.685980            133.685980           133.685980\n",
       "6491   92.357978             92.357978            92.357978\n",
       "6492   52.001918             52.001918            52.001918\n",
       "\n",
       "[6493 rows x 3 columns]"
      ]
     },
     "execution_count": 23,
     "metadata": {},
     "output_type": "execute_result"
    }
   ],
   "source": [
    "df_all[list(countColumns.values())]"
   ]
  },
  {
   "cell_type": "code",
   "execution_count": 24,
   "id": "9ff63f54",
   "metadata": {},
   "outputs": [
    {
     "data": {
      "text/html": [
       "<div>\n",
       "<style scoped>\n",
       "    .dataframe tbody tr th:only-of-type {\n",
       "        vertical-align: middle;\n",
       "    }\n",
       "\n",
       "    .dataframe tbody tr th {\n",
       "        vertical-align: top;\n",
       "    }\n",
       "\n",
       "    .dataframe thead th {\n",
       "        text-align: right;\n",
       "    }\n",
       "</style>\n",
       "<table border=\"1\" class=\"dataframe\">\n",
       "  <thead>\n",
       "    <tr style=\"text-align: right;\">\n",
       "      <th></th>\n",
       "      <th>count_all</th>\n",
       "      <th>count_version-0-90-2</th>\n",
       "      <th>count_version-1-2-2</th>\n",
       "    </tr>\n",
       "  </thead>\n",
       "  <tbody>\n",
       "    <tr>\n",
       "      <th>count</th>\n",
       "      <td>6493.000000</td>\n",
       "      <td>6493.000000</td>\n",
       "      <td>6493.000000</td>\n",
       "    </tr>\n",
       "    <tr>\n",
       "      <th>mean</th>\n",
       "      <td>183.412390</td>\n",
       "      <td>183.412390</td>\n",
       "      <td>183.412390</td>\n",
       "    </tr>\n",
       "    <tr>\n",
       "      <th>std</th>\n",
       "      <td>171.869936</td>\n",
       "      <td>171.869936</td>\n",
       "      <td>171.869936</td>\n",
       "    </tr>\n",
       "    <tr>\n",
       "      <th>min</th>\n",
       "      <td>0.419208</td>\n",
       "      <td>0.419208</td>\n",
       "      <td>0.419208</td>\n",
       "    </tr>\n",
       "    <tr>\n",
       "      <th>25%</th>\n",
       "      <td>41.106633</td>\n",
       "      <td>41.106633</td>\n",
       "      <td>41.106633</td>\n",
       "    </tr>\n",
       "    <tr>\n",
       "      <th>50%</th>\n",
       "      <td>141.825441</td>\n",
       "      <td>141.825441</td>\n",
       "      <td>141.825441</td>\n",
       "    </tr>\n",
       "    <tr>\n",
       "      <th>75%</th>\n",
       "      <td>273.490148</td>\n",
       "      <td>273.490148</td>\n",
       "      <td>273.490148</td>\n",
       "    </tr>\n",
       "    <tr>\n",
       "      <th>max</th>\n",
       "      <td>942.930326</td>\n",
       "      <td>942.930326</td>\n",
       "      <td>942.930326</td>\n",
       "    </tr>\n",
       "  </tbody>\n",
       "</table>\n",
       "</div>"
      ],
      "text/plain": [
       "         count_all  count_version-0-90-2  count_version-1-2-2\n",
       "count  6493.000000           6493.000000          6493.000000\n",
       "mean    183.412390            183.412390           183.412390\n",
       "std     171.869936            171.869936           171.869936\n",
       "min       0.419208              0.419208             0.419208\n",
       "25%      41.106633             41.106633            41.106633\n",
       "50%     141.825441            141.825441           141.825441\n",
       "75%     273.490148            273.490148           273.490148\n",
       "max     942.930326            942.930326           942.930326"
      ]
     },
     "execution_count": 24,
     "metadata": {},
     "output_type": "execute_result"
    }
   ],
   "source": [
    "df_all[list(countColumns.values())].describe()"
   ]
  },
  {
   "cell_type": "code",
   "execution_count": null,
   "id": "7b6d0a59",
   "metadata": {},
   "outputs": [],
   "source": []
  }
 ],
 "metadata": {
  "kernelspec": {
   "display_name": "conda_tensorflow2_p310",
   "language": "python",
   "name": "conda_tensorflow2_p310"
  },
  "language_info": {
   "codemirror_mode": {
    "name": "ipython",
    "version": 3
   },
   "file_extension": ".py",
   "mimetype": "text/x-python",
   "name": "python",
   "nbconvert_exporter": "python",
   "pygments_lexer": "ipython3",
   "version": "3.10.14"
  }
 },
 "nbformat": 4,
 "nbformat_minor": 5
}
