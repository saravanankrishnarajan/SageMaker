{
 "cells": [
  {
   "cell_type": "markdown",
   "id": "8e7ae653",
   "metadata": {},
   "source": [
    "### Train bike rental dataset with two versions of XGBoost: 0.90-2 and 1.2-2"
   ]
  },
  {
   "cell_type": "code",
   "execution_count": 2,
   "id": "ab5922a4",
   "metadata": {},
   "outputs": [
    {
     "name": "stdout",
     "output_type": "stream",
     "text": [
      "sagemaker.config INFO - Not applying SDK defaults from location: /etc/xdg/sagemaker/config.yaml\n",
      "sagemaker.config INFO - Not applying SDK defaults from location: /home/ec2-user/.config/sagemaker/config.yaml\n"
     ]
    }
   ],
   "source": [
    "import numpy as np\n",
    "import pandas as pd\n",
    "\n",
    "import boto3 \n",
    "import re\n",
    "\n",
    "import sagemaker\n",
    "from sagemaker import get_execution_role"
   ]
  },
  {
   "cell_type": "code",
   "execution_count": 3,
   "id": "b49012bb",
   "metadata": {},
   "outputs": [],
   "source": [
    "### Import s3 bucket name as environment variable\n",
    "\n",
    "import os\n",
    "env_vars = !cat ./.env\n",
    "for var in env_vars:\n",
    "    key, value = var.split('=')\n",
    "    os.environ[key] = value"
   ]
  },
  {
   "cell_type": "markdown",
   "id": "60b814e1",
   "metadata": {},
   "source": [
    "### Upload Data to s3"
   ]
  },
  {
   "cell_type": "code",
   "execution_count": 4,
   "id": "4d8299db",
   "metadata": {},
   "outputs": [],
   "source": [
    "# Initializing s3 bucket and s3 locations\n",
    "\n",
    "bucket_name = os.environ['BUCKET_NAME']\n",
    "\n",
    "training_folder = r'bikerental/training/'\n",
    "validation_folder = r'bikerental/validation/'\n",
    "test_folder = r'bikerental/test/'\n",
    "\n",
    "s3_model_output_location = r's3://{0}/bikerental/model'.format(bucket_name)\n",
    "s3_training_file_location = r's3://{0}/{1}'.format(bucket_name,training_folder)\n",
    "s3_validation_file_location = r's3://{0}/{1}'.format(bucket_name,validation_folder)\n",
    "s3_test_file_location = r's3://{0}/{1}'.format(bucket_name,test_folder)"
   ]
  },
  {
   "cell_type": "code",
   "execution_count": 5,
   "id": "24370393",
   "metadata": {},
   "outputs": [],
   "source": [
    "# Data Chhannels for the training algorithm\n",
    "# content type can be libsvm or csv for XGBoost\n",
    "\n",
    "training_input_config = sagemaker.session.TrainingInput(\n",
    "    s3_data = s3_training_file_location,\n",
    "    content_type='csv',\n",
    "    s3_data_type ='S3Prefix'\n",
    ")\n",
    "\n",
    "validation_input_config = sagemaker.session.TrainingInput(\n",
    "    s3_data = s3_validation_file_location,\n",
    "    content_type='csv',\n",
    "    s3_data_type='S3Prefix'\n",
    ")\n",
    "\n",
    "data_channels = {'train': training_input_config, 'validation':validation_input_config}"
   ]
  },
  {
   "cell_type": "code",
   "execution_count": 7,
   "id": "ace3a619",
   "metadata": {},
   "outputs": [],
   "source": [
    "# write files into s3 using boto3\n",
    "# filename - filename\n",
    "# bucket - bucket name\n",
    "# Key - file location in s3(folder path)\n",
    "\n",
    "def write_to_s3(filename, bucket, key):\n",
    "    with open(filename,'rb') as f:\n",
    "        boto3.Session().resource('s3').Bucket(bucket).Object(key).upload_fileobj(f)"
   ]
  },
  {
   "cell_type": "code",
   "execution_count": 8,
   "id": "aa1a34fe",
   "metadata": {},
   "outputs": [],
   "source": [
    "write_to_s3('bike_train_rev3.csv', bucket_name, training_folder+'bike_test_rev3.csv')\n",
    "\n",
    "write_to_s3('bike_validation_rev3.csv', bucket_name, validation_folder+'bike_validation_rev3.csv')\n",
    "\n",
    "write_to_s3('bike_test_rev3.csv', bucket_name, test_folder+'bike_test_rev3.csv')"
   ]
  },
  {
   "cell_type": "markdown",
   "id": "c55bd60d",
   "metadata": {},
   "source": [
    "### Traing Algorithm Docker Image\n",
    "\n",
    "#### SageMaker manages separate image for each algorithm "
   ]
  },
  {
   "cell_type": "code",
   "execution_count": null,
   "id": "3ef3f99b",
   "metadata": {},
   "outputs": [],
   "source": []
  }
 ],
 "metadata": {
  "kernelspec": {
   "display_name": "conda_tensorflow2_p310",
   "language": "python",
   "name": "conda_tensorflow2_p310"
  },
  "language_info": {
   "codemirror_mode": {
    "name": "ipython",
    "version": 3
   },
   "file_extension": ".py",
   "mimetype": "text/x-python",
   "name": "python",
   "nbconvert_exporter": "python",
   "pygments_lexer": "ipython3",
   "version": "3.10.14"
  }
 },
 "nbformat": 4,
 "nbformat_minor": 5
}
