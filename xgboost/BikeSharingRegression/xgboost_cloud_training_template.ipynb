{
 "cells": [
  {
   "cell_type": "markdown",
   "id": "e7fe3ce5",
   "metadata": {},
   "source": [
    "### XGBoost Built in Algorithm training for Sagemaker Endpoint"
   ]
  },
  {
   "cell_type": "code",
   "execution_count": 1,
   "id": "b42622f0",
   "metadata": {},
   "outputs": [
    {
     "name": "stdout",
     "output_type": "stream",
     "text": [
      "sagemaker.config INFO - Not applying SDK defaults from location: /etc/xdg/sagemaker/config.yaml\n",
      "sagemaker.config INFO - Not applying SDK defaults from location: /home/ec2-user/.config/sagemaker/config.yaml\n"
     ]
    }
   ],
   "source": [
    "import numpy as np\n",
    "import pandas as pd\n",
    "\n",
    "import boto3\n",
    "import re\n",
    "\n",
    "import sagemaker\n",
    "from sagemaker import get_execution_role"
   ]
  },
  {
   "cell_type": "markdown",
   "id": "79b14a5a",
   "metadata": {},
   "source": [
    "Bucket name is hidden using environment variable\n",
    "\n",
    "sh-4.2$ cat .env<br>\n",
    "BUCKET_NAME=my_ml_bucket_name"
   ]
  },
  {
   "cell_type": "code",
   "execution_count": 2,
   "id": "61cf8b1c",
   "metadata": {},
   "outputs": [],
   "source": [
    "### Import s3 bucket name as environment variable\n",
    "\n",
    "import os\n",
    "env_vars = !cat ./.env\n",
    "for var in env_vars:\n",
    "    key, value = var.split('=')\n",
    "    os.environ[key] = value"
   ]
  },
  {
   "cell_type": "code",
   "execution_count": 3,
   "id": "7d857eaa",
   "metadata": {},
   "outputs": [],
   "source": [
    "# Initializing s3 bucket and s3 locations\n",
    "\n",
    "bucket_name = os.environ['BUCKET_NAME']\n",
    "\n",
    "training_folder=r'bikerental/training/'\n",
    "validation_folder=r'bikerental/validation/'\n",
    "test_folder=r'bikerental/test/'\n",
    "\n",
    "s3_model_output_location =r's3://{0}/bikerental/model'.format(bucket_name)\n",
    "s3_training_file_location =r's3://{0}/{1}'.format(bucket_name,training_folder)\n",
    "s3_validation_file_location = r's3://{0}/{1}'.format(bucket_name,validation_folder)\n",
    "s3_test_file_location = r's3://{0}/{1}'.format(bucket_name,test_folder)"
   ]
  },
  {
   "cell_type": "code",
   "execution_count": null,
   "id": "0ff7422f",
   "metadata": {},
   "outputs": [],
   "source": [
    "print(s3_model_output_location)"
   ]
  },
  {
   "cell_type": "code",
   "execution_count": null,
   "id": "bfc27bee",
   "metadata": {
    "scrolled": true
   },
   "outputs": [],
   "source": [
    "print(s3_training_file_location)\n",
    "print(s3_validation_file_location)\n",
    "print(s3_test_file_location)"
   ]
  },
  {
   "cell_type": "code",
   "execution_count": 6,
   "id": "95ead320",
   "metadata": {},
   "outputs": [],
   "source": [
    "# write files in s3 using boto3\n",
    "# filename - filename\n",
    "# bucket - bucket name\n",
    "# Key - file location in s3(folder path)\n",
    "\n",
    "def write_s3(filename, bucket, key):\n",
    "    with open(filename,'rb') as f:\n",
    "        boto3.Session().resource('s3').Bucket(bucket).Object(key).upload_fileobj(f)\n",
    "        "
   ]
  },
  {
   "cell_type": "code",
   "execution_count": 9,
   "id": "8dbcb5e9",
   "metadata": {},
   "outputs": [],
   "source": [
    "# Writing all three Train, Validation and TEst files in s3\n",
    "\n",
    "# uploading file with key can create subfolders \n",
    "\n",
    "write_s3('bike_train_rev3.csv', bucket_name,training_folder+'bike_test_rev3.csv')\n",
    "write_s3('bike_validation_rev3.csv', bucket_name,validation_folder+'bike_validation_rev3.csv')\n",
    "write_s3('bike_test_rev3.csv', bucket_name, test_folder+'bike_test_rev3.csv')"
   ]
  },
  {
   "cell_type": "markdown",
   "id": "e608d923",
   "metadata": {},
   "source": [
    "### SageMaker maintains a separate image for algorithm and region"
   ]
  },
  {
   "cell_type": "code",
   "execution_count": 4,
   "id": "f13a4c67",
   "metadata": {},
   "outputs": [],
   "source": [
    "# Use spot instances\n",
    "\n",
    "use_spot_instances = True\n",
    "max_run = 3600\n",
    "max_wait = 7200\n",
    "\n",
    "job_name = 'xgboost-bikerental-v1'\n",
    "checkpoint_s3_uri = None\n",
    "\n",
    "if use_spot_instances:\n",
    "    checkpoint_s3_uri = f's3://{bucket_name}/bikerental/checkpoints/{job_name}'\n",
    "    \n",
    "#print(f'Checkpoint uri: {checkpoint_s3_uri}')"
   ]
  },
  {
   "cell_type": "code",
   "execution_count": 5,
   "id": "bd2058eb",
   "metadata": {},
   "outputs": [],
   "source": [
    "# EStablish a session with AWS\n",
    "sess  = sagemaker.Session()"
   ]
  },
  {
   "cell_type": "code",
   "execution_count": 6,
   "id": "7d3d01e6",
   "metadata": {},
   "outputs": [],
   "source": [
    "role = get_execution_role()"
   ]
  },
  {
   "cell_type": "code",
   "execution_count": null,
   "id": "7d07ec9b",
   "metadata": {},
   "outputs": [],
   "source": [
    "# The role has permissions need to train, deploy and execute models\n",
    "print(role)"
   ]
  },
  {
   "cell_type": "code",
   "execution_count": 7,
   "id": "9a52bec2",
   "metadata": {},
   "outputs": [
    {
     "name": "stdout",
     "output_type": "stream",
     "text": [
      "Using XGBoost Container 683313688378.dkr.ecr.us-east-1.amazonaws.com/sagemaker-xgboost:1.2-2\n"
     ]
    }
   ],
   "source": [
    "# SDK 2 uses image_uris.retrieve the container image location\n",
    "\n",
    "# Use XGBoost 1.2 version\n",
    "container = sagemaker.image_uris.retrieve(\"xgboost\",sess.boto_region_name,version=\"1.2-2\")\n",
    "print(f'Using XGBoost Container {container}')"
   ]
  },
  {
   "cell_type": "markdown",
   "id": "f683416a",
   "metadata": {},
   "source": [
    "### Build Model"
   ]
  },
  {
   "cell_type": "code",
   "execution_count": 8,
   "id": "87b1c757",
   "metadata": {},
   "outputs": [],
   "source": [
    "# Configure the training job\n",
    "# Specify type and number of instances to use\n",
    "# Where final artifacts needs to be stored in S3 location\n",
    "\n",
    "# for managed spot traing, specify the use_spot_instances flag, mad_run, mad_wait and \n",
    "# checkpoint s3 uri\n",
    "\n",
    "# SDK 2.x version does not require train prefix for instance count and type\n",
    "\n",
    "estimator = sagemaker.estimator.Estimator(\n",
    "    container,\n",
    "    role,\n",
    "    instance_count=1,\n",
    "    instance_type='ml.m5.xlarge',\n",
    "    output_path=s3_model_output_location,\n",
    "    sagemaker_session=sess,\n",
    "    base_job_name = job_name,\n",
    "    use_spot_instances=use_spot_instances,\n",
    "    max_run=max_run,\n",
    "    max_wait=max_wait,\n",
    "    checkpoint_s3_uri=checkpoint_s3_uri\n",
    ")"
   ]
  },
  {
   "cell_type": "code",
   "execution_count": 9,
   "id": "da4ad315",
   "metadata": {},
   "outputs": [],
   "source": [
    "# Set hyper parameters that is appropriate for training algorithm\n",
    "\n",
    "estimator.set_hyperparameters(max_depth=5, objective ='reg:squarederror',eta=0.1,num_round=150)"
   ]
  },
  {
   "cell_type": "code",
   "execution_count": 10,
   "id": "6031041b",
   "metadata": {},
   "outputs": [
    {
     "data": {
      "text/plain": [
       "{'max_depth': 5, 'objective': 'reg:squarederror', 'eta': 0.1, 'num_round': 150}"
      ]
     },
     "execution_count": 10,
     "metadata": {},
     "output_type": "execute_result"
    }
   ],
   "source": [
    "estimator.hyperparameters()"
   ]
  },
  {
   "cell_type": "markdown",
   "id": "439dc65c",
   "metadata": {},
   "source": [
    "### Speicify Training Data Location and optionally Validation data location"
   ]
  },
  {
   "cell_type": "code",
   "execution_count": 11,
   "id": "62842fd3",
   "metadata": {},
   "outputs": [],
   "source": [
    "# content type can be libsvm or csv for XGBoost\n",
    "\n",
    "training_input_config = sagemaker.session.TrainingInput(\n",
    "    s3_data = s3_training_file_location,\n",
    "    content_type='csv',\n",
    "    s3_data_type='S3Prefix')\n",
    "\n",
    "validation_input_config = sagemaker.session.TrainingInput(\n",
    "    s3_data = s3_validation_file_location,\n",
    "    content_type='csv',\n",
    "    s3_data_type='S3Prefix'\n",
    ")\n",
    "\n",
    "data_channels = {'train': training_input_config, 'validation': validation_input_config}"
   ]
  },
  {
   "cell_type": "code",
   "execution_count": null,
   "id": "6136f676",
   "metadata": {
    "scrolled": true
   },
   "outputs": [],
   "source": [
    "print(training_input_config.config)"
   ]
  },
  {
   "cell_type": "code",
   "execution_count": null,
   "id": "7d4ea084",
   "metadata": {
    "scrolled": true
   },
   "outputs": [],
   "source": [
    "print(validation_input_config.config)"
   ]
  },
  {
   "cell_type": "markdown",
   "id": "8d04fad4",
   "metadata": {},
   "source": [
    "### Training the model"
   ]
  },
  {
   "cell_type": "code",
   "execution_count": 13,
   "id": "f6933cf7",
   "metadata": {},
   "outputs": [
    {
     "name": "stderr",
     "output_type": "stream",
     "text": [
      "INFO:sagemaker:Creating training-job with name: xgboost-bikerental-v1-2024-05-06-11-13-48-839\n"
     ]
    },
    {
     "name": "stdout",
     "output_type": "stream",
     "text": [
      "2024-05-06 11:13:49 Starting - Starting the training job...\n",
      "2024-05-06 11:14:03 Starting - Preparing the instances for training...\n",
      "2024-05-06 11:14:30 Downloading - Downloading input data...\n",
      "2024-05-06 11:14:55 Downloading - Downloading the training image...\n",
      "2024-05-06 11:15:46 Training - Training image download completed. Training in progress.\n",
      "2024-05-06 11:15:46 Uploading - Uploading generated training model\u001b[34m[2024-05-06 11:15:40.507 ip-10-2-76-60.ec2.internal:7 INFO utils.py:27] RULE_JOB_STOP_SIGNAL_FILENAME: None\u001b[0m\n",
      "\u001b[34m[2024-05-06:11:15:40:INFO] Imported framework sagemaker_xgboost_container.training\u001b[0m\n",
      "\u001b[34m[2024-05-06:11:15:40:INFO] Failed to parse hyperparameter objective value reg:squarederror to Json.\u001b[0m\n",
      "\u001b[34mReturning the value itself\u001b[0m\n",
      "\u001b[34m[2024-05-06:11:15:40:INFO] No GPUs detected (normal if no gpus installed)\u001b[0m\n",
      "\u001b[34m[2024-05-06:11:15:40:INFO] Running XGBoost Sagemaker in algorithm mode\u001b[0m\n",
      "\u001b[34m[2024-05-06:11:15:40:INFO] Determined delimiter of CSV input is ','\u001b[0m\n",
      "\u001b[34m[2024-05-06:11:15:40:INFO] Determined delimiter of CSV input is ','\u001b[0m\n",
      "\u001b[34m[2024-05-06:11:15:40:INFO] Determined delimiter of CSV input is ','\u001b[0m\n",
      "\u001b[34m[2024-05-06:11:15:40:INFO] Determined delimiter of CSV input is ','\u001b[0m\n",
      "\u001b[34m[2024-05-06:11:15:40:INFO] Single node training.\u001b[0m\n",
      "\u001b[34m[2024-05-06:11:15:40:INFO] Train matrix has 7620 rows and 13 columns\u001b[0m\n",
      "\u001b[34m[2024-05-06:11:15:40:INFO] Validation matrix has 3266 rows\u001b[0m\n",
      "\u001b[34m[2024-05-06:11:15:40:INFO] Checkpoint loaded from /opt/ml/checkpoints/xgboost-checkpoint.149\u001b[0m\n",
      "\u001b[34m[2024-05-06:11:15:40:INFO] Resuming from iteration 150\u001b[0m\n",
      "\u001b[34m[2024-05-06 11:15:40.602 ip-10-2-76-60.ec2.internal:7 INFO json_config.py:91] Creating hook from json_config at /opt/ml/input/config/debughookconfig.json.\u001b[0m\n",
      "\u001b[34m[2024-05-06 11:15:40.603 ip-10-2-76-60.ec2.internal:7 INFO hook.py:201] tensorboard_dir has not been set for the hook. SMDebug will not be exporting tensorboard summaries.\u001b[0m\n",
      "\u001b[34m[2024-05-06 11:15:40.603 ip-10-2-76-60.ec2.internal:7 INFO profiler_config_parser.py:102] User has disabled profiler.\u001b[0m\n",
      "\u001b[34m[2024-05-06 11:15:40.604 ip-10-2-76-60.ec2.internal:7 INFO hook.py:255] Saving to /opt/ml/output/tensors\u001b[0m\n",
      "\u001b[34m[2024-05-06:11:15:40:INFO] Debug hook created from config\u001b[0m\n",
      "\n",
      "2024-05-06 11:15:57 Completed - Training job completed\n",
      "Training seconds: 87\n",
      "Billable seconds: 37\n",
      "Managed Spot Training savings: 57.5%\n"
     ]
    }
   ],
   "source": [
    "# XGBoost supports 'train' and 'validation' channels\n",
    "\n",
    "estimator.fit(data_channels)"
   ]
  },
  {
   "cell_type": "code",
   "execution_count": null,
   "id": "b66083a3",
   "metadata": {},
   "outputs": [
    {
     "name": "stderr",
     "output_type": "stream",
     "text": [
      "INFO:sagemaker:Creating model with name: xgboost-bikerental-v1-2024-05-06-11-18-28-783\n",
      "INFO:sagemaker:Creating endpoint-config with name xgboost-bikerental-v1\n",
      "INFO:sagemaker:Creating endpoint with name xgboost-bikerental-v1\n"
     ]
    },
    {
     "name": "stdout",
     "output_type": "stream",
     "text": [
      "-----"
     ]
    }
   ],
   "source": [
    "### Deploy Model\n",
    "\n",
    "predictor = estimator.deploy(initial_instance_count=1,\n",
    "                            instance_type='ml.m5.xlarge',\n",
    "                            endpoint_name=job_name)"
   ]
  },
  {
   "cell_type": "code",
   "execution_count": 21,
   "id": "828118fd",
   "metadata": {},
   "outputs": [],
   "source": [
    "# SDK 2.0 serializers\n",
    "from sagemaker.serializers import CSVSerializer"
   ]
  },
  {
   "cell_type": "code",
   "execution_count": 22,
   "id": "b4edd724",
   "metadata": {},
   "outputs": [],
   "source": [
    "predictor.serializer = CSVSerializer()"
   ]
  },
  {
   "cell_type": "code",
   "execution_count": 23,
   "id": "9430e913",
   "metadata": {},
   "outputs": [
    {
     "data": {
      "text/plain": [
       "b'3.773822784423828\\n'"
      ]
     },
     "execution_count": 23,
     "metadata": {},
     "output_type": "execute_result"
    }
   ],
   "source": [
    "predictor.predict([[3,0,1,2,28.7,33.335,79,12.998,2011,7,7,3]])"
   ]
  },
  {
   "cell_type": "code",
   "execution_count": 24,
   "id": "4a26bf31",
   "metadata": {},
   "outputs": [
    {
     "name": "stdout",
     "output_type": "stream",
     "text": [
      "42.546214847510505\n"
     ]
    }
   ],
   "source": [
    "import numpy as np\n",
    "\n",
    "print(np.expm1(3.773822784423828))"
   ]
  },
  {
   "cell_type": "code",
   "execution_count": null,
   "id": "4e4ec0b5",
   "metadata": {},
   "outputs": [],
   "source": []
  }
 ],
 "metadata": {
  "kernelspec": {
   "display_name": "conda_tensorflow2_p310",
   "language": "python",
   "name": "conda_tensorflow2_p310"
  },
  "language_info": {
   "codemirror_mode": {
    "name": "ipython",
    "version": 3
   },
   "file_extension": ".py",
   "mimetype": "text/x-python",
   "name": "python",
   "nbconvert_exporter": "python",
   "pygments_lexer": "ipython3",
   "version": "3.10.14"
  }
 },
 "nbformat": 4,
 "nbformat_minor": 5
}
