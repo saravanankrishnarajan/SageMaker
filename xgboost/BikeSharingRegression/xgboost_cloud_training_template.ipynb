{
 "cells": [
  {
   "cell_type": "markdown",
   "id": "e7fe3ce5",
   "metadata": {},
   "source": [
    "### XGBoost Built in Algorithm training for Sagemaker Endpoint"
   ]
  },
  {
   "cell_type": "code",
   "execution_count": 1,
   "id": "b42622f0",
   "metadata": {},
   "outputs": [
    {
     "name": "stdout",
     "output_type": "stream",
     "text": [
      "sagemaker.config INFO - Not applying SDK defaults from location: /etc/xdg/sagemaker/config.yaml\n",
      "sagemaker.config INFO - Not applying SDK defaults from location: /home/ec2-user/.config/sagemaker/config.yaml\n"
     ]
    }
   ],
   "source": [
    "import numpy as np\n",
    "import pandas as pd\n",
    "\n",
    "import boto3\n",
    "import re\n",
    "\n",
    "import sagemaker\n",
    "from sagemaker import get_execution_role"
   ]
  },
  {
   "cell_type": "markdown",
   "id": "79b14a5a",
   "metadata": {},
   "source": [
    "Bucket name is hidden using environment variable\n",
    "\n",
    "sh-4.2$ cat .env<br>\n",
    "BUCKET_NAME=my_ml_bucket_name"
   ]
  },
  {
   "cell_type": "code",
   "execution_count": 2,
   "id": "61cf8b1c",
   "metadata": {},
   "outputs": [],
   "source": [
    "### Import s3 bucket name as environment variable\n",
    "\n",
    "import os\n",
    "env_vars = !cat ./.env\n",
    "for var in env_vars:\n",
    "    key, value = var.split('=')\n",
    "    os.environ[key] = value"
   ]
  },
  {
   "cell_type": "code",
   "execution_count": 3,
   "id": "7d857eaa",
   "metadata": {},
   "outputs": [],
   "source": [
    "# Initializing s3 bucket and s3 locations\n",
    "\n",
    "bucket_name = os.environ['BUCKET_NAME']\n",
    "\n",
    "training_folder=r'bikerental/training/'\n",
    "validation_folder=r'bikerental/validation/'\n",
    "test_folder=r'bikerental/test/'\n",
    "\n",
    "s3_model_output_location =r's3://{0}/bikerental/model'.format(bucket_name)\n",
    "s3_training_file_location =r's3://{0}/{1}'.format(bucket_name,training_folder)\n",
    "s3_validation_file_location = r's3://{0}/{1}'.format(bucket_name,validation_folder)\n",
    "s3_test_file_location = r's3://{0}/{1}'.format(bucket_name,test_folder)"
   ]
  },
  {
   "cell_type": "code",
   "execution_count": null,
   "id": "0ff7422f",
   "metadata": {},
   "outputs": [],
   "source": [
    "print(s3_model_output_location)"
   ]
  },
  {
   "cell_type": "code",
   "execution_count": null,
   "id": "bfc27bee",
   "metadata": {
    "scrolled": true
   },
   "outputs": [],
   "source": [
    "print(s3_training_file_location)\n",
    "print(s3_validation_file_location)\n",
    "print(s3_test_file_location)"
   ]
  },
  {
   "cell_type": "code",
   "execution_count": 6,
   "id": "95ead320",
   "metadata": {},
   "outputs": [],
   "source": [
    "# write files in s3 using boto3\n",
    "# filename - filename\n",
    "# bucket - bucket name\n",
    "# Key - file location in s3(folder path)\n",
    "\n",
    "def write_s3(filename, bucket, key):\n",
    "    with open(filename,'rb') as f:\n",
    "        boto3.Session().resource('s3').Bucket(bucket).Object(key).upload_fileobj(f)\n",
    "        "
   ]
  },
  {
   "cell_type": "code",
   "execution_count": 9,
   "id": "8dbcb5e9",
   "metadata": {},
   "outputs": [],
   "source": [
    "# Writing all three Train, Validation and TEst files in s3\n",
    "\n",
    "# uploading file with key can create subfolders \n",
    "\n",
    "write_s3('bike_train_rev3.csv', bucket_name,training_folder+'bike_test_rev3.csv')\n",
    "write_s3('bike_validation_rev3.csv', bucket_name,validation_folder+'bike_validation_rev3.csv')\n",
    "write_s3('bike_test_rev3.csv', bucket_name, test_folder+'bike_test_rev3.csv')"
   ]
  },
  {
   "cell_type": "markdown",
   "id": "e608d923",
   "metadata": {},
   "source": [
    "### SageMaker maintains a separate image for algorithm and region"
   ]
  },
  {
   "cell_type": "code",
   "execution_count": null,
   "id": "f13a4c67",
   "metadata": {},
   "outputs": [],
   "source": [
    "# Use spot instances\n",
    "\n",
    "use_spot_instances = True\n",
    "max_run = 3600\n",
    "max_wait = 7200\n",
    "\n",
    "job_name = 'xgboost-bikerental-v1'\n",
    "checkpoint_s3_uri = None\n",
    "\n",
    "if use_spot_instances:\n",
    "    checkpoint_s3_uri = f's3://{bucket_name}/bikerental/checkpoints/{job_name}'\n",
    "    \n",
    "print(f'Checkpoint uri: {checkpoint_s3_uri}')"
   ]
  },
  {
   "cell_type": "code",
   "execution_count": 11,
   "id": "bd2058eb",
   "metadata": {},
   "outputs": [],
   "source": [
    "# EStablish a session with AWS\n",
    "sess  = sagemaker.Session()"
   ]
  },
  {
   "cell_type": "code",
   "execution_count": 12,
   "id": "7d3d01e6",
   "metadata": {},
   "outputs": [],
   "source": [
    "role = get_execution_role()"
   ]
  },
  {
   "cell_type": "code",
   "execution_count": 13,
   "id": "7d07ec9b",
   "metadata": {},
   "outputs": [
    {
     "name": "stdout",
     "output_type": "stream",
     "text": [
      "arn:aws:iam::731887523937:role/service-role/AmazonSageMaker-ExecutionRole-20240415T130426\n"
     ]
    }
   ],
   "source": [
    "# The role has permissions need to train, deploy and execute models\n",
    "print(role)"
   ]
  },
  {
   "cell_type": "code",
   "execution_count": 14,
   "id": "9a52bec2",
   "metadata": {},
   "outputs": [
    {
     "name": "stdout",
     "output_type": "stream",
     "text": [
      "Using XGBoost Container 683313688378.dkr.ecr.us-east-1.amazonaws.com/sagemaker-xgboost:1.2-2\n"
     ]
    }
   ],
   "source": [
    "# SDK 2 uses image_uris.retrieve the container image location\n",
    "\n",
    "# Use XGBoost 1.2 version\n",
    "container = sagemaker.image_uris.retrieve(\"xgboost\",sess.boto_region_name,version=\"1.2-2\")\n",
    "print(f'Using XGBoost Container {container}')"
   ]
  },
  {
   "cell_type": "markdown",
   "id": "f683416a",
   "metadata": {},
   "source": [
    "### Build Model"
   ]
  },
  {
   "cell_type": "code",
   "execution_count": 15,
   "id": "87b1c757",
   "metadata": {},
   "outputs": [],
   "source": [
    "# Configure the training job\n",
    "# Specify type and number of instances to use\n",
    "# Where final artifacts needs to be stored in S3 location\n",
    "\n",
    "# for managed spot traing, specify the use_spot_instances flag, mad_run, mad_wait and \n",
    "# checkpoint s3 uri\n",
    "\n",
    "# SDK 2.x version does not require train prefix for instance count and type\n",
    "\n",
    "estimator = sagemaker.estimator.Estimator(\n",
    "    container,\n",
    "    role,\n",
    "    instance_count=1,\n",
    "    instance_type='ml.m5.xlarge',\n",
    "    output_path=s3_model_output_location,\n",
    "    sagemaker_session=sess,\n",
    "    base_job_name = job_name,\n",
    "    use_spot_instances=use_spot_instances,\n",
    "    max_run=max_run,\n",
    "    max_wait=max_wait,\n",
    "    checkpoint_s3_uri=checkpoint_s3_uri\n",
    ")"
   ]
  },
  {
   "cell_type": "code",
   "execution_count": 16,
   "id": "da4ad315",
   "metadata": {},
   "outputs": [],
   "source": [
    "# Set hyper parameters that is appropriate for training algorithm\n",
    "\n",
    "estimator.set_hyperparameters(max_depth=5, objective ='reg:squarederror',eta=0.1,num_round=150)"
   ]
  },
  {
   "cell_type": "code",
   "execution_count": 17,
   "id": "6031041b",
   "metadata": {},
   "outputs": [
    {
     "data": {
      "text/plain": [
       "{'max_depth': 5, 'objective': 'reg:squarederror', 'eta': 0.1, 'num_round': 150}"
      ]
     },
     "execution_count": 17,
     "metadata": {},
     "output_type": "execute_result"
    }
   ],
   "source": [
    "estimator.hyperparameters()"
   ]
  },
  {
   "cell_type": "markdown",
   "id": "439dc65c",
   "metadata": {},
   "source": [
    "### Speicify Training Data Location and optionally Validation data location"
   ]
  },
  {
   "cell_type": "code",
   "execution_count": 18,
   "id": "62842fd3",
   "metadata": {},
   "outputs": [],
   "source": [
    "# content type can be libsvm or csv for XGBoost\n",
    "\n",
    "training_input_config = sagemaker.session.TrainingInput(\n",
    "    s3_data = s3_training_file_location,\n",
    "    content_type='csv',\n",
    "    s3_data_type='S3Prefix')\n",
    "\n",
    "validation_input_config = sagemaker.session.TrainingInput(\n",
    "    s3_data = s3_validation_file_location,\n",
    "    content_type='csv',\n",
    "    s3_data_type='S3Prefix'\n",
    ")\n",
    "\n",
    "data_channels = {'train': training_input_config, 'validation': validation_input_config}"
   ]
  },
  {
   "cell_type": "code",
   "execution_count": null,
   "id": "6136f676",
   "metadata": {
    "scrolled": true
   },
   "outputs": [],
   "source": [
    "print(training_input_config.config)"
   ]
  },
  {
   "cell_type": "code",
   "execution_count": null,
   "id": "7d4ea084",
   "metadata": {
    "scrolled": true
   },
   "outputs": [],
   "source": [
    "print(validation_input_config.config)"
   ]
  },
  {
   "cell_type": "markdown",
   "id": "8d04fad4",
   "metadata": {},
   "source": [
    "### Training the model"
   ]
  },
  {
   "cell_type": "code",
   "execution_count": 19,
   "id": "f6933cf7",
   "metadata": {},
   "outputs": [
    {
     "name": "stderr",
     "output_type": "stream",
     "text": [
      "INFO:sagemaker:Creating training-job with name: xgboost-bikerental-v1-2024-04-25-13-47-39-829\n"
     ]
    },
    {
     "name": "stdout",
     "output_type": "stream",
     "text": [
      "2024-04-25 13:47:40 Starting - Starting the training job...\n",
      "2024-04-25 13:47:54 Starting - Preparing the instances for training...\n",
      "2024-04-25 13:48:25 Downloading - Downloading input data...\n",
      "2024-04-25 13:48:45 Downloading - Downloading the training image...\n",
      "2024-04-25 13:49:31 Training - Training image download completed. Training in progress...\u001b[34m[2024-04-25 13:49:42.566 ip-10-0-84-180.ec2.internal:6 INFO utils.py:27] RULE_JOB_STOP_SIGNAL_FILENAME: None\u001b[0m\n",
      "\u001b[34m[2024-04-25:13:49:42:INFO] Imported framework sagemaker_xgboost_container.training\u001b[0m\n",
      "\u001b[34m[2024-04-25:13:49:42:INFO] Failed to parse hyperparameter objective value reg:squarederror to Json.\u001b[0m\n",
      "\u001b[34mReturning the value itself\u001b[0m\n",
      "\u001b[34m[2024-04-25:13:49:42:INFO] No GPUs detected (normal if no gpus installed)\u001b[0m\n",
      "\u001b[34m[2024-04-25:13:49:42:INFO] Running XGBoost Sagemaker in algorithm mode\u001b[0m\n",
      "\u001b[34m[2024-04-25:13:49:42:INFO] Determined delimiter of CSV input is ','\u001b[0m\n",
      "\u001b[34m[2024-04-25:13:49:42:INFO] Determined delimiter of CSV input is ','\u001b[0m\n",
      "\u001b[34m[2024-04-25:13:49:42:INFO] Determined delimiter of CSV input is ','\u001b[0m\n",
      "\u001b[34m[2024-04-25:13:49:42:INFO] Determined delimiter of CSV input is ','\u001b[0m\n",
      "\u001b[34m[2024-04-25:13:49:42:INFO] Single node training.\u001b[0m\n",
      "\u001b[34m[2024-04-25:13:49:42:INFO] Train matrix has 7620 rows and 13 columns\u001b[0m\n",
      "\u001b[34m[2024-04-25:13:49:42:INFO] Validation matrix has 3266 rows\u001b[0m\n",
      "\u001b[34m[2024-04-25 13:49:42.657 ip-10-0-84-180.ec2.internal:6 INFO json_config.py:91] Creating hook from json_config at /opt/ml/input/config/debughookconfig.json.\u001b[0m\n",
      "\u001b[34m[2024-04-25 13:49:42.658 ip-10-0-84-180.ec2.internal:6 INFO hook.py:201] tensorboard_dir has not been set for the hook. SMDebug will not be exporting tensorboard summaries.\u001b[0m\n",
      "\u001b[34m[2024-04-25 13:49:42.658 ip-10-0-84-180.ec2.internal:6 INFO profiler_config_parser.py:102] User has disabled profiler.\u001b[0m\n",
      "\u001b[34m[2024-04-25 13:49:42.658 ip-10-0-84-180.ec2.internal:6 INFO hook.py:255] Saving to /opt/ml/output/tensors\u001b[0m\n",
      "\u001b[34m[2024-04-25:13:49:42:INFO] Debug hook created from config\u001b[0m\n",
      "\u001b[34m[0]#011train-rmse:3.90481#011validation-rmse:3.91500\u001b[0m\n",
      "\u001b[34m[2024-04-25 13:49:42.666 ip-10-0-84-180.ec2.internal:6 INFO hook.py:423] Monitoring the collections: metrics\u001b[0m\n",
      "\u001b[34m[2024-04-25 13:49:42.669 ip-10-0-84-180.ec2.internal:6 INFO hook.py:486] Hook is writing from the hook with pid: 6\u001b[0m\n",
      "\u001b[34m[1]#011train-rmse:3.52571#011validation-rmse:3.53473\u001b[0m\n",
      "\u001b[34m[2]#011train-rmse:3.18357#011validation-rmse:3.19135\u001b[0m\n",
      "\u001b[34m[3]#011train-rmse:2.87753#011validation-rmse:2.88396\u001b[0m\n",
      "\u001b[34m[4]#011train-rmse:2.60175#011validation-rmse:2.60792\u001b[0m\n",
      "\u001b[34m[5]#011train-rmse:2.35539#011validation-rmse:2.36057\u001b[0m\n",
      "\u001b[34m[6]#011train-rmse:2.13328#011validation-rmse:2.13766\u001b[0m\n",
      "\u001b[34m[7]#011train-rmse:1.93436#011validation-rmse:1.93815\u001b[0m\n",
      "\u001b[34m[8]#011train-rmse:1.75541#011validation-rmse:1.75955\u001b[0m\n",
      "\u001b[34m[9]#011train-rmse:1.59684#011validation-rmse:1.60086\u001b[0m\n",
      "\u001b[34m[10]#011train-rmse:1.45230#011validation-rmse:1.45613\u001b[0m\n",
      "\u001b[34m[11]#011train-rmse:1.32451#011validation-rmse:1.32875\u001b[0m\n",
      "\u001b[34m[12]#011train-rmse:1.21094#011validation-rmse:1.21528\u001b[0m\n",
      "\u001b[34m[13]#011train-rmse:1.10819#011validation-rmse:1.11280\u001b[0m\n",
      "\u001b[34m[14]#011train-rmse:1.01308#011validation-rmse:1.01895\u001b[0m\n",
      "\u001b[34m[15]#011train-rmse:0.93073#011validation-rmse:0.93658\u001b[0m\n",
      "\u001b[34m[16]#011train-rmse:0.85905#011validation-rmse:0.86507\u001b[0m\n",
      "\u001b[34m[17]#011train-rmse:0.79601#011validation-rmse:0.80297\u001b[0m\n",
      "\u001b[34m[18]#011train-rmse:0.73982#011validation-rmse:0.74767\u001b[0m\n",
      "\u001b[34m[19]#011train-rmse:0.69114#011validation-rmse:0.69955\u001b[0m\n",
      "\u001b[34m[20]#011train-rmse:0.64512#011validation-rmse:0.65448\u001b[0m\n",
      "\u001b[34m[21]#011train-rmse:0.60350#011validation-rmse:0.61416\u001b[0m\n",
      "\u001b[34m[22]#011train-rmse:0.56996#011validation-rmse:0.58149\u001b[0m\n",
      "\u001b[34m[23]#011train-rmse:0.53829#011validation-rmse:0.55041\u001b[0m\n",
      "\u001b[34m[24]#011train-rmse:0.50812#011validation-rmse:0.52163\u001b[0m\n",
      "\u001b[34m[25]#011train-rmse:0.48574#011validation-rmse:0.50023\u001b[0m\n",
      "\u001b[34m[26]#011train-rmse:0.46520#011validation-rmse:0.48054\u001b[0m\n",
      "\u001b[34m[27]#011train-rmse:0.44799#011validation-rmse:0.46408\u001b[0m\n",
      "\u001b[34m[28]#011train-rmse:0.43257#011validation-rmse:0.44928\u001b[0m\n",
      "\u001b[34m[29]#011train-rmse:0.41522#011validation-rmse:0.43304\u001b[0m\n",
      "\u001b[34m[30]#011train-rmse:0.40289#011validation-rmse:0.42101\u001b[0m\n",
      "\u001b[34m[31]#011train-rmse:0.39077#011validation-rmse:0.40964\u001b[0m\n",
      "\u001b[34m[32]#011train-rmse:0.37809#011validation-rmse:0.39733\u001b[0m\n",
      "\u001b[34m[33]#011train-rmse:0.36953#011validation-rmse:0.38971\u001b[0m\n",
      "\u001b[34m[34]#011train-rmse:0.36220#011validation-rmse:0.38277\u001b[0m\n",
      "\u001b[34m[35]#011train-rmse:0.35689#011validation-rmse:0.37801\u001b[0m\n",
      "\u001b[34m[36]#011train-rmse:0.35162#011validation-rmse:0.37343\u001b[0m\n",
      "\u001b[34m[37]#011train-rmse:0.34744#011validation-rmse:0.36965\u001b[0m\n",
      "\u001b[34m[38]#011train-rmse:0.33678#011validation-rmse:0.35955\u001b[0m\n",
      "\u001b[34m[39]#011train-rmse:0.33362#011validation-rmse:0.35671\u001b[0m\n",
      "\u001b[34m[40]#011train-rmse:0.32949#011validation-rmse:0.35275\u001b[0m\n",
      "\u001b[34m[41]#011train-rmse:0.32688#011validation-rmse:0.35081\u001b[0m\n",
      "\u001b[34m[42]#011train-rmse:0.32397#011validation-rmse:0.34836\u001b[0m\n",
      "\u001b[34m[43]#011train-rmse:0.32150#011validation-rmse:0.34640\u001b[0m\n",
      "\u001b[34m[44]#011train-rmse:0.31763#011validation-rmse:0.34293\u001b[0m\n",
      "\u001b[34m[45]#011train-rmse:0.31592#011validation-rmse:0.34152\u001b[0m\n",
      "\u001b[34m[46]#011train-rmse:0.31395#011validation-rmse:0.33995\u001b[0m\n",
      "\u001b[34m[47]#011train-rmse:0.30691#011validation-rmse:0.33306\u001b[0m\n",
      "\u001b[34m[48]#011train-rmse:0.30479#011validation-rmse:0.33161\u001b[0m\n",
      "\u001b[34m[49]#011train-rmse:0.30333#011validation-rmse:0.33069\u001b[0m\n",
      "\u001b[34m[50]#011train-rmse:0.30207#011validation-rmse:0.32993\u001b[0m\n",
      "\u001b[34m[51]#011train-rmse:0.30066#011validation-rmse:0.32894\u001b[0m\n",
      "\u001b[34m[52]#011train-rmse:0.29921#011validation-rmse:0.32799\u001b[0m\n",
      "\u001b[34m[53]#011train-rmse:0.29513#011validation-rmse:0.32431\u001b[0m\n",
      "\u001b[34m[54]#011train-rmse:0.29353#011validation-rmse:0.32319\u001b[0m\n",
      "\u001b[34m[55]#011train-rmse:0.29248#011validation-rmse:0.32286\u001b[0m\n",
      "\u001b[34m[56]#011train-rmse:0.28842#011validation-rmse:0.31930\u001b[0m\n",
      "\u001b[34m[57]#011train-rmse:0.28736#011validation-rmse:0.31863\u001b[0m\n",
      "\u001b[34m[58]#011train-rmse:0.28610#011validation-rmse:0.31764\u001b[0m\n",
      "\u001b[34m[59]#011train-rmse:0.28490#011validation-rmse:0.31707\u001b[0m\n",
      "\u001b[34m[60]#011train-rmse:0.28445#011validation-rmse:0.31689\u001b[0m\n",
      "\u001b[34m[61]#011train-rmse:0.28325#011validation-rmse:0.31600\u001b[0m\n",
      "\u001b[34m[62]#011train-rmse:0.28005#011validation-rmse:0.31322\u001b[0m\n",
      "\u001b[34m[63]#011train-rmse:0.27714#011validation-rmse:0.31055\u001b[0m\n",
      "\u001b[34m[64]#011train-rmse:0.27636#011validation-rmse:0.31019\u001b[0m\n",
      "\u001b[34m[65]#011train-rmse:0.27531#011validation-rmse:0.30966\u001b[0m\n",
      "\u001b[34m[66]#011train-rmse:0.27495#011validation-rmse:0.30961\u001b[0m\n",
      "\u001b[34m[67]#011train-rmse:0.27261#011validation-rmse:0.30751\u001b[0m\n",
      "\u001b[34m[68]#011train-rmse:0.27181#011validation-rmse:0.30719\u001b[0m\n",
      "\u001b[34m[69]#011train-rmse:0.27086#011validation-rmse:0.30673\u001b[0m\n",
      "\u001b[34m[70]#011train-rmse:0.26922#011validation-rmse:0.30527\u001b[0m\n",
      "\u001b[34m[71]#011train-rmse:0.26858#011validation-rmse:0.30505\u001b[0m\n",
      "\u001b[34m[72]#011train-rmse:0.26801#011validation-rmse:0.30484\u001b[0m\n",
      "\u001b[34m[73]#011train-rmse:0.26709#011validation-rmse:0.30413\u001b[0m\n",
      "\u001b[34m[74]#011train-rmse:0.26644#011validation-rmse:0.30378\u001b[0m\n",
      "\u001b[34m[75]#011train-rmse:0.26581#011validation-rmse:0.30345\u001b[0m\n",
      "\u001b[34m[76]#011train-rmse:0.26528#011validation-rmse:0.30328\u001b[0m\n",
      "\u001b[34m[77]#011train-rmse:0.26492#011validation-rmse:0.30306\u001b[0m\n",
      "\u001b[34m[78]#011train-rmse:0.26347#011validation-rmse:0.30183\u001b[0m\n",
      "\u001b[34m[79]#011train-rmse:0.26262#011validation-rmse:0.30145\u001b[0m\n",
      "\u001b[34m[80]#011train-rmse:0.26190#011validation-rmse:0.30091\u001b[0m\n",
      "\u001b[34m[81]#011train-rmse:0.26118#011validation-rmse:0.30070\u001b[0m\n",
      "\u001b[34m[82]#011train-rmse:0.25986#011validation-rmse:0.29942\u001b[0m\n",
      "\u001b[34m[83]#011train-rmse:0.25921#011validation-rmse:0.29912\u001b[0m\n",
      "\u001b[34m[84]#011train-rmse:0.25777#011validation-rmse:0.29817\u001b[0m\n",
      "\u001b[34m[85]#011train-rmse:0.25732#011validation-rmse:0.29794\u001b[0m\n",
      "\u001b[34m[86]#011train-rmse:0.25673#011validation-rmse:0.29748\u001b[0m\n",
      "\u001b[34m[87]#011train-rmse:0.25604#011validation-rmse:0.29707\u001b[0m\n",
      "\u001b[34m[88]#011train-rmse:0.25562#011validation-rmse:0.29716\u001b[0m\n",
      "\u001b[34m[89]#011train-rmse:0.25403#011validation-rmse:0.29586\u001b[0m\n",
      "\u001b[34m[90]#011train-rmse:0.25352#011validation-rmse:0.29580\u001b[0m\n",
      "\u001b[34m[91]#011train-rmse:0.25343#011validation-rmse:0.29572\u001b[0m\n",
      "\u001b[34m[92]#011train-rmse:0.25298#011validation-rmse:0.29547\u001b[0m\n",
      "\u001b[34m[93]#011train-rmse:0.25208#011validation-rmse:0.29489\u001b[0m\n",
      "\u001b[34m[94]#011train-rmse:0.25175#011validation-rmse:0.29476\u001b[0m\n",
      "\u001b[34m[95]#011train-rmse:0.25083#011validation-rmse:0.29410\u001b[0m\n",
      "\u001b[34m[96]#011train-rmse:0.25074#011validation-rmse:0.29411\u001b[0m\n",
      "\u001b[34m[97]#011train-rmse:0.25040#011validation-rmse:0.29390\u001b[0m\n",
      "\u001b[34m[98]#011train-rmse:0.24988#011validation-rmse:0.29370\u001b[0m\n",
      "\u001b[34m[99]#011train-rmse:0.24930#011validation-rmse:0.29357\u001b[0m\n",
      "\u001b[34m[100]#011train-rmse:0.24832#011validation-rmse:0.29292\u001b[0m\n",
      "\u001b[34m[101]#011train-rmse:0.24797#011validation-rmse:0.29286\u001b[0m\n",
      "\u001b[34m[102]#011train-rmse:0.24773#011validation-rmse:0.29273\u001b[0m\n",
      "\u001b[34m[103]#011train-rmse:0.24704#011validation-rmse:0.29230\u001b[0m\n",
      "\u001b[34m[104]#011train-rmse:0.24644#011validation-rmse:0.29190\u001b[0m\n",
      "\u001b[34m[105]#011train-rmse:0.24616#011validation-rmse:0.29185\u001b[0m\n",
      "\u001b[34m[106]#011train-rmse:0.24597#011validation-rmse:0.29174\u001b[0m\n",
      "\u001b[34m[107]#011train-rmse:0.24552#011validation-rmse:0.29166\u001b[0m\n",
      "\u001b[34m[108]#011train-rmse:0.24511#011validation-rmse:0.29155\u001b[0m\n",
      "\u001b[34m[109]#011train-rmse:0.24450#011validation-rmse:0.29122\u001b[0m\n",
      "\u001b[34m[110]#011train-rmse:0.24392#011validation-rmse:0.29101\u001b[0m\n",
      "\u001b[34m[111]#011train-rmse:0.24379#011validation-rmse:0.29100\u001b[0m\n",
      "\u001b[34m[112]#011train-rmse:0.24358#011validation-rmse:0.29091\u001b[0m\n",
      "\u001b[34m[113]#011train-rmse:0.24339#011validation-rmse:0.29079\u001b[0m\n",
      "\u001b[34m[114]#011train-rmse:0.24262#011validation-rmse:0.29032\u001b[0m\n",
      "\u001b[34m[115]#011train-rmse:0.24232#011validation-rmse:0.29033\u001b[0m\n",
      "\u001b[34m[116]#011train-rmse:0.24182#011validation-rmse:0.28995\u001b[0m\n",
      "\u001b[34m[117]#011train-rmse:0.24141#011validation-rmse:0.28982\u001b[0m\n",
      "\u001b[34m[118]#011train-rmse:0.24083#011validation-rmse:0.28954\u001b[0m\n",
      "\u001b[34m[119]#011train-rmse:0.24025#011validation-rmse:0.28945\u001b[0m\n",
      "\u001b[34m[120]#011train-rmse:0.23996#011validation-rmse:0.28938\u001b[0m\n",
      "\u001b[34m[121]#011train-rmse:0.23951#011validation-rmse:0.28926\u001b[0m\n",
      "\u001b[34m[122]#011train-rmse:0.23929#011validation-rmse:0.28921\u001b[0m\n",
      "\u001b[34m[123]#011train-rmse:0.23915#011validation-rmse:0.28911\u001b[0m\n",
      "\u001b[34m[124]#011train-rmse:0.23864#011validation-rmse:0.28879\u001b[0m\n",
      "\u001b[34m[125]#011train-rmse:0.23817#011validation-rmse:0.28861\u001b[0m\n",
      "\u001b[34m[126]#011train-rmse:0.23796#011validation-rmse:0.28842\u001b[0m\n",
      "\u001b[34m[127]#011train-rmse:0.23744#011validation-rmse:0.28851\u001b[0m\n",
      "\u001b[34m[128]#011train-rmse:0.23713#011validation-rmse:0.28845\u001b[0m\n",
      "\u001b[34m[129]#011train-rmse:0.23696#011validation-rmse:0.28839\u001b[0m\n",
      "\u001b[34m[130]#011train-rmse:0.23653#011validation-rmse:0.28820\u001b[0m\n",
      "\u001b[34m[131]#011train-rmse:0.23607#011validation-rmse:0.28809\u001b[0m\n",
      "\u001b[34m[132]#011train-rmse:0.23580#011validation-rmse:0.28810\u001b[0m\n",
      "\u001b[34m[133]#011train-rmse:0.23528#011validation-rmse:0.28788\u001b[0m\n",
      "\u001b[34m[134]#011train-rmse:0.23485#011validation-rmse:0.28795\u001b[0m\n",
      "\u001b[34m[135]#011train-rmse:0.23462#011validation-rmse:0.28789\u001b[0m\n",
      "\u001b[34m[136]#011train-rmse:0.23447#011validation-rmse:0.28780\u001b[0m\n",
      "\u001b[34m[137]#011train-rmse:0.23430#011validation-rmse:0.28773\u001b[0m\n",
      "\u001b[34m[138]#011train-rmse:0.23417#011validation-rmse:0.28769\u001b[0m\n",
      "\u001b[34m[139]#011train-rmse:0.23404#011validation-rmse:0.28766\u001b[0m\n",
      "\u001b[34m[140]#011train-rmse:0.23380#011validation-rmse:0.28770\u001b[0m\n",
      "\u001b[34m[141]#011train-rmse:0.23335#011validation-rmse:0.28762\u001b[0m\n",
      "\u001b[34m[142]#011train-rmse:0.23327#011validation-rmse:0.28762\u001b[0m\n",
      "\u001b[34m[143]#011train-rmse:0.23316#011validation-rmse:0.28758\u001b[0m\n",
      "\u001b[34m[144]#011train-rmse:0.23307#011validation-rmse:0.28758\u001b[0m\n",
      "\u001b[34m[145]#011train-rmse:0.23256#011validation-rmse:0.28730\u001b[0m\n",
      "\u001b[34m[146]#011train-rmse:0.23211#011validation-rmse:0.28700\u001b[0m\n",
      "\u001b[34m[147]#011train-rmse:0.23156#011validation-rmse:0.28691\u001b[0m\n",
      "\u001b[34m[148]#011train-rmse:0.23124#011validation-rmse:0.28682\u001b[0m\n",
      "\u001b[34m[149]#011train-rmse:0.23111#011validation-rmse:0.28681\u001b[0m\n"
     ]
    },
    {
     "name": "stdout",
     "output_type": "stream",
     "text": [
      "\n",
      "2024-04-25 13:50:02 Uploading - Uploading generated training model\n",
      "2024-04-25 13:50:02 Completed - Training job completed\n",
      "Training seconds: 97\n",
      "Billable seconds: 41\n",
      "Managed Spot Training savings: 57.7%\n"
     ]
    }
   ],
   "source": [
    "# XGBoost supports 'train' and 'validation' channels\n",
    "\n",
    "estimator.fit(data_channels)"
   ]
  },
  {
   "cell_type": "code",
   "execution_count": 20,
   "id": "b66083a3",
   "metadata": {},
   "outputs": [
    {
     "name": "stderr",
     "output_type": "stream",
     "text": [
      "INFO:sagemaker:Creating model with name: xgboost-bikerental-v1-2024-04-25-13-50-30-664\n",
      "INFO:sagemaker:Creating endpoint-config with name xgboost-bikerental-v1\n",
      "INFO:sagemaker:Creating endpoint with name xgboost-bikerental-v1\n"
     ]
    },
    {
     "name": "stdout",
     "output_type": "stream",
     "text": [
      "-----!"
     ]
    }
   ],
   "source": [
    "### Deploy Model\n",
    "\n",
    "predictor = estimator.deploy(initial_instance_count=1,\n",
    "                            instance_type='ml.m5.xlarge',\n",
    "                            endpoint_name=job_name)"
   ]
  },
  {
   "cell_type": "code",
   "execution_count": 21,
   "id": "828118fd",
   "metadata": {},
   "outputs": [],
   "source": [
    "# SDK 2.0 serializers\n",
    "from sagemaker.serializers import CSVSerializer"
   ]
  },
  {
   "cell_type": "code",
   "execution_count": 22,
   "id": "b4edd724",
   "metadata": {},
   "outputs": [],
   "source": [
    "predictor.serializer = CSVSerializer()"
   ]
  },
  {
   "cell_type": "code",
   "execution_count": 23,
   "id": "9430e913",
   "metadata": {},
   "outputs": [
    {
     "data": {
      "text/plain": [
       "b'3.773822784423828\\n'"
      ]
     },
     "execution_count": 23,
     "metadata": {},
     "output_type": "execute_result"
    }
   ],
   "source": [
    "predictor.predict([[3,0,1,2,28.7,33.335,79,12.998,2011,7,7,3]])"
   ]
  },
  {
   "cell_type": "code",
   "execution_count": 24,
   "id": "4a26bf31",
   "metadata": {},
   "outputs": [
    {
     "name": "stdout",
     "output_type": "stream",
     "text": [
      "42.546214847510505\n"
     ]
    }
   ],
   "source": [
    "import numpy as np\n",
    "\n",
    "print(np.expm1(3.773822784423828))"
   ]
  },
  {
   "cell_type": "code",
   "execution_count": null,
   "id": "4e4ec0b5",
   "metadata": {},
   "outputs": [],
   "source": []
  }
 ],
 "metadata": {
  "kernelspec": {
   "display_name": "conda_tensorflow2_p310",
   "language": "python",
   "name": "conda_tensorflow2_p310"
  },
  "language_info": {
   "codemirror_mode": {
    "name": "ipython",
    "version": 3
   },
   "file_extension": ".py",
   "mimetype": "text/x-python",
   "name": "python",
   "nbconvert_exporter": "python",
   "pygments_lexer": "ipython3",
   "version": "3.10.13"
  }
 },
 "nbformat": 4,
 "nbformat_minor": 5
}
