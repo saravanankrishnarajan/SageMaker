{
 "cells": [
  {
   "cell_type": "markdown",
   "id": "078c032d",
   "metadata": {},
   "source": [
    "### XGBoost Endpoint - with Multiple Models hosted on same instance"
   ]
  },
  {
   "cell_type": "code",
   "execution_count": 3,
   "id": "c40c287d",
   "metadata": {},
   "outputs": [],
   "source": [
    "import sys\n",
    "import numpy as np\n",
    "import pandas as pd\n",
    "import matplotlib.pyplot as plt\n",
    "import math\n",
    "import os\n",
    "import json\n",
    "\n",
    "import boto3\n",
    "import re\n",
    "from sagemaker import get_execution_role\n",
    "import sagemaker\n",
    "\n",
    "from sagemaker.serializers import CSVSerializer\n",
    "from sagemaker.deserializers import JSONDeserializer"
   ]
  },
  {
   "cell_type": "code",
   "execution_count": 4,
   "id": "f2687bf2",
   "metadata": {},
   "outputs": [],
   "source": [
    "# We need to specify the location of each model - with relative path\n",
    "\n",
    "targetModels = [\"xgboost-bikerental-hyper-one-2024-05-08-23-26-31-842/output/model.tar.gz\",\n",
    "                \"xgboost-bikerental-hyper-two-2024-05-08-23-29-29-045/output/model.tar.gz\"\n",
    "]"
   ]
  },
  {
   "cell_type": "code",
   "execution_count": 12,
   "id": "e97793e9",
   "metadata": {},
   "outputs": [],
   "source": [
    "# Create a predictor and point to an existing endpoint\n",
    "endpoint_name = 'xgboost-bikerental-hyper'\n",
    "predictor = sagemaker.predictor.Predictor(endpoint_name=endpoint_name)\n",
    "predictor.serializer = CSVSerializer()"
   ]
  },
  {
   "cell_type": "code",
   "execution_count": 6,
   "id": "d2cd6325",
   "metadata": {},
   "outputs": [],
   "source": [
    "#Read test data\n",
    "\n",
    "df_all = pd.read_csv('bike_test_rev3.csv')"
   ]
  },
  {
   "cell_type": "code",
   "execution_count": 7,
   "id": "71435796",
   "metadata": {},
   "outputs": [
    {
     "data": {
      "text/html": [
       "<div>\n",
       "<style scoped>\n",
       "    .dataframe tbody tr th:only-of-type {\n",
       "        vertical-align: middle;\n",
       "    }\n",
       "\n",
       "    .dataframe tbody tr th {\n",
       "        vertical-align: top;\n",
       "    }\n",
       "\n",
       "    .dataframe thead th {\n",
       "        text-align: right;\n",
       "    }\n",
       "</style>\n",
       "<table border=\"1\" class=\"dataframe\">\n",
       "  <thead>\n",
       "    <tr style=\"text-align: right;\">\n",
       "      <th></th>\n",
       "      <th>datetime</th>\n",
       "      <th>season</th>\n",
       "      <th>holiday</th>\n",
       "      <th>workingday</th>\n",
       "      <th>weather</th>\n",
       "      <th>temp</th>\n",
       "      <th>atemp</th>\n",
       "      <th>humidity</th>\n",
       "      <th>windspeed</th>\n",
       "      <th>year</th>\n",
       "      <th>month</th>\n",
       "      <th>day</th>\n",
       "      <th>dayofweek</th>\n",
       "      <th>hour</th>\n",
       "    </tr>\n",
       "  </thead>\n",
       "  <tbody>\n",
       "    <tr>\n",
       "      <th>0</th>\n",
       "      <td>2011-01-20 00:00:00</td>\n",
       "      <td>1</td>\n",
       "      <td>0</td>\n",
       "      <td>1</td>\n",
       "      <td>1</td>\n",
       "      <td>10.66</td>\n",
       "      <td>11.365</td>\n",
       "      <td>56</td>\n",
       "      <td>26.0027</td>\n",
       "      <td>2011</td>\n",
       "      <td>1</td>\n",
       "      <td>20</td>\n",
       "      <td>3</td>\n",
       "      <td>0</td>\n",
       "    </tr>\n",
       "    <tr>\n",
       "      <th>1</th>\n",
       "      <td>2011-01-20 01:00:00</td>\n",
       "      <td>1</td>\n",
       "      <td>0</td>\n",
       "      <td>1</td>\n",
       "      <td>1</td>\n",
       "      <td>10.66</td>\n",
       "      <td>13.635</td>\n",
       "      <td>56</td>\n",
       "      <td>0.0000</td>\n",
       "      <td>2011</td>\n",
       "      <td>1</td>\n",
       "      <td>20</td>\n",
       "      <td>3</td>\n",
       "      <td>1</td>\n",
       "    </tr>\n",
       "    <tr>\n",
       "      <th>2</th>\n",
       "      <td>2011-01-20 02:00:00</td>\n",
       "      <td>1</td>\n",
       "      <td>0</td>\n",
       "      <td>1</td>\n",
       "      <td>1</td>\n",
       "      <td>10.66</td>\n",
       "      <td>13.635</td>\n",
       "      <td>56</td>\n",
       "      <td>0.0000</td>\n",
       "      <td>2011</td>\n",
       "      <td>1</td>\n",
       "      <td>20</td>\n",
       "      <td>3</td>\n",
       "      <td>2</td>\n",
       "    </tr>\n",
       "    <tr>\n",
       "      <th>3</th>\n",
       "      <td>2011-01-20 03:00:00</td>\n",
       "      <td>1</td>\n",
       "      <td>0</td>\n",
       "      <td>1</td>\n",
       "      <td>1</td>\n",
       "      <td>10.66</td>\n",
       "      <td>12.880</td>\n",
       "      <td>56</td>\n",
       "      <td>11.0014</td>\n",
       "      <td>2011</td>\n",
       "      <td>1</td>\n",
       "      <td>20</td>\n",
       "      <td>3</td>\n",
       "      <td>3</td>\n",
       "    </tr>\n",
       "    <tr>\n",
       "      <th>4</th>\n",
       "      <td>2011-01-20 04:00:00</td>\n",
       "      <td>1</td>\n",
       "      <td>0</td>\n",
       "      <td>1</td>\n",
       "      <td>1</td>\n",
       "      <td>10.66</td>\n",
       "      <td>12.880</td>\n",
       "      <td>56</td>\n",
       "      <td>11.0014</td>\n",
       "      <td>2011</td>\n",
       "      <td>1</td>\n",
       "      <td>20</td>\n",
       "      <td>3</td>\n",
       "      <td>4</td>\n",
       "    </tr>\n",
       "  </tbody>\n",
       "</table>\n",
       "</div>"
      ],
      "text/plain": [
       "              datetime  season  holiday  ...  day  dayofweek  hour\n",
       "0  2011-01-20 00:00:00       1        0  ...   20          3     0\n",
       "1  2011-01-20 01:00:00       1        0  ...   20          3     1\n",
       "2  2011-01-20 02:00:00       1        0  ...   20          3     2\n",
       "3  2011-01-20 03:00:00       1        0  ...   20          3     3\n",
       "4  2011-01-20 04:00:00       1        0  ...   20          3     4\n",
       "\n",
       "[5 rows x 14 columns]"
      ]
     },
     "execution_count": 7,
     "metadata": {},
     "output_type": "execute_result"
    }
   ],
   "source": [
    "df_all.head()"
   ]
  },
  {
   "cell_type": "code",
   "execution_count": 8,
   "id": "66302dac",
   "metadata": {},
   "outputs": [],
   "source": [
    "arr_test = df_all[df_all.columns[1:]].values"
   ]
  },
  {
   "cell_type": "code",
   "execution_count": 10,
   "id": "5219828b",
   "metadata": {},
   "outputs": [
    {
     "data": {
      "text/plain": [
       "array([[ 1.,  0.,  1., ..., 20.,  3.,  0.],\n",
       "       [ 1.,  0.,  1., ..., 20.,  3.,  1.],\n",
       "       [ 1.,  0.,  1., ..., 20.,  3.,  2.],\n",
       "       ...,\n",
       "       [ 1.,  0.,  1., ..., 31.,  0., 21.],\n",
       "       [ 1.,  0.,  1., ..., 31.,  0., 22.],\n",
       "       [ 1.,  0.,  1., ..., 31.,  0., 23.]])"
      ]
     },
     "execution_count": 10,
     "metadata": {},
     "output_type": "execute_result"
    }
   ],
   "source": [
    "arr_test"
   ]
  },
  {
   "cell_type": "code",
   "execution_count": 11,
   "id": "fb702f93",
   "metadata": {},
   "outputs": [
    {
     "data": {
      "text/plain": [
       "(6493, 13)"
      ]
     },
     "execution_count": 11,
     "metadata": {},
     "output_type": "execute_result"
    }
   ],
   "source": [
    "arr_test.shape"
   ]
  },
  {
   "cell_type": "markdown",
   "id": "f279cf67",
   "metadata": {},
   "source": [
    "#### Invoke Model one"
   ]
  },
  {
   "cell_type": "code",
   "execution_count": 13,
   "id": "d0443317",
   "metadata": {},
   "outputs": [
    {
     "name": "stdout",
     "output_type": "stream",
     "text": [
      "b'[2.332122802734375, 1.900559663772583, 1.6316102743148804, 1.0376965999603271, 0.9574325680732727]'\n"
     ]
    }
   ],
   "source": [
    "# target_model = path to the model artifcat\n",
    "\n",
    "result = predictor.predict(arr_test[:5],\n",
    "                          target_model= targetModels[0])\n",
    "print(result)"
   ]
  },
  {
   "cell_type": "markdown",
   "id": "5751fd48",
   "metadata": {},
   "source": [
    "#### Invoke Model two"
   ]
  },
  {
   "cell_type": "code",
   "execution_count": 15,
   "id": "4046983a",
   "metadata": {},
   "outputs": [
    {
     "name": "stdout",
     "output_type": "stream",
     "text": [
      "b'[2.489320993423462, 1.7995193004608154, 1.92416250705719, 1.335949420928955, 1.188660740852356]'\n"
     ]
    }
   ],
   "source": [
    "# target_model = path to the model artifcat\n",
    "\n",
    "result = predictor.predict(arr_test[:5],\n",
    "                          target_model= targetModels[1])\n",
    "print(result)"
   ]
  },
  {
   "cell_type": "markdown",
   "id": "3a97a909",
   "metadata": {},
   "source": [
    "### Split the input data into chunks\n",
    "\n",
    "There are thousands of rows in test dataset<br>\n",
    "When communicating over internet, it is a good idea to split the data into chunks to prevent payload and timeout error"
   ]
  },
  {
   "cell_type": "code",
   "execution_count": 17,
   "id": "7eeb63a8",
   "metadata": {},
   "outputs": [],
   "source": [
    "# splitting using regular expression as xgboost 1.7-2 will return\n",
    "# predicted values with inconsistent delimiters (comma, newline, or both)\n",
    "\n",
    "# patter looks for one or more non numeric characters\n",
    "\n",
    "pattern = r'[^0-9.]+'\n",
    "\n",
    "def inference_by_version(targetModel=None):\n",
    "    \n",
    "    predictions = []\n",
    "    for arr in np.array_split(arr_test,10):\n",
    "        result = predictor.predict(arr, target_model=targetModel)\n",
    "        result = re.split(pattern, result.decode(\"utf-8\"))\n",
    "        print(arr.shape)\n",
    "        predictions += [float(r) for r in result if r!=\"\"]\n",
    "        \n",
    "    return predictions"
   ]
  },
  {
   "cell_type": "markdown",
   "id": "6e593b9c",
   "metadata": {},
   "source": [
    "### Use all available variants"
   ]
  },
  {
   "cell_type": "code",
   "execution_count": 18,
   "id": "8cb7948a",
   "metadata": {},
   "outputs": [
    {
     "name": "stdout",
     "output_type": "stream",
     "text": [
      "model one inference\n",
      "(650, 13)\n",
      "(650, 13)\n",
      "(650, 13)\n",
      "(649, 13)\n",
      "(649, 13)\n",
      "(649, 13)\n",
      "(649, 13)\n",
      "(649, 13)\n",
      "(649, 13)\n",
      "(649, 13)\n",
      "model two inference\n",
      "(650, 13)\n",
      "(650, 13)\n",
      "(650, 13)\n",
      "(649, 13)\n",
      "(649, 13)\n",
      "(649, 13)\n",
      "(649, 13)\n",
      "(649, 13)\n",
      "(649, 13)\n",
      "(649, 13)\n"
     ]
    }
   ],
   "source": [
    "print(\"model one inference\")\n",
    "df_all['count_hyper_one'] = np.expm1(inference_by_version(targetModel=targetModels[0]))\n",
    "\n",
    "print(\"model two inference\")\n",
    "df_all['count_hyper_two'] = np.expm1(inference_by_version(targetModel=targetModels[1]))\n"
   ]
  },
  {
   "cell_type": "code",
   "execution_count": 20,
   "id": "35884a06",
   "metadata": {},
   "outputs": [
    {
     "data": {
      "text/html": [
       "<div>\n",
       "<style scoped>\n",
       "    .dataframe tbody tr th:only-of-type {\n",
       "        vertical-align: middle;\n",
       "    }\n",
       "\n",
       "    .dataframe tbody tr th {\n",
       "        vertical-align: top;\n",
       "    }\n",
       "\n",
       "    .dataframe thead th {\n",
       "        text-align: right;\n",
       "    }\n",
       "</style>\n",
       "<table border=\"1\" class=\"dataframe\">\n",
       "  <thead>\n",
       "    <tr style=\"text-align: right;\">\n",
       "      <th></th>\n",
       "      <th>count_hyper_one</th>\n",
       "      <th>count_hyper_two</th>\n",
       "    </tr>\n",
       "  </thead>\n",
       "  <tbody>\n",
       "    <tr>\n",
       "      <th>count</th>\n",
       "      <td>6493.000000</td>\n",
       "      <td>6493.000000</td>\n",
       "    </tr>\n",
       "    <tr>\n",
       "      <th>mean</th>\n",
       "      <td>183.412356</td>\n",
       "      <td>184.068837</td>\n",
       "    </tr>\n",
       "    <tr>\n",
       "      <th>std</th>\n",
       "      <td>171.869899</td>\n",
       "      <td>175.669847</td>\n",
       "    </tr>\n",
       "    <tr>\n",
       "      <th>min</th>\n",
       "      <td>0.419208</td>\n",
       "      <td>0.718338</td>\n",
       "    </tr>\n",
       "    <tr>\n",
       "      <th>25%</th>\n",
       "      <td>41.106623</td>\n",
       "      <td>39.230815</td>\n",
       "    </tr>\n",
       "    <tr>\n",
       "      <th>50%</th>\n",
       "      <td>141.825509</td>\n",
       "      <td>138.852125</td>\n",
       "    </tr>\n",
       "    <tr>\n",
       "      <th>75%</th>\n",
       "      <td>273.490279</td>\n",
       "      <td>272.472951</td>\n",
       "    </tr>\n",
       "    <tr>\n",
       "      <th>max</th>\n",
       "      <td>942.929876</td>\n",
       "      <td>902.084974</td>\n",
       "    </tr>\n",
       "  </tbody>\n",
       "</table>\n",
       "</div>"
      ],
      "text/plain": [
       "       count_hyper_one  count_hyper_two\n",
       "count      6493.000000      6493.000000\n",
       "mean        183.412356       184.068837\n",
       "std         171.869899       175.669847\n",
       "min           0.419208         0.718338\n",
       "25%          41.106623        39.230815\n",
       "50%         141.825509       138.852125\n",
       "75%         273.490279       272.472951\n",
       "max         942.929876       902.084974"
      ]
     },
     "execution_count": 20,
     "metadata": {},
     "output_type": "execute_result"
    }
   ],
   "source": [
    "df_all[['count_hyper_one','count_hyper_two']].describe()"
   ]
  },
  {
   "cell_type": "code",
   "execution_count": 21,
   "id": "c8e68626",
   "metadata": {},
   "outputs": [
    {
     "data": {
      "text/html": [
       "<div>\n",
       "<style scoped>\n",
       "    .dataframe tbody tr th:only-of-type {\n",
       "        vertical-align: middle;\n",
       "    }\n",
       "\n",
       "    .dataframe tbody tr th {\n",
       "        vertical-align: top;\n",
       "    }\n",
       "\n",
       "    .dataframe thead th {\n",
       "        text-align: right;\n",
       "    }\n",
       "</style>\n",
       "<table border=\"1\" class=\"dataframe\">\n",
       "  <thead>\n",
       "    <tr style=\"text-align: right;\">\n",
       "      <th></th>\n",
       "      <th>count_hyper_one</th>\n",
       "      <th>count_hyper_two</th>\n",
       "    </tr>\n",
       "  </thead>\n",
       "  <tbody>\n",
       "    <tr>\n",
       "      <th>0</th>\n",
       "      <td>9.299783</td>\n",
       "      <td>11.053089</td>\n",
       "    </tr>\n",
       "    <tr>\n",
       "      <th>1</th>\n",
       "      <td>5.689637</td>\n",
       "      <td>5.046740</td>\n",
       "    </tr>\n",
       "    <tr>\n",
       "      <th>2</th>\n",
       "      <td>4.112100</td>\n",
       "      <td>5.849410</td>\n",
       "    </tr>\n",
       "    <tr>\n",
       "      <th>3</th>\n",
       "      <td>1.822708</td>\n",
       "      <td>2.803605</td>\n",
       "    </tr>\n",
       "    <tr>\n",
       "      <th>4</th>\n",
       "      <td>1.605000</td>\n",
       "      <td>2.282682</td>\n",
       "    </tr>\n",
       "  </tbody>\n",
       "</table>\n",
       "</div>"
      ],
      "text/plain": [
       "   count_hyper_one  count_hyper_two\n",
       "0         9.299783        11.053089\n",
       "1         5.689637         5.046740\n",
       "2         4.112100         5.849410\n",
       "3         1.822708         2.803605\n",
       "4         1.605000         2.282682"
      ]
     },
     "execution_count": 21,
     "metadata": {},
     "output_type": "execute_result"
    }
   ],
   "source": [
    "df_all[['count_hyper_one','count_hyper_two']].head()"
   ]
  },
  {
   "cell_type": "code",
   "execution_count": 22,
   "id": "ac7275e8",
   "metadata": {},
   "outputs": [],
   "source": [
    "# delete Endpoint\n",
    "predictor.delete_endpoint()"
   ]
  },
  {
   "cell_type": "code",
   "execution_count": null,
   "id": "7b0d5214",
   "metadata": {},
   "outputs": [],
   "source": []
  }
 ],
 "metadata": {
  "kernelspec": {
   "display_name": "conda_tensorflow2_p310",
   "language": "python",
   "name": "conda_tensorflow2_p310"
  },
  "language_info": {
   "codemirror_mode": {
    "name": "ipython",
    "version": 3
   },
   "file_extension": ".py",
   "mimetype": "text/x-python",
   "name": "python",
   "nbconvert_exporter": "python",
   "pygments_lexer": "ipython3",
   "version": "3.10.14"
  }
 },
 "nbformat": 4,
 "nbformat_minor": 5
}
