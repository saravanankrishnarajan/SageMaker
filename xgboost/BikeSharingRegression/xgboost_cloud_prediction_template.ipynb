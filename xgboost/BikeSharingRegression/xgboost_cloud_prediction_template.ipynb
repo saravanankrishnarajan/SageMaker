{
 "cells": [
  {
   "cell_type": "markdown",
   "id": "531e4032",
   "metadata": {},
   "source": [
    "### Invoke SageMaker Endpoint to predict"
   ]
  },
  {
   "cell_type": "code",
   "execution_count": 2,
   "id": "19314e9b",
   "metadata": {},
   "outputs": [
    {
     "name": "stderr",
     "output_type": "stream",
     "text": [
      "Matplotlib is building the font cache; this may take a moment.\n"
     ]
    }
   ],
   "source": [
    "import sys\n",
    "import numpy as np\n",
    "import pandas as pd\n",
    "import matplotlib.pyplot as plt\n",
    "import math\n",
    "import os\n",
    "\n",
    "import boto3\n",
    "import re\n",
    "from sagemaker import get_execution_role\n",
    "import sagemaker\n",
    "\n",
    "# SDK 2 serializers and deserializers\n",
    "from sagemaker.serializers import CSVSerializer\n",
    "from sagemaker.deserializers import JSONDeserializer"
   ]
  },
  {
   "cell_type": "code",
   "execution_count": 3,
   "id": "e6335f56",
   "metadata": {},
   "outputs": [],
   "source": [
    "# SDK 2\n",
    "#RealTimePredictor renamed to Predictor\n",
    "\n",
    "# Create a predictor and point to an existing endpoint\n",
    "\n",
    "endpoint_name = 'xgboost-bikerental-v1'\n",
    "predictor = sagemaker.predictor.Predictor(endpoint_name=endpoint_name)"
   ]
  },
  {
   "cell_type": "code",
   "execution_count": 4,
   "id": "fa4b154b",
   "metadata": {},
   "outputs": [],
   "source": [
    "predictor.serializer = CSVSerializer()"
   ]
  },
  {
   "cell_type": "code",
   "execution_count": 5,
   "id": "70d369b1",
   "metadata": {},
   "outputs": [],
   "source": [
    "df_all = pd.read_csv('bike_test_rev3.csv')"
   ]
  },
  {
   "cell_type": "code",
   "execution_count": 6,
   "id": "7af31044",
   "metadata": {},
   "outputs": [
    {
     "data": {
      "text/html": [
       "<div>\n",
       "<style scoped>\n",
       "    .dataframe tbody tr th:only-of-type {\n",
       "        vertical-align: middle;\n",
       "    }\n",
       "\n",
       "    .dataframe tbody tr th {\n",
       "        vertical-align: top;\n",
       "    }\n",
       "\n",
       "    .dataframe thead th {\n",
       "        text-align: right;\n",
       "    }\n",
       "</style>\n",
       "<table border=\"1\" class=\"dataframe\">\n",
       "  <thead>\n",
       "    <tr style=\"text-align: right;\">\n",
       "      <th></th>\n",
       "      <th>datetime</th>\n",
       "      <th>season</th>\n",
       "      <th>holiday</th>\n",
       "      <th>workingday</th>\n",
       "      <th>weather</th>\n",
       "      <th>temp</th>\n",
       "      <th>atemp</th>\n",
       "      <th>humidity</th>\n",
       "      <th>windspeed</th>\n",
       "      <th>year</th>\n",
       "      <th>month</th>\n",
       "      <th>day</th>\n",
       "      <th>dayofweek</th>\n",
       "      <th>hour</th>\n",
       "    </tr>\n",
       "  </thead>\n",
       "  <tbody>\n",
       "    <tr>\n",
       "      <th>0</th>\n",
       "      <td>2011-01-20 00:00:00</td>\n",
       "      <td>1</td>\n",
       "      <td>0</td>\n",
       "      <td>1</td>\n",
       "      <td>1</td>\n",
       "      <td>10.66</td>\n",
       "      <td>11.365</td>\n",
       "      <td>56</td>\n",
       "      <td>26.0027</td>\n",
       "      <td>2011</td>\n",
       "      <td>1</td>\n",
       "      <td>20</td>\n",
       "      <td>3</td>\n",
       "      <td>0</td>\n",
       "    </tr>\n",
       "    <tr>\n",
       "      <th>1</th>\n",
       "      <td>2011-01-20 01:00:00</td>\n",
       "      <td>1</td>\n",
       "      <td>0</td>\n",
       "      <td>1</td>\n",
       "      <td>1</td>\n",
       "      <td>10.66</td>\n",
       "      <td>13.635</td>\n",
       "      <td>56</td>\n",
       "      <td>0.0000</td>\n",
       "      <td>2011</td>\n",
       "      <td>1</td>\n",
       "      <td>20</td>\n",
       "      <td>3</td>\n",
       "      <td>1</td>\n",
       "    </tr>\n",
       "    <tr>\n",
       "      <th>2</th>\n",
       "      <td>2011-01-20 02:00:00</td>\n",
       "      <td>1</td>\n",
       "      <td>0</td>\n",
       "      <td>1</td>\n",
       "      <td>1</td>\n",
       "      <td>10.66</td>\n",
       "      <td>13.635</td>\n",
       "      <td>56</td>\n",
       "      <td>0.0000</td>\n",
       "      <td>2011</td>\n",
       "      <td>1</td>\n",
       "      <td>20</td>\n",
       "      <td>3</td>\n",
       "      <td>2</td>\n",
       "    </tr>\n",
       "    <tr>\n",
       "      <th>3</th>\n",
       "      <td>2011-01-20 03:00:00</td>\n",
       "      <td>1</td>\n",
       "      <td>0</td>\n",
       "      <td>1</td>\n",
       "      <td>1</td>\n",
       "      <td>10.66</td>\n",
       "      <td>12.880</td>\n",
       "      <td>56</td>\n",
       "      <td>11.0014</td>\n",
       "      <td>2011</td>\n",
       "      <td>1</td>\n",
       "      <td>20</td>\n",
       "      <td>3</td>\n",
       "      <td>3</td>\n",
       "    </tr>\n",
       "    <tr>\n",
       "      <th>4</th>\n",
       "      <td>2011-01-20 04:00:00</td>\n",
       "      <td>1</td>\n",
       "      <td>0</td>\n",
       "      <td>1</td>\n",
       "      <td>1</td>\n",
       "      <td>10.66</td>\n",
       "      <td>12.880</td>\n",
       "      <td>56</td>\n",
       "      <td>11.0014</td>\n",
       "      <td>2011</td>\n",
       "      <td>1</td>\n",
       "      <td>20</td>\n",
       "      <td>3</td>\n",
       "      <td>4</td>\n",
       "    </tr>\n",
       "  </tbody>\n",
       "</table>\n",
       "</div>"
      ],
      "text/plain": [
       "              datetime  season  holiday  ...  day  dayofweek  hour\n",
       "0  2011-01-20 00:00:00       1        0  ...   20          3     0\n",
       "1  2011-01-20 01:00:00       1        0  ...   20          3     1\n",
       "2  2011-01-20 02:00:00       1        0  ...   20          3     2\n",
       "3  2011-01-20 03:00:00       1        0  ...   20          3     3\n",
       "4  2011-01-20 04:00:00       1        0  ...   20          3     4\n",
       "\n",
       "[5 rows x 14 columns]"
      ]
     },
     "execution_count": 6,
     "metadata": {},
     "output_type": "execute_result"
    }
   ],
   "source": [
    "df_all.head()"
   ]
  },
  {
   "cell_type": "code",
   "execution_count": 7,
   "id": "0602ba42",
   "metadata": {},
   "outputs": [
    {
     "data": {
      "text/plain": [
       "Index(['datetime', 'season', 'holiday', 'workingday', 'weather', 'temp',\n",
       "       'atemp', 'humidity', 'windspeed', 'year', 'month', 'day', 'dayofweek',\n",
       "       'hour'],\n",
       "      dtype='object')"
      ]
     },
     "execution_count": 7,
     "metadata": {},
     "output_type": "execute_result"
    }
   ],
   "source": [
    "df_all.columns[:]"
   ]
  },
  {
   "cell_type": "code",
   "execution_count": 8,
   "id": "26b3a4b6",
   "metadata": {},
   "outputs": [
    {
     "data": {
      "text/plain": [
       "Index(['season', 'holiday', 'workingday', 'weather', 'temp', 'atemp',\n",
       "       'humidity', 'windspeed', 'year', 'month', 'day', 'dayofweek', 'hour'],\n",
       "      dtype='object')"
      ]
     },
     "execution_count": 8,
     "metadata": {},
     "output_type": "execute_result"
    }
   ],
   "source": [
    "df_all.columns[1:]"
   ]
  },
  {
   "cell_type": "code",
   "execution_count": 26,
   "id": "57616b60",
   "metadata": {},
   "outputs": [],
   "source": [
    "# Need to pass array to the prediction to test\n",
    "# excluding the datetime\n",
    "arr_test = df_all[df_all.columns[1:]].values"
   ]
  },
  {
   "cell_type": "code",
   "execution_count": 27,
   "id": "3b096536",
   "metadata": {},
   "outputs": [
    {
     "data": {
      "text/plain": [
       "array([[ 1.,  0.,  1., ..., 20.,  3.,  0.],\n",
       "       [ 1.,  0.,  1., ..., 20.,  3.,  1.],\n",
       "       [ 1.,  0.,  1., ..., 20.,  3.,  2.],\n",
       "       ...,\n",
       "       [ 1.,  0.,  1., ..., 31.,  0., 21.],\n",
       "       [ 1.,  0.,  1., ..., 31.,  0., 22.],\n",
       "       [ 1.,  0.,  1., ..., 31.,  0., 23.]])"
      ]
     },
     "execution_count": 27,
     "metadata": {},
     "output_type": "execute_result"
    }
   ],
   "source": [
    "df_all[df_all.columns[1:]].values"
   ]
  },
  {
   "cell_type": "code",
   "execution_count": 28,
   "id": "8044ad26",
   "metadata": {},
   "outputs": [
    {
     "data": {
      "text/plain": [
       "numpy.ndarray"
      ]
     },
     "execution_count": 28,
     "metadata": {},
     "output_type": "execute_result"
    }
   ],
   "source": [
    "type(arr_test)"
   ]
  },
  {
   "cell_type": "code",
   "execution_count": 29,
   "id": "70fd6692",
   "metadata": {},
   "outputs": [
    {
     "data": {
      "text/plain": [
       "(6493, 13)"
      ]
     },
     "execution_count": 29,
     "metadata": {},
     "output_type": "execute_result"
    }
   ],
   "source": [
    "arr_test.shape"
   ]
  },
  {
   "cell_type": "code",
   "execution_count": 30,
   "id": "6967d4b5",
   "metadata": {},
   "outputs": [
    {
     "data": {
      "text/plain": [
       "array([[1.00000e+00, 0.00000e+00, 1.00000e+00, 1.00000e+00, 1.06600e+01,\n",
       "        1.13650e+01, 5.60000e+01, 2.60027e+01, 2.01100e+03, 1.00000e+00,\n",
       "        2.00000e+01, 3.00000e+00, 0.00000e+00],\n",
       "       [1.00000e+00, 0.00000e+00, 1.00000e+00, 1.00000e+00, 1.06600e+01,\n",
       "        1.36350e+01, 5.60000e+01, 0.00000e+00, 2.01100e+03, 1.00000e+00,\n",
       "        2.00000e+01, 3.00000e+00, 1.00000e+00],\n",
       "       [1.00000e+00, 0.00000e+00, 1.00000e+00, 1.00000e+00, 1.06600e+01,\n",
       "        1.36350e+01, 5.60000e+01, 0.00000e+00, 2.01100e+03, 1.00000e+00,\n",
       "        2.00000e+01, 3.00000e+00, 2.00000e+00],\n",
       "       [1.00000e+00, 0.00000e+00, 1.00000e+00, 1.00000e+00, 1.06600e+01,\n",
       "        1.28800e+01, 5.60000e+01, 1.10014e+01, 2.01100e+03, 1.00000e+00,\n",
       "        2.00000e+01, 3.00000e+00, 3.00000e+00],\n",
       "       [1.00000e+00, 0.00000e+00, 1.00000e+00, 1.00000e+00, 1.06600e+01,\n",
       "        1.28800e+01, 5.60000e+01, 1.10014e+01, 2.01100e+03, 1.00000e+00,\n",
       "        2.00000e+01, 3.00000e+00, 4.00000e+00]])"
      ]
     },
     "execution_count": 30,
     "metadata": {},
     "output_type": "execute_result"
    }
   ],
   "source": [
    "arr_test[:5]"
   ]
  },
  {
   "cell_type": "code",
   "execution_count": 31,
   "id": "42c0ec72",
   "metadata": {},
   "outputs": [],
   "source": [
    "np.set_printoptions(precision=2)"
   ]
  },
  {
   "cell_type": "code",
   "execution_count": 32,
   "id": "af2c3bc0",
   "metadata": {},
   "outputs": [
    {
     "data": {
      "text/plain": [
       "array([[1.00e+00, 0.00e+00, 1.00e+00, 1.00e+00, 1.07e+01, 1.14e+01,\n",
       "        5.60e+01, 2.60e+01, 2.01e+03, 1.00e+00, 2.00e+01, 3.00e+00,\n",
       "        0.00e+00],\n",
       "       [1.00e+00, 0.00e+00, 1.00e+00, 1.00e+00, 1.07e+01, 1.36e+01,\n",
       "        5.60e+01, 0.00e+00, 2.01e+03, 1.00e+00, 2.00e+01, 3.00e+00,\n",
       "        1.00e+00],\n",
       "       [1.00e+00, 0.00e+00, 1.00e+00, 1.00e+00, 1.07e+01, 1.36e+01,\n",
       "        5.60e+01, 0.00e+00, 2.01e+03, 1.00e+00, 2.00e+01, 3.00e+00,\n",
       "        2.00e+00],\n",
       "       [1.00e+00, 0.00e+00, 1.00e+00, 1.00e+00, 1.07e+01, 1.29e+01,\n",
       "        5.60e+01, 1.10e+01, 2.01e+03, 1.00e+00, 2.00e+01, 3.00e+00,\n",
       "        3.00e+00],\n",
       "       [1.00e+00, 0.00e+00, 1.00e+00, 1.00e+00, 1.07e+01, 1.29e+01,\n",
       "        5.60e+01, 1.10e+01, 2.01e+03, 1.00e+00, 2.00e+01, 3.00e+00,\n",
       "        4.00e+00]])"
      ]
     },
     "execution_count": 32,
     "metadata": {},
     "output_type": "execute_result"
    }
   ],
   "source": [
    "arr_test[:5]"
   ]
  },
  {
   "cell_type": "code",
   "execution_count": 35,
   "id": "b2232e37",
   "metadata": {},
   "outputs": [],
   "source": [
    "np.set_printoptions(precision=8) # changing it back to default 8"
   ]
  },
  {
   "cell_type": "code",
   "execution_count": 36,
   "id": "dad81db3",
   "metadata": {},
   "outputs": [
    {
     "data": {
      "text/plain": [
       "array([[1.00000e+00, 0.00000e+00, 1.00000e+00, 1.00000e+00, 1.06600e+01,\n",
       "        1.13650e+01, 5.60000e+01, 2.60027e+01, 2.01100e+03, 1.00000e+00,\n",
       "        2.00000e+01, 3.00000e+00, 0.00000e+00],\n",
       "       [1.00000e+00, 0.00000e+00, 1.00000e+00, 1.00000e+00, 1.06600e+01,\n",
       "        1.36350e+01, 5.60000e+01, 0.00000e+00, 2.01100e+03, 1.00000e+00,\n",
       "        2.00000e+01, 3.00000e+00, 1.00000e+00],\n",
       "       [1.00000e+00, 0.00000e+00, 1.00000e+00, 1.00000e+00, 1.06600e+01,\n",
       "        1.36350e+01, 5.60000e+01, 0.00000e+00, 2.01100e+03, 1.00000e+00,\n",
       "        2.00000e+01, 3.00000e+00, 2.00000e+00],\n",
       "       [1.00000e+00, 0.00000e+00, 1.00000e+00, 1.00000e+00, 1.06600e+01,\n",
       "        1.28800e+01, 5.60000e+01, 1.10014e+01, 2.01100e+03, 1.00000e+00,\n",
       "        2.00000e+01, 3.00000e+00, 3.00000e+00],\n",
       "       [1.00000e+00, 0.00000e+00, 1.00000e+00, 1.00000e+00, 1.06600e+01,\n",
       "        1.28800e+01, 5.60000e+01, 1.10014e+01, 2.01100e+03, 1.00000e+00,\n",
       "        2.00000e+01, 3.00000e+00, 4.00000e+00]])"
      ]
     },
     "execution_count": 36,
     "metadata": {},
     "output_type": "execute_result"
    }
   ],
   "source": [
    "arr_test[:5]"
   ]
  },
  {
   "cell_type": "code",
   "execution_count": 39,
   "id": "7cdd1f69",
   "metadata": {},
   "outputs": [],
   "source": [
    "result =  predictor.predict(arr_test[:2]) # predicting first two arrays"
   ]
  },
  {
   "cell_type": "code",
   "execution_count": 40,
   "id": "fd0c8050",
   "metadata": {},
   "outputs": [
    {
     "data": {
      "text/plain": [
       "array([[1.00000e+00, 0.00000e+00, 1.00000e+00, 1.00000e+00, 1.06600e+01,\n",
       "        1.13650e+01, 5.60000e+01, 2.60027e+01, 2.01100e+03, 1.00000e+00,\n",
       "        2.00000e+01, 3.00000e+00, 0.00000e+00],\n",
       "       [1.00000e+00, 0.00000e+00, 1.00000e+00, 1.00000e+00, 1.06600e+01,\n",
       "        1.36350e+01, 5.60000e+01, 0.00000e+00, 2.01100e+03, 1.00000e+00,\n",
       "        2.00000e+01, 3.00000e+00, 1.00000e+00]])"
      ]
     },
     "execution_count": 40,
     "metadata": {},
     "output_type": "execute_result"
    }
   ],
   "source": [
    "arr_test[:2]"
   ]
  },
  {
   "cell_type": "code",
   "execution_count": 41,
   "id": "1d0a7383",
   "metadata": {},
   "outputs": [
    {
     "data": {
      "text/plain": [
       "b'2.332122325897217\\n1.9005593061447144\\n'"
      ]
     },
     "execution_count": 41,
     "metadata": {},
     "output_type": "execute_result"
    }
   ],
   "source": [
    "result"
   ]
  },
  {
   "cell_type": "code",
   "execution_count": 42,
   "id": "466ad0b1",
   "metadata": {},
   "outputs": [
    {
     "data": {
      "text/plain": [
       "(6493, 13)"
      ]
     },
     "execution_count": 42,
     "metadata": {},
     "output_type": "execute_result"
    }
   ],
   "source": [
    "arr_test.shape"
   ]
  },
  {
   "cell_type": "markdown",
   "id": "43006a29",
   "metadata": {},
   "source": [
    "### Split the input data into chunks\n",
    "There are thousand of rows in this data set for which need inferrence\n",
    "\n",
    "When communicate over internet, it is good idea to split the data into chunks to prevent payload and timeout error"
   ]
  },
  {
   "cell_type": "code",
   "execution_count": 45,
   "id": "a847f09e",
   "metadata": {},
   "outputs": [
    {
     "name": "stdout",
     "output_type": "stream",
     "text": [
      "(650, 13)\n",
      "(650, 13)\n",
      "(650, 13)\n",
      "(649, 13)\n",
      "(649, 13)\n",
      "(649, 13)\n",
      "(649, 13)\n",
      "(649, 13)\n",
      "(649, 13)\n",
      "(649, 13)\n"
     ]
    }
   ],
   "source": [
    "# For large number of predictions, we can split the input data and \n",
    "# Query the prediction service.\n",
    "# array_split is convenient to specify how many splits are needed\n",
    "\n",
    "# Splitting using regular expression as xgboost 1-2-2 is returning\n",
    "# predicted values with inconsistend delimiters (comma, newline or both)\n",
    "\n",
    "# pattern looks for one or more of non-numeric characters\n",
    "\n",
    "pattern = r'[^0-9.]+'\n",
    "\n",
    "predictions = []\n",
    "for arr in np.array_split(arr_test,10):\n",
    "    result = predictor.predict(arr)\n",
    "    result = re.split(pattern, result.decode(\"utf-8\"))\n",
    "    \n",
    "    print(arr.shape)\n",
    "    predictions += [float(r) for r in result if r!=\"\"] "
   ]
  },
  {
   "cell_type": "code",
   "execution_count": 46,
   "id": "21346491",
   "metadata": {},
   "outputs": [
    {
     "data": {
      "text/plain": [
       "6493"
      ]
     },
     "execution_count": 46,
     "metadata": {},
     "output_type": "execute_result"
    }
   ],
   "source": [
    "len(predictions)"
   ]
  },
  {
   "cell_type": "code",
   "execution_count": 47,
   "id": "db36483e",
   "metadata": {},
   "outputs": [
    {
     "data": {
      "text/plain": [
       "array([  9.29977784,   5.68963495,   4.11209937, ..., 133.68598006,\n",
       "        92.35797767,  52.00191752])"
      ]
     },
     "execution_count": 47,
     "metadata": {},
     "output_type": "execute_result"
    }
   ],
   "source": [
    "np.expm1(predictions)"
   ]
  },
  {
   "cell_type": "code",
   "execution_count": 48,
   "id": "eaf8f08a",
   "metadata": {},
   "outputs": [],
   "source": [
    "df_all['count'] = np.expm1(predictions)"
   ]
  },
  {
   "cell_type": "code",
   "execution_count": 49,
   "id": "b4f0bcc2",
   "metadata": {},
   "outputs": [
    {
     "data": {
      "text/html": [
       "<div>\n",
       "<style scoped>\n",
       "    .dataframe tbody tr th:only-of-type {\n",
       "        vertical-align: middle;\n",
       "    }\n",
       "\n",
       "    .dataframe tbody tr th {\n",
       "        vertical-align: top;\n",
       "    }\n",
       "\n",
       "    .dataframe thead th {\n",
       "        text-align: right;\n",
       "    }\n",
       "</style>\n",
       "<table border=\"1\" class=\"dataframe\">\n",
       "  <thead>\n",
       "    <tr style=\"text-align: right;\">\n",
       "      <th></th>\n",
       "      <th>datetime</th>\n",
       "      <th>season</th>\n",
       "      <th>holiday</th>\n",
       "      <th>workingday</th>\n",
       "      <th>weather</th>\n",
       "      <th>temp</th>\n",
       "      <th>atemp</th>\n",
       "      <th>humidity</th>\n",
       "      <th>windspeed</th>\n",
       "      <th>year</th>\n",
       "      <th>month</th>\n",
       "      <th>day</th>\n",
       "      <th>dayofweek</th>\n",
       "      <th>hour</th>\n",
       "      <th>count</th>\n",
       "    </tr>\n",
       "  </thead>\n",
       "  <tbody>\n",
       "    <tr>\n",
       "      <th>0</th>\n",
       "      <td>2011-01-20 00:00:00</td>\n",
       "      <td>1</td>\n",
       "      <td>0</td>\n",
       "      <td>1</td>\n",
       "      <td>1</td>\n",
       "      <td>10.66</td>\n",
       "      <td>11.365</td>\n",
       "      <td>56</td>\n",
       "      <td>26.0027</td>\n",
       "      <td>2011</td>\n",
       "      <td>1</td>\n",
       "      <td>20</td>\n",
       "      <td>3</td>\n",
       "      <td>0</td>\n",
       "      <td>9.299778</td>\n",
       "    </tr>\n",
       "    <tr>\n",
       "      <th>1</th>\n",
       "      <td>2011-01-20 01:00:00</td>\n",
       "      <td>1</td>\n",
       "      <td>0</td>\n",
       "      <td>1</td>\n",
       "      <td>1</td>\n",
       "      <td>10.66</td>\n",
       "      <td>13.635</td>\n",
       "      <td>56</td>\n",
       "      <td>0.0000</td>\n",
       "      <td>2011</td>\n",
       "      <td>1</td>\n",
       "      <td>20</td>\n",
       "      <td>3</td>\n",
       "      <td>1</td>\n",
       "      <td>5.689635</td>\n",
       "    </tr>\n",
       "    <tr>\n",
       "      <th>2</th>\n",
       "      <td>2011-01-20 02:00:00</td>\n",
       "      <td>1</td>\n",
       "      <td>0</td>\n",
       "      <td>1</td>\n",
       "      <td>1</td>\n",
       "      <td>10.66</td>\n",
       "      <td>13.635</td>\n",
       "      <td>56</td>\n",
       "      <td>0.0000</td>\n",
       "      <td>2011</td>\n",
       "      <td>1</td>\n",
       "      <td>20</td>\n",
       "      <td>3</td>\n",
       "      <td>2</td>\n",
       "      <td>4.112099</td>\n",
       "    </tr>\n",
       "    <tr>\n",
       "      <th>3</th>\n",
       "      <td>2011-01-20 03:00:00</td>\n",
       "      <td>1</td>\n",
       "      <td>0</td>\n",
       "      <td>1</td>\n",
       "      <td>1</td>\n",
       "      <td>10.66</td>\n",
       "      <td>12.880</td>\n",
       "      <td>56</td>\n",
       "      <td>11.0014</td>\n",
       "      <td>2011</td>\n",
       "      <td>1</td>\n",
       "      <td>20</td>\n",
       "      <td>3</td>\n",
       "      <td>3</td>\n",
       "      <td>1.822707</td>\n",
       "    </tr>\n",
       "    <tr>\n",
       "      <th>4</th>\n",
       "      <td>2011-01-20 04:00:00</td>\n",
       "      <td>1</td>\n",
       "      <td>0</td>\n",
       "      <td>1</td>\n",
       "      <td>1</td>\n",
       "      <td>10.66</td>\n",
       "      <td>12.880</td>\n",
       "      <td>56</td>\n",
       "      <td>11.0014</td>\n",
       "      <td>2011</td>\n",
       "      <td>1</td>\n",
       "      <td>20</td>\n",
       "      <td>3</td>\n",
       "      <td>4</td>\n",
       "      <td>1.604999</td>\n",
       "    </tr>\n",
       "  </tbody>\n",
       "</table>\n",
       "</div>"
      ],
      "text/plain": [
       "              datetime  season  holiday  ...  dayofweek  hour     count\n",
       "0  2011-01-20 00:00:00       1        0  ...          3     0  9.299778\n",
       "1  2011-01-20 01:00:00       1        0  ...          3     1  5.689635\n",
       "2  2011-01-20 02:00:00       1        0  ...          3     2  4.112099\n",
       "3  2011-01-20 03:00:00       1        0  ...          3     3  1.822707\n",
       "4  2011-01-20 04:00:00       1        0  ...          3     4  1.604999\n",
       "\n",
       "[5 rows x 15 columns]"
      ]
     },
     "execution_count": 49,
     "metadata": {},
     "output_type": "execute_result"
    }
   ],
   "source": [
    "df_all.head()"
   ]
  },
  {
   "cell_type": "code",
   "execution_count": 52,
   "id": "a571fe21",
   "metadata": {},
   "outputs": [],
   "source": [
    "df_all[['datetime','count']].to_csv('predicted_count_cloud.csv',index=False)"
   ]
  },
  {
   "cell_type": "code",
   "execution_count": 53,
   "id": "2261c7d0",
   "metadata": {},
   "outputs": [],
   "source": [
    "#Delete Endpoint to prevent unecessary charges\n",
    "predictor.delete_endpoint()"
   ]
  },
  {
   "cell_type": "code",
   "execution_count": null,
   "id": "7796a450",
   "metadata": {},
   "outputs": [],
   "source": []
  }
 ],
 "metadata": {
  "kernelspec": {
   "display_name": "conda_tensorflow2_p310",
   "language": "python",
   "name": "conda_tensorflow2_p310"
  },
  "language_info": {
   "codemirror_mode": {
    "name": "ipython",
    "version": 3
   },
   "file_extension": ".py",
   "mimetype": "text/x-python",
   "name": "python",
   "nbconvert_exporter": "python",
   "pygments_lexer": "ipython3",
   "version": "3.10.13"
  }
 },
 "nbformat": 4,
 "nbformat_minor": 5
}
