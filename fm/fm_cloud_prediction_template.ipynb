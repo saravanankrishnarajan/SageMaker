{
 "cells": [
  {
   "cell_type": "markdown",
   "id": "a35e4658",
   "metadata": {},
   "source": [
    "### Movie Recommendations \n",
    "\n",
    "Predict how a user would rate a movie\n",
    "\n",
    "Generate Ratings and present the recommendation list"
   ]
  },
  {
   "cell_type": "code",
   "execution_count": 1,
   "id": "337b2806",
   "metadata": {},
   "outputs": [],
   "source": [
    "%matplotlib inline\n",
    "import sys\n",
    "import os\n",
    "import numpy as np\n",
    "import pandas as pd\n",
    "import matplotlib.pyplot as plt\n",
    "import math\n",
    "import json\n",
    "import re\n",
    "\n",
    "import boto3\n",
    "from sagemaker import get_execution_role\n",
    "import sagemaker\n",
    "\n",
    "#SDK 2\n",
    "from sagemaker.deserializers import JSONDeserializer"
   ]
  },
  {
   "cell_type": "code",
   "execution_count": 64,
   "id": "b6d84b7a",
   "metadata": {},
   "outputs": [],
   "source": [
    "# Create predictor from existing endpoint\n",
    "\n",
    "endpoint_name='fm-movie-v4'\n",
    "predictor = sagemaker.predictor.Predictor(endpoint_name=endpoint_name)"
   ]
  },
  {
   "cell_type": "code",
   "execution_count": 9,
   "id": "abe66c3f",
   "metadata": {},
   "outputs": [],
   "source": [
    "# Read dimension: number of unique columns\n",
    "dim_movie\n",
    "with open(r'ml-latest-small/movie_dimension.txt','r') as f:\n",
    "    dim_movie = int(f.read())"
   ]
  },
  {
   "cell_type": "code",
   "execution_count": 10,
   "id": "709a0e03",
   "metadata": {},
   "outputs": [
    {
     "data": {
      "text/plain": [
       "10334"
      ]
     },
     "execution_count": 10,
     "metadata": {},
     "output_type": "execute_result"
    }
   ],
   "source": [
    "dim_movie"
   ]
  },
  {
   "cell_type": "code",
   "execution_count": 63,
   "id": "a276cb00",
   "metadata": {},
   "outputs": [],
   "source": [
    "# Custom serializer\n",
    "\n",
    "def fm_sparse_serializer(data):\n",
    "    js = {'instances':[]}\n",
    "    for row in data:\n",
    "        \n",
    "        column_list=row.tolist()\n",
    "        value_list = np.ones(len(column_list), dtype=int).tolist()\n",
    "        \n",
    "        js['instances'].append(\n",
    "            {\n",
    "                \"data\": {\n",
    "                    \"features\": {\n",
    "                        'keys':column_list, \n",
    "                        'shape':[dim_movie], \n",
    "                        'values':value_list\n",
    "                                }         \n",
    "                        }\n",
    "            }\n",
    "        )\n",
    "    \n",
    "    return json.dumps(js)\n",
    "    "
   ]
  },
  {
   "cell_type": "code",
   "execution_count": 65,
   "id": "9f03cc9d",
   "metadata": {},
   "outputs": [],
   "source": [
    "# specify custom serializer\n",
    "\n",
    "predictor.serializer.serialize = fm_sparse_serializer\n",
    "predictor.serializer.content_type='application/json'\n",
    "\n",
    "predictor.deserializer = JSONDeserializer()"
   ]
  },
  {
   "cell_type": "code",
   "execution_count": 7,
   "id": "c140031b",
   "metadata": {},
   "outputs": [
    {
     "data": {
      "text/plain": [
       "<sagemaker.base_predictor.Predictor at 0x7fa65fbe4ac0>"
      ]
     },
     "execution_count": 7,
     "metadata": {},
     "output_type": "execute_result"
    }
   ],
   "source": [
    "predictor"
   ]
  },
  {
   "cell_type": "code",
   "execution_count": 11,
   "id": "98628e3e",
   "metadata": {},
   "outputs": [],
   "source": [
    "# load the test libSVM file\n",
    "\n",
    "test_file = r'ml-latest-small/user_movie_test.svm'\n"
   ]
  },
  {
   "cell_type": "code",
   "execution_count": 14,
   "id": "d7911f77",
   "metadata": {},
   "outputs": [],
   "source": [
    "df_test = pd.read_csv(test_file, sep=' ', names=['rating','user_index','movie_index'])"
   ]
  },
  {
   "cell_type": "code",
   "execution_count": 15,
   "id": "ec888095",
   "metadata": {},
   "outputs": [
    {
     "data": {
      "text/html": [
       "<div>\n",
       "<style scoped>\n",
       "    .dataframe tbody tr th:only-of-type {\n",
       "        vertical-align: middle;\n",
       "    }\n",
       "\n",
       "    .dataframe tbody tr th {\n",
       "        vertical-align: top;\n",
       "    }\n",
       "\n",
       "    .dataframe thead th {\n",
       "        text-align: right;\n",
       "    }\n",
       "</style>\n",
       "<table border=\"1\" class=\"dataframe\">\n",
       "  <thead>\n",
       "    <tr style=\"text-align: right;\">\n",
       "      <th></th>\n",
       "      <th>rating</th>\n",
       "      <th>user_index</th>\n",
       "      <th>movie_index</th>\n",
       "    </tr>\n",
       "  </thead>\n",
       "  <tbody>\n",
       "    <tr>\n",
       "      <th>0</th>\n",
       "      <td>2.5</td>\n",
       "      <td>426:1</td>\n",
       "      <td>943:1</td>\n",
       "    </tr>\n",
       "    <tr>\n",
       "      <th>1</th>\n",
       "      <td>3.0</td>\n",
       "      <td>110:1</td>\n",
       "      <td>10120:1</td>\n",
       "    </tr>\n",
       "    <tr>\n",
       "      <th>2</th>\n",
       "      <td>4.0</td>\n",
       "      <td>304:1</td>\n",
       "      <td>1554:1</td>\n",
       "    </tr>\n",
       "    <tr>\n",
       "      <th>3</th>\n",
       "      <td>5.0</td>\n",
       "      <td>273:1</td>\n",
       "      <td>867:1</td>\n",
       "    </tr>\n",
       "    <tr>\n",
       "      <th>4</th>\n",
       "      <td>2.0</td>\n",
       "      <td>18:1</td>\n",
       "      <td>3373:1</td>\n",
       "    </tr>\n",
       "  </tbody>\n",
       "</table>\n",
       "</div>"
      ],
      "text/plain": [
       "   rating user_index movie_index\n",
       "0     2.5      426:1       943:1\n",
       "1     3.0      110:1     10120:1\n",
       "2     4.0      304:1      1554:1\n",
       "3     5.0      273:1       867:1\n",
       "4     2.0       18:1      3373:1"
      ]
     },
     "execution_count": 15,
     "metadata": {},
     "output_type": "execute_result"
    }
   ],
   "source": [
    "df_test.head()"
   ]
  },
  {
   "cell_type": "code",
   "execution_count": 16,
   "id": "af1a521f",
   "metadata": {},
   "outputs": [],
   "source": [
    "df_test.user_index = df_test.user_index.map(lambda x: int(x.split(':')[0]))\n",
    "df_test.movie_index = df_test.movie_index.map(lambda x: int(x.split(':')[0]))"
   ]
  },
  {
   "cell_type": "code",
   "execution_count": 22,
   "id": "cec2bb53",
   "metadata": {},
   "outputs": [
    {
     "data": {
      "text/html": [
       "<div>\n",
       "<style scoped>\n",
       "    .dataframe tbody tr th:only-of-type {\n",
       "        vertical-align: middle;\n",
       "    }\n",
       "\n",
       "    .dataframe tbody tr th {\n",
       "        vertical-align: top;\n",
       "    }\n",
       "\n",
       "    .dataframe thead th {\n",
       "        text-align: right;\n",
       "    }\n",
       "</style>\n",
       "<table border=\"1\" class=\"dataframe\">\n",
       "  <thead>\n",
       "    <tr style=\"text-align: right;\">\n",
       "      <th></th>\n",
       "      <th>rating</th>\n",
       "      <th>user_index</th>\n",
       "      <th>movie_index</th>\n",
       "    </tr>\n",
       "  </thead>\n",
       "  <tbody>\n",
       "    <tr>\n",
       "      <th>0</th>\n",
       "      <td>2.5</td>\n",
       "      <td>426</td>\n",
       "      <td>943</td>\n",
       "    </tr>\n",
       "    <tr>\n",
       "      <th>1</th>\n",
       "      <td>3.0</td>\n",
       "      <td>110</td>\n",
       "      <td>10120</td>\n",
       "    </tr>\n",
       "    <tr>\n",
       "      <th>2</th>\n",
       "      <td>4.0</td>\n",
       "      <td>304</td>\n",
       "      <td>1554</td>\n",
       "    </tr>\n",
       "    <tr>\n",
       "      <th>3</th>\n",
       "      <td>5.0</td>\n",
       "      <td>273</td>\n",
       "      <td>867</td>\n",
       "    </tr>\n",
       "    <tr>\n",
       "      <th>4</th>\n",
       "      <td>2.0</td>\n",
       "      <td>18</td>\n",
       "      <td>3373</td>\n",
       "    </tr>\n",
       "    <tr>\n",
       "      <th>...</th>\n",
       "      <td>...</td>\n",
       "      <td>...</td>\n",
       "      <td>...</td>\n",
       "    </tr>\n",
       "    <tr>\n",
       "      <th>30246</th>\n",
       "      <td>1.0</td>\n",
       "      <td>599</td>\n",
       "      <td>1694</td>\n",
       "    </tr>\n",
       "    <tr>\n",
       "      <th>30247</th>\n",
       "      <td>3.5</td>\n",
       "      <td>569</td>\n",
       "      <td>1225</td>\n",
       "    </tr>\n",
       "    <tr>\n",
       "      <th>30248</th>\n",
       "      <td>4.0</td>\n",
       "      <td>314</td>\n",
       "      <td>1294</td>\n",
       "    </tr>\n",
       "    <tr>\n",
       "      <th>30249</th>\n",
       "      <td>3.5</td>\n",
       "      <td>488</td>\n",
       "      <td>2433</td>\n",
       "    </tr>\n",
       "    <tr>\n",
       "      <th>30250</th>\n",
       "      <td>3.5</td>\n",
       "      <td>21</td>\n",
       "      <td>4173</td>\n",
       "    </tr>\n",
       "  </tbody>\n",
       "</table>\n",
       "<p>30251 rows × 3 columns</p>\n",
       "</div>"
      ],
      "text/plain": [
       "       rating  user_index  movie_index\n",
       "0         2.5         426          943\n",
       "1         3.0         110        10120\n",
       "2         4.0         304         1554\n",
       "3         5.0         273          867\n",
       "4         2.0          18         3373\n",
       "...       ...         ...          ...\n",
       "30246     1.0         599         1694\n",
       "30247     3.5         569         1225\n",
       "30248     4.0         314         1294\n",
       "30249     3.5         488         2433\n",
       "30250     3.5          21         4173\n",
       "\n",
       "[30251 rows x 3 columns]"
      ]
     },
     "execution_count": 22,
     "metadata": {},
     "output_type": "execute_result"
    }
   ],
   "source": [
    "df_test"
   ]
  },
  {
   "cell_type": "code",
   "execution_count": 21,
   "id": "ab52d998",
   "metadata": {},
   "outputs": [
    {
     "data": {
      "text/plain": [
       "(30251, 3)"
      ]
     },
     "execution_count": 21,
     "metadata": {},
     "output_type": "execute_result"
    }
   ],
   "source": [
    "df_test.shape"
   ]
  },
  {
   "cell_type": "code",
   "execution_count": 66,
   "id": "8edb6443",
   "metadata": {},
   "outputs": [],
   "source": [
    "# For large number of predictions we can split the input data into chunks\n",
    "# array_split is convenient\n",
    "\n",
    "def get_predictions(predictor, arr_features):\n",
    "    \n",
    "    predictions =[]\n",
    "    print(arr_features.shape)\n",
    "    for arr in np.array_split(arr_features,100):\n",
    "        print(arr.shape,end=', ')\n",
    "        if arr.shape[0]>0:\n",
    "            result = predictor.predict(arr)\n",
    "            predictions += [values['score'] for values in result['predictions']]\n",
    "            \n",
    "    return predictions"
   ]
  },
  {
   "cell_type": "code",
   "execution_count": 67,
   "id": "01957777",
   "metadata": {},
   "outputs": [
    {
     "name": "stdout",
     "output_type": "stream",
     "text": [
      "CPU times: user 3 µs, sys: 0 ns, total: 3 µs\n",
      "Wall time: 5.48 µs\n",
      "(30251, 2)\n",
      "(303, 2), (303, 2), (303, 2), (303, 2), (303, 2), (303, 2), (303, 2), (303, 2), (303, 2), (303, 2), (303, 2), (303, 2), (303, 2), (303, 2), (303, 2), (303, 2), (303, 2), (303, 2), (303, 2), (303, 2), (303, 2), (303, 2), (303, 2), (303, 2), (303, 2), (303, 2), (303, 2), (303, 2), (303, 2), (303, 2), (303, 2), (303, 2), (303, 2), (303, 2), (303, 2), (303, 2), (303, 2), (303, 2), (303, 2), (303, 2), (303, 2), (303, 2), (303, 2), (303, 2), (303, 2), (303, 2), (303, 2), (303, 2), (303, 2), (303, 2), (303, 2), (302, 2), (302, 2), (302, 2), (302, 2), (302, 2), (302, 2), (302, 2), (302, 2), (302, 2), (302, 2), (302, 2), (302, 2), (302, 2), (302, 2), (302, 2), (302, 2), (302, 2), (302, 2), (302, 2), (302, 2), (302, 2), (302, 2), (302, 2), (302, 2), (302, 2), (302, 2), (302, 2), (302, 2), (302, 2), (302, 2), (302, 2), (302, 2), (302, 2), (302, 2), (302, 2), (302, 2), (302, 2), (302, 2), (302, 2), (302, 2), (302, 2), (302, 2), (302, 2), (302, 2), (302, 2), (302, 2), (302, 2), (302, 2), (302, 2), "
     ]
    }
   ],
   "source": [
    "%time\n",
    "predictions = get_predictions(predictor,df_test[['user_index','movie_index']].values)"
   ]
  },
  {
   "cell_type": "code",
   "execution_count": 68,
   "id": "98dd9c97",
   "metadata": {},
   "outputs": [
    {
     "data": {
      "text/plain": [
       "30251"
      ]
     },
     "execution_count": 68,
     "metadata": {},
     "output_type": "execute_result"
    }
   ],
   "source": [
    "len(predictions)"
   ]
  },
  {
   "cell_type": "code",
   "execution_count": 69,
   "id": "8079cd3d",
   "metadata": {},
   "outputs": [],
   "source": [
    "df_test['predictions']=predictions"
   ]
  },
  {
   "cell_type": "code",
   "execution_count": 71,
   "id": "b1cb5fb3",
   "metadata": {},
   "outputs": [
    {
     "data": {
      "text/html": [
       "<div>\n",
       "<style scoped>\n",
       "    .dataframe tbody tr th:only-of-type {\n",
       "        vertical-align: middle;\n",
       "    }\n",
       "\n",
       "    .dataframe tbody tr th {\n",
       "        vertical-align: top;\n",
       "    }\n",
       "\n",
       "    .dataframe thead th {\n",
       "        text-align: right;\n",
       "    }\n",
       "</style>\n",
       "<table border=\"1\" class=\"dataframe\">\n",
       "  <thead>\n",
       "    <tr style=\"text-align: right;\">\n",
       "      <th></th>\n",
       "      <th>rating</th>\n",
       "      <th>predictions</th>\n",
       "    </tr>\n",
       "  </thead>\n",
       "  <tbody>\n",
       "    <tr>\n",
       "      <th>0</th>\n",
       "      <td>2.5</td>\n",
       "      <td>2.851576</td>\n",
       "    </tr>\n",
       "    <tr>\n",
       "      <th>1</th>\n",
       "      <td>3.0</td>\n",
       "      <td>3.107434</td>\n",
       "    </tr>\n",
       "    <tr>\n",
       "      <th>2</th>\n",
       "      <td>4.0</td>\n",
       "      <td>4.020742</td>\n",
       "    </tr>\n",
       "    <tr>\n",
       "      <th>3</th>\n",
       "      <td>5.0</td>\n",
       "      <td>4.131877</td>\n",
       "    </tr>\n",
       "    <tr>\n",
       "      <th>4</th>\n",
       "      <td>2.0</td>\n",
       "      <td>2.294044</td>\n",
       "    </tr>\n",
       "    <tr>\n",
       "      <th>...</th>\n",
       "      <td>...</td>\n",
       "      <td>...</td>\n",
       "    </tr>\n",
       "    <tr>\n",
       "      <th>30246</th>\n",
       "      <td>1.0</td>\n",
       "      <td>2.512005</td>\n",
       "    </tr>\n",
       "    <tr>\n",
       "      <th>30247</th>\n",
       "      <td>3.5</td>\n",
       "      <td>3.144384</td>\n",
       "    </tr>\n",
       "    <tr>\n",
       "      <th>30248</th>\n",
       "      <td>4.0</td>\n",
       "      <td>3.269621</td>\n",
       "    </tr>\n",
       "    <tr>\n",
       "      <th>30249</th>\n",
       "      <td>3.5</td>\n",
       "      <td>2.677343</td>\n",
       "    </tr>\n",
       "    <tr>\n",
       "      <th>30250</th>\n",
       "      <td>3.5</td>\n",
       "      <td>2.782026</td>\n",
       "    </tr>\n",
       "  </tbody>\n",
       "</table>\n",
       "<p>30251 rows × 2 columns</p>\n",
       "</div>"
      ],
      "text/plain": [
       "       rating  predictions\n",
       "0         2.5     2.851576\n",
       "1         3.0     3.107434\n",
       "2         4.0     4.020742\n",
       "3         5.0     4.131877\n",
       "4         2.0     2.294044\n",
       "...       ...          ...\n",
       "30246     1.0     2.512005\n",
       "30247     3.5     3.144384\n",
       "30248     4.0     3.269621\n",
       "30249     3.5     2.677343\n",
       "30250     3.5     2.782026\n",
       "\n",
       "[30251 rows x 2 columns]"
      ]
     },
     "execution_count": 71,
     "metadata": {},
     "output_type": "execute_result"
    }
   ],
   "source": [
    "df_test[['rating','predictions']]"
   ]
  },
  {
   "cell_type": "code",
   "execution_count": 72,
   "id": "1f182e6d",
   "metadata": {},
   "outputs": [],
   "source": [
    "import sklearn.metrics as metrics"
   ]
  },
  {
   "cell_type": "code",
   "execution_count": 73,
   "id": "12ee8b13",
   "metadata": {},
   "outputs": [
    {
     "name": "stdout",
     "output_type": "stream",
     "text": [
      "RMSE:  0.9069811423766297\n"
     ]
    }
   ],
   "source": [
    "print('RMSE: ', metrics.mean_squared_error(df_test.rating, df_test.predictions)**.5)"
   ]
  },
  {
   "cell_type": "code",
   "execution_count": 75,
   "id": "c58be8d4",
   "metadata": {},
   "outputs": [],
   "source": [
    "# Training Data Residuals\n",
    "\n",
    "residuals = (df_test.predictions -df_test.rating)"
   ]
  },
  {
   "cell_type": "code",
   "execution_count": 77,
   "id": "53ecfde8",
   "metadata": {},
   "outputs": [
    {
     "data": {
      "image/png": "[encoded data removed]",
      "text/plain": [
       "<Figure size 640x480 with 1 Axes>"
      ]
     },
     "metadata": {},
     "output_type": "display_data"
    }
   ],
   "source": [
    "plt.hist(residuals)\n",
    "plt.grid(True)\n",
    "plt.xlabel('Predicted - Actual')\n",
    "plt.ylabel('Count')\n",
    "plt.title('Residual Distribution')\n",
    "plt.show()"
   ]
  },
  {
   "cell_type": "markdown",
   "id": "29a76d93",
   "metadata": {},
   "source": [
    "### Get Prediction for a single user and all movies"
   ]
  },
  {
   "cell_type": "code",
   "execution_count": 78,
   "id": "7527130f",
   "metadata": {},
   "outputs": [],
   "source": [
    "# load the one hot encoded svm for user 1\n",
    "\n",
    "test_file = r'ml-latest-small/one_hot_enc_movies.svm'"
   ]
  },
  {
   "cell_type": "code",
   "execution_count": null,
   "id": "dca52687",
   "metadata": {},
   "outputs": [],
   "source": [
    "df_one_user_test = "
   ]
  }
 ],
 "metadata": {
  "kernelspec": {
   "display_name": "conda_tensorflow2_p310",
   "language": "python",
   "name": "conda_tensorflow2_p310"
  },
  "language_info": {
   "codemirror_mode": {
    "name": "ipython",
    "version": 3
   },
   "file_extension": ".py",
   "mimetype": "text/x-python",
   "name": "python",
   "nbconvert_exporter": "python",
   "pygments_lexer": "ipython3",
   "version": "3.10.14"
  }
 },
 "nbformat": 4,
 "nbformat_minor": 5
}
