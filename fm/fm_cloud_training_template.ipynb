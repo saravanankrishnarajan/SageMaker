{
 "cells": [
  {
   "cell_type": "markdown",
   "id": "ca9cab06",
   "metadata": {},
   "source": [
    "### Factorization Machines - Movie Recommendation Model\n",
    "Input features: ['userId','movieId']\n",
    "Target: rating"
   ]
  },
  {
   "cell_type": "code",
   "execution_count": 1,
   "id": "9053244b",
   "metadata": {},
   "outputs": [
    {
     "name": "stdout",
     "output_type": "stream",
     "text": [
      "sagemaker.config INFO - Not applying SDK defaults from location: /etc/xdg/sagemaker/config.yaml\n",
      "sagemaker.config INFO - Not applying SDK defaults from location: /home/ec2-user/.config/sagemaker/config.yaml\n"
     ]
    }
   ],
   "source": [
    "import numpy as np\n",
    "import pandas as pd\n",
    "\n",
    "#Define IAM role\n",
    "import boto3\n",
    "import re\n",
    "import sagemaker\n",
    "from sagemaker import get_execution_role"
   ]
  },
  {
   "cell_type": "markdown",
   "id": "f70a7975",
   "metadata": {},
   "source": [
    "#### Upload Data to S3"
   ]
  },
  {
   "cell_type": "code",
   "execution_count": 2,
   "id": "9093d48e",
   "metadata": {},
   "outputs": [],
   "source": [
    "### Import s3 bucket name as environment variable\n",
    "\n",
    "import os\n",
    "env_vars = !cat ./.env\n",
    "for var in env_vars:\n",
    "    key, value = var.split('=')\n",
    "    os.environ[key] = value"
   ]
  },
  {
   "cell_type": "code",
   "execution_count": 4,
   "id": "ce804820",
   "metadata": {},
   "outputs": [],
   "source": [
    "bucket_name = os.environ['BUCKET_NAME']\n",
    "training_file_key = 'movie/user_movie_train.recordio'\n",
    "test_file_key = 'movie/user_movie_test.recordio'\n",
    "\n",
    "s3_model_output_location = r's3://{}/movie/model'.format(bucket_name)\n",
    "s3_training_file_location = r's3://{}/{}'.format(bucket_name,training_file_key)\n",
    "s3_test_file_location = r's3://{}/{}'.format(bucket_name, test_file_key)"
   ]
  },
  {
   "cell_type": "code",
   "execution_count": 5,
   "id": "fc30287b",
   "metadata": {},
   "outputs": [],
   "source": [
    "# Read Dimension:Number of unique users + number of unique movies in our dataset\n",
    "\n",
    "dim_movie = 0\n",
    "\n",
    "#Update movie dimension - from file used for training\n",
    "with open(r'ml-latest-small/movie_dimension.txt') as f:\n",
    "    dim_movie= int(f.read())"
   ]
  },
  {
   "cell_type": "code",
   "execution_count": 6,
   "id": "06492b35",
   "metadata": {},
   "outputs": [
    {
     "data": {
      "text/plain": [
       "10334"
      ]
     },
     "execution_count": 6,
     "metadata": {},
     "output_type": "execute_result"
    }
   ],
   "source": [
    "dim_movie"
   ]
  },
  {
   "cell_type": "code",
   "execution_count": 8,
   "id": "78984846",
   "metadata": {},
   "outputs": [],
   "source": [
    "# Write and Reading from S3\n",
    "# files are referred as objects in S3.  \n",
    "# file name is referred as key name in S3\n",
    "# Files stored in S3 are automatically replicated across 3 different availability zones \n",
    "# in the region where the bucket was created.\n",
    "\n",
    "def write_to_s3(filename,bucket,key):\n",
    "    with open(filename, 'rb') as f:\n",
    "        boto3.Session().resource('s3').Bucket(bucket).Object(key).upload_fileobj(f)"
   ]
  },
  {
   "cell_type": "code",
   "execution_count": 9,
   "id": "f684ad60",
   "metadata": {},
   "outputs": [],
   "source": [
    "write_to_s3(r'ml-latest-small/user_movie_train.recordio',bucket_name,training_file_key)\n",
    "write_to_s3(r'ml-latest-small/user_movie_test.recordio',bucket_name,test_file_key)"
   ]
  },
  {
   "cell_type": "markdown",
   "id": "b9b0d026",
   "metadata": {},
   "source": [
    "### Training Algorithm Docker Image"
   ]
  },
  {
   "cell_type": "code",
   "execution_count": 10,
   "id": "8b129cf5",
   "metadata": {},
   "outputs": [],
   "source": [
    "# We use spot instance for traing\n",
    "\n",
    "use_spot_instances = True\n",
    "max_run = 3600\n",
    "max_wait = 3600\n",
    "\n",
    "job_name = 'fm-movie-v4'\n",
    "\n",
    "checkpoint_s3_uri = None\n",
    "\n",
    "if use_spot_instances:\n",
    "    checkpoint_s3_uri = f's3://{bucket_name}/movie/checkpoints/{job_name}'"
   ]
  },
  {
   "cell_type": "code",
   "execution_count": 12,
   "id": "69a00f53",
   "metadata": {},
   "outputs": [
    {
     "data": {
      "text/plain": [
       "<sagemaker.session.Session at 0x7f9321763be0>"
      ]
     },
     "execution_count": 12,
     "metadata": {},
     "output_type": "execute_result"
    }
   ],
   "source": [
    "sess = sagemaker.Session()\n",
    "sess"
   ]
  },
  {
   "cell_type": "code",
   "execution_count": 13,
   "id": "ee90d8ad",
   "metadata": {},
   "outputs": [],
   "source": [
    "role = get_execution_role()"
   ]
  },
  {
   "cell_type": "code",
   "execution_count": 15,
   "id": "fd004445",
   "metadata": {},
   "outputs": [
    {
     "name": "stdout",
     "output_type": "stream",
     "text": [
      "using FM container 382416733822.dkr.ecr.us-east-1.amazonaws.com/factorization-machines:1\n"
     ]
    }
   ],
   "source": [
    "# Use fatorization-machines\n",
    "\n",
    "container = sagemaker.image_uris.retrieve(\"factorization-machines\",sess.boto_region_name)\n",
    "print(f'using FM container {container}')"
   ]
  },
  {
   "cell_type": "markdown",
   "id": "9c893096",
   "metadata": {},
   "source": [
    "#### Build Model"
   ]
  },
  {
   "cell_type": "code",
   "execution_count": 16,
   "id": "ff2d363e",
   "metadata": {},
   "outputs": [],
   "source": [
    "# Configure training job\n",
    "# specify type and number of instances to use\n",
    "# s3 location where final artifacts needs tobe stored\n",
    "\n",
    "# SDK 2.x version does not require train prefix for instance count and type\n",
    "\n",
    "estimator = sagemaker.estimator.Estimator(container,\n",
    "                                          role,\n",
    "                                          instance_count=1,\n",
    "                                          instance_type='ml.m5.xlarge',\n",
    "                                          output_path=s3_model_output_location,\n",
    "                                          sagemaker_session=sess,\n",
    "                                          base_job_name=job_name,\n",
    "                                          use_spot_instances=use_spot_instances,\n",
    "                                          max_run=max_run,\n",
    "                                          max_wait=max_wait,\n",
    "                                          checkpoint_s3_uri=checkpoint_s3_uri\n",
    "                                    \n",
    "                )"
   ]
  },
  {
   "cell_type": "markdown",
   "id": "ac53fdd9",
   "metadata": {},
   "source": [
    "#### New Configuration after Model tuning"
   ]
  },
  {
   "cell_type": "code",
   "execution_count": 17,
   "id": "51240d1c",
   "metadata": {},
   "outputs": [],
   "source": [
    "estimator.set_hyperparameters(feature_dim=dim_movie,\n",
    "                             num_factors=8,\n",
    "                              predictor_type='regressor',\n",
    "                              mini_batch_size=994,\n",
    "                              epochs=91,\n",
    "                              bias_init_method='normal',\n",
    "                              bias_lr=0.21899531189430518,\n",
    "                              factors_init_method='normal',\n",
    "                              factors_lr=5.357593337770278e-05,\n",
    "                              linear_init_method='normal',\n",
    "                              linear_lr=0.00021524948053767607)"
   ]
  },
  {
   "cell_type": "code",
   "execution_count": 18,
   "id": "35a75aef",
   "metadata": {},
   "outputs": [
    {
     "data": {
      "text/plain": [
       "{'feature_dim': 10334,\n",
       " 'num_factors': 8,\n",
       " 'predictor_type': 'regressor',\n",
       " 'mini_batch_size': 994,\n",
       " 'epochs': 91,\n",
       " 'bias_init_method': 'normal',\n",
       " 'bias_lr': 0.21899531189430518,\n",
       " 'factors_init_method': 'normal',\n",
       " 'factors_lr': 5.357593337770278e-05,\n",
       " 'linear_init_method': 'normal',\n",
       " 'linear_lr': 0.00021524948053767607}"
      ]
     },
     "execution_count": 18,
     "metadata": {},
     "output_type": "execute_result"
    }
   ],
   "source": [
    "estimator.hyperparameters()"
   ]
  },
  {
   "cell_type": "markdown",
   "id": "4ff8bea3",
   "metadata": {},
   "source": [
    "#### Train the model"
   ]
  },
  {
   "cell_type": "code",
   "execution_count": null,
   "id": "c9f8b51a",
   "metadata": {},
   "outputs": [
    {
     "name": "stderr",
     "output_type": "stream",
     "text": [
      "INFO:sagemaker:Creating training-job with name: fm-movie-v4-2024-05-14-23-24-41-131\n"
     ]
    },
    {
     "name": "stdout",
     "output_type": "stream",
     "text": [
      "2024-05-14 23:24:41 Starting - Starting the training job...\n",
      "2024-05-14 23:24:57 Starting - Preparing the instances for training...\n",
      "2024-05-14 23:25:24 Downloading - Downloading input data...\n",
      "2024-05-14 23:25:45 Downloading - Downloading the training image.................."
     ]
    }
   ],
   "source": [
    "estimator.fit({'train':s3_training_file_location, 'test':s3_test_file_location})"
   ]
  },
  {
   "cell_type": "code",
   "execution_count": null,
   "id": "89ab68c9",
   "metadata": {},
   "outputs": [],
   "source": []
  }
 ],
 "metadata": {
  "kernelspec": {
   "display_name": "conda_tensorflow2_p310",
   "language": "python",
   "name": "conda_tensorflow2_p310"
  },
  "language_info": {
   "codemirror_mode": {
    "name": "ipython",
    "version": 3
   },
   "file_extension": ".py",
   "mimetype": "text/x-python",
   "name": "python",
   "nbconvert_exporter": "python",
   "pygments_lexer": "ipython3",
   "version": "3.10.14"
  }
 },
 "nbformat": 4,
 "nbformat_minor": 5
}
