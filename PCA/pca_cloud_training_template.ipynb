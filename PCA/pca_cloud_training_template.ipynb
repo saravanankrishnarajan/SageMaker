{
 "cells": [
  {
   "cell_type": "code",
   "execution_count": 1,
   "id": "4f03654a",
   "metadata": {},
   "outputs": [
    {
     "name": "stdout",
     "output_type": "stream",
     "text": [
      "sagemaker.config INFO - Not applying SDK defaults from location: /etc/xdg/sagemaker/config.yaml\n",
      "sagemaker.config INFO - Not applying SDK defaults from location: /home/ec2-user/.config/sagemaker/config.yaml\n"
     ]
    }
   ],
   "source": [
    "import numpy as np\n",
    "import pandas as pd\n",
    "\n",
    "import boto3\n",
    "import re\n",
    "\n",
    "import sagemaker\n",
    "from sagemaker import get_execution_role"
   ]
  },
  {
   "cell_type": "markdown",
   "id": "587fd0e1",
   "metadata": {},
   "source": [
    "#### Upload recordio data to s3"
   ]
  },
  {
   "cell_type": "code",
   "execution_count": 2,
   "id": "303cc4e9",
   "metadata": {},
   "outputs": [],
   "source": [
    "### Import s3 bucket name as environment variable\n",
    "\n",
    "import os\n",
    "env_vars = !cat ./.env\n",
    "for var in env_vars:\n",
    "    key, value = var.split('=')\n",
    "    os.environ[key] = value"
   ]
  },
  {
   "cell_type": "code",
   "execution_count": 3,
   "id": "6a5b04d3",
   "metadata": {},
   "outputs": [],
   "source": [
    "# Initializing s3 bucket and s3 locations\n",
    "\n",
    "bucket_name = os.environ['BUCKET_NAME']"
   ]
  },
  {
   "cell_type": "code",
   "execution_count": 4,
   "id": "63af67bc",
   "metadata": {},
   "outputs": [],
   "source": [
    "training_file_key = 'biketrain/bike_train_numeric_columns.recordio'\n",
    "\n",
    "s3_model_output_location = r's3://{0}/biketrain/model'.format(bucket_name)\n",
    "s3_training_file_location = r's3://{0}/{1}'.format(bucket_name,training_file_key)"
   ]
  },
  {
   "cell_type": "code",
   "execution_count": 7,
   "id": "de36b225",
   "metadata": {},
   "outputs": [],
   "source": [
    "# Write the file into s3\n",
    "\n",
    "def write_to_s3(filename,bucket,key):\n",
    "    with open(filename,'rb') as f:\n",
    "        return boto3.Session().resource('s3').Bucket(bucket).Object(key).upload_fileobj(f)"
   ]
  },
  {
   "cell_type": "code",
   "execution_count": 8,
   "id": "8d8bafa7",
   "metadata": {},
   "outputs": [],
   "source": [
    "write_to_s3('bike_train_numeric_columns.recordio',bucket_name,training_file_key)"
   ]
  },
  {
   "cell_type": "markdown",
   "id": "38731b5b",
   "metadata": {},
   "source": [
    "### Training Algorithm using Docker image"
   ]
  },
  {
   "cell_type": "code",
   "execution_count": 9,
   "id": "2e35a392",
   "metadata": {},
   "outputs": [],
   "source": [
    "use_spot_instances = True\n",
    "max_run = 3600\n",
    "max_wait = 3600 if use_spot_instances else None \n",
    "\n",
    "job_name = 'pca-biketrain-v1'\n",
    "\n",
    "checkpoint_s3_uri = None\n",
    "\n",
    "if use_spot_instances:\n",
    "    checkpoint_s3_uri = f's3://{bucket_name}/bikerental/checkpoints/{job_name}'\n"
   ]
  },
  {
   "cell_type": "code",
   "execution_count": 11,
   "id": "d8a85717",
   "metadata": {},
   "outputs": [],
   "source": [
    "sess = sagemaker.Session()"
   ]
  },
  {
   "cell_type": "code",
   "execution_count": 12,
   "id": "b9a46c47",
   "metadata": {},
   "outputs": [],
   "source": [
    "role = get_execution_role()"
   ]
  },
  {
   "cell_type": "code",
   "execution_count": 17,
   "id": "805118f1",
   "metadata": {},
   "outputs": [
    {
     "name": "stdout",
     "output_type": "stream",
     "text": [
      "Using pca Container 382416733822.dkr.ecr.us-east-1.amazonaws.com/pca:1\n"
     ]
    }
   ],
   "source": [
    "# SDK 2 uses image_uris.retrieve to retrieve container image location\n",
    "\n",
    "container = sagemaker.image_uris.retrieve('pca',sess.boto_region_name)\n",
    "\n",
    "print(f'Using pca Container {container}')"
   ]
  },
  {
   "cell_type": "markdown",
   "id": "5f9cbc28",
   "metadata": {},
   "source": [
    "#### Build Model"
   ]
  },
  {
   "cell_type": "code",
   "execution_count": 19,
   "id": "c4f53622",
   "metadata": {},
   "outputs": [],
   "source": [
    "# Access appropriate algorithm container image\n",
    "#  Specify how many instances to use for distributed training and what type of machine to use\n",
    "#  Finally, specify where the trained model artifacts needs to be stored\n",
    "#   Reference: http://sagemaker.readthedocs.io/en/latest/estimators.html\n",
    "#    Optionally, give a name to the training job using base_job_name\n",
    "\n",
    "# SDK 2.0\n",
    "\n",
    "estimator = sagemaker.estimator.Estimator(container,\n",
    "                                         role,\n",
    "                                         instance_count=1,\n",
    "                                         instance_type='ml.m5.xlarge',\n",
    "                                         output_path=s3_model_output_location,\n",
    "                                         sagemaker_session=sess,\n",
    "                                         base_job_name=job_name,\n",
    "                                         use_spot_instances=use_spot_instances,\n",
    "                                         max_run=max_run,\n",
    "                                         max_wait=max_wait,\n",
    "                                         checkpoint_s3_uri=checkpoint_s3_uri\n",
    "                                         )"
   ]
  },
  {
   "cell_type": "code",
   "execution_count": 20,
   "id": "59b5d5cf",
   "metadata": {},
   "outputs": [],
   "source": [
    "# specify hyper parameters that appropriate for training algorithm\n",
    "\n",
    "estimator.set_hyperparameters(feature_dim=4,\n",
    "                             num_components=2,\n",
    "                             subtract_mean=False,\n",
    "                             algorithm_mode='regular',\n",
    "                             mini_batch_size=200)"
   ]
  },
  {
   "cell_type": "code",
   "execution_count": 21,
   "id": "687fe321",
   "metadata": {},
   "outputs": [
    {
     "data": {
      "text/plain": [
       "{'feature_dim': 4,\n",
       " 'num_components': 2,\n",
       " 'subtract_mean': False,\n",
       " 'algorithm_mode': 'regular',\n",
       " 'mini_batch_size': 200}"
      ]
     },
     "execution_count": 21,
     "metadata": {},
     "output_type": "execute_result"
    }
   ],
   "source": [
    "estimator.hyperparameters()"
   ]
  },
  {
   "cell_type": "markdown",
   "id": "adbed61d",
   "metadata": {},
   "source": [
    "#### Train the model"
   ]
  },
  {
   "cell_type": "code",
   "execution_count": 22,
   "id": "c7100733",
   "metadata": {},
   "outputs": [
    {
     "name": "stderr",
     "output_type": "stream",
     "text": [
      "INFO:sagemaker:Creating training-job with name: pca-biketrain-v1-2024-05-12-00-10-41-672\n"
     ]
    },
    {
     "name": "stdout",
     "output_type": "stream",
     "text": [
      "2024-05-12 00:10:41 Starting - Starting the training job...\n",
      "2024-05-12 00:10:57 Starting - Preparing the instances for training...\n",
      "2024-05-12 00:11:41 Downloading - Downloading the training image.........\n",
      "2024-05-12 00:13:07 Training - Training image download completed. Training in progress.\n",
      "2024-05-12 00:13:07 Uploading - Uploading generated training model\u001b[34mDocker entrypoint called with argument(s): train\u001b[0m\n",
      "\u001b[34mRunning default environment configuration script\u001b[0m\n",
      "\u001b[34m/opt/amazon/lib/python3.8/site-packages/mxnet/model.py:97: SyntaxWarning: \"is\" with a literal. Did you mean \"==\"?\n",
      "  if num_device is 1 and 'dist' not in kvstore:\u001b[0m\n",
      "\u001b[34m[05/12/2024 00:13:00 INFO 139783073036096] Reading default configuration from /opt/amazon/lib/python3.8/site-packages/algorithm/resources/default-conf.json: {'algorithm_mode': 'regular', 'subtract_mean': 'true', 'extra_components': '-1', 'force_dense': 'true', 'epochs': 1, '_log_level': 'info', '_kvstore': 'dist_sync', '_num_kv_servers': 'auto', '_num_gpus': 'auto'}\u001b[0m\n",
      "\u001b[34m[05/12/2024 00:13:00 INFO 139783073036096] Merging with provided configuration from /opt/ml/input/config/hyperparameters.json: {'algorithm_mode': 'regular', 'feature_dim': '4', 'mini_batch_size': '200', 'num_components': '2', 'subtract_mean': 'False'}\u001b[0m\n",
      "\u001b[34m[05/12/2024 00:13:00 INFO 139783073036096] Final configuration: {'algorithm_mode': 'regular', 'subtract_mean': 'False', 'extra_components': '-1', 'force_dense': 'true', 'epochs': 1, '_log_level': 'info', '_kvstore': 'dist_sync', '_num_kv_servers': 'auto', '_num_gpus': 'auto', 'feature_dim': '4', 'mini_batch_size': '200', 'num_components': '2'}\u001b[0m\n",
      "\u001b[34m[05/12/2024 00:13:00 WARNING 139783073036096] Loggers have already been setup.\u001b[0m\n",
      "\u001b[34m[05/12/2024 00:13:00 INFO 139783073036096] Launching parameter server for role scheduler\u001b[0m\n",
      "\u001b[34m[05/12/2024 00:13:00 INFO 139783073036096] {'ENVROOT': '/opt/amazon', 'PROTOCOL_BUFFERS_PYTHON_IMPLEMENTATION': 'cpp', 'HOSTNAME': 'ip-10-2-96-211.ec2.internal', 'TRAINING_JOB_NAME': 'pca-biketrain-v1-2024-05-12-00-10-41-672', 'NVIDIA_REQUIRE_CUDA': 'cuda>=9.0', 'TRAINING_JOB_ARN': 'arn:aws:sagemaker:us-east-1:731887523937:training-job/pca-biketrain-v1-2024-05-12-00-10-41-672', 'AWS_CONTAINER_CREDENTIALS_RELATIVE_URI': '/v2/credentials/proxy-03522fcd3060f6fe111aa7294cf9d0c7f34a1f819c9ee3fc99ffc57d411c2b4a-customer', 'CANONICAL_ENVROOT': '/opt/amazon', 'PYTHONUNBUFFERED': 'TRUE', 'NVIDIA_VISIBLE_DEVICES': 'all', 'LD_LIBRARY_PATH': '/opt/amazon/lib/python3.8/site-packages/cv2/../../../../lib:/usr/local/nvidia/lib64:/opt/amazon/lib', 'NVIDIA_DRIVER_CAPABILITIES': 'compute,utility', 'SAGEMAKER_MANAGED_WARMPOOL_CACHE_DIRECTORY': '/opt/ml/sagemaker/warmpoolcache', 'PATH': '/opt/amazon/bin:/usr/local/nvidia/bin:/usr/local/sbin:/usr/local/bin:/usr/sbin:/usr/bin:/sbin:/bin', 'PWD': '/', 'LANG': 'en_US.utf8', 'AWS_REGION': 'us-east-1', 'CUDA_VERSION': '11.1', 'HOME': '/root', 'SHLVL': '1', 'CUDA_COMPAT_NDRIVER_SUPPORTED_VERSION': '455.32.00', 'PROTOCOL_BUFFERS_PYTHON_IMPLEMENTATION_VERSION': '2', 'OMP_NUM_THREADS': '2', 'DMLC_INTERFACE': 'eth0', 'SAGEMAKER_HTTP_PORT': '8080', 'SAGEMAKER_DATA_PATH': '/opt/ml'}\u001b[0m\n",
      "\u001b[34m[05/12/2024 00:13:00 INFO 139783073036096] envs={'ENVROOT': '/opt/amazon', 'PROTOCOL_BUFFERS_PYTHON_IMPLEMENTATION': 'cpp', 'HOSTNAME': 'ip-10-2-96-211.ec2.internal', 'TRAINING_JOB_NAME': 'pca-biketrain-v1-2024-05-12-00-10-41-672', 'NVIDIA_REQUIRE_CUDA': 'cuda>=9.0', 'TRAINING_JOB_ARN': 'arn:aws:sagemaker:us-east-1:731887523937:training-job/pca-biketrain-v1-2024-05-12-00-10-41-672', 'AWS_CONTAINER_CREDENTIALS_RELATIVE_URI': '/v2/credentials/proxy-03522fcd3060f6fe111aa7294cf9d0c7f34a1f819c9ee3fc99ffc57d411c2b4a-customer', 'CANONICAL_ENVROOT': '/opt/amazon', 'PYTHONUNBUFFERED': 'TRUE', 'NVIDIA_VISIBLE_DEVICES': 'all', 'LD_LIBRARY_PATH': '/opt/amazon/lib/python3.8/site-packages/cv2/../../../../lib:/usr/local/nvidia/lib64:/opt/amazon/lib', 'NVIDIA_DRIVER_CAPABILITIES': 'compute,utility', 'SAGEMAKER_MANAGED_WARMPOOL_CACHE_DIRECTORY': '/opt/ml/sagemaker/warmpoolcache', 'PATH': '/opt/amazon/bin:/usr/local/nvidia/bin:/usr/local/sbin:/usr/local/bin:/usr/sbin:/usr/bin:/sbin:/bin', 'PWD': '/', 'LANG': 'en_US.utf8', 'AWS_REGION': 'us-east-1', 'CUDA_VERSION': '11.1', 'HOME': '/root', 'SHLVL': '1', 'CUDA_COMPAT_NDRIVER_SUPPORTED_VERSION': '455.32.00', 'PROTOCOL_BUFFERS_PYTHON_IMPLEMENTATION_VERSION': '2', 'OMP_NUM_THREADS': '2', 'DMLC_INTERFACE': 'eth0', 'SAGEMAKER_HTTP_PORT': '8080', 'SAGEMAKER_DATA_PATH': '/opt/ml', 'DMLC_ROLE': 'scheduler', 'DMLC_PS_ROOT_URI': '10.2.96.211', 'DMLC_PS_ROOT_PORT': '9000', 'DMLC_NUM_SERVER': '1', 'DMLC_NUM_WORKER': '1'}\u001b[0m\n",
      "\u001b[34m[05/12/2024 00:13:00 INFO 139783073036096] Launching parameter server for role server\u001b[0m\n",
      "\u001b[34m[05/12/2024 00:13:00 INFO 139783073036096] {'ENVROOT': '/opt/amazon', 'PROTOCOL_BUFFERS_PYTHON_IMPLEMENTATION': 'cpp', 'HOSTNAME': 'ip-10-2-96-211.ec2.internal', 'TRAINING_JOB_NAME': 'pca-biketrain-v1-2024-05-12-00-10-41-672', 'NVIDIA_REQUIRE_CUDA': 'cuda>=9.0', 'TRAINING_JOB_ARN': 'arn:aws:sagemaker:us-east-1:731887523937:training-job/pca-biketrain-v1-2024-05-12-00-10-41-672', 'AWS_CONTAINER_CREDENTIALS_RELATIVE_URI': '/v2/credentials/proxy-03522fcd3060f6fe111aa7294cf9d0c7f34a1f819c9ee3fc99ffc57d411c2b4a-customer', 'CANONICAL_ENVROOT': '/opt/amazon', 'PYTHONUNBUFFERED': 'TRUE', 'NVIDIA_VISIBLE_DEVICES': 'all', 'LD_LIBRARY_PATH': '/opt/amazon/lib/python3.8/site-packages/cv2/../../../../lib:/usr/local/nvidia/lib64:/opt/amazon/lib', 'NVIDIA_DRIVER_CAPABILITIES': 'compute,utility', 'SAGEMAKER_MANAGED_WARMPOOL_CACHE_DIRECTORY': '/opt/ml/sagemaker/warmpoolcache', 'PATH': '/opt/amazon/bin:/usr/local/nvidia/bin:/usr/local/sbin:/usr/local/bin:/usr/sbin:/usr/bin:/sbin:/bin', 'PWD': '/', 'LANG': 'en_US.utf8', 'AWS_REGION': 'us-east-1', 'CUDA_VERSION': '11.1', 'HOME': '/root', 'SHLVL': '1', 'CUDA_COMPAT_NDRIVER_SUPPORTED_VERSION': '455.32.00', 'PROTOCOL_BUFFERS_PYTHON_IMPLEMENTATION_VERSION': '2', 'OMP_NUM_THREADS': '2', 'DMLC_INTERFACE': 'eth0', 'SAGEMAKER_HTTP_PORT': '8080', 'SAGEMAKER_DATA_PATH': '/opt/ml'}\u001b[0m\n",
      "\u001b[34m[05/12/2024 00:13:00 INFO 139783073036096] envs={'ENVROOT': '/opt/amazon', 'PROTOCOL_BUFFERS_PYTHON_IMPLEMENTATION': 'cpp', 'HOSTNAME': 'ip-10-2-96-211.ec2.internal', 'TRAINING_JOB_NAME': 'pca-biketrain-v1-2024-05-12-00-10-41-672', 'NVIDIA_REQUIRE_CUDA': 'cuda>=9.0', 'TRAINING_JOB_ARN': 'arn:aws:sagemaker:us-east-1:731887523937:training-job/pca-biketrain-v1-2024-05-12-00-10-41-672', 'AWS_CONTAINER_CREDENTIALS_RELATIVE_URI': '/v2/credentials/proxy-03522fcd3060f6fe111aa7294cf9d0c7f34a1f819c9ee3fc99ffc57d411c2b4a-customer', 'CANONICAL_ENVROOT': '/opt/amazon', 'PYTHONUNBUFFERED': 'TRUE', 'NVIDIA_VISIBLE_DEVICES': 'all', 'LD_LIBRARY_PATH': '/opt/amazon/lib/python3.8/site-packages/cv2/../../../../lib:/usr/local/nvidia/lib64:/opt/amazon/lib', 'NVIDIA_DRIVER_CAPABILITIES': 'compute,utility', 'SAGEMAKER_MANAGED_WARMPOOL_CACHE_DIRECTORY': '/opt/ml/sagemaker/warmpoolcache', 'PATH': '/opt/amazon/bin:/usr/local/nvidia/bin:/usr/local/sbin:/usr/local/bin:/usr/sbin:/usr/bin:/sbin:/bin', 'PWD': '/', 'LANG': 'en_US.utf8', 'AWS_REGION': 'us-east-1', 'CUDA_VERSION': '11.1', 'HOME': '/root', 'SHLVL': '1', 'CUDA_COMPAT_NDRIVER_SUPPORTED_VERSION': '455.32.00', 'PROTOCOL_BUFFERS_PYTHON_IMPLEMENTATION_VERSION': '2', 'OMP_NUM_THREADS': '2', 'DMLC_INTERFACE': 'eth0', 'SAGEMAKER_HTTP_PORT': '8080', 'SAGEMAKER_DATA_PATH': '/opt/ml', 'DMLC_ROLE': 'server', 'DMLC_PS_ROOT_URI': '10.2.96.211', 'DMLC_PS_ROOT_PORT': '9000', 'DMLC_NUM_SERVER': '1', 'DMLC_NUM_WORKER': '1'}\u001b[0m\n",
      "\u001b[34m[05/12/2024 00:13:00 INFO 139783073036096] Environment: {'ENVROOT': '/opt/amazon', 'PROTOCOL_BUFFERS_PYTHON_IMPLEMENTATION': 'cpp', 'HOSTNAME': 'ip-10-2-96-211.ec2.internal', 'TRAINING_JOB_NAME': 'pca-biketrain-v1-2024-05-12-00-10-41-672', 'NVIDIA_REQUIRE_CUDA': 'cuda>=9.0', 'TRAINING_JOB_ARN': 'arn:aws:sagemaker:us-east-1:731887523937:training-job/pca-biketrain-v1-2024-05-12-00-10-41-672', 'AWS_CONTAINER_CREDENTIALS_RELATIVE_URI': '/v2/credentials/proxy-03522fcd3060f6fe111aa7294cf9d0c7f34a1f819c9ee3fc99ffc57d411c2b4a-customer', 'CANONICAL_ENVROOT': '/opt/amazon', 'PYTHONUNBUFFERED': 'TRUE', 'NVIDIA_VISIBLE_DEVICES': 'all', 'LD_LIBRARY_PATH': '/opt/amazon/lib/python3.8/site-packages/cv2/../../../../lib:/usr/local/nvidia/lib64:/opt/amazon/lib', 'NVIDIA_DRIVER_CAPABILITIES': 'compute,utility', 'SAGEMAKER_MANAGED_WARMPOOL_CACHE_DIRECTORY': '/opt/ml/sagemaker/warmpoolcache', 'PATH': '/opt/amazon/bin:/usr/local/nvidia/bin:/usr/local/sbin:/usr/local/bin:/usr/sbin:/usr/bin:/sbin:/bin', 'PWD': '/', 'LANG': 'en_US.utf8', 'AWS_REGION': 'us-east-1', 'CUDA_VERSION': '11.1', 'HOME': '/root', 'SHLVL': '1', 'CUDA_COMPAT_NDRIVER_SUPPORTED_VERSION': '455.32.00', 'PROTOCOL_BUFFERS_PYTHON_IMPLEMENTATION_VERSION': '2', 'OMP_NUM_THREADS': '2', 'DMLC_INTERFACE': 'eth0', 'SAGEMAKER_HTTP_PORT': '8080', 'SAGEMAKER_DATA_PATH': '/opt/ml', 'DMLC_ROLE': 'worker', 'DMLC_PS_ROOT_URI': '10.2.96.211', 'DMLC_PS_ROOT_PORT': '9000', 'DMLC_NUM_SERVER': '1', 'DMLC_NUM_WORKER': '1'}\u001b[0m\n",
      "\u001b[34mProcess 34 is a shell:scheduler.\u001b[0m\n",
      "\u001b[34mProcess 43 is a shell:server.\u001b[0m\n",
      "\u001b[34mProcess 7 is a worker.\u001b[0m\n",
      "\u001b[34m[05/12/2024 00:13:00 INFO 139783073036096] Using default worker.\u001b[0m\n",
      "\u001b[34m[05/12/2024 00:13:00 INFO 139783073036096] Loaded iterator creator application/x-labeled-vector-protobuf for content type ('application/x-labeled-vector-protobuf', '1.0')\u001b[0m\n",
      "\u001b[34m[05/12/2024 00:13:00 INFO 139783073036096] Loaded iterator creator application/x-recordio-protobuf for content type ('application/x-recordio-protobuf', '1.0')\u001b[0m\n",
      "\u001b[34m[05/12/2024 00:13:00 INFO 139783073036096] Loaded iterator creator protobuf for content type ('protobuf', '1.0')\u001b[0m\n",
      "\u001b[34m[05/12/2024 00:13:00 INFO 139783073036096] Checkpoint loading and saving are disabled.\u001b[0m\n",
      "\u001b[34m[05/12/2024 00:13:00 INFO 139783073036096] Create Store: dist_sync\u001b[0m\n",
      "\u001b[34m/opt/amazon/python3.8/lib/python3.8/subprocess.py:848: RuntimeWarning: line buffering (buffering=1) isn't supported in binary mode, the default buffer size will be used\n",
      "  self.stdout = io.open(c2pread, 'rb', bufsize)\u001b[0m\n",
      "\u001b[34m[05/12/2024 00:13:00 INFO 139783073036096] nvidia-smi: took 0.031 seconds to run.\u001b[0m\n",
      "\u001b[34m[05/12/2024 00:13:00 INFO 139783073036096] nvidia-smi identified 0 GPUs.\u001b[0m\n",
      "\u001b[34m[05/12/2024 00:13:00 INFO 139783073036096] Number of GPUs being used: 0\u001b[0m\n",
      "\u001b[34m[05/12/2024 00:13:00 INFO 139783073036096] The default executor is <PCAExecutor on cpu(0)>.\u001b[0m\n",
      "\u001b[34m[05/12/2024 00:13:00 INFO 139783073036096] 4 feature(s) found in 'data'.\u001b[0m\n",
      "\u001b[34m[05/12/2024 00:13:00 INFO 139783073036096] <PCAExecutor on cpu(0)> is assigned to batch slice from 0 to 199.\u001b[0m\n",
      "\u001b[34m#metrics {\"StartTime\": 1715472780.1332676, \"EndTime\": 1715472780.983535, \"Dimensions\": {\"Algorithm\": \"PCA\", \"Host\": \"algo-1\", \"Operation\": \"training\"}, \"Metrics\": {\"initialize.time\": {\"sum\": 835.2096080780029, \"count\": 1, \"min\": 835.2096080780029, \"max\": 835.2096080780029}}}\u001b[0m\n",
      "\u001b[34m#metrics {\"StartTime\": 1715472780.9837759, \"EndTime\": 1715472780.9838302, \"Dimensions\": {\"Algorithm\": \"PCA\", \"Host\": \"algo-1\", \"Operation\": \"training\", \"Meta\": \"init_train_data_iter\"}, \"Metrics\": {\"Total Records Seen\": {\"sum\": 0.0, \"count\": 1, \"min\": 0, \"max\": 0}, \"Total Batches Seen\": {\"sum\": 0.0, \"count\": 1, \"min\": 0, \"max\": 0}, \"Max Records Seen Between Resets\": {\"sum\": 0.0, \"count\": 1, \"min\": 0, \"max\": 0}, \"Max Batches Seen Between Resets\": {\"sum\": 0.0, \"count\": 1, \"min\": 0, \"max\": 0}, \"Reset Count\": {\"sum\": 0.0, \"count\": 1, \"min\": 0, \"max\": 0}, \"Number of Records Since Last Reset\": {\"sum\": 0.0, \"count\": 1, \"min\": 0, \"max\": 0}, \"Number of Batches Since Last Reset\": {\"sum\": 0.0, \"count\": 1, \"min\": 0, \"max\": 0}}}\u001b[0m\n",
      "\u001b[34m[2024-05-12 00:13:00.984] [tensorio] [info] epoch_stats={\"data_pipeline\": \"/opt/ml/input/data/train\", \"epoch\": 0, \"duration\": 850, \"num_examples\": 1, \"num_bytes\": 11200}\u001b[0m\n",
      "\u001b[34m[2024-05-12 00:13:01.037] [tensorio] [info] epoch_stats={\"data_pipeline\": \"/opt/ml/input/data/train\", \"epoch\": 1, \"duration\": 49, \"num_examples\": 55, \"num_bytes\": 609616}\u001b[0m\n",
      "\u001b[34m#metrics {\"StartTime\": 1715472780.9837046, \"EndTime\": 1715472781.0379064, \"Dimensions\": {\"Algorithm\": \"PCA\", \"Host\": \"algo-1\", \"Operation\": \"training\"}, \"Metrics\": {\"epochs\": {\"sum\": 1.0, \"count\": 1, \"min\": 1, \"max\": 1}, \"update.time\": {\"sum\": 53.64203453063965, \"count\": 1, \"min\": 53.64203453063965, \"max\": 53.64203453063965}}}\u001b[0m\n",
      "\u001b[34m[05/12/2024 00:13:01 INFO 139783073036096] #progress_metric: host=algo-1, completed 100.0 % of epochs\u001b[0m\n",
      "\u001b[34m#metrics {\"StartTime\": 1715472780.9842322, \"EndTime\": 1715472781.0382843, \"Dimensions\": {\"Algorithm\": \"PCA\", \"Host\": \"algo-1\", \"Operation\": \"training\", \"epoch\": 0, \"Meta\": \"training_data_iter\"}, \"Metrics\": {\"Total Records Seen\": {\"sum\": 10886.0, \"count\": 1, \"min\": 10886, \"max\": 10886}, \"Total Batches Seen\": {\"sum\": 55.0, \"count\": 1, \"min\": 55, \"max\": 55}, \"Max Records Seen Between Resets\": {\"sum\": 10886.0, \"count\": 1, \"min\": 10886, \"max\": 10886}, \"Max Batches Seen Between Resets\": {\"sum\": 55.0, \"count\": 1, \"min\": 55, \"max\": 55}, \"Reset Count\": {\"sum\": 1.0, \"count\": 1, \"min\": 1, \"max\": 1}, \"Number of Records Since Last Reset\": {\"sum\": 10886.0, \"count\": 1, \"min\": 10886, \"max\": 10886}, \"Number of Batches Since Last Reset\": {\"sum\": 55.0, \"count\": 1, \"min\": 55, \"max\": 55}}}\u001b[0m\n",
      "\u001b[34m[05/12/2024 00:13:01 INFO 139783073036096] #throughput_metric: host=algo-1, train throughput=200919.65863296532 records/second\u001b[0m\n",
      "\u001b[34m#metrics {\"StartTime\": 1715472781.0380387, \"EndTime\": 1715472781.0402486, \"Dimensions\": {\"Algorithm\": \"PCA\", \"Host\": \"algo-1\", \"Operation\": \"training\"}, \"Metrics\": {\"finalize.time\": {\"sum\": 1.5795230865478516, \"count\": 1, \"min\": 1.5795230865478516, \"max\": 1.5795230865478516}}}\u001b[0m\n",
      "\u001b[34m[05/12/2024 00:13:01 INFO 139783073036096] Test data is not provided.\u001b[0m\n",
      "\u001b[34m#metrics {\"StartTime\": 1715472781.0403242, \"EndTime\": 1715472781.0409951, \"Dimensions\": {\"Algorithm\": \"PCA\", \"Host\": \"algo-1\", \"Operation\": \"training\"}, \"Metrics\": {\"setuptime\": {\"sum\": 19.88983154296875, \"count\": 1, \"min\": 19.88983154296875, \"max\": 19.88983154296875}, \"totaltime\": {\"sum\": 1031.6729545593262, \"count\": 1, \"min\": 1031.6729545593262, \"max\": 1031.6729545593262}}}\u001b[0m\n"
     ]
    },
    {
     "name": "stdout",
     "output_type": "stream",
     "text": [
      "\n",
      "2024-05-12 00:13:18 Completed - Training job completed\n",
      "Training seconds: 112\n",
      "Billable seconds: 48\n",
      "Managed Spot Training savings: 57.1%\n"
     ]
    }
   ],
   "source": [
    "# XGBoost supports train validation channels\n",
    "\n",
    "estimator.fit({'train':s3_training_file_location})"
   ]
  },
  {
   "cell_type": "markdown",
   "id": "ae6a05e7",
   "metadata": {},
   "source": [
    "#### Deploy model"
   ]
  },
  {
   "cell_type": "code",
   "execution_count": 26,
   "id": "0fc2ce96",
   "metadata": {},
   "outputs": [
    {
     "name": "stderr",
     "output_type": "stream",
     "text": [
      "INFO:sagemaker:Creating model with name: pca-biketrain-v1-2024-05-12-00-14-44-592\n",
      "INFO:sagemaker:Creating endpoint-config with name pca-biketrain-v1\n",
      "INFO:sagemaker:Creating endpoint with name pca-biketrain-v1\n"
     ]
    },
    {
     "name": "stdout",
     "output_type": "stream",
     "text": [
      "------!"
     ]
    }
   ],
   "source": [
    "predictor = estimator.deploy(initial_instance_count=1,\n",
    "                         instance_type='ml.m5.xlarge',\n",
    "                         endpoint_name=job_name)"
   ]
  },
  {
   "cell_type": "markdown",
   "id": "460ae450",
   "metadata": {},
   "source": [
    "#### Run Predictions"
   ]
  },
  {
   "cell_type": "code",
   "execution_count": 29,
   "id": "3774395c",
   "metadata": {},
   "outputs": [],
   "source": [
    "# SDK 2.0 serializers\n",
    "# PCA output will be json so we use json deserializer\n",
    "from sagemaker.serializers import CSVSerializer\n",
    "from sagemaker.deserializers import JSONDeserializer\n",
    "\n",
    "predictor.serializer = CSVSerializer()\n",
    "predictor.deserializer = JSONDeserializer()"
   ]
  },
  {
   "cell_type": "code",
   "execution_count": 30,
   "id": "4f18113e",
   "metadata": {},
   "outputs": [
    {
     "data": {
      "text/plain": [
       "{'projections': [{'projection': [-0.3131008744239807, -0.9453434944152832]}]}"
      ]
     },
     "execution_count": 30,
     "metadata": {},
     "output_type": "execute_result"
    }
   ],
   "source": [
    "predictor.predict([[0.11876090844342149,0.1737361053905541,0.9776050390159696,0.0]])"
   ]
  },
  {
   "cell_type": "raw",
   "id": "731b15ef",
   "metadata": {},
   "source": [
    "# Expected \n",
    "-0.314289\t-0.084417"
   ]
  },
  {
   "cell_type": "code",
   "execution_count": 31,
   "id": "b28e3484",
   "metadata": {},
   "outputs": [
    {
     "data": {
      "text/plain": [
       "{'projections': [{'projection': [-0.32269519567489624, -0.9424563646316528]}]}"
      ]
     },
     "execution_count": 31,
     "metadata": {},
     "output_type": "execute_result"
    }
   ],
   "source": [
    "predictor.predict([[0.110467,0.166986,0.979751,0.0]])"
   ]
  },
  {
   "cell_type": "raw",
   "id": "09896e70",
   "metadata": {},
   "source": [
    "Expected\n",
    "-0.323481\t-0.080062"
   ]
  },
  {
   "cell_type": "code",
   "execution_count": 32,
   "id": "1ec480c2",
   "metadata": {},
   "outputs": [
    {
     "data": {
      "text/plain": [
       "{'projections': [{'projection': [-0.3131008446216583, -0.9453434944152832]},\n",
       "  {'projection': [-0.32269516587257385, -0.9424567222595215]},\n",
       "  {'projection': [-0.32269516587257385, -0.9424567222595215]},\n",
       "  {'projection': [-0.2985489070415497, -0.9494175910949707]},\n",
       "  {'projection': [-0.2985489070415497, -0.9494175910949707]}]}"
      ]
     },
     "execution_count": 32,
     "metadata": {},
     "output_type": "execute_result"
    }
   ],
   "source": [
    "predictor.predict([[0.11876091, 0.17373611, 0.97760504, 0.        ],\n",
    "       [0.11046696, 0.16698636, 0.9797513 , 0.        ],\n",
    "       [0.11046696, 0.16698636, 0.9797513 , 0.        ],\n",
    "       [0.12779176, 0.1869474 , 0.97402255, 0.        ],\n",
    "       [0.12779176, 0.1869474 , 0.97402255, 0.        ]])"
   ]
  },
  {
   "cell_type": "code",
   "execution_count": null,
   "id": "53d3950a",
   "metadata": {},
   "outputs": [],
   "source": []
  }
 ],
 "metadata": {
  "kernelspec": {
   "display_name": "Python 3 (ipykernel)",
   "language": "python",
   "name": "python3"
  },
  "language_info": {
   "codemirror_mode": {
    "name": "ipython",
    "version": 3
   },
   "file_extension": ".py",
   "mimetype": "text/x-python",
   "name": "python",
   "nbconvert_exporter": "python",
   "pygments_lexer": "ipython3",
   "version": "3.8.10"
  }
 },
 "nbformat": 4,
 "nbformat_minor": 5
}
