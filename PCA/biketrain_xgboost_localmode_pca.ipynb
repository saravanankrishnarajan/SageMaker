{
 "cells": [
  {
   "cell_type": "markdown",
   "id": "5b102437-95d1-46b5-b2e7-6c7b3954bc64",
   "metadata": {},
   "source": [
    "### Train model using PCA Components"
   ]
  },
  {
   "cell_type": "code",
   "execution_count": 3,
   "id": "a81e8558-153b-4623-9b8c-39591fbd1b8a",
   "metadata": {},
   "outputs": [
    {
     "name": "stdout",
     "output_type": "stream",
     "text": [
      "Collecting xgboost==1.7.2\n",
      "  Downloading xgboost-1.7.2-py3-none-manylinux2014_x86_64.whl (193.6 MB)\n",
      "\u001b[K     |████████████████████████████████| 193.6 MB 691 kB/s eta 0:00:014     |██████████████████████████      | 157.6 MB 11.0 MB/s eta 0:00:04\n",
      "\u001b[?25hRequirement already satisfied: scipy in /home/saravanan/.local/lib/python3.8/site-packages (from xgboost==1.7.2) (1.10.1)\n",
      "Requirement already satisfied: numpy in /home/saravanan/.local/lib/python3.8/site-packages (from xgboost==1.7.2) (1.24.4)\n",
      "Installing collected packages: xgboost\n",
      "Successfully installed xgboost-1.7.2\n"
     ]
    }
   ],
   "source": [
    "# install xgboost\n",
    "!pip install xgboost==1.7.2"
   ]
  },
  {
   "cell_type": "code",
   "execution_count": 4,
   "id": "152fd4ef-046a-44ba-b69b-23be7ef1cdb6",
   "metadata": {},
   "outputs": [],
   "source": [
    "%matplotlib inline\n",
    "import sys\n",
    "import numpy as np\n",
    "import pandas as pd\n",
    "import matplotlib.pyplot as plt\n",
    "import xgboost as xgb"
   ]
  },
  {
   "cell_type": "code",
   "execution_count": 5,
   "id": "f8075183-ce7a-4e28-abdb-cb18662e98e4",
   "metadata": {},
   "outputs": [],
   "source": [
    "columns_list_file = 'bike_train_column_list_pca.txt'\n",
    "train_file = 'bike_train_pca.csv'\n",
    "validation_file = 'bike_validation_pca.csv'\n",
    "test_file = 'bike_test_pca.csv'"
   ]
  },
  {
   "cell_type": "code",
   "execution_count": null,
   "id": "74e0334f-9344-4512-b8d6-1c2bf74e8a54",
   "metadata": {},
   "outputs": [],
   "source": [
    "columns = ''\n",
    "with open(columns_list_file,'r') as f:\n",
    "    columns = f.read().split(',')"
   ]
  }
 ],
 "metadata": {
  "kernelspec": {
   "display_name": "Python 3 (ipykernel)",
   "language": "python",
   "name": "python3"
  },
  "language_info": {
   "codemirror_mode": {
    "name": "ipython",
    "version": 3
   },
   "file_extension": ".py",
   "mimetype": "text/x-python",
   "name": "python",
   "nbconvert_exporter": "python",
   "pygments_lexer": "ipython3",
   "version": "3.8.10"
  }
 },
 "nbformat": 4,
 "nbformat_minor": 5
}
