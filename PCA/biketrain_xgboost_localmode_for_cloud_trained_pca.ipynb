{
 "cells": [
  {
   "cell_type": "markdown",
   "id": "3fb62c00-0547-4d0c-8acc-09ea56172953",
   "metadata": {},
   "source": [
    "### Train model using PCA components"
   ]
  },
  {
   "cell_type": "code",
   "execution_count": 2,
   "id": "44fac972-293d-48df-bf9d-9e854d4bcd48",
   "metadata": {},
   "outputs": [],
   "source": [
    "%matplotlib inline\n",
    "import numpy as np\n",
    "import pandas as pd\n",
    "import matplotlib.pyplot as plt\n",
    "import xgboost as xgb"
   ]
  },
  {
   "cell_type": "code",
   "execution_count": null,
   "id": "a2a2c9cd-2880-4690-80ab-1beda858fa51",
   "metadata": {},
   "outputs": [],
   "source": []
  },
  {
   "cell_type": "code",
   "execution_count": 3,
   "id": "7c849f01-e1b7-473f-939e-d5f606be1201",
   "metadata": {},
   "outputs": [],
   "source": [
    "columns_list_file='bike_train_column_list_pca_cloud.txt'\n",
    "train_file = 'bike_train_pca_cloud.csv'\n",
    "validation_file = 'bike_validation_pca_cloud.csv'\n",
    "test_file = 'bike_test_pca_cloud.csv'"
   ]
  },
  {
   "cell_type": "code",
   "execution_count": 4,
   "id": "06553ebb-ae72-44c7-91dc-1db51a54e7aa",
   "metadata": {},
   "outputs": [],
   "source": [
    "columns = ''\n",
    "with open('bike_train_column_list_pca_cloud.txt','r') as f:\n",
    "    columns = f.read().split(',')"
   ]
  },
  {
   "cell_type": "code",
   "execution_count": 5,
   "id": "2fd69693-adb6-4b11-a5e9-56312eb77a3c",
   "metadata": {},
   "outputs": [
    {
     "data": {
      "text/plain": [
       "['count',\n",
       " 'season',\n",
       " 'holiday',\n",
       " 'workingday',\n",
       " 'weather',\n",
       " 'year',\n",
       " 'month',\n",
       " 'day',\n",
       " 'dayofweek',\n",
       " 'hour',\n",
       " 'component_0',\n",
       " 'component_1']"
      ]
     },
     "execution_count": 5,
     "metadata": {},
     "output_type": "execute_result"
    }
   ],
   "source": [
    "columns"
   ]
  },
  {
   "cell_type": "code",
   "execution_count": 6,
   "id": "82a3f67e-5443-41a0-b030-9da65c22d614",
   "metadata": {},
   "outputs": [],
   "source": [
    "df_train = pd.read_csv(train_file,names=columns)\n",
    "df_validation = pd.read_csv(validation_file, names=columns)"
   ]
  },
  {
   "cell_type": "code",
   "execution_count": 7,
   "id": "ec6c24a4-94a6-4413-b651-2b3ecdbc2043",
   "metadata": {},
   "outputs": [
    {
     "data": {
      "text/html": [
       "<div>\n",
       "<style scoped>\n",
       "    .dataframe tbody tr th:only-of-type {\n",
       "        vertical-align: middle;\n",
       "    }\n",
       "\n",
       "    .dataframe tbody tr th {\n",
       "        vertical-align: top;\n",
       "    }\n",
       "\n",
       "    .dataframe thead th {\n",
       "        text-align: right;\n",
       "    }\n",
       "</style>\n",
       "<table border=\"1\" class=\"dataframe\">\n",
       "  <thead>\n",
       "    <tr style=\"text-align: right;\">\n",
       "      <th></th>\n",
       "      <th>count</th>\n",
       "      <th>season</th>\n",
       "      <th>holiday</th>\n",
       "      <th>workingday</th>\n",
       "      <th>weather</th>\n",
       "      <th>year</th>\n",
       "      <th>month</th>\n",
       "      <th>day</th>\n",
       "      <th>dayofweek</th>\n",
       "      <th>hour</th>\n",
       "      <th>component_0</th>\n",
       "      <th>component_1</th>\n",
       "    </tr>\n",
       "  </thead>\n",
       "  <tbody>\n",
       "    <tr>\n",
       "      <th>0</th>\n",
       "      <td>4.477337</td>\n",
       "      <td>3</td>\n",
       "      <td>0</td>\n",
       "      <td>0</td>\n",
       "      <td>2</td>\n",
       "      <td>2011</td>\n",
       "      <td>9</td>\n",
       "      <td>3</td>\n",
       "      <td>5</td>\n",
       "      <td>0</td>\n",
       "      <td>-0.015712</td>\n",
       "      <td>-0.993329</td>\n",
       "    </tr>\n",
       "    <tr>\n",
       "      <th>1</th>\n",
       "      <td>5.517453</td>\n",
       "      <td>3</td>\n",
       "      <td>0</td>\n",
       "      <td>1</td>\n",
       "      <td>1</td>\n",
       "      <td>2012</td>\n",
       "      <td>8</td>\n",
       "      <td>13</td>\n",
       "      <td>0</td>\n",
       "      <td>14</td>\n",
       "      <td>0.421141</td>\n",
       "      <td>-0.882900</td>\n",
       "    </tr>\n",
       "  </tbody>\n",
       "</table>\n",
       "</div>"
      ],
      "text/plain": [
       "      count  season  holiday  workingday  weather  year  month  day  \\\n",
       "0  4.477337       3        0           0        2  2011      9    3   \n",
       "1  5.517453       3        0           1        1  2012      8   13   \n",
       "\n",
       "   dayofweek  hour  component_0  component_1  \n",
       "0          5     0    -0.015712    -0.993329  \n",
       "1          0    14     0.421141    -0.882900  "
      ]
     },
     "execution_count": 7,
     "metadata": {},
     "output_type": "execute_result"
    }
   ],
   "source": [
    "df_train.head(2)"
   ]
  },
  {
   "cell_type": "code",
   "execution_count": 8,
   "id": "46ba446e-158e-49c4-9601-83d657a25a8f",
   "metadata": {},
   "outputs": [
    {
     "data": {
      "text/html": [
       "<div>\n",
       "<style scoped>\n",
       "    .dataframe tbody tr th:only-of-type {\n",
       "        vertical-align: middle;\n",
       "    }\n",
       "\n",
       "    .dataframe tbody tr th {\n",
       "        vertical-align: top;\n",
       "    }\n",
       "\n",
       "    .dataframe thead th {\n",
       "        text-align: right;\n",
       "    }\n",
       "</style>\n",
       "<table border=\"1\" class=\"dataframe\">\n",
       "  <thead>\n",
       "    <tr style=\"text-align: right;\">\n",
       "      <th></th>\n",
       "      <th>count</th>\n",
       "      <th>season</th>\n",
       "      <th>holiday</th>\n",
       "      <th>workingday</th>\n",
       "      <th>weather</th>\n",
       "      <th>year</th>\n",
       "      <th>month</th>\n",
       "      <th>day</th>\n",
       "      <th>dayofweek</th>\n",
       "      <th>hour</th>\n",
       "      <th>component_0</th>\n",
       "      <th>component_1</th>\n",
       "    </tr>\n",
       "  </thead>\n",
       "  <tbody>\n",
       "    <tr>\n",
       "      <th>0</th>\n",
       "      <td>6.095825</td>\n",
       "      <td>3</td>\n",
       "      <td>0</td>\n",
       "      <td>1</td>\n",
       "      <td>2</td>\n",
       "      <td>2011</td>\n",
       "      <td>7</td>\n",
       "      <td>7</td>\n",
       "      <td>3</td>\n",
       "      <td>8</td>\n",
       "      <td>0.009106</td>\n",
       "      <td>-0.998114</td>\n",
       "    </tr>\n",
       "    <tr>\n",
       "      <th>1</th>\n",
       "      <td>5.961005</td>\n",
       "      <td>2</td>\n",
       "      <td>0</td>\n",
       "      <td>0</td>\n",
       "      <td>1</td>\n",
       "      <td>2011</td>\n",
       "      <td>6</td>\n",
       "      <td>11</td>\n",
       "      <td>5</td>\n",
       "      <td>13</td>\n",
       "      <td>0.232854</td>\n",
       "      <td>-0.967271</td>\n",
       "    </tr>\n",
       "  </tbody>\n",
       "</table>\n",
       "</div>"
      ],
      "text/plain": [
       "      count  season  holiday  workingday  weather  year  month  day  \\\n",
       "0  6.095825       3        0           1        2  2011      7    7   \n",
       "1  5.961005       2        0           0        1  2011      6   11   \n",
       "\n",
       "   dayofweek  hour  component_0  component_1  \n",
       "0          3     8     0.009106    -0.998114  \n",
       "1          5    13     0.232854    -0.967271  "
      ]
     },
     "execution_count": 8,
     "metadata": {},
     "output_type": "execute_result"
    }
   ],
   "source": [
    "df_validation.head(2)"
   ]
  },
  {
   "cell_type": "code",
   "execution_count": 9,
   "id": "227251c8-15bb-4c50-a6f2-2486aa36fc12",
   "metadata": {},
   "outputs": [
    {
     "data": {
      "text/html": [
       "<div>\n",
       "<style scoped>\n",
       "    .dataframe tbody tr th:only-of-type {\n",
       "        vertical-align: middle;\n",
       "    }\n",
       "\n",
       "    .dataframe tbody tr th {\n",
       "        vertical-align: top;\n",
       "    }\n",
       "\n",
       "    .dataframe thead th {\n",
       "        text-align: right;\n",
       "    }\n",
       "</style>\n",
       "<table border=\"1\" class=\"dataframe\">\n",
       "  <thead>\n",
       "    <tr style=\"text-align: right;\">\n",
       "      <th></th>\n",
       "      <th>season</th>\n",
       "      <th>holiday</th>\n",
       "      <th>workingday</th>\n",
       "      <th>weather</th>\n",
       "      <th>year</th>\n",
       "      <th>month</th>\n",
       "      <th>day</th>\n",
       "      <th>dayofweek</th>\n",
       "      <th>hour</th>\n",
       "      <th>component_0</th>\n",
       "      <th>component_1</th>\n",
       "    </tr>\n",
       "  </thead>\n",
       "  <tbody>\n",
       "    <tr>\n",
       "      <th>0</th>\n",
       "      <td>3</td>\n",
       "      <td>0</td>\n",
       "      <td>0</td>\n",
       "      <td>2</td>\n",
       "      <td>2011</td>\n",
       "      <td>9</td>\n",
       "      <td>3</td>\n",
       "      <td>5</td>\n",
       "      <td>0</td>\n",
       "      <td>-0.015712</td>\n",
       "      <td>-0.993329</td>\n",
       "    </tr>\n",
       "    <tr>\n",
       "      <th>1</th>\n",
       "      <td>3</td>\n",
       "      <td>0</td>\n",
       "      <td>1</td>\n",
       "      <td>1</td>\n",
       "      <td>2012</td>\n",
       "      <td>8</td>\n",
       "      <td>13</td>\n",
       "      <td>0</td>\n",
       "      <td>14</td>\n",
       "      <td>0.421141</td>\n",
       "      <td>-0.882900</td>\n",
       "    </tr>\n",
       "  </tbody>\n",
       "</table>\n",
       "</div>"
      ],
      "text/plain": [
       "   season  holiday  workingday  weather  year  month  day  dayofweek  hour  \\\n",
       "0       3        0           0        2  2011      9    3          5     0   \n",
       "1       3        0           1        1  2012      8   13          0    14   \n",
       "\n",
       "   component_0  component_1  \n",
       "0    -0.015712    -0.993329  \n",
       "1     0.421141    -0.882900  "
      ]
     },
     "execution_count": 9,
     "metadata": {},
     "output_type": "execute_result"
    }
   ],
   "source": [
    "df_train.iloc[:,1:].head(2)"
   ]
  },
  {
   "cell_type": "code",
   "execution_count": 10,
   "id": "03414253-fb2c-48ba-a454-c56c37319176",
   "metadata": {},
   "outputs": [
    {
     "data": {
      "text/html": [
       "<div>\n",
       "<style scoped>\n",
       "    .dataframe tbody tr th:only-of-type {\n",
       "        vertical-align: middle;\n",
       "    }\n",
       "\n",
       "    .dataframe tbody tr th {\n",
       "        vertical-align: top;\n",
       "    }\n",
       "\n",
       "    .dataframe thead th {\n",
       "        text-align: right;\n",
       "    }\n",
       "</style>\n",
       "<table border=\"1\" class=\"dataframe\">\n",
       "  <thead>\n",
       "    <tr style=\"text-align: right;\">\n",
       "      <th></th>\n",
       "      <th>season</th>\n",
       "      <th>holiday</th>\n",
       "      <th>workingday</th>\n",
       "      <th>weather</th>\n",
       "      <th>year</th>\n",
       "      <th>month</th>\n",
       "      <th>day</th>\n",
       "      <th>dayofweek</th>\n",
       "      <th>hour</th>\n",
       "    </tr>\n",
       "  </thead>\n",
       "  <tbody>\n",
       "    <tr>\n",
       "      <th>0</th>\n",
       "      <td>3</td>\n",
       "      <td>0</td>\n",
       "      <td>0</td>\n",
       "      <td>2</td>\n",
       "      <td>2011</td>\n",
       "      <td>9</td>\n",
       "      <td>3</td>\n",
       "      <td>5</td>\n",
       "      <td>0</td>\n",
       "    </tr>\n",
       "    <tr>\n",
       "      <th>1</th>\n",
       "      <td>3</td>\n",
       "      <td>0</td>\n",
       "      <td>1</td>\n",
       "      <td>1</td>\n",
       "      <td>2012</td>\n",
       "      <td>8</td>\n",
       "      <td>13</td>\n",
       "      <td>0</td>\n",
       "      <td>14</td>\n",
       "    </tr>\n",
       "  </tbody>\n",
       "</table>\n",
       "</div>"
      ],
      "text/plain": [
       "   season  holiday  workingday  weather  year  month  day  dayofweek  hour\n",
       "0       3        0           0        2  2011      9    3          5     0\n",
       "1       3        0           1        1  2012      8   13          0    14"
      ]
     },
     "execution_count": 10,
     "metadata": {},
     "output_type": "execute_result"
    }
   ],
   "source": [
    "df_train.iloc[:,1:-2].head(2)"
   ]
  },
  {
   "cell_type": "code",
   "execution_count": 11,
   "id": "027729ac-12f3-4597-9716-e8bdc3f5bba3",
   "metadata": {},
   "outputs": [],
   "source": [
    "X_train = df_train.iloc[:,1:]\n",
    "y_train = df_train.iloc[:,0].ravel()\n",
    "\n",
    "X_validation = df_validation.iloc[:,1:]\n",
    "y_validation = df_validation.iloc[:,0].ravel()"
   ]
  },
  {
   "cell_type": "code",
   "execution_count": 13,
   "id": "d8ce2388-c758-4d33-8fa6-06ea44415730",
   "metadata": {},
   "outputs": [
    {
     "data": {
      "text/html": [
       "<div>\n",
       "<style scoped>\n",
       "    .dataframe tbody tr th:only-of-type {\n",
       "        vertical-align: middle;\n",
       "    }\n",
       "\n",
       "    .dataframe tbody tr th {\n",
       "        vertical-align: top;\n",
       "    }\n",
       "\n",
       "    .dataframe thead th {\n",
       "        text-align: right;\n",
       "    }\n",
       "</style>\n",
       "<table border=\"1\" class=\"dataframe\">\n",
       "  <thead>\n",
       "    <tr style=\"text-align: right;\">\n",
       "      <th></th>\n",
       "      <th>season</th>\n",
       "      <th>holiday</th>\n",
       "      <th>workingday</th>\n",
       "      <th>weather</th>\n",
       "      <th>year</th>\n",
       "      <th>month</th>\n",
       "      <th>day</th>\n",
       "      <th>dayofweek</th>\n",
       "      <th>hour</th>\n",
       "      <th>component_0</th>\n",
       "      <th>component_1</th>\n",
       "    </tr>\n",
       "  </thead>\n",
       "  <tbody>\n",
       "    <tr>\n",
       "      <th>0</th>\n",
       "      <td>3</td>\n",
       "      <td>0</td>\n",
       "      <td>0</td>\n",
       "      <td>2</td>\n",
       "      <td>2011</td>\n",
       "      <td>9</td>\n",
       "      <td>3</td>\n",
       "      <td>5</td>\n",
       "      <td>0</td>\n",
       "      <td>-0.015712</td>\n",
       "      <td>-0.993329</td>\n",
       "    </tr>\n",
       "    <tr>\n",
       "      <th>1</th>\n",
       "      <td>3</td>\n",
       "      <td>0</td>\n",
       "      <td>1</td>\n",
       "      <td>1</td>\n",
       "      <td>2012</td>\n",
       "      <td>8</td>\n",
       "      <td>13</td>\n",
       "      <td>0</td>\n",
       "      <td>14</td>\n",
       "      <td>0.421141</td>\n",
       "      <td>-0.882900</td>\n",
       "    </tr>\n",
       "  </tbody>\n",
       "</table>\n",
       "</div>"
      ],
      "text/plain": [
       "   season  holiday  workingday  weather  year  month  day  dayofweek  hour  \\\n",
       "0       3        0           0        2  2011      9    3          5     0   \n",
       "1       3        0           1        1  2012      8   13          0    14   \n",
       "\n",
       "   component_0  component_1  \n",
       "0    -0.015712    -0.993329  \n",
       "1     0.421141    -0.882900  "
      ]
     },
     "execution_count": 13,
     "metadata": {},
     "output_type": "execute_result"
    }
   ],
   "source": [
    "X_train.head(2)"
   ]
  },
  {
   "cell_type": "code",
   "execution_count": 14,
   "id": "e730367a-2fa3-44c6-92bb-740e1ca72b6a",
   "metadata": {},
   "outputs": [
    {
     "data": {
      "text/plain": [
       "array([4.47733681, 5.5174529 , 5.81413053, ..., 5.83773045, 4.60517019,\n",
       "       6.67329797])"
      ]
     },
     "execution_count": 14,
     "metadata": {},
     "output_type": "execute_result"
    }
   ],
   "source": [
    "y_train"
   ]
  },
  {
   "cell_type": "code",
   "execution_count": 82,
   "id": "8a5c7623-e85d-4b94-8e33-f9165bc3e97b",
   "metadata": {},
   "outputs": [],
   "source": [
    "# XGBoost training parameters\n",
    "regressor = xgb.XGBRegressor(max_depth=5, eta=0.1, subsample=0.7, n_estimators=199)"
   ]
  },
  {
   "cell_type": "code",
   "execution_count": 83,
   "id": "2c09da09-ba70-45da-8fa6-2ce90cc75ea4",
   "metadata": {},
   "outputs": [
    {
     "data": {
      "text/html": [
       "<style>#sk-container-id-5 {color: black;}#sk-container-id-5 pre{padding: 0;}#sk-container-id-5 div.sk-toggleable {background-color: white;}#sk-container-id-5 label.sk-toggleable__label {cursor: pointer;display: block;width: 100%;margin-bottom: 0;padding: 0.3em;box-sizing: border-box;text-align: center;}#sk-container-id-5 label.sk-toggleable__label-arrow:before {content: \"▸\";float: left;margin-right: 0.25em;color: #696969;}#sk-container-id-5 label.sk-toggleable__label-arrow:hover:before {color: black;}#sk-container-id-5 div.sk-estimator:hover label.sk-toggleable__label-arrow:before {color: black;}#sk-container-id-5 div.sk-toggleable__content {max-height: 0;max-width: 0;overflow: hidden;text-align: left;background-color: #f0f8ff;}#sk-container-id-5 div.sk-toggleable__content pre {margin: 0.2em;color: black;border-radius: 0.25em;background-color: #f0f8ff;}#sk-container-id-5 input.sk-toggleable__control:checked~div.sk-toggleable__content {max-height: 200px;max-width: 100%;overflow: auto;}#sk-container-id-5 input.sk-toggleable__control:checked~label.sk-toggleable__label-arrow:before {content: \"▾\";}#sk-container-id-5 div.sk-estimator input.sk-toggleable__control:checked~label.sk-toggleable__label {background-color: #d4ebff;}#sk-container-id-5 div.sk-label input.sk-toggleable__control:checked~label.sk-toggleable__label {background-color: #d4ebff;}#sk-container-id-5 input.sk-hidden--visually {border: 0;clip: rect(1px 1px 1px 1px);clip: rect(1px, 1px, 1px, 1px);height: 1px;margin: -1px;overflow: hidden;padding: 0;position: absolute;width: 1px;}#sk-container-id-5 div.sk-estimator {font-family: monospace;background-color: #f0f8ff;border: 1px dotted black;border-radius: 0.25em;box-sizing: border-box;margin-bottom: 0.5em;}#sk-container-id-5 div.sk-estimator:hover {background-color: #d4ebff;}#sk-container-id-5 div.sk-parallel-item::after {content: \"\";width: 100%;border-bottom: 1px solid gray;flex-grow: 1;}#sk-container-id-5 div.sk-label:hover label.sk-toggleable__label {background-color: #d4ebff;}#sk-container-id-5 div.sk-serial::before {content: \"\";position: absolute;border-left: 1px solid gray;box-sizing: border-box;top: 0;bottom: 0;left: 50%;z-index: 0;}#sk-container-id-5 div.sk-serial {display: flex;flex-direction: column;align-items: center;background-color: white;padding-right: 0.2em;padding-left: 0.2em;position: relative;}#sk-container-id-5 div.sk-item {position: relative;z-index: 1;}#sk-container-id-5 div.sk-parallel {display: flex;align-items: stretch;justify-content: center;background-color: white;position: relative;}#sk-container-id-5 div.sk-item::before, #sk-container-id-5 div.sk-parallel-item::before {content: \"\";position: absolute;border-left: 1px solid gray;box-sizing: border-box;top: 0;bottom: 0;left: 50%;z-index: -1;}#sk-container-id-5 div.sk-parallel-item {display: flex;flex-direction: column;z-index: 1;position: relative;background-color: white;}#sk-container-id-5 div.sk-parallel-item:first-child::after {align-self: flex-end;width: 50%;}#sk-container-id-5 div.sk-parallel-item:last-child::after {align-self: flex-start;width: 50%;}#sk-container-id-5 div.sk-parallel-item:only-child::after {width: 0;}#sk-container-id-5 div.sk-dashed-wrapped {border: 1px dashed gray;margin: 0 0.4em 0.5em 0.4em;box-sizing: border-box;padding-bottom: 0.4em;background-color: white;}#sk-container-id-5 div.sk-label label {font-family: monospace;font-weight: bold;display: inline-block;line-height: 1.2em;}#sk-container-id-5 div.sk-label-container {text-align: center;}#sk-container-id-5 div.sk-container {/* jupyter's `normalize.less` sets `[hidden] { display: none; }` but bootstrap.min.css set `[hidden] { display: none !important; }` so we also need the `!important` here to be able to override the default hidden behavior on the sphinx rendered scikit-learn.org. See: https://github.com/scikit-learn/scikit-learn/issues/21755 */display: inline-block !important;position: relative;}#sk-container-id-5 div.sk-text-repr-fallback {display: none;}</style><div id=\"sk-container-id-5\" class=\"sk-top-container\"><div class=\"sk-text-repr-fallback\"><pre>XGBRegressor(base_score=None, booster=None, callbacks=None,\n",
       "             colsample_bylevel=None, colsample_bynode=None,\n",
       "             colsample_bytree=None, early_stopping_rounds=None,\n",
       "             enable_categorical=False, eta=0.1, eval_metric=None,\n",
       "             feature_types=None, gamma=None, gpu_id=None, grow_policy=None,\n",
       "             importance_type=None, interaction_constraints=None,\n",
       "             learning_rate=None, max_bin=None, max_cat_threshold=None,\n",
       "             max_cat_to_onehot=None, max_delta_step=None, max_depth=5,\n",
       "             max_leaves=None, min_child_weight=None, missing=nan,\n",
       "             monotone_constraints=None, n_estimators=199, n_jobs=None,\n",
       "             num_parallel_tree=None, predictor=None, ...)</pre><b>In a Jupyter environment, please rerun this cell to show the HTML representation or trust the notebook. <br />On GitHub, the HTML representation is unable to render, please try loading this page with nbviewer.org.</b></div><div class=\"sk-container\" hidden><div class=\"sk-item\"><div class=\"sk-estimator sk-toggleable\"><input class=\"sk-toggleable__control sk-hidden--visually\" id=\"sk-estimator-id-5\" type=\"checkbox\" checked><label for=\"sk-estimator-id-5\" class=\"sk-toggleable__label sk-toggleable__label-arrow\">XGBRegressor</label><div class=\"sk-toggleable__content\"><pre>XGBRegressor(base_score=None, booster=None, callbacks=None,\n",
       "             colsample_bylevel=None, colsample_bynode=None,\n",
       "             colsample_bytree=None, early_stopping_rounds=None,\n",
       "             enable_categorical=False, eta=0.1, eval_metric=None,\n",
       "             feature_types=None, gamma=None, gpu_id=None, grow_policy=None,\n",
       "             importance_type=None, interaction_constraints=None,\n",
       "             learning_rate=None, max_bin=None, max_cat_threshold=None,\n",
       "             max_cat_to_onehot=None, max_delta_step=None, max_depth=5,\n",
       "             max_leaves=None, min_child_weight=None, missing=nan,\n",
       "             monotone_constraints=None, n_estimators=199, n_jobs=None,\n",
       "             num_parallel_tree=None, predictor=None, ...)</pre></div></div></div></div></div>"
      ],
      "text/plain": [
       "XGBRegressor(base_score=None, booster=None, callbacks=None,\n",
       "             colsample_bylevel=None, colsample_bynode=None,\n",
       "             colsample_bytree=None, early_stopping_rounds=None,\n",
       "             enable_categorical=False, eta=0.1, eval_metric=None,\n",
       "             feature_types=None, gamma=None, gpu_id=None, grow_policy=None,\n",
       "             importance_type=None, interaction_constraints=None,\n",
       "             learning_rate=None, max_bin=None, max_cat_threshold=None,\n",
       "             max_cat_to_onehot=None, max_delta_step=None, max_depth=5,\n",
       "             max_leaves=None, min_child_weight=None, missing=nan,\n",
       "             monotone_constraints=None, n_estimators=199, n_jobs=None,\n",
       "             num_parallel_tree=None, predictor=None, ...)"
      ]
     },
     "execution_count": 83,
     "metadata": {},
     "output_type": "execute_result"
    }
   ],
   "source": [
    "regressor"
   ]
  },
  {
   "cell_type": "code",
   "execution_count": 84,
   "id": "8b894fdd-de99-4df5-b882-9f70cb3f38be",
   "metadata": {},
   "outputs": [
    {
     "name": "stdout",
     "output_type": "stream",
     "text": [
      "[0]\tvalidation_0-rmse:3.90520\tvalidation_1-rmse:3.91421\n",
      "[1]\tvalidation_0-rmse:3.52677\tvalidation_1-rmse:3.53340\n",
      "[2]\tvalidation_0-rmse:3.18628\tvalidation_1-rmse:3.19184\n",
      "[3]\tvalidation_0-rmse:2.87943\tvalidation_1-rmse:2.88411\n",
      "[4]\tvalidation_0-rmse:2.60366\tvalidation_1-rmse:2.60716\n",
      "[5]\tvalidation_0-rmse:2.35786\tvalidation_1-rmse:2.36080\n",
      "[6]\tvalidation_0-rmse:2.13735\tvalidation_1-rmse:2.13997\n",
      "[7]\tvalidation_0-rmse:1.93908\tvalidation_1-rmse:1.94093\n",
      "[8]\tvalidation_0-rmse:1.76130\tvalidation_1-rmse:1.76303\n",
      "[9]\tvalidation_0-rmse:1.60076\tvalidation_1-rmse:1.60234\n",
      "[10]\tvalidation_0-rmse:1.45617\tvalidation_1-rmse:1.45722\n",
      "[11]\tvalidation_0-rmse:1.32774\tvalidation_1-rmse:1.32804\n",
      "[12]\tvalidation_0-rmse:1.21347\tvalidation_1-rmse:1.21357\n",
      "[13]\tvalidation_0-rmse:1.10587\tvalidation_1-rmse:1.10727\n",
      "[14]\tvalidation_0-rmse:1.01615\tvalidation_1-rmse:1.01850\n",
      "[15]\tvalidation_0-rmse:0.93525\tvalidation_1-rmse:0.93856\n",
      "[16]\tvalidation_0-rmse:0.86421\tvalidation_1-rmse:0.86854\n",
      "[17]\tvalidation_0-rmse:0.79905\tvalidation_1-rmse:0.80423\n",
      "[18]\tvalidation_0-rmse:0.74237\tvalidation_1-rmse:0.74816\n",
      "[19]\tvalidation_0-rmse:0.69078\tvalidation_1-rmse:0.69849\n",
      "[20]\tvalidation_0-rmse:0.64743\tvalidation_1-rmse:0.65608\n",
      "[21]\tvalidation_0-rmse:0.60297\tvalidation_1-rmse:0.61266\n",
      "[22]\tvalidation_0-rmse:0.57023\tvalidation_1-rmse:0.58116\n",
      "[23]\tvalidation_0-rmse:0.53869\tvalidation_1-rmse:0.55101\n",
      "[24]\tvalidation_0-rmse:0.51207\tvalidation_1-rmse:0.52519\n",
      "[25]\tvalidation_0-rmse:0.48907\tvalidation_1-rmse:0.50298\n",
      "[26]\tvalidation_0-rmse:0.46556\tvalidation_1-rmse:0.48025\n",
      "[27]\tvalidation_0-rmse:0.44873\tvalidation_1-rmse:0.46409\n",
      "[28]\tvalidation_0-rmse:0.43451\tvalidation_1-rmse:0.45132\n",
      "[29]\tvalidation_0-rmse:0.42202\tvalidation_1-rmse:0.43964\n",
      "[30]\tvalidation_0-rmse:0.40689\tvalidation_1-rmse:0.42580\n",
      "[31]\tvalidation_0-rmse:0.39752\tvalidation_1-rmse:0.41732\n",
      "[32]\tvalidation_0-rmse:0.38345\tvalidation_1-rmse:0.40390\n",
      "[33]\tvalidation_0-rmse:0.37575\tvalidation_1-rmse:0.39751\n",
      "[34]\tvalidation_0-rmse:0.36919\tvalidation_1-rmse:0.39171\n",
      "[35]\tvalidation_0-rmse:0.36361\tvalidation_1-rmse:0.38667\n",
      "[36]\tvalidation_0-rmse:0.35310\tvalidation_1-rmse:0.37672\n",
      "[37]\tvalidation_0-rmse:0.34866\tvalidation_1-rmse:0.37283\n",
      "[38]\tvalidation_0-rmse:0.34141\tvalidation_1-rmse:0.36619\n",
      "[39]\tvalidation_0-rmse:0.33808\tvalidation_1-rmse:0.36342\n",
      "[40]\tvalidation_0-rmse:0.33469\tvalidation_1-rmse:0.36068\n",
      "[41]\tvalidation_0-rmse:0.33174\tvalidation_1-rmse:0.35820\n",
      "[42]\tvalidation_0-rmse:0.32833\tvalidation_1-rmse:0.35525\n",
      "[43]\tvalidation_0-rmse:0.32199\tvalidation_1-rmse:0.34935\n",
      "[44]\tvalidation_0-rmse:0.31968\tvalidation_1-rmse:0.34768\n",
      "[45]\tvalidation_0-rmse:0.31784\tvalidation_1-rmse:0.34635\n",
      "[46]\tvalidation_0-rmse:0.31573\tvalidation_1-rmse:0.34478\n",
      "[47]\tvalidation_0-rmse:0.31058\tvalidation_1-rmse:0.34014\n",
      "[48]\tvalidation_0-rmse:0.30595\tvalidation_1-rmse:0.33572\n",
      "[49]\tvalidation_0-rmse:0.30191\tvalidation_1-rmse:0.33219\n",
      "[50]\tvalidation_0-rmse:0.30062\tvalidation_1-rmse:0.33118\n",
      "[51]\tvalidation_0-rmse:0.29944\tvalidation_1-rmse:0.33037\n",
      "[52]\tvalidation_0-rmse:0.29795\tvalidation_1-rmse:0.32916\n",
      "[53]\tvalidation_0-rmse:0.29572\tvalidation_1-rmse:0.32737\n",
      "[54]\tvalidation_0-rmse:0.29457\tvalidation_1-rmse:0.32652\n",
      "[55]\tvalidation_0-rmse:0.29350\tvalidation_1-rmse:0.32580\n",
      "[56]\tvalidation_0-rmse:0.29230\tvalidation_1-rmse:0.32482\n",
      "[57]\tvalidation_0-rmse:0.29123\tvalidation_1-rmse:0.32427\n",
      "[58]\tvalidation_0-rmse:0.28996\tvalidation_1-rmse:0.32339\n",
      "[59]\tvalidation_0-rmse:0.28815\tvalidation_1-rmse:0.32220\n",
      "[60]\tvalidation_0-rmse:0.28719\tvalidation_1-rmse:0.32155\n",
      "[61]\tvalidation_0-rmse:0.28642\tvalidation_1-rmse:0.32126\n",
      "[62]\tvalidation_0-rmse:0.28480\tvalidation_1-rmse:0.31995\n",
      "[63]\tvalidation_0-rmse:0.28359\tvalidation_1-rmse:0.31908\n",
      "[64]\tvalidation_0-rmse:0.28277\tvalidation_1-rmse:0.31871\n",
      "[65]\tvalidation_0-rmse:0.28106\tvalidation_1-rmse:0.31716\n",
      "[66]\tvalidation_0-rmse:0.28005\tvalidation_1-rmse:0.31637\n",
      "[67]\tvalidation_0-rmse:0.27958\tvalidation_1-rmse:0.31621\n",
      "[68]\tvalidation_0-rmse:0.27883\tvalidation_1-rmse:0.31596\n",
      "[69]\tvalidation_0-rmse:0.27660\tvalidation_1-rmse:0.31410\n",
      "[70]\tvalidation_0-rmse:0.27450\tvalidation_1-rmse:0.31221\n",
      "[71]\tvalidation_0-rmse:0.27355\tvalidation_1-rmse:0.31176\n",
      "[72]\tvalidation_0-rmse:0.27273\tvalidation_1-rmse:0.31151\n",
      "[73]\tvalidation_0-rmse:0.27198\tvalidation_1-rmse:0.31087\n",
      "[74]\tvalidation_0-rmse:0.27137\tvalidation_1-rmse:0.31043\n",
      "[75]\tvalidation_0-rmse:0.27040\tvalidation_1-rmse:0.30997\n",
      "[76]\tvalidation_0-rmse:0.26998\tvalidation_1-rmse:0.30990\n",
      "[77]\tvalidation_0-rmse:0.26921\tvalidation_1-rmse:0.30937\n",
      "[78]\tvalidation_0-rmse:0.26882\tvalidation_1-rmse:0.30909\n",
      "[79]\tvalidation_0-rmse:0.26710\tvalidation_1-rmse:0.30768\n",
      "[80]\tvalidation_0-rmse:0.26646\tvalidation_1-rmse:0.30754\n",
      "[81]\tvalidation_0-rmse:0.26586\tvalidation_1-rmse:0.30719\n",
      "[82]\tvalidation_0-rmse:0.26529\tvalidation_1-rmse:0.30707\n",
      "[83]\tvalidation_0-rmse:0.26509\tvalidation_1-rmse:0.30684\n",
      "[84]\tvalidation_0-rmse:0.26476\tvalidation_1-rmse:0.30692\n",
      "[85]\tvalidation_0-rmse:0.26395\tvalidation_1-rmse:0.30645\n",
      "[86]\tvalidation_0-rmse:0.26358\tvalidation_1-rmse:0.30612\n",
      "[87]\tvalidation_0-rmse:0.26297\tvalidation_1-rmse:0.30600\n",
      "[88]\tvalidation_0-rmse:0.26172\tvalidation_1-rmse:0.30515\n",
      "[89]\tvalidation_0-rmse:0.26156\tvalidation_1-rmse:0.30513\n",
      "[90]\tvalidation_0-rmse:0.26088\tvalidation_1-rmse:0.30456\n",
      "[91]\tvalidation_0-rmse:0.25979\tvalidation_1-rmse:0.30388\n",
      "[92]\tvalidation_0-rmse:0.25931\tvalidation_1-rmse:0.30375\n",
      "[93]\tvalidation_0-rmse:0.25868\tvalidation_1-rmse:0.30353\n",
      "[94]\tvalidation_0-rmse:0.25852\tvalidation_1-rmse:0.30353\n",
      "[95]\tvalidation_0-rmse:0.25801\tvalidation_1-rmse:0.30325\n",
      "[96]\tvalidation_0-rmse:0.25702\tvalidation_1-rmse:0.30266\n",
      "[97]\tvalidation_0-rmse:0.25624\tvalidation_1-rmse:0.30236\n",
      "[98]\tvalidation_0-rmse:0.25566\tvalidation_1-rmse:0.30199\n",
      "[99]\tvalidation_0-rmse:0.25512\tvalidation_1-rmse:0.30188\n",
      "[100]\tvalidation_0-rmse:0.25498\tvalidation_1-rmse:0.30184\n",
      "[101]\tvalidation_0-rmse:0.25451\tvalidation_1-rmse:0.30180\n",
      "[102]\tvalidation_0-rmse:0.25410\tvalidation_1-rmse:0.30178\n",
      "[103]\tvalidation_0-rmse:0.25381\tvalidation_1-rmse:0.30170\n",
      "[104]\tvalidation_0-rmse:0.25335\tvalidation_1-rmse:0.30171\n",
      "[105]\tvalidation_0-rmse:0.25307\tvalidation_1-rmse:0.30167\n",
      "[106]\tvalidation_0-rmse:0.25270\tvalidation_1-rmse:0.30130\n",
      "[107]\tvalidation_0-rmse:0.25246\tvalidation_1-rmse:0.30119\n",
      "[108]\tvalidation_0-rmse:0.25217\tvalidation_1-rmse:0.30114\n",
      "[109]\tvalidation_0-rmse:0.25174\tvalidation_1-rmse:0.30113\n",
      "[110]\tvalidation_0-rmse:0.25137\tvalidation_1-rmse:0.30105\n",
      "[111]\tvalidation_0-rmse:0.25062\tvalidation_1-rmse:0.30067\n",
      "[112]\tvalidation_0-rmse:0.25037\tvalidation_1-rmse:0.30065\n",
      "[113]\tvalidation_0-rmse:0.24980\tvalidation_1-rmse:0.30070\n",
      "[114]\tvalidation_0-rmse:0.24940\tvalidation_1-rmse:0.30070\n",
      "[115]\tvalidation_0-rmse:0.24842\tvalidation_1-rmse:0.30004\n",
      "[116]\tvalidation_0-rmse:0.24798\tvalidation_1-rmse:0.30012\n",
      "[117]\tvalidation_0-rmse:0.24745\tvalidation_1-rmse:0.29997\n",
      "[118]\tvalidation_0-rmse:0.24730\tvalidation_1-rmse:0.29998\n",
      "[119]\tvalidation_0-rmse:0.24686\tvalidation_1-rmse:0.29992\n",
      "[120]\tvalidation_0-rmse:0.24621\tvalidation_1-rmse:0.29993\n",
      "[121]\tvalidation_0-rmse:0.24585\tvalidation_1-rmse:0.29963\n",
      "[122]\tvalidation_0-rmse:0.24545\tvalidation_1-rmse:0.29948\n",
      "[123]\tvalidation_0-rmse:0.24489\tvalidation_1-rmse:0.29932\n",
      "[124]\tvalidation_0-rmse:0.24469\tvalidation_1-rmse:0.29927\n",
      "[125]\tvalidation_0-rmse:0.24447\tvalidation_1-rmse:0.29923\n",
      "[126]\tvalidation_0-rmse:0.24439\tvalidation_1-rmse:0.29928\n",
      "[127]\tvalidation_0-rmse:0.24410\tvalidation_1-rmse:0.29935\n",
      "[128]\tvalidation_0-rmse:0.24358\tvalidation_1-rmse:0.29928\n",
      "[129]\tvalidation_0-rmse:0.24326\tvalidation_1-rmse:0.29926\n",
      "[130]\tvalidation_0-rmse:0.24277\tvalidation_1-rmse:0.29909\n",
      "[131]\tvalidation_0-rmse:0.24238\tvalidation_1-rmse:0.29896\n",
      "[132]\tvalidation_0-rmse:0.24228\tvalidation_1-rmse:0.29890\n",
      "[133]\tvalidation_0-rmse:0.24182\tvalidation_1-rmse:0.29893\n",
      "[134]\tvalidation_0-rmse:0.24128\tvalidation_1-rmse:0.29884\n",
      "[135]\tvalidation_0-rmse:0.24104\tvalidation_1-rmse:0.29905\n",
      "[136]\tvalidation_0-rmse:0.24069\tvalidation_1-rmse:0.29913\n",
      "[137]\tvalidation_0-rmse:0.24010\tvalidation_1-rmse:0.29894\n",
      "[138]\tvalidation_0-rmse:0.23993\tvalidation_1-rmse:0.29890\n",
      "[139]\tvalidation_0-rmse:0.23937\tvalidation_1-rmse:0.29887\n",
      "[140]\tvalidation_0-rmse:0.23915\tvalidation_1-rmse:0.29878\n",
      "[141]\tvalidation_0-rmse:0.23887\tvalidation_1-rmse:0.29882\n",
      "[142]\tvalidation_0-rmse:0.23853\tvalidation_1-rmse:0.29887\n",
      "[143]\tvalidation_0-rmse:0.23812\tvalidation_1-rmse:0.29898\n",
      "[144]\tvalidation_0-rmse:0.23782\tvalidation_1-rmse:0.29901\n",
      "[145]\tvalidation_0-rmse:0.23724\tvalidation_1-rmse:0.29870\n",
      "[146]\tvalidation_0-rmse:0.23675\tvalidation_1-rmse:0.29860\n",
      "[147]\tvalidation_0-rmse:0.23665\tvalidation_1-rmse:0.29861\n",
      "[148]\tvalidation_0-rmse:0.23640\tvalidation_1-rmse:0.29855\n",
      "[149]\tvalidation_0-rmse:0.23601\tvalidation_1-rmse:0.29852\n",
      "[150]\tvalidation_0-rmse:0.23560\tvalidation_1-rmse:0.29845\n",
      "[151]\tvalidation_0-rmse:0.23538\tvalidation_1-rmse:0.29844\n",
      "[152]\tvalidation_0-rmse:0.23513\tvalidation_1-rmse:0.29838\n",
      "[153]\tvalidation_0-rmse:0.23480\tvalidation_1-rmse:0.29820\n",
      "[154]\tvalidation_0-rmse:0.23455\tvalidation_1-rmse:0.29812\n",
      "[155]\tvalidation_0-rmse:0.23415\tvalidation_1-rmse:0.29820\n",
      "[156]\tvalidation_0-rmse:0.23351\tvalidation_1-rmse:0.29793\n",
      "[157]\tvalidation_0-rmse:0.23318\tvalidation_1-rmse:0.29783\n",
      "[158]\tvalidation_0-rmse:0.23260\tvalidation_1-rmse:0.29773\n",
      "[159]\tvalidation_0-rmse:0.23241\tvalidation_1-rmse:0.29775\n",
      "[160]\tvalidation_0-rmse:0.23212\tvalidation_1-rmse:0.29769\n",
      "[161]\tvalidation_0-rmse:0.23147\tvalidation_1-rmse:0.29737\n",
      "[162]\tvalidation_0-rmse:0.23108\tvalidation_1-rmse:0.29712\n",
      "[163]\tvalidation_0-rmse:0.23083\tvalidation_1-rmse:0.29702\n",
      "[164]\tvalidation_0-rmse:0.23048\tvalidation_1-rmse:0.29701\n",
      "[165]\tvalidation_0-rmse:0.23019\tvalidation_1-rmse:0.29701\n",
      "[166]\tvalidation_0-rmse:0.22983\tvalidation_1-rmse:0.29683\n",
      "[167]\tvalidation_0-rmse:0.22941\tvalidation_1-rmse:0.29686\n",
      "[168]\tvalidation_0-rmse:0.22916\tvalidation_1-rmse:0.29673\n",
      "[169]\tvalidation_0-rmse:0.22899\tvalidation_1-rmse:0.29673\n",
      "[170]\tvalidation_0-rmse:0.22882\tvalidation_1-rmse:0.29667\n",
      "[171]\tvalidation_0-rmse:0.22863\tvalidation_1-rmse:0.29651\n",
      "[172]\tvalidation_0-rmse:0.22828\tvalidation_1-rmse:0.29671\n",
      "[173]\tvalidation_0-rmse:0.22795\tvalidation_1-rmse:0.29679\n",
      "[174]\tvalidation_0-rmse:0.22756\tvalidation_1-rmse:0.29686\n",
      "[175]\tvalidation_0-rmse:0.22730\tvalidation_1-rmse:0.29687\n",
      "[176]\tvalidation_0-rmse:0.22708\tvalidation_1-rmse:0.29686\n",
      "[177]\tvalidation_0-rmse:0.22659\tvalidation_1-rmse:0.29659\n",
      "[178]\tvalidation_0-rmse:0.22621\tvalidation_1-rmse:0.29638\n",
      "[179]\tvalidation_0-rmse:0.22610\tvalidation_1-rmse:0.29639\n",
      "[180]\tvalidation_0-rmse:0.22597\tvalidation_1-rmse:0.29637\n",
      "[181]\tvalidation_0-rmse:0.22583\tvalidation_1-rmse:0.29628\n",
      "[182]\tvalidation_0-rmse:0.22533\tvalidation_1-rmse:0.29608\n",
      "[183]\tvalidation_0-rmse:0.22496\tvalidation_1-rmse:0.29600\n",
      "[184]\tvalidation_0-rmse:0.22433\tvalidation_1-rmse:0.29560\n",
      "[185]\tvalidation_0-rmse:0.22370\tvalidation_1-rmse:0.29530\n",
      "[186]\tvalidation_0-rmse:0.22322\tvalidation_1-rmse:0.29516\n",
      "[187]\tvalidation_0-rmse:0.22268\tvalidation_1-rmse:0.29469\n",
      "[188]\tvalidation_0-rmse:0.22236\tvalidation_1-rmse:0.29476\n",
      "[189]\tvalidation_0-rmse:0.22212\tvalidation_1-rmse:0.29480\n",
      "[190]\tvalidation_0-rmse:0.22181\tvalidation_1-rmse:0.29488\n",
      "[191]\tvalidation_0-rmse:0.22161\tvalidation_1-rmse:0.29482\n",
      "[192]\tvalidation_0-rmse:0.22136\tvalidation_1-rmse:0.29478\n",
      "[193]\tvalidation_0-rmse:0.22118\tvalidation_1-rmse:0.29481\n",
      "[194]\tvalidation_0-rmse:0.22081\tvalidation_1-rmse:0.29476\n",
      "[195]\tvalidation_0-rmse:0.22053\tvalidation_1-rmse:0.29467\n",
      "[196]\tvalidation_0-rmse:0.22005\tvalidation_1-rmse:0.29455\n",
      "[197]\tvalidation_0-rmse:0.21990\tvalidation_1-rmse:0.29456\n",
      "[198]\tvalidation_0-rmse:0.21956\tvalidation_1-rmse:0.29444\n"
     ]
    },
    {
     "data": {
      "text/html": [
       "<style>#sk-container-id-6 {color: black;}#sk-container-id-6 pre{padding: 0;}#sk-container-id-6 div.sk-toggleable {background-color: white;}#sk-container-id-6 label.sk-toggleable__label {cursor: pointer;display: block;width: 100%;margin-bottom: 0;padding: 0.3em;box-sizing: border-box;text-align: center;}#sk-container-id-6 label.sk-toggleable__label-arrow:before {content: \"▸\";float: left;margin-right: 0.25em;color: #696969;}#sk-container-id-6 label.sk-toggleable__label-arrow:hover:before {color: black;}#sk-container-id-6 div.sk-estimator:hover label.sk-toggleable__label-arrow:before {color: black;}#sk-container-id-6 div.sk-toggleable__content {max-height: 0;max-width: 0;overflow: hidden;text-align: left;background-color: #f0f8ff;}#sk-container-id-6 div.sk-toggleable__content pre {margin: 0.2em;color: black;border-radius: 0.25em;background-color: #f0f8ff;}#sk-container-id-6 input.sk-toggleable__control:checked~div.sk-toggleable__content {max-height: 200px;max-width: 100%;overflow: auto;}#sk-container-id-6 input.sk-toggleable__control:checked~label.sk-toggleable__label-arrow:before {content: \"▾\";}#sk-container-id-6 div.sk-estimator input.sk-toggleable__control:checked~label.sk-toggleable__label {background-color: #d4ebff;}#sk-container-id-6 div.sk-label input.sk-toggleable__control:checked~label.sk-toggleable__label {background-color: #d4ebff;}#sk-container-id-6 input.sk-hidden--visually {border: 0;clip: rect(1px 1px 1px 1px);clip: rect(1px, 1px, 1px, 1px);height: 1px;margin: -1px;overflow: hidden;padding: 0;position: absolute;width: 1px;}#sk-container-id-6 div.sk-estimator {font-family: monospace;background-color: #f0f8ff;border: 1px dotted black;border-radius: 0.25em;box-sizing: border-box;margin-bottom: 0.5em;}#sk-container-id-6 div.sk-estimator:hover {background-color: #d4ebff;}#sk-container-id-6 div.sk-parallel-item::after {content: \"\";width: 100%;border-bottom: 1px solid gray;flex-grow: 1;}#sk-container-id-6 div.sk-label:hover label.sk-toggleable__label {background-color: #d4ebff;}#sk-container-id-6 div.sk-serial::before {content: \"\";position: absolute;border-left: 1px solid gray;box-sizing: border-box;top: 0;bottom: 0;left: 50%;z-index: 0;}#sk-container-id-6 div.sk-serial {display: flex;flex-direction: column;align-items: center;background-color: white;padding-right: 0.2em;padding-left: 0.2em;position: relative;}#sk-container-id-6 div.sk-item {position: relative;z-index: 1;}#sk-container-id-6 div.sk-parallel {display: flex;align-items: stretch;justify-content: center;background-color: white;position: relative;}#sk-container-id-6 div.sk-item::before, #sk-container-id-6 div.sk-parallel-item::before {content: \"\";position: absolute;border-left: 1px solid gray;box-sizing: border-box;top: 0;bottom: 0;left: 50%;z-index: -1;}#sk-container-id-6 div.sk-parallel-item {display: flex;flex-direction: column;z-index: 1;position: relative;background-color: white;}#sk-container-id-6 div.sk-parallel-item:first-child::after {align-self: flex-end;width: 50%;}#sk-container-id-6 div.sk-parallel-item:last-child::after {align-self: flex-start;width: 50%;}#sk-container-id-6 div.sk-parallel-item:only-child::after {width: 0;}#sk-container-id-6 div.sk-dashed-wrapped {border: 1px dashed gray;margin: 0 0.4em 0.5em 0.4em;box-sizing: border-box;padding-bottom: 0.4em;background-color: white;}#sk-container-id-6 div.sk-label label {font-family: monospace;font-weight: bold;display: inline-block;line-height: 1.2em;}#sk-container-id-6 div.sk-label-container {text-align: center;}#sk-container-id-6 div.sk-container {/* jupyter's `normalize.less` sets `[hidden] { display: none; }` but bootstrap.min.css set `[hidden] { display: none !important; }` so we also need the `!important` here to be able to override the default hidden behavior on the sphinx rendered scikit-learn.org. See: https://github.com/scikit-learn/scikit-learn/issues/21755 */display: inline-block !important;position: relative;}#sk-container-id-6 div.sk-text-repr-fallback {display: none;}</style><div id=\"sk-container-id-6\" class=\"sk-top-container\"><div class=\"sk-text-repr-fallback\"><pre>XGBRegressor(base_score=0.5, booster=&#x27;gbtree&#x27;, callbacks=None,\n",
       "             colsample_bylevel=1, colsample_bynode=1, colsample_bytree=1,\n",
       "             early_stopping_rounds=None, enable_categorical=False, eta=0.1,\n",
       "             eval_metric=None, feature_types=None, gamma=0, gpu_id=-1,\n",
       "             grow_policy=&#x27;depthwise&#x27;, importance_type=None,\n",
       "             interaction_constraints=&#x27;&#x27;, learning_rate=0.100000001, max_bin=256,\n",
       "             max_cat_threshold=64, max_cat_to_onehot=4, max_delta_step=0,\n",
       "             max_depth=5, max_leaves=0, min_child_weight=1, missing=nan,\n",
       "             monotone_constraints=&#x27;()&#x27;, n_estimators=199, n_jobs=0,\n",
       "             num_parallel_tree=1, predictor=&#x27;auto&#x27;, ...)</pre><b>In a Jupyter environment, please rerun this cell to show the HTML representation or trust the notebook. <br />On GitHub, the HTML representation is unable to render, please try loading this page with nbviewer.org.</b></div><div class=\"sk-container\" hidden><div class=\"sk-item\"><div class=\"sk-estimator sk-toggleable\"><input class=\"sk-toggleable__control sk-hidden--visually\" id=\"sk-estimator-id-6\" type=\"checkbox\" checked><label for=\"sk-estimator-id-6\" class=\"sk-toggleable__label sk-toggleable__label-arrow\">XGBRegressor</label><div class=\"sk-toggleable__content\"><pre>XGBRegressor(base_score=0.5, booster=&#x27;gbtree&#x27;, callbacks=None,\n",
       "             colsample_bylevel=1, colsample_bynode=1, colsample_bytree=1,\n",
       "             early_stopping_rounds=None, enable_categorical=False, eta=0.1,\n",
       "             eval_metric=None, feature_types=None, gamma=0, gpu_id=-1,\n",
       "             grow_policy=&#x27;depthwise&#x27;, importance_type=None,\n",
       "             interaction_constraints=&#x27;&#x27;, learning_rate=0.100000001, max_bin=256,\n",
       "             max_cat_threshold=64, max_cat_to_onehot=4, max_delta_step=0,\n",
       "             max_depth=5, max_leaves=0, min_child_weight=1, missing=nan,\n",
       "             monotone_constraints=&#x27;()&#x27;, n_estimators=199, n_jobs=0,\n",
       "             num_parallel_tree=1, predictor=&#x27;auto&#x27;, ...)</pre></div></div></div></div></div>"
      ],
      "text/plain": [
       "XGBRegressor(base_score=0.5, booster='gbtree', callbacks=None,\n",
       "             colsample_bylevel=1, colsample_bynode=1, colsample_bytree=1,\n",
       "             early_stopping_rounds=None, enable_categorical=False, eta=0.1,\n",
       "             eval_metric=None, feature_types=None, gamma=0, gpu_id=-1,\n",
       "             grow_policy='depthwise', importance_type=None,\n",
       "             interaction_constraints='', learning_rate=0.100000001, max_bin=256,\n",
       "             max_cat_threshold=64, max_cat_to_onehot=4, max_delta_step=0,\n",
       "             max_depth=5, max_leaves=0, min_child_weight=1, missing=nan,\n",
       "             monotone_constraints='()', n_estimators=199, n_jobs=0,\n",
       "             num_parallel_tree=1, predictor='auto', ...)"
      ]
     },
     "execution_count": 84,
     "metadata": {},
     "output_type": "execute_result"
    }
   ],
   "source": [
    "regressor.fit(X_train,y_train,eval_set=[(X_train,y_train),(X_validation,y_validation)])"
   ]
  },
  {
   "cell_type": "code",
   "execution_count": 85,
   "id": "717c27ce-5ab5-44ab-8cb9-a78f6b9e52b7",
   "metadata": {},
   "outputs": [],
   "source": [
    "result = regressor.evals_result()"
   ]
  },
  {
   "cell_type": "code",
   "execution_count": 86,
   "id": "33d730d4-a46c-454d-8505-5baf0ac801a0",
   "metadata": {},
   "outputs": [],
   "source": [
    "training_rounds = range(len(result['validation_0']['rmse']))"
   ]
  },
  {
   "cell_type": "code",
   "execution_count": 87,
   "id": "0f956a27-f37a-4cec-a3e1-ce0c1164f954",
   "metadata": {},
   "outputs": [
    {
     "data": {
      "text/plain": [
       "range(0, 199)"
      ]
     },
     "execution_count": 87,
     "metadata": {},
     "output_type": "execute_result"
    }
   ],
   "source": [
    "training_rounds"
   ]
  },
  {
   "cell_type": "code",
   "execution_count": 88,
   "id": "5d35b493-fc2e-424f-99d6-93506afe0397",
   "metadata": {},
   "outputs": [
    {
     "data": {
      "image/png": "[encoded data removed]",
      "text/plain": [
       "<Figure size 640x480 with 1 Axes>"
      ]
     },
     "metadata": {},
     "output_type": "display_data"
    }
   ],
   "source": [
    "plt.scatter(x=training_rounds, y=result['validation_0']['rmse'],label='Training Error')\n",
    "plt.scatter(x=training_rounds, y=result['validation_1']['rmse'],label='Validation Error')\n",
    "plt.grid(True)\n",
    "plt.xlabel('Iterations')\n",
    "plt.ylabel('rmse')\n",
    "plt.title('Training vs Validation Errors')\n",
    "plt.show()"
   ]
  },
  {
   "cell_type": "code",
   "execution_count": 89,
   "id": "349e5f81-13a8-48a2-b39d-e4d8fa06318d",
   "metadata": {},
   "outputs": [
    {
     "data": {
      "text/plain": [
       "<Axes: title={'center': 'Feature importance'}, xlabel='F score', ylabel='Features'>"
      ]
     },
     "execution_count": 89,
     "metadata": {},
     "output_type": "execute_result"
    },
    {
     "data": {
      "image/png": "[encoded data removed]",
      "text/plain": [
       "<Figure size 640x480 with 1 Axes>"
      ]
     },
     "metadata": {},
     "output_type": "display_data"
    }
   ],
   "source": [
    "xgb.plot_importance(regressor)"
   ]
  },
  {
   "cell_type": "code",
   "execution_count": 90,
   "id": "c4479fcd-d194-4cd9-9e2a-c699a087d5aa",
   "metadata": {},
   "outputs": [],
   "source": [
    "# Prepare test data to submit to kaggle\n",
    "df_test = pd.read_csv(test_file,parse_dates=['datetime'])"
   ]
  },
  {
   "cell_type": "code",
   "execution_count": 91,
   "id": "9d7d5566-fa20-4a36-9ac5-c761d2864624",
   "metadata": {},
   "outputs": [
    {
     "data": {
      "text/html": [
       "<div>\n",
       "<style scoped>\n",
       "    .dataframe tbody tr th:only-of-type {\n",
       "        vertical-align: middle;\n",
       "    }\n",
       "\n",
       "    .dataframe tbody tr th {\n",
       "        vertical-align: top;\n",
       "    }\n",
       "\n",
       "    .dataframe thead th {\n",
       "        text-align: right;\n",
       "    }\n",
       "</style>\n",
       "<table border=\"1\" class=\"dataframe\">\n",
       "  <thead>\n",
       "    <tr style=\"text-align: right;\">\n",
       "      <th></th>\n",
       "      <th>datetime</th>\n",
       "      <th>season</th>\n",
       "      <th>holiday</th>\n",
       "      <th>workingday</th>\n",
       "      <th>weather</th>\n",
       "      <th>year</th>\n",
       "      <th>month</th>\n",
       "      <th>day</th>\n",
       "      <th>dayofweek</th>\n",
       "      <th>hour</th>\n",
       "      <th>component_0</th>\n",
       "      <th>component_1</th>\n",
       "    </tr>\n",
       "  </thead>\n",
       "  <tbody>\n",
       "    <tr>\n",
       "      <th>0</th>\n",
       "      <td>2011-01-20 00:00:00</td>\n",
       "      <td>1</td>\n",
       "      <td>0</td>\n",
       "      <td>1</td>\n",
       "      <td>1</td>\n",
       "      <td>2011</td>\n",
       "      <td>1</td>\n",
       "      <td>20</td>\n",
       "      <td>3</td>\n",
       "      <td>0</td>\n",
       "      <td>-0.102386</td>\n",
       "      <td>-0.955772</td>\n",
       "    </tr>\n",
       "    <tr>\n",
       "      <th>1</th>\n",
       "      <td>2011-01-20 01:00:00</td>\n",
       "      <td>1</td>\n",
       "      <td>0</td>\n",
       "      <td>1</td>\n",
       "      <td>1</td>\n",
       "      <td>2011</td>\n",
       "      <td>1</td>\n",
       "      <td>20</td>\n",
       "      <td>3</td>\n",
       "      <td>1</td>\n",
       "      <td>-0.232725</td>\n",
       "      <td>-0.964794</td>\n",
       "    </tr>\n",
       "  </tbody>\n",
       "</table>\n",
       "</div>"
      ],
      "text/plain": [
       "             datetime  season  holiday  workingday  weather  year  month  day  \\\n",
       "0 2011-01-20 00:00:00       1        0           1        1  2011      1   20   \n",
       "1 2011-01-20 01:00:00       1        0           1        1  2011      1   20   \n",
       "\n",
       "   dayofweek  hour  component_0  component_1  \n",
       "0          3     0    -0.102386    -0.955772  \n",
       "1          3     1    -0.232725    -0.964794  "
      ]
     },
     "execution_count": 91,
     "metadata": {},
     "output_type": "execute_result"
    }
   ],
   "source": [
    "df_test.head(2)"
   ]
  },
  {
   "cell_type": "code",
   "execution_count": 92,
   "id": "7332ed56-3ec4-4301-b0a7-5be3c1f2ef9d",
   "metadata": {},
   "outputs": [],
   "source": [
    "X_test = df_test.iloc[:,1:]"
   ]
  },
  {
   "cell_type": "code",
   "execution_count": 93,
   "id": "b3c62b03-807f-48bb-8d21-f3e005a617c2",
   "metadata": {},
   "outputs": [
    {
     "data": {
      "text/html": [
       "<div>\n",
       "<style scoped>\n",
       "    .dataframe tbody tr th:only-of-type {\n",
       "        vertical-align: middle;\n",
       "    }\n",
       "\n",
       "    .dataframe tbody tr th {\n",
       "        vertical-align: top;\n",
       "    }\n",
       "\n",
       "    .dataframe thead th {\n",
       "        text-align: right;\n",
       "    }\n",
       "</style>\n",
       "<table border=\"1\" class=\"dataframe\">\n",
       "  <thead>\n",
       "    <tr style=\"text-align: right;\">\n",
       "      <th></th>\n",
       "      <th>season</th>\n",
       "      <th>holiday</th>\n",
       "      <th>workingday</th>\n",
       "      <th>weather</th>\n",
       "      <th>year</th>\n",
       "      <th>month</th>\n",
       "      <th>day</th>\n",
       "      <th>dayofweek</th>\n",
       "      <th>hour</th>\n",
       "      <th>component_0</th>\n",
       "      <th>component_1</th>\n",
       "    </tr>\n",
       "  </thead>\n",
       "  <tbody>\n",
       "    <tr>\n",
       "      <th>0</th>\n",
       "      <td>1</td>\n",
       "      <td>0</td>\n",
       "      <td>1</td>\n",
       "      <td>1</td>\n",
       "      <td>2011</td>\n",
       "      <td>1</td>\n",
       "      <td>20</td>\n",
       "      <td>3</td>\n",
       "      <td>0</td>\n",
       "      <td>-0.102386</td>\n",
       "      <td>-0.955772</td>\n",
       "    </tr>\n",
       "    <tr>\n",
       "      <th>1</th>\n",
       "      <td>1</td>\n",
       "      <td>0</td>\n",
       "      <td>1</td>\n",
       "      <td>1</td>\n",
       "      <td>2011</td>\n",
       "      <td>1</td>\n",
       "      <td>20</td>\n",
       "      <td>3</td>\n",
       "      <td>1</td>\n",
       "      <td>-0.232725</td>\n",
       "      <td>-0.964794</td>\n",
       "    </tr>\n",
       "  </tbody>\n",
       "</table>\n",
       "</div>"
      ],
      "text/plain": [
       "   season  holiday  workingday  weather  year  month  day  dayofweek  hour  \\\n",
       "0       1        0           1        1  2011      1   20          3     0   \n",
       "1       1        0           1        1  2011      1   20          3     1   \n",
       "\n",
       "   component_0  component_1  \n",
       "0    -0.102386    -0.955772  \n",
       "1    -0.232725    -0.964794  "
      ]
     },
     "execution_count": 93,
     "metadata": {},
     "output_type": "execute_result"
    }
   ],
   "source": [
    "X_test.head(2)"
   ]
  },
  {
   "cell_type": "code",
   "execution_count": 94,
   "id": "59b353f7-1844-4b05-9772-b4ff405d6a6d",
   "metadata": {},
   "outputs": [],
   "source": [
    "result = regressor.predict(X_test)"
   ]
  },
  {
   "cell_type": "code",
   "execution_count": 95,
   "id": "b9b525c6-b140-49a1-b330-0e9ba225d7ff",
   "metadata": {},
   "outputs": [
    {
     "data": {
      "text/plain": [
       "array([2.5775442, 1.7818122, 1.3568536, 1.0983771, 1.0132679],\n",
       "      dtype=float32)"
      ]
     },
     "execution_count": 95,
     "metadata": {},
     "output_type": "execute_result"
    }
   ],
   "source": [
    "result[:5]"
   ]
  },
  {
   "cell_type": "code",
   "execution_count": 96,
   "id": "33a4a726-6e4b-4e24-b87f-940080ab75ad",
   "metadata": {},
   "outputs": [
    {
     "data": {
      "text/plain": [
       "array([ 12.164768 ,   4.940612 ,   2.8839536, ..., 162.84421  ,\n",
       "       114.99463  ,  58.7613   ], dtype=float32)"
      ]
     },
     "execution_count": 96,
     "metadata": {},
     "output_type": "execute_result"
    }
   ],
   "source": [
    "np.expm1(result)"
   ]
  },
  {
   "cell_type": "code",
   "execution_count": 97,
   "id": "f6518a54-ffdd-425f-9dec-2e8691dc8b19",
   "metadata": {},
   "outputs": [],
   "source": [
    "df_test['count']=np.expm1(result)"
   ]
  },
  {
   "cell_type": "code",
   "execution_count": 98,
   "id": "60eb8ced-ee5e-4fb7-ab56-984d8476e31a",
   "metadata": {},
   "outputs": [
    {
     "data": {
      "text/html": [
       "<div>\n",
       "<style scoped>\n",
       "    .dataframe tbody tr th:only-of-type {\n",
       "        vertical-align: middle;\n",
       "    }\n",
       "\n",
       "    .dataframe tbody tr th {\n",
       "        vertical-align: top;\n",
       "    }\n",
       "\n",
       "    .dataframe thead th {\n",
       "        text-align: right;\n",
       "    }\n",
       "</style>\n",
       "<table border=\"1\" class=\"dataframe\">\n",
       "  <thead>\n",
       "    <tr style=\"text-align: right;\">\n",
       "      <th></th>\n",
       "      <th>datetime</th>\n",
       "      <th>season</th>\n",
       "      <th>holiday</th>\n",
       "      <th>workingday</th>\n",
       "      <th>weather</th>\n",
       "      <th>year</th>\n",
       "      <th>month</th>\n",
       "      <th>day</th>\n",
       "      <th>dayofweek</th>\n",
       "      <th>hour</th>\n",
       "      <th>component_0</th>\n",
       "      <th>component_1</th>\n",
       "      <th>count</th>\n",
       "    </tr>\n",
       "  </thead>\n",
       "  <tbody>\n",
       "    <tr>\n",
       "      <th>0</th>\n",
       "      <td>2011-01-20 00:00:00</td>\n",
       "      <td>1</td>\n",
       "      <td>0</td>\n",
       "      <td>1</td>\n",
       "      <td>1</td>\n",
       "      <td>2011</td>\n",
       "      <td>1</td>\n",
       "      <td>20</td>\n",
       "      <td>3</td>\n",
       "      <td>0</td>\n",
       "      <td>-0.102386</td>\n",
       "      <td>-0.955772</td>\n",
       "      <td>12.164768</td>\n",
       "    </tr>\n",
       "    <tr>\n",
       "      <th>1</th>\n",
       "      <td>2011-01-20 01:00:00</td>\n",
       "      <td>1</td>\n",
       "      <td>0</td>\n",
       "      <td>1</td>\n",
       "      <td>1</td>\n",
       "      <td>2011</td>\n",
       "      <td>1</td>\n",
       "      <td>20</td>\n",
       "      <td>3</td>\n",
       "      <td>1</td>\n",
       "      <td>-0.232725</td>\n",
       "      <td>-0.964794</td>\n",
       "      <td>4.940612</td>\n",
       "    </tr>\n",
       "  </tbody>\n",
       "</table>\n",
       "</div>"
      ],
      "text/plain": [
       "             datetime  season  holiday  workingday  weather  year  month  day  \\\n",
       "0 2011-01-20 00:00:00       1        0           1        1  2011      1   20   \n",
       "1 2011-01-20 01:00:00       1        0           1        1  2011      1   20   \n",
       "\n",
       "   dayofweek  hour  component_0  component_1      count  \n",
       "0          3     0    -0.102386    -0.955772  12.164768  \n",
       "1          3     1    -0.232725    -0.964794   4.940612  "
      ]
     },
     "execution_count": 98,
     "metadata": {},
     "output_type": "execute_result"
    }
   ],
   "source": [
    "df_test.head(2)"
   ]
  },
  {
   "cell_type": "code",
   "execution_count": 99,
   "id": "bf0e0bbf-5858-4375-926f-14e2e8ae9549",
   "metadata": {},
   "outputs": [
    {
     "data": {
      "text/html": [
       "<div>\n",
       "<style scoped>\n",
       "    .dataframe tbody tr th:only-of-type {\n",
       "        vertical-align: middle;\n",
       "    }\n",
       "\n",
       "    .dataframe tbody tr th {\n",
       "        vertical-align: top;\n",
       "    }\n",
       "\n",
       "    .dataframe thead th {\n",
       "        text-align: right;\n",
       "    }\n",
       "</style>\n",
       "<table border=\"1\" class=\"dataframe\">\n",
       "  <thead>\n",
       "    <tr style=\"text-align: right;\">\n",
       "      <th></th>\n",
       "      <th>datetime</th>\n",
       "      <th>season</th>\n",
       "      <th>holiday</th>\n",
       "      <th>workingday</th>\n",
       "      <th>weather</th>\n",
       "      <th>year</th>\n",
       "      <th>month</th>\n",
       "      <th>day</th>\n",
       "      <th>dayofweek</th>\n",
       "      <th>hour</th>\n",
       "      <th>component_0</th>\n",
       "      <th>component_1</th>\n",
       "      <th>count</th>\n",
       "    </tr>\n",
       "  </thead>\n",
       "  <tbody>\n",
       "  </tbody>\n",
       "</table>\n",
       "</div>"
      ],
      "text/plain": [
       "Empty DataFrame\n",
       "Columns: [datetime, season, holiday, workingday, weather, year, month, day, dayofweek, hour, component_0, component_1, count]\n",
       "Index: []"
      ]
     },
     "execution_count": 99,
     "metadata": {},
     "output_type": "execute_result"
    }
   ],
   "source": [
    "df_test[df_test['count']<0]"
   ]
  },
  {
   "cell_type": "code",
   "execution_count": 100,
   "id": "e538ce21-117f-4ffd-8801-ca85c201fb0e",
   "metadata": {},
   "outputs": [],
   "source": [
    "def adjust_count(x):\n",
    "    if x<0:\n",
    "        return 0\n",
    "    else:\n",
    "        return x"
   ]
  },
  {
   "cell_type": "code",
   "execution_count": 101,
   "id": "b557cbe9-83df-4f16-a5e8-28665700e59f",
   "metadata": {},
   "outputs": [
    {
     "data": {
      "text/plain": [
       "0        12.164768\n",
       "1         4.940612\n",
       "2         2.883954\n",
       "3         1.999295\n",
       "4         1.754588\n",
       "           ...    \n",
       "6488    318.097046\n",
       "6489    209.975952\n",
       "6490    162.844208\n",
       "6491    114.994629\n",
       "6492     58.761299\n",
       "Name: count, Length: 6493, dtype: float64"
      ]
     },
     "execution_count": 101,
     "metadata": {},
     "output_type": "execute_result"
    }
   ],
   "source": [
    "df_test['count'].map(adjust_count)"
   ]
  },
  {
   "cell_type": "code",
   "execution_count": 102,
   "id": "4660476f-377f-479c-a7ad-a3bee6ca6ce3",
   "metadata": {},
   "outputs": [],
   "source": [
    "df_test['count'] = df_test['count'].map(adjust_count)"
   ]
  },
  {
   "cell_type": "code",
   "execution_count": 81,
   "id": "98a9494c-efdb-42b1-bb4e-ca4efa2ee148",
   "metadata": {},
   "outputs": [
    {
     "data": {
      "text/html": [
       "<div>\n",
       "<style scoped>\n",
       "    .dataframe tbody tr th:only-of-type {\n",
       "        vertical-align: middle;\n",
       "    }\n",
       "\n",
       "    .dataframe tbody tr th {\n",
       "        vertical-align: top;\n",
       "    }\n",
       "\n",
       "    .dataframe thead th {\n",
       "        text-align: right;\n",
       "    }\n",
       "</style>\n",
       "<table border=\"1\" class=\"dataframe\">\n",
       "  <thead>\n",
       "    <tr style=\"text-align: right;\">\n",
       "      <th></th>\n",
       "      <th>datetime</th>\n",
       "      <th>season</th>\n",
       "      <th>holiday</th>\n",
       "      <th>workingday</th>\n",
       "      <th>weather</th>\n",
       "      <th>year</th>\n",
       "      <th>month</th>\n",
       "      <th>day</th>\n",
       "      <th>dayofweek</th>\n",
       "      <th>hour</th>\n",
       "      <th>component_0</th>\n",
       "      <th>component_1</th>\n",
       "      <th>count</th>\n",
       "    </tr>\n",
       "  </thead>\n",
       "  <tbody>\n",
       "    <tr>\n",
       "      <th>0</th>\n",
       "      <td>2011-01-20 00:00:00</td>\n",
       "      <td>1</td>\n",
       "      <td>0</td>\n",
       "      <td>1</td>\n",
       "      <td>1</td>\n",
       "      <td>2011</td>\n",
       "      <td>1</td>\n",
       "      <td>20</td>\n",
       "      <td>3</td>\n",
       "      <td>0</td>\n",
       "      <td>-0.102386</td>\n",
       "      <td>-0.955772</td>\n",
       "      <td>11.519268</td>\n",
       "    </tr>\n",
       "    <tr>\n",
       "      <th>1</th>\n",
       "      <td>2011-01-20 01:00:00</td>\n",
       "      <td>1</td>\n",
       "      <td>0</td>\n",
       "      <td>1</td>\n",
       "      <td>1</td>\n",
       "      <td>2011</td>\n",
       "      <td>1</td>\n",
       "      <td>20</td>\n",
       "      <td>3</td>\n",
       "      <td>1</td>\n",
       "      <td>-0.232725</td>\n",
       "      <td>-0.964794</td>\n",
       "      <td>4.443256</td>\n",
       "    </tr>\n",
       "  </tbody>\n",
       "</table>\n",
       "</div>"
      ],
      "text/plain": [
       "             datetime  season  holiday  workingday  weather  year  month  day  \\\n",
       "0 2011-01-20 00:00:00       1        0           1        1  2011      1   20   \n",
       "1 2011-01-20 01:00:00       1        0           1        1  2011      1   20   \n",
       "\n",
       "   dayofweek  hour  component_0  component_1      count  \n",
       "0          3     0    -0.102386    -0.955772  11.519268  \n",
       "1          3     1    -0.232725    -0.964794   4.443256  "
      ]
     },
     "execution_count": 81,
     "metadata": {},
     "output_type": "execute_result"
    }
   ],
   "source": [
    "df_test.head(2)"
   ]
  },
  {
   "cell_type": "code",
   "execution_count": 103,
   "id": "7a7a21a2-ea54-4852-b966-a112d104fcd2",
   "metadata": {},
   "outputs": [],
   "source": [
    "df_test[['datetime','count']].to_csv('normalized_cloud_pca_predicted_count_in_localmode_199.csv',index=False)"
   ]
  },
  {
   "cell_type": "code",
   "execution_count": null,
   "id": "2d51bec4-602a-4bb5-baa4-31c035a80346",
   "metadata": {},
   "outputs": [],
   "source": []
  }
 ],
 "metadata": {
  "kernelspec": {
   "display_name": "Python 3 (ipykernel)",
   "language": "python",
   "name": "python3"
  },
  "language_info": {
   "codemirror_mode": {
    "name": "ipython",
    "version": 3
   },
   "file_extension": ".py",
   "mimetype": "text/x-python",
   "name": "python",
   "nbconvert_exporter": "python",
   "pygments_lexer": "ipython3",
   "version": "3.8.10"
  }
 },
 "nbformat": 4,
 "nbformat_minor": 5
}
