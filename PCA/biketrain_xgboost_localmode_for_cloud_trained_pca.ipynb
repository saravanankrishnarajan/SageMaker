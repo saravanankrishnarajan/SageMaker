{
 "cells": [
  {
   "cell_type": "markdown",
   "id": "3fb62c00-0547-4d0c-8acc-09ea56172953",
   "metadata": {},
   "source": [
    "### Train model using PCA components"
   ]
  },
  {
   "cell_type": "code",
   "execution_count": 2,
   "id": "44fac972-293d-48df-bf9d-9e854d4bcd48",
   "metadata": {},
   "outputs": [],
   "source": [
    "%matplotlib inline\n",
    "import numpy as np\n",
    "import pandas as pd\n",
    "import matplotlib.pyplot as plt\n",
    "import xgboost as xgb"
   ]
  },
  {
   "cell_type": "code",
   "execution_count": null,
   "id": "7c849f01-e1b7-473f-939e-d5f606be1201",
   "metadata": {},
   "outputs": [],
   "source": [
    "columns_list_file='bike_train_column_list_pca_cloud.txt'\n",
    "train_file = 'bike_train_pca_cloud.csv'\n",
    "validation_file = 'bike_"
   ]
  }
 ],
 "metadata": {
  "kernelspec": {
   "display_name": "Python 3 (ipykernel)",
   "language": "python",
   "name": "python3"
  },
  "language_info": {
   "codemirror_mode": {
    "name": "ipython",
    "version": 3
   },
   "file_extension": ".py",
   "mimetype": "text/x-python",
   "name": "python",
   "nbconvert_exporter": "python",
   "pygments_lexer": "ipython3",
   "version": "3.8.10"
  }
 },
 "nbformat": 4,
 "nbformat_minor": 5
}
