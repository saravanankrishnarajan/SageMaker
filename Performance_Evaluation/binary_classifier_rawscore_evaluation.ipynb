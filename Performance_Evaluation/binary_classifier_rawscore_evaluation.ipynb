{
 "cells": [
  {
   "cell_type": "markdown",
   "id": "2463b7df",
   "metadata": {},
   "source": [
    "## Binary Classifier Raw Score Evaluation\n",
    "\n",
    "<q><i>The actual output of many binary classification algorithms is a prediction score. The score indicates the system’s certainty that the given observation belongs to the positive class</i></q><br>\n",
    "\n",
    "To convert this raw score to a positive or negative class, we need to specify a cut-off. A sample with score greater than the cut-off is classified as positive class and a sample with score less than the cut-off is classified as negative class."
   ]
  },
  {
   "cell_type": "markdown",
   "id": "0d9f6cf0",
   "metadata": {},
   "source": [
    "We need to now assess how algorithm would behave under different classification thresholds.  Instead of manually performing this step, we can compute \"AUC\" metric.  AUC refers to Area Under Curve.  The curve here refers to the plot that has Probability of False Alarm (False Positive Rate) in X-Axis and Probability of Detection (Recall) in Y-Axis. By plotting False Alarm vs Recall at different cut-off thresholds, we can form a curve.  AUC measures the area under this curve.\n",
    "\n",
    "Common Techniques for evaluating performance:<br>\n",
    "<li>Visually observe raw score using Plots</li>\n",
    "<li>Evaluate Area Under Curve (AUC) Metric</li>"
   ]
  },
  {
   "cell_type": "code",
   "execution_count": 3,
   "id": "4e048a58",
   "metadata": {},
   "outputs": [
    {
     "name": "stderr",
     "output_type": "stream",
     "text": [
      "Matplotlib is building the font cache; this may take a moment.\n"
     ]
    }
   ],
   "source": [
    "import pandas as pd\n",
    "import numpy as np\n",
    "import matplotlib.pyplot as plt\n",
    "import itertools"
   ]
  },
  {
   "cell_type": "markdown",
   "id": "794736aa",
   "metadata": {},
   "source": [
    "### Result Data Set\n",
    "\n"
   ]
  }
 ],
 "metadata": {
  "kernelspec": {
   "display_name": "conda_tensorflow2_p310",
   "language": "python",
   "name": "conda_tensorflow2_p310"
  },
  "language_info": {
   "codemirror_mode": {
    "name": "ipython",
    "version": 3
   },
   "file_extension": ".py",
   "mimetype": "text/x-python",
   "name": "python",
   "nbconvert_exporter": "python",
   "pygments_lexer": "ipython3",
   "version": "3.10.13"
  }
 },
 "nbformat": 4,
 "nbformat_minor": 5
}
