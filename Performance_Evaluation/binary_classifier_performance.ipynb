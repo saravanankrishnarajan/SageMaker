{
 "cells": [
  {
   "cell_type": "code",
   "execution_count": null,
   "id": "30412a2a",
   "metadata": {},
   "outputs": [],
   "source": [
    "## Evaluating Performance of Binary Classifier\n",
    "\n",
    "Binary Model is used for predicting a binary outcome (Pass/Fail, 1/0, True/False, Yes/No)"
   ]
  }
 ],
 "metadata": {
  "kernelspec": {
   "display_name": "conda_tensorflow2_p310",
   "language": "python",
   "name": "conda_tensorflow2_p310"
  },
  "language_info": {
   "codemirror_mode": {
    "name": "ipython",
    "version": 3
   },
   "file_extension": ".py",
   "mimetype": "text/x-python",
   "name": "python",
   "nbconvert_exporter": "python",
   "pygments_lexer": "ipython3",
   "version": "3.10.13"
  }
 },
 "nbformat": 4,
 "nbformat_minor": 5
}
