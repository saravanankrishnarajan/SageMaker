{
 "cells": [
  {
   "cell_type": "code",
   "execution_count": 43,
   "id": "fdecea44-6767-49bd-a4a7-7b47480543ee",
   "metadata": {},
   "outputs": [],
   "source": [
    "!source .env"
   ]
  },
  {
   "cell_type": "code",
   "execution_count": 45,
   "id": "f7037b2b-bbc5-4ca6-88c1-848268d18f22",
   "metadata": {},
   "outputs": [],
   "source": [
    "import os\n",
    "\n",
    "os.environ.get('ENDPOINT_NAME')"
   ]
  },
  {
   "cell_type": "code",
   "execution_count": 63,
   "id": "2a55e65a-b5bc-4df3-89ed-cb92622d6fe6",
   "metadata": {},
   "outputs": [
    {
     "name": "stdout",
     "output_type": "stream",
     "text": [
      "Received event: null\n",
      "{'statuscode': 400, 'ibase64Encoded': False, 'body': \"Call Failed 'NoneType' object is not subscriptable\"}\n"
     ]
    }
   ],
   "source": [
    "# validating with No events\n",
    "!python3 lambda_validate_none.py"
   ]
  },
  {
   "cell_type": "code",
   "execution_count": 62,
   "id": "e4dff3df-ae93-4057-ada5-e5ea0d572469",
   "metadata": {},
   "outputs": [
    {
     "name": "stdout",
     "output_type": "stream",
     "text": [
      "Received event: {\n",
      "  \"instances\": [\n",
      "    {\n",
      "      \"features\": [\n",
      "        \"2012-12-19 17:00:00\",\n",
      "        4,\n",
      "        0,\n",
      "        1,\n",
      "        1,\n",
      "        16.4,\n",
      "        20.455,\n",
      "        50,\n",
      "        26.0027\n",
      "      ]\n",
      "    }\n",
      "  ]\n",
      "}\n",
      "{'statuscode': 200, 'ibase64Encoded': False, 'body': '[571.092597122044]'}\n"
     ]
    }
   ],
   "source": [
    "# validating with single event\n",
    "\n",
    "!python3 lambda_validate_single_event.py"
   ]
  },
  {
   "cell_type": "code",
   "execution_count": 64,
   "id": "551afe0f-3e35-4043-8a05-dfe5f79f46e6",
   "metadata": {},
   "outputs": [
    {
     "name": "stdout",
     "output_type": "stream",
     "text": [
      "Received event: {\n",
      "  \"instances\": [\n",
      "    {\n",
      "      \"features\": [\n",
      "        \"2012-12-19 17:00:00\",\n",
      "        4,\n",
      "        0,\n",
      "        1,\n",
      "        1,\n",
      "        16.4,\n",
      "        20.455,\n",
      "        50,\n",
      "        26.0027\n",
      "      ]\n",
      "    },\n",
      "    {\n",
      "      \"features\": [\n",
      "        \"2012-12-19 18:00:00\",\n",
      "        4,\n",
      "        0,\n",
      "        1,\n",
      "        1,\n",
      "        15.58,\n",
      "        19.695,\n",
      "        50,\n",
      "        23.9994\n",
      "      ]\n",
      "    },\n",
      "    {\n",
      "      \"features\": [\n",
      "        \"2012-12-10 01:00:00\",\n",
      "        4,\n",
      "        0,\n",
      "        1,\n",
      "        2,\n",
      "        14.76,\n",
      "        18.94,\n",
      "        100,\n",
      "        0\n",
      "      ]\n",
      "    }\n",
      "  ]\n",
      "}\n",
      "{'statuscode': 200, 'ibase64Encoded': False, 'body': '[571.092597122044, 555.3798181158465, 10.489585991183136]'}\n"
     ]
    }
   ],
   "source": [
    "# validating with multiple events\n",
    "\n",
    "!python3 lambda_validate_multiple_events.py"
   ]
  },
  {
   "cell_type": "code",
   "execution_count": 65,
   "id": "2fa1cb82-fd9e-4fd4-8b36-9595e16ae92c",
   "metadata": {},
   "outputs": [
    {
     "name": "stdout",
     "output_type": "stream",
     "text": [
      "  adding: lambda_function.py (deflated 58%)\n",
      "  adding: transform_data.py (deflated 57%)\n"
     ]
    }
   ],
   "source": [
    "## zipping files to deploy in lambda\n",
    "\n",
    "!zip invoke_sagemaker.zip lambda_function.py transform_data.py"
   ]
  },
  {
   "cell_type": "code",
   "execution_count": null,
   "id": "84f19e0f-9678-45df-8327-e2d3cb44dbb5",
   "metadata": {},
   "outputs": [],
   "source": [
    "# deploy the zip file in lambda and test"
   ]
  }
 ],
 "metadata": {
  "kernelspec": {
   "display_name": "Python 3 (ipykernel)",
   "language": "python",
   "name": "python3"
  },
  "language_info": {
   "codemirror_mode": {
    "name": "ipython",
    "version": 3
   },
   "file_extension": ".py",
   "mimetype": "text/x-python",
   "name": "python",
   "nbconvert_exporter": "python",
   "pygments_lexer": "ipython3",
   "version": "3.8.10"
  }
 },
 "nbformat": 4,
 "nbformat_minor": 5
}
