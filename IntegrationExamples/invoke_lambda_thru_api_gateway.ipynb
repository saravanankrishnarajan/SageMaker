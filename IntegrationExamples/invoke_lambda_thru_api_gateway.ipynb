{
 "cells": [
  {
   "cell_type": "code",
   "execution_count": null,
   "id": "d6f089d7-1ea9-4492-8b97-545c678e404c",
   "metadata": {},
   "outputs": [],
   "source": [
    "# Invoke API Gateway Endpoint\n",
    "# This example shows how to invoke SageMaker Endpoint from outside of AWS environment using API Gateway\n",
    "# Ref: https://stackoverflow.com/questions/17301938/making-a-request-to-a-restful-api-using-python\n",
    "\n",
    "# Common Data Formats\n",
    "# https://docs.aws.amazon.com/sagemaker/latest/dg/cdf-inference.html\n",
    "\n",
    "# Endpoint: XGBoost - Kaggle Bike Rental - Regressor Trained in XGBoost Lectures\n",
    "# Makesure Endpoint is deployed before running this example"
   ]
  },
  {
   "cell_type": "code",
   "execution_count": 1,
   "id": "24b5ed19-39d5-4f71-82e8-f6eacfa93f97",
   "metadata": {},
   "outputs": [],
   "source": [
    "import requests\n",
    "import json"
   ]
  },
  {
   "cell_type": "code",
   "execution_count": 48,
   "id": "93b96910-6443-40b9-abfd-ede336795c9b",
   "metadata": {},
   "outputs": [],
   "source": [
    "# api url \n",
    "url = 'https://apicode.execute-api.us-east-1.amazonaws.com/beta'"
   ]
  },
  {
   "cell_type": "code",
   "execution_count": 3,
   "id": "cfcb6574-be0a-4976-a871-97adf6b79446",
   "metadata": {},
   "outputs": [],
   "source": [
    "# Raw Data\n",
    "#datetime,season,holiday,workingday,weather,temp,atemp,humidity,windspeed,casual,registered,count\n",
    "# Actual=562\n",
    "sample_one = ['2012-12-19 17:00:00',4,0,1,1,16.4,20.455,50,26.0027]\n",
    "# Actual=569\n",
    "sample_two = ['2012-12-19 18:00:00',4,0,1,1,15.58,19.695,50,23.9994]\n",
    "# Actual=4\n",
    "sample_three = ['2012-12-10 01:00:00',4,0,1,2,14.76,18.94,100,0]"
   ]
  },
  {
   "cell_type": "code",
   "execution_count": 5,
   "id": "ae303767-53e5-42b2-8fa0-9b025cce1ea7",
   "metadata": {},
   "outputs": [],
   "source": [
    "# Single observation\n",
    "\n",
    "request = {\n",
    "    \"instances\": [\n",
    "        {\n",
    "            \"features\":sample_one\n",
    "        }\n",
    "    ]\n",
    "}"
   ]
  },
  {
   "cell_type": "code",
   "execution_count": 6,
   "id": "a444d6c3-ce2b-4ed7-a3a3-e65095b0f10a",
   "metadata": {},
   "outputs": [
    {
     "data": {
      "text/plain": [
       "{'instances': [{'features': ['2012-12-19 17:00:00',\n",
       "    4,\n",
       "    0,\n",
       "    1,\n",
       "    1,\n",
       "    16.4,\n",
       "    20.455,\n",
       "    50,\n",
       "    26.0027]}]}"
      ]
     },
     "execution_count": 6,
     "metadata": {},
     "output_type": "execute_result"
    }
   ],
   "source": [
    "request"
   ]
  },
  {
   "cell_type": "code",
   "execution_count": 7,
   "id": "4d701af9-ad03-4ed4-a811-9a45158ef672",
   "metadata": {},
   "outputs": [],
   "source": [
    "response = requests.post(url, data=json.dumps(request))\n",
    "result = response.json()"
   ]
  },
  {
   "cell_type": "code",
   "execution_count": 8,
   "id": "ed7fc885-b948-4ead-a525-762c93c1903b",
   "metadata": {},
   "outputs": [
    {
     "data": {
      "text/plain": [
       "{'statuscode': 200, 'ibase64Encoded': False, 'body': '[571.092597122044]'}"
      ]
     },
     "execution_count": 8,
     "metadata": {},
     "output_type": "execute_result"
    }
   ],
   "source": [
    "result"
   ]
  },
  {
   "cell_type": "code",
   "execution_count": 9,
   "id": "003504e2-fd77-4887-8612-fd7590977978",
   "metadata": {},
   "outputs": [
    {
     "name": "stdout",
     "output_type": "stream",
     "text": [
      "Predicted Count: [571.092597122044]\n"
     ]
    }
   ],
   "source": [
    "if result['statuscode']==200:\n",
    "    predictions=json.loads(result['body'])\n",
    "    print('Predicted Count:', predictions)\n",
    "else:\n",
    "    print('Error',result['statusCode'],result['body'])\n",
    "                           "
   ]
  },
  {
   "cell_type": "code",
   "execution_count": 16,
   "id": "a3fb575f-75fd-4345-bec7-6b3de4943197",
   "metadata": {},
   "outputs": [],
   "source": [
    "# Multiple obs\n",
    "request = {\n",
    "    'instances':[\n",
    "        {\n",
    "            'features': sample_one\n",
    "        },\n",
    "        {\n",
    "            'features': sample_two\n",
    "        },\n",
    "        {\n",
    "            'features': sample_three\n",
    "        },\n",
    "    ]\n",
    "}"
   ]
  },
  {
   "cell_type": "code",
   "execution_count": 17,
   "id": "58d96b4d-43fb-4911-a7bb-37e27807a9f9",
   "metadata": {},
   "outputs": [],
   "source": [
    "response = requests.post(url,data=json.dumps(request))\n",
    "result = response.json()"
   ]
  },
  {
   "cell_type": "code",
   "execution_count": 18,
   "id": "c6849836-91e3-4774-8606-3c62b5096007",
   "metadata": {},
   "outputs": [
    {
     "data": {
      "text/plain": [
       "{'statuscode': 200,\n",
       " 'ibase64Encoded': False,\n",
       " 'body': '[571.092597122044, 555.3798181158465, 10.489585991183136]'}"
      ]
     },
     "execution_count": 18,
     "metadata": {},
     "output_type": "execute_result"
    }
   ],
   "source": [
    "result"
   ]
  },
  {
   "cell_type": "code",
   "execution_count": 21,
   "id": "9a6c6ead-3410-4900-b72d-b895117ed6ad",
   "metadata": {},
   "outputs": [
    {
     "name": "stdout",
     "output_type": "stream",
     "text": [
      "Predicted counts: [571.092597122044, 555.3798181158465, 10.489585991183136]\n"
     ]
    }
   ],
   "source": [
    "if result['statuscode']==200:\n",
    "    predictions=json.loads(result['body'])\n",
    "    print('Predicted counts:',predictions)\n",
    "else:\n",
    "    print('Error',result['statuscode'],result['body'])"
   ]
  },
  {
   "cell_type": "code",
   "execution_count": 31,
   "id": "2c51dd54-1129-4ba9-a125-9e132301b549",
   "metadata": {},
   "outputs": [],
   "source": [
    "# Removed last two features of sample_one\n",
    "sample_invalid = ['2012-12-10 01:00:00',4,0,1,2,14.76,18.94]"
   ]
  },
  {
   "cell_type": "code",
   "execution_count": 32,
   "id": "1d663838-eb52-4c1b-a27a-c94a18b0b77c",
   "metadata": {},
   "outputs": [],
   "source": [
    "# Single invalid observation\n",
    "\n",
    "request = {\n",
    "    \"instances\": [\n",
    "        {\n",
    "            \"features\":sample_invalid\n",
    "        }\n",
    "    ]\n",
    "}"
   ]
  },
  {
   "cell_type": "code",
   "execution_count": 33,
   "id": "1e37ebed-7b77-4b66-ada9-31f45a1d3be1",
   "metadata": {},
   "outputs": [],
   "source": [
    "response = requests.post(url, data=json.dumps(request))\n",
    "result = response.json()"
   ]
  },
  {
   "cell_type": "code",
   "execution_count": 34,
   "id": "5f9b9d2a-b5db-4d56-8c66-c0e928f76ebf",
   "metadata": {},
   "outputs": [
    {
     "name": "stdout",
     "output_type": "stream",
     "text": [
      "Error 400 Call Failed An error occurred (ModelError) when calling the InvokeEndpoint operation: Received client error (400) from primary with message \"Unable to evaluate payload provided: Feature size of csv inference data 11 is not consistent with feature size of trained model 13.\". See https://us-east-1.console.aws.amazon.com/cloudwatch/home?region=us-east-1#logEventViewer:group=/aws/sagemaker/Endpoints/xgboost-bikerental-v1 in account 731887523937 for more information.\n"
     ]
    }
   ],
   "source": [
    "if result['statuscode']==200:\n",
    "    predictions=json.loads(result['body'])\n",
    "    print('Predicted Count:', predictions)\n",
    "else:\n",
    "    print('Error',result['statuscode'],result['body'])"
   ]
  },
  {
   "cell_type": "code",
   "execution_count": 45,
   "id": "9d9200d5-b5dc-49d8-af25-f6df3b05b091",
   "metadata": {},
   "outputs": [],
   "source": [
    "# checking inactive api\n",
    "\n",
    "# Single observation\n",
    "\n",
    "request = {\n",
    "    \"instances\": [\n",
    "        {\n",
    "            \"features\":sample_one\n",
    "        }\n",
    "    ]\n",
    "}"
   ]
  },
  {
   "cell_type": "code",
   "execution_count": 46,
   "id": "be9469e8-ee9b-441c-b2d7-1ea77fbfd867",
   "metadata": {},
   "outputs": [],
   "source": [
    "response = requests.post(url, data=json.dumps(request))\n",
    "result = response.json()"
   ]
  },
  {
   "cell_type": "code",
   "execution_count": 47,
   "id": "212b9d98-311c-4707-85aa-11aec12d58c9",
   "metadata": {},
   "outputs": [
    {
     "ename": "KeyError",
     "evalue": "'statuscode'",
     "output_type": "error",
     "traceback": [
      "\u001b[0;31m---------------------------------------------------------------------------\u001b[0m",
      "\u001b[0;31mKeyError\u001b[0m                                  Traceback (most recent call last)",
      "Cell \u001b[0;32mIn[47], line 1\u001b[0m\n\u001b[0;32m----> 1\u001b[0m \u001b[38;5;28;01mif\u001b[39;00m \u001b[43mresult\u001b[49m\u001b[43m[\u001b[49m\u001b[38;5;124;43m'\u001b[39;49m\u001b[38;5;124;43mstatuscode\u001b[39;49m\u001b[38;5;124;43m'\u001b[39;49m\u001b[43m]\u001b[49m\u001b[38;5;241m==\u001b[39m\u001b[38;5;241m200\u001b[39m:\n\u001b[1;32m      2\u001b[0m     predictions\u001b[38;5;241m=\u001b[39mjson\u001b[38;5;241m.\u001b[39mloads(result[\u001b[38;5;124m'\u001b[39m\u001b[38;5;124mbody\u001b[39m\u001b[38;5;124m'\u001b[39m])\n\u001b[1;32m      3\u001b[0m     \u001b[38;5;28mprint\u001b[39m(\u001b[38;5;124m'\u001b[39m\u001b[38;5;124mPredicted Count:\u001b[39m\u001b[38;5;124m'\u001b[39m, predictions)\n",
      "\u001b[0;31mKeyError\u001b[0m: 'statuscode'"
     ]
    }
   ],
   "source": [
    "if result['statuscode']==200:\n",
    "    predictions=json.loads(result['body'])\n",
    "    print('Predicted Count:', predictions)\n",
    "else:\n",
    "    print('Error',result['statuscode'],result['body'])"
   ]
  },
  {
   "cell_type": "code",
   "execution_count": null,
   "id": "48bc02d3-404b-4ab0-9633-96980b73b851",
   "metadata": {},
   "outputs": [],
   "source": []
  }
 ],
 "metadata": {
  "kernelspec": {
   "display_name": "Python 3 (ipykernel)",
   "language": "python",
   "name": "python3"
  },
  "language_info": {
   "codemirror_mode": {
    "name": "ipython",
    "version": 3
   },
   "file_extension": ".py",
   "mimetype": "text/x-python",
   "name": "python",
   "nbconvert_exporter": "python",
   "pygments_lexer": "ipython3",
   "version": "3.8.10"
  }
 },
 "nbformat": 4,
 "nbformat_minor": 5
}
