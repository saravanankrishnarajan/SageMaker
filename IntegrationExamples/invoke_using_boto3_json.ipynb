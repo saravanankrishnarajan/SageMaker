{
 "cells": [
  {
   "cell_type": "code",
   "execution_count": 1,
   "id": "85956da9-9b54-41d4-9ad5-2a684c8d2726",
   "metadata": {},
   "outputs": [],
   "source": [
    "import boto3\n",
    "import math\n",
    "import dateutil\n",
    "import json\n",
    "import re"
   ]
  },
  {
   "cell_type": "code",
   "execution_count": 28,
   "id": "ba97be54-f009-46b0-a901-9bd6934a34c5",
   "metadata": {},
   "outputs": [],
   "source": [
    "# Import s3 bucket name from .env file\n",
    "\n",
    "import os\n",
    "env_vars = !cat ./.env\n",
    "for var in env_vars:\n",
    "    key, value = var.split('=')\n",
    "    os.environ[key]=value"
   ]
  },
  {
   "cell_type": "code",
   "execution_count": 29,
   "id": "e3aa3f86-ed61-4053-b7f1-265db9cf8add",
   "metadata": {},
   "outputs": [],
   "source": [
    "endpoint_name = os.environ['ENDPOINT_NAME']\n",
    "profile_name = os.environ['PROFILE_NAME']\n",
    "#print(endpoint_name)"
   ]
  },
  {
   "cell_type": "code",
   "execution_count": 5,
   "id": "62cc55a2-b5b1-4364-b463-5b9ff815272a",
   "metadata": {},
   "outputs": [],
   "source": [
    "boto_session = boto3.Session(profile_name=profile_name, region_name='us-east-1')"
   ]
  },
  {
   "cell_type": "code",
   "execution_count": 25,
   "id": "b4c136e6-de53-4cbf-8c93-17920c8f79dc",
   "metadata": {},
   "outputs": [],
   "source": [
    "client = boto_session.client(service_name='sagemaker-runtime', region_name='us-east-1')"
   ]
  },
  {
   "cell_type": "code",
   "execution_count": 7,
   "id": "b32ee903-51e6-4a9e-b446-6bde0bae44c1",
   "metadata": {},
   "outputs": [],
   "source": [
    "# Raw Data\n",
    "#datetime,season,holiday,workingday,weather,temp,atemp,humidity,windspeed,casual,registered,count\n",
    "# Actual=562\n",
    "sample_one = ['2012-12-19 17:00:00',4,0,1,1,16.4,20.455,50,26.0027]\n",
    "# Actual=569\n",
    "sample_two = ['2012-12-19 18:00:00',4,0,1,1,15.58,19.695,50,23.9994]\n",
    "# Actual=4\n",
    "sample_three = ['2012-12-10 01:00:00',4,0,1,2,14.76,18.94,100,0]"
   ]
  },
  {
   "cell_type": "code",
   "execution_count": 9,
   "id": "d4c05984-9179-4c39-99fb-705fcfc383e5",
   "metadata": {},
   "outputs": [],
   "source": [
    "#single objservation\n",
    "\n",
    "request = {\n",
    "    'instances': [\n",
    "        {\n",
    "            'features':sample_one\n",
    "        }\n",
    "    ]\n",
    "}\n"
   ]
  },
  {
   "cell_type": "code",
   "execution_count": 10,
   "id": "cfc8606f-c3cb-4a89-b25a-251847577ba7",
   "metadata": {},
   "outputs": [
    {
     "data": {
      "text/plain": [
       "{'instances': [{'features': ['2012-12-19 17:00:00',\n",
       "    4,\n",
       "    0,\n",
       "    1,\n",
       "    1,\n",
       "    16.4,\n",
       "    20.455,\n",
       "    50,\n",
       "    26.0027]}]}"
      ]
     },
     "execution_count": 10,
     "metadata": {},
     "output_type": "execute_result"
    }
   ],
   "source": [
    "request"
   ]
  },
  {
   "cell_type": "code",
   "execution_count": 12,
   "id": "b1154de4-fdf3-41bc-87fb-b8e29da57075",
   "metadata": {},
   "outputs": [
    {
     "name": "stdout",
     "output_type": "stream",
     "text": [
      "{\"instances\": [{\"features\": [\"2012-12-19 17:00:00\", 4, 0, 1, 1, 16.4, 20.455, 50, 26.0027]}]}\n"
     ]
    }
   ],
   "source": [
    "print(json.dumps(request))"
   ]
  },
  {
   "cell_type": "code",
   "execution_count": 13,
   "id": "f6b36dec-b266-439b-b154-15454651d5f4",
   "metadata": {},
   "outputs": [],
   "source": [
    "# Multiple observations as json\n",
    "\n",
    "request = {\n",
    "    'instances':[\n",
    "        {\n",
    "            'features':sample_one\n",
    "        },\n",
    "        {\n",
    "            'features':sample_two\n",
    "        },\n",
    "        {\n",
    "            'features':sample_three\n",
    "        }\n",
    "    ]\n",
    "}"
   ]
  },
  {
   "cell_type": "code",
   "execution_count": 14,
   "id": "2bac4ede-d201-48d7-ab59-fd7439d8bace",
   "metadata": {},
   "outputs": [
    {
     "name": "stdout",
     "output_type": "stream",
     "text": [
      "{\"instances\": [{\"features\": [\"2012-12-19 17:00:00\", 4, 0, 1, 1, 16.4, 20.455, 50, 26.0027]}, {\"features\": [\"2012-12-19 18:00:00\", 4, 0, 1, 1, 15.58, 19.695, 50, 23.9994]}, {\"features\": [\"2012-12-10 01:00:00\", 4, 0, 1, 2, 14.76, 18.94, 100, 0]}]}\n"
     ]
    }
   ],
   "source": [
    "print(json.dumps(request))"
   ]
  },
  {
   "cell_type": "code",
   "execution_count": 17,
   "id": "ff69e9b0-1527-4d22-9617-b6bc8125f9f2",
   "metadata": {},
   "outputs": [],
   "source": [
    "# Raw Data Structure: \n",
    "# datetime,season,holiday,workingday,weather,temp,atemp,humidity,windspeed,casual,registered,count\n",
    "\n",
    "# Model expects data in this format (it was trained with these features):\n",
    "# season,holiday,workingday,weather,temp,atemp,humidity,windspeed,year,month,day,dayofweek,hour\n",
    "\n",
    "def transform_data(data):\n",
    "    features = data.copy()\n",
    "\n",
    "    dt = dateutil.parser.parse(features[0])\n",
    "\n",
    "    features.append(dt.year)\n",
    "    features.append(dt.month)\n",
    "    features.append(dt.day)\n",
    "    features.append(dt.weekday())\n",
    "    features.append(dt.hour)\n",
    "\n",
    "    return ','.join([str(feature)for feature in features[1:]])"
   ]
  },
  {
   "cell_type": "code",
   "execution_count": 18,
   "id": "fa9b4e13-1156-4b0c-b7e9-935501e9a2b0",
   "metadata": {},
   "outputs": [
    {
     "name": "stdout",
     "output_type": "stream",
     "text": [
      "Raw Data: ['2012-12-19 17:00:00', 4, 0, 1, 1, 16.4, 20.455, 50, 26.0027]\n",
      "Transfored Data: 4,0,1,1,16.4,20.455,50,26.0027,2012,12,19,2,17\n"
     ]
    }
   ],
   "source": [
    "print('Raw Data:', sample_one)\n",
    "print('Transfored Data:', transform_data(sample_one))"
   ]
  },
  {
   "cell_type": "code",
   "execution_count": 19,
   "id": "51de8e43-0a8c-4c0e-b4b7-3e2c426b2ebb",
   "metadata": {},
   "outputs": [],
   "source": [
    "# Single with error\n",
    "\n",
    "request = {\n",
    "    'instances': [\n",
    "        {\n",
    "            'features':['hi there',0,2]\n",
    "        }\n",
    "    ]\n",
    "}\n"
   ]
  },
  {
   "cell_type": "code",
   "execution_count": 20,
   "id": "8240a676-df99-4060-9b23-aa8ad06adde3",
   "metadata": {},
   "outputs": [
    {
     "data": {
      "text/plain": [
       "[{'features': ['hi there', 0, 2]}]"
      ]
     },
     "execution_count": 20,
     "metadata": {},
     "output_type": "execute_result"
    }
   ],
   "source": [
    "request['instances']"
   ]
  },
  {
   "cell_type": "code",
   "execution_count": 22,
   "id": "226073b4-9b4a-4880-897a-29ad24f49805",
   "metadata": {},
   "outputs": [
    {
     "name": "stdout",
     "output_type": "stream",
     "text": [
      "Error when transforming: Unknown string format: hi there\n"
     ]
    }
   ],
   "source": [
    "try:\n",
    "    transform_data = [transform_data(instance['features']) for instance in request['instances']]\n",
    "except Exception as err:\n",
    "    print('Error when transforming: {0}'.format(err))"
   ]
  },
  {
   "cell_type": "code",
   "execution_count": 23,
   "id": "6210d975-52ac-41a7-a9ec-bb044a0098da",
   "metadata": {},
   "outputs": [],
   "source": [
    "#single objservation\n",
    "\n",
    "request = {\n",
    "    'instances': [\n",
    "        {\n",
    "            'features':sample_one\n",
    "        }\n",
    "    ]\n",
    "}"
   ]
  },
  {
   "cell_type": "code",
   "execution_count": 26,
   "id": "60865892-a4f3-4e75-9224-4ae82c29d277",
   "metadata": {},
   "outputs": [
    {
     "data": {
      "text/plain": [
       "<botocore.client.SageMakerRuntime at 0x7efd88df8c40>"
      ]
     },
     "execution_count": 26,
     "metadata": {},
     "output_type": "execute_result"
    }
   ],
   "source": [
    "# Invoke prediction\n",
    "\n",
    "client"
   ]
  },
  {
   "cell_type": "code",
   "execution_count": 30,
   "id": "f501c90b-37ad-4c9b-ad70-6516ff72c92e",
   "metadata": {},
   "outputs": [],
   "source": [
    "result = client.invoke_endpoint(EndpointName=endpoint_name,\n",
    "                           Body=transform_data(request['instances'][0]['features']).encode('utf-8'),\n",
    "                           ContentType='text/csv'\n",
    "                      )"
   ]
  },
  {
   "cell_type": "code",
   "execution_count": 31,
   "id": "4f3aac37-073c-4fdc-ada9-203583f5ec58",
   "metadata": {},
   "outputs": [],
   "source": [
    "result = result['Body'].read().decode('utf-8')"
   ]
  },
  {
   "cell_type": "code",
   "execution_count": 33,
   "id": "2048872c-f8c5-4ab2-bc57-21f9626aa7d0",
   "metadata": {},
   "outputs": [
    {
     "name": "stdout",
     "output_type": "stream",
     "text": [
      "Predicted Count 571.092597122044\n"
     ]
    }
   ],
   "source": [
    "print('Predicted Count',math.expm1(float(result)))"
   ]
  },
  {
   "cell_type": "code",
   "execution_count": 34,
   "id": "c5cee9e6-2075-4080-9fe5-1c9a7b0dcec5",
   "metadata": {},
   "outputs": [],
   "source": [
    "# Multiple Observations\n",
    "request = {\n",
    "    \"instances\": [\n",
    "        # First instance.\n",
    "        {\n",
    "            \"features\": sample_one\n",
    "        },\n",
    "        # Second instance.\n",
    "        {\n",
    "            \"features\": sample_two\n",
    "        },\n",
    "        # Third instance.\n",
    "        {\n",
    "            \"features\": sample_three\n",
    "        }\n",
    "    ]\n",
    "}"
   ]
  },
  {
   "cell_type": "code",
   "execution_count": 38,
   "id": "d3b78a1a-9fc2-4a14-b268-f5d3e77e289e",
   "metadata": {},
   "outputs": [
    {
     "name": "stdout",
     "output_type": "stream",
     "text": [
      "{'features': ['2012-12-19 17:00:00', 4, 0, 1, 1, 16.4, 20.455, 50, 26.0027]}\n",
      "Transformed\n",
      "  4,0,1,1,16.4,20.455,50,26.0027,2012,12,19,2,17\n",
      "{'features': ['2012-12-19 18:00:00', 4, 0, 1, 1, 15.58, 19.695, 50, 23.9994]}\n",
      "Transformed\n",
      "  4,0,1,1,15.58,19.695,50,23.9994,2012,12,19,2,18\n",
      "{'features': ['2012-12-10 01:00:00', 4, 0, 1, 2, 14.76, 18.94, 100, 0]}\n",
      "Transformed\n",
      "  4,0,1,2,14.76,18.94,100,0,2012,12,10,0,1\n"
     ]
    }
   ],
   "source": [
    "for instance in request['instances']:\n",
    "    print(instance)\n",
    "    print('Transformed')\n",
    "    print(' ',transform_data(instance['features']))"
   ]
  },
  {
   "cell_type": "code",
   "execution_count": 57,
   "id": "e2a159f3-fe81-414b-aeb3-374bc1699ab9",
   "metadata": {},
   "outputs": [],
   "source": [
    "result = client.invoke_endpoint(EndpointName=endpoint_name,\n",
    "                        Body='\\n'.join([transform_data(instance['features']) for instance in request['instances']]).encode('utf-8'),\n",
    "                        ContentType='text/csv')"
   ]
  },
  {
   "cell_type": "code",
   "execution_count": 58,
   "id": "41cf9856-0df6-46ef-9776-09cb5af502a5",
   "metadata": {},
   "outputs": [
    {
     "data": {
      "text/plain": [
       "{'ResponseMetadata': {'RequestId': '452d1c9a-5730-470a-b616-b8b7fe97c6df',\n",
       "  'HTTPStatusCode': 200,\n",
       "  'HTTPHeaders': {'x-amzn-requestid': '452d1c9a-5730-470a-b616-b8b7fe97c6df',\n",
       "   'x-amzn-invoked-production-variant': 'AllTraffic',\n",
       "   'date': 'Tue, 07 May 2024 11:36:06 GMT',\n",
       "   'content-type': 'text/csv; charset=utf-8',\n",
       "   'content-length': '54',\n",
       "   'connection': 'keep-alive'},\n",
       "  'RetryAttempts': 0},\n",
       " 'ContentType': 'text/csv; charset=utf-8',\n",
       " 'InvokedProductionVariant': 'AllTraffic',\n",
       " 'Body': <botocore.response.StreamingBody at 0x7efd88b3db20>}"
      ]
     },
     "execution_count": 58,
     "metadata": {},
     "output_type": "execute_result"
    }
   ],
   "source": [
    "result"
   ]
  },
  {
   "cell_type": "code",
   "execution_count": 59,
   "id": "327aa304-9ce2-4b8f-a4cc-ac9b7cbde679",
   "metadata": {},
   "outputs": [],
   "source": [
    "result = result['Body'].read().decode('utf-8')"
   ]
  },
  {
   "cell_type": "code",
   "execution_count": 60,
   "id": "fe512acc-9040-4ad3-a4d9-98f5532062bd",
   "metadata": {},
   "outputs": [
    {
     "data": {
      "text/plain": [
       "'6.349300861358643\\n6.321451187133789\\n2.441441059112549\\n'"
      ]
     },
     "execution_count": 60,
     "metadata": {},
     "output_type": "execute_result"
    }
   ],
   "source": [
    "result"
   ]
  },
  {
   "cell_type": "code",
   "execution_count": 61,
   "id": "9446b46f-cc05-4319-8ff1-ca07fe4ff8c0",
   "metadata": {},
   "outputs": [
    {
     "name": "stdout",
     "output_type": "stream",
     "text": [
      "6.349300861358643\n",
      "6.321451187133789\n",
      "2.441441059112549\n",
      "\n"
     ]
    }
   ],
   "source": [
    "print(result)"
   ]
  },
  {
   "cell_type": "code",
   "execution_count": 62,
   "id": "8ccd0975-7f8c-4c8a-aa69-aff98783d97d",
   "metadata": {},
   "outputs": [],
   "source": [
    "# spliting result using regular expression\n",
    "\n",
    "pattern = r'[^0-9.]+'\n",
    "result = re.split(pattern,result)\n",
    "predictions = [ math.expm1(float(r)) for r in result if r!=\"\"]"
   ]
  },
  {
   "cell_type": "code",
   "execution_count": 63,
   "id": "d9e06da1-3299-454e-ab0e-cdbe7ebaf6cf",
   "metadata": {},
   "outputs": [
    {
     "data": {
      "text/plain": [
       "[571.092597122044, 555.3798181158465, 10.489585991183136]"
      ]
     },
     "execution_count": 63,
     "metadata": {},
     "output_type": "execute_result"
    }
   ],
   "source": [
    "predictions"
   ]
  },
  {
   "cell_type": "code",
   "execution_count": null,
   "id": "4c1fb8f1-eba7-4138-9990-c20939a4e995",
   "metadata": {},
   "outputs": [],
   "source": []
  }
 ],
 "metadata": {
  "kernelspec": {
   "display_name": "Python 3 (ipykernel)",
   "language": "python",
   "name": "python3"
  },
  "language_info": {
   "codemirror_mode": {
    "name": "ipython",
    "version": 3
   },
   "file_extension": ".py",
   "mimetype": "text/x-python",
   "name": "python",
   "nbconvert_exporter": "python",
   "pygments_lexer": "ipython3",
   "version": "3.8.10"
  }
 },
 "nbformat": 4,
 "nbformat_minor": 5
}
