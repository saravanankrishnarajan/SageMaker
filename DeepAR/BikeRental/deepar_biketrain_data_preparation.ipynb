{
 "cells": [
  {
   "cell_type": "code",
   "execution_count": 1,
   "id": "5bd1e053",
   "metadata": {},
   "outputs": [],
   "source": [
    "import numpy as np\n",
    "import pandas as pd\n",
    "import matplotlib.pyplot as plt\n",
    "import json\n",
    "import time\n",
    "import datetime"
   ]
  },
  {
   "cell_type": "markdown",
   "id": "5902cbed",
   "metadata": {},
   "source": [
    "<h2>DeepAR - Kaggle Bike Sharing Demand Dataset</h2>\n",
    "<h4>Prepare Bike Rental Data for DeepAR training</h4>  \n",
    "<quote>We will store the total rental count, registered rental count, and casual rental count data as a time series.</quote>\n",
    "<quote>For each of the targets <b>total, registered, casual</b>, following JSON is structured as: Start Time, Array of target values, optional dynamic features and categories</quote>\n",
    "<quote>Frequency of time series data (for example, hourly, daily, monthly and so forth) is specified using hyperparameter</quote>\n",
    "\n",
    "<h4>To download original dataset, sign-in and download from this link: https://www.kaggle.com/c/bike-sharing-demand/data</h4>\n",
    "<br>\n",
    "None of these features are used: ['season', 'holiday', 'workingday', 'weather', 'temp',\n",
    "       'atemp', 'humidity', 'windspeed']<br>\n",
    "       \n",
    "Start Time From: ['datetime'] <br>\n",
    "Target Feature: [<b>'count','registered','casual'</b>]<br>\n",
    "Frequency: 'Hourly' <br>\n",
    "\n",
    "Objective: <quote>You are provided hourly rental data spanning two years. For this competition, the training set is comprised of the first 19 days of each month, while the test set is the 20th to the end of the month. You must predict the total count of bikes rented during each hour covered by the test set, using only information available prior to the rental period (Ref: Kaggle.com)</quote>"
   ]
  },
  {
   "cell_type": "code",
   "execution_count": 2,
   "id": "68b02694",
   "metadata": {},
   "outputs": [],
   "source": [
    "# controls if categroies are included in training or not\n",
    "\n",
    "target_values = ['count','registered','casual']\n",
    "\n",
    "with_categories = False"
   ]
  },
  {
   "cell_type": "code",
   "execution_count": 79,
   "id": "e74e7c4c",
   "metadata": {},
   "outputs": [],
   "source": [
    "# set datetime column as index to work with data based on Date/Time\n",
    "\n",
    "df = pd.read_csv('train.csv', parse_dates=['datetime'], index_col='datetime')\n",
    "df_test = pd.read_csv('test.csv', parse_dates=['datetime'],index_col='datetime')"
   ]
  },
  {
   "cell_type": "code",
   "execution_count": 4,
   "id": "3537946d",
   "metadata": {},
   "outputs": [
    {
     "data": {
      "text/plain": [
       "10886"
      ]
     },
     "execution_count": 4,
     "metadata": {},
     "output_type": "execute_result"
    }
   ],
   "source": [
    "df.shape[0]"
   ]
  },
  {
   "cell_type": "code",
   "execution_count": 5,
   "id": "b8174f06",
   "metadata": {},
   "outputs": [
    {
     "data": {
      "text/plain": [
       "6493"
      ]
     },
     "execution_count": 5,
     "metadata": {},
     "output_type": "execute_result"
    }
   ],
   "source": [
    "df_test.shape[0]"
   ]
  },
  {
   "cell_type": "code",
   "execution_count": 6,
   "id": "e93ca44d",
   "metadata": {},
   "outputs": [
    {
     "data": {
      "text/html": [
       "<div>\n",
       "<style scoped>\n",
       "    .dataframe tbody tr th:only-of-type {\n",
       "        vertical-align: middle;\n",
       "    }\n",
       "\n",
       "    .dataframe tbody tr th {\n",
       "        vertical-align: top;\n",
       "    }\n",
       "\n",
       "    .dataframe thead th {\n",
       "        text-align: right;\n",
       "    }\n",
       "</style>\n",
       "<table border=\"1\" class=\"dataframe\">\n",
       "  <thead>\n",
       "    <tr style=\"text-align: right;\">\n",
       "      <th></th>\n",
       "      <th>season</th>\n",
       "      <th>holiday</th>\n",
       "      <th>workingday</th>\n",
       "      <th>weather</th>\n",
       "      <th>temp</th>\n",
       "      <th>atemp</th>\n",
       "      <th>humidity</th>\n",
       "      <th>windspeed</th>\n",
       "      <th>casual</th>\n",
       "      <th>registered</th>\n",
       "      <th>count</th>\n",
       "    </tr>\n",
       "    <tr>\n",
       "      <th>datetime</th>\n",
       "      <th></th>\n",
       "      <th></th>\n",
       "      <th></th>\n",
       "      <th></th>\n",
       "      <th></th>\n",
       "      <th></th>\n",
       "      <th></th>\n",
       "      <th></th>\n",
       "      <th></th>\n",
       "      <th></th>\n",
       "      <th></th>\n",
       "    </tr>\n",
       "  </thead>\n",
       "  <tbody>\n",
       "    <tr>\n",
       "      <th>2011-01-01 00:00:00</th>\n",
       "      <td>1</td>\n",
       "      <td>0</td>\n",
       "      <td>0</td>\n",
       "      <td>1</td>\n",
       "      <td>9.84</td>\n",
       "      <td>14.395</td>\n",
       "      <td>81</td>\n",
       "      <td>0.0</td>\n",
       "      <td>3</td>\n",
       "      <td>13</td>\n",
       "      <td>16</td>\n",
       "    </tr>\n",
       "    <tr>\n",
       "      <th>2011-01-01 01:00:00</th>\n",
       "      <td>1</td>\n",
       "      <td>0</td>\n",
       "      <td>0</td>\n",
       "      <td>1</td>\n",
       "      <td>9.02</td>\n",
       "      <td>13.635</td>\n",
       "      <td>80</td>\n",
       "      <td>0.0</td>\n",
       "      <td>8</td>\n",
       "      <td>32</td>\n",
       "      <td>40</td>\n",
       "    </tr>\n",
       "    <tr>\n",
       "      <th>2011-01-01 02:00:00</th>\n",
       "      <td>1</td>\n",
       "      <td>0</td>\n",
       "      <td>0</td>\n",
       "      <td>1</td>\n",
       "      <td>9.02</td>\n",
       "      <td>13.635</td>\n",
       "      <td>80</td>\n",
       "      <td>0.0</td>\n",
       "      <td>5</td>\n",
       "      <td>27</td>\n",
       "      <td>32</td>\n",
       "    </tr>\n",
       "    <tr>\n",
       "      <th>2011-01-01 03:00:00</th>\n",
       "      <td>1</td>\n",
       "      <td>0</td>\n",
       "      <td>0</td>\n",
       "      <td>1</td>\n",
       "      <td>9.84</td>\n",
       "      <td>14.395</td>\n",
       "      <td>75</td>\n",
       "      <td>0.0</td>\n",
       "      <td>3</td>\n",
       "      <td>10</td>\n",
       "      <td>13</td>\n",
       "    </tr>\n",
       "    <tr>\n",
       "      <th>2011-01-01 04:00:00</th>\n",
       "      <td>1</td>\n",
       "      <td>0</td>\n",
       "      <td>0</td>\n",
       "      <td>1</td>\n",
       "      <td>9.84</td>\n",
       "      <td>14.395</td>\n",
       "      <td>75</td>\n",
       "      <td>0.0</td>\n",
       "      <td>0</td>\n",
       "      <td>1</td>\n",
       "      <td>1</td>\n",
       "    </tr>\n",
       "  </tbody>\n",
       "</table>\n",
       "</div>"
      ],
      "text/plain": [
       "                     season  holiday  workingday  weather  temp   atemp  \\\n",
       "datetime                                                                  \n",
       "2011-01-01 00:00:00       1        0           0        1  9.84  14.395   \n",
       "2011-01-01 01:00:00       1        0           0        1  9.02  13.635   \n",
       "2011-01-01 02:00:00       1        0           0        1  9.02  13.635   \n",
       "2011-01-01 03:00:00       1        0           0        1  9.84  14.395   \n",
       "2011-01-01 04:00:00       1        0           0        1  9.84  14.395   \n",
       "\n",
       "                     humidity  windspeed  casual  registered  count  \n",
       "datetime                                                             \n",
       "2011-01-01 00:00:00        81        0.0       3          13     16  \n",
       "2011-01-01 01:00:00        80        0.0       8          32     40  \n",
       "2011-01-01 02:00:00        80        0.0       5          27     32  \n",
       "2011-01-01 03:00:00        75        0.0       3          10     13  \n",
       "2011-01-01 04:00:00        75        0.0       0           1      1  "
      ]
     },
     "execution_count": 6,
     "metadata": {},
     "output_type": "execute_result"
    }
   ],
   "source": [
    "df.head(5)"
   ]
  },
  {
   "cell_type": "code",
   "execution_count": 8,
   "id": "d6f664ca",
   "metadata": {},
   "outputs": [
    {
     "data": {
      "text/plain": [
       "(Timestamp('2011-01-01 00:00:00'), Timestamp('2012-12-19 23:00:00'))"
      ]
     },
     "execution_count": 8,
     "metadata": {},
     "output_type": "execute_result"
    }
   ],
   "source": [
    "df.index.min(), df.index.max()"
   ]
  },
  {
   "cell_type": "code",
   "execution_count": 9,
   "id": "00944230",
   "metadata": {},
   "outputs": [
    {
     "data": {
      "text/plain": [
       "(Timestamp('2011-01-20 00:00:00'), Timestamp('2012-12-31 23:00:00'))"
      ]
     },
     "execution_count": 9,
     "metadata": {},
     "output_type": "execute_result"
    }
   ],
   "source": [
    "df_test.index.min(), df_test.index.max()"
   ]
  },
  {
   "cell_type": "code",
   "execution_count": 13,
   "id": "42f06c75",
   "metadata": {},
   "outputs": [
    {
     "data": {
      "text/plain": [
       "<Axes: xlabel='datetime'>"
      ]
     },
     "execution_count": 13,
     "metadata": {},
     "output_type": "execute_result"
    },
    {
     "data": {
      "image/png": "[encoded data removed]",
      "text/plain": [
       "<Figure size 640x480 with 1 Axes>"
      ]
     },
     "metadata": {},
     "output_type": "display_data"
    }
   ],
   "source": [
    "df.loc['2011-01','count'].plot()"
   ]
  },
  {
   "cell_type": "code",
   "execution_count": 4,
   "id": "657710bc",
   "metadata": {},
   "outputs": [
    {
     "name": "stdout",
     "output_type": "stream",
     "text": [
      "Check max hours we need to predict of months\n",
      "(2011, 1), Hours:287.0\n",
      "(2011, 2), Hours:215.0\n",
      "(2011, 3), Hours:287.0\n",
      "(2011, 4), Hours:263.0\n",
      "(2011, 5), Hours:287.0\n",
      "(2011, 6), Hours:263.0\n",
      "(2011, 7), Hours:287.0\n",
      "(2011, 8), Hours:287.0\n",
      "(2011, 9), Hours:263.0\n",
      "(2011, 10), Hours:287.0\n",
      "(2011, 11), Hours:263.0\n",
      "(2011, 12), Hours:287.0\n",
      "(2012, 1), Hours:287.0\n",
      "(2012, 2), Hours:239.0\n",
      "(2012, 3), Hours:287.0\n",
      "(2012, 4), Hours:263.0\n",
      "(2012, 5), Hours:287.0\n",
      "(2012, 6), Hours:263.0\n",
      "(2012, 7), Hours:287.0\n",
      "(2012, 8), Hours:287.0\n",
      "(2012, 9), Hours:263.0\n",
      "(2012, 10), Hours:287.0\n",
      "(2012, 11), Hours:263.0\n",
      "(2012, 12), Hours:287.0\n",
      "Maximum Prediction length in hours:  287.0\n"
     ]
    }
   ],
   "source": [
    "# We need to let DeepAR know how far in the future predictions can be made using prediction_length hyperparameter\n",
    "# Let's look at how many hours we need to predict in a month using test.csv data file\n",
    "\n",
    "hours_to_predict = []\n",
    "print(\"Check max hours we need to predict of months\")\n",
    "\n",
    "predict_window = df_test.groupby([df_test.index.year, df_test.index.month])\n",
    "\n",
    "for i, x in predict_window:\n",
    "    delta = x.index.max()-x.index.min()\n",
    "    hours =np.ceil(delta.total_seconds()/3600)\n",
    "    hours_to_predict.append(hours)\n",
    "    print(\"{0}, Hours:{1}\".format(i, hours))\n",
    "    \n",
    "print(\"Maximum Prediction length in hours: \",np.max(hours_to_predict))"
   ]
  },
  {
   "cell_type": "code",
   "execution_count": 5,
   "id": "ac8a01bc",
   "metadata": {},
   "outputs": [],
   "source": [
    "# https://docs.aws.amazon.com/sagemaker/latest/dg/deepar_hyperparameters.html\n",
    "\n",
    "# Timeseries consists hourly data and we need to predict hourly\n",
    "freq = 'H'\n",
    "\n",
    "# 12 days of hourly forecast\n",
    "prediction_length = 12*24\n",
    "\n",
    "# aws recommends setting context same as prediction length as as starting point\n",
    "# This controls how far in the past it can see to predict\n",
    "\n",
    "context_length = prediction_length"
   ]
  },
  {
   "cell_type": "code",
   "execution_count": 5,
   "id": "5d1b937b",
   "metadata": {},
   "outputs": [
    {
     "data": {
      "text/plain": [
       "288"
      ]
     },
     "execution_count": 5,
     "metadata": {},
     "output_type": "execute_result"
    }
   ],
   "source": [
    "context_length"
   ]
  },
  {
   "cell_type": "code",
   "execution_count": 6,
   "id": "126b06a9",
   "metadata": {},
   "outputs": [
    {
     "data": {
      "text/plain": [
       "(Timestamp('2012-12-31 23:00:00'),\n",
       " Timestamp('2011-01-01 00:00:00'),\n",
       " Timestamp('2012-12-19 23:00:00'))"
      ]
     },
     "execution_count": 6,
     "metadata": {},
     "output_type": "execute_result"
    }
   ],
   "source": [
    "dt_predict_max = df_test.index.max()\n",
    "\n",
    "dt_dataset_start_time = df.index.min()\n",
    "dt_dataset_end_time = df.index.max()\n",
    "\n",
    "dt_predict_max, dt_dataset_start_time, dt_dataset_end_time"
   ]
  },
  {
   "cell_type": "code",
   "execution_count": 7,
   "id": "d298c717",
   "metadata": {},
   "outputs": [],
   "source": [
    "# use for model_training\n",
    "# Start time is the first row provided by kaggle\n",
    "# Training TS end time ensures some data is withheld for model testing\n",
    "# 12 days worth of training data is withheld for testing\n",
    "\n",
    "dt_train_range = (dt_dataset_start_time, dt_dataset_end_time - datetime.timedelta(hours=12*24))\n",
    "\n",
    "# use entire data for testing\n",
    "# we can compare predicted values vs actual(i.e last 12 days is withheld for testing and model hasen't seen that data\n",
    "\n",
    "dt_test_range = ( dt_dataset_start_time, dt_dataset_end_time)"
   ]
  },
  {
   "cell_type": "code",
   "execution_count": 75,
   "id": "e49e829e-908b-4357-906c-6c545076b2f2",
   "metadata": {},
   "outputs": [
    {
     "data": {
      "text/plain": [
       "((Timestamp('2011-01-01 00:00:00'), Timestamp('2012-12-07 23:00:00')),\n",
       " (Timestamp('2011-01-01 00:00:00'), Timestamp('2012-12-19 23:00:00')))"
      ]
     },
     "execution_count": 75,
     "metadata": {},
     "output_type": "execute_result"
    }
   ],
   "source": [
    "dt_train_range,dt_test_range"
   ]
  },
  {
   "cell_type": "code",
   "execution_count": 8,
   "id": "4a37b0a2-0672-4b49-8bf4-0155d9c8903c",
   "metadata": {},
   "outputs": [],
   "source": [
    "# Check if there are any gaps in timestamps\n",
    "\n",
    "def is_missing_steps(df, start, end, freq='D'):\n",
    "    dt_range = pd.date_range(start=start, end=end, freq=freq)\n",
    "    return not dt_range.equals(df.loc[start:end].index)\n",
    "\n",
    "def get_missing_steps(df, start, end, freq='D'):\n",
    "    dt_range = pd.date_range(start=start, end=end, freq=freq)\n",
    "    return dt_range.difference(df.loc[start:end].index)\n",
    "\n",
    "# List timeseries with only NaNs\n",
    "# they can be remove\n",
    "\n",
    "def timeseries_with_only_nans(df):\n",
    "    l = []\n",
    "    for col in df.columns:\n",
    "        if pd.isna(df[col].min()):\n",
    "            l.append(col)\n",
    "    return l\n"
   ]
  },
  {
   "cell_type": "code",
   "execution_count": 80,
   "id": "4d55618c-0765-4eca-a488-2a1cf250ce83",
   "metadata": {},
   "outputs": [
    {
     "data": {
      "text/plain": [
       "Index(['season', 'holiday', 'workingday', 'weather', 'temp', 'atemp',\n",
       "       'humidity', 'windspeed', 'casual', 'registered', 'count'],\n",
       "      dtype='object')"
      ]
     },
     "execution_count": 80,
     "metadata": {},
     "output_type": "execute_result"
    }
   ],
   "source": [
    "df.columns"
   ]
  },
  {
   "cell_type": "code",
   "execution_count": 81,
   "id": "16d1f652-54d0-4df4-b94d-b75e2b6b2894",
   "metadata": {},
   "outputs": [
    {
     "data": {
      "text/plain": [
       "True"
      ]
     },
     "execution_count": 81,
     "metadata": {},
     "output_type": "execute_result"
    }
   ],
   "source": [
    "is_missing_steps(df,  '2011-01-01 00:00:00', '2011-01-19 23:00:00','H')"
   ]
  },
  {
   "cell_type": "code",
   "execution_count": 82,
   "id": "42e11491-d66e-4858-86ea-19ed2ffdefa6",
   "metadata": {},
   "outputs": [
    {
     "data": {
      "text/plain": [
       "DatetimeIndex(['2011-01-02 05:00:00', '2011-01-03 02:00:00',\n",
       "               '2011-01-03 03:00:00', '2011-01-04 03:00:00',\n",
       "               '2011-01-05 03:00:00', '2011-01-06 03:00:00',\n",
       "               '2011-01-07 03:00:00', '2011-01-11 03:00:00',\n",
       "               '2011-01-11 04:00:00', '2011-01-12 03:00:00',\n",
       "               '2011-01-12 04:00:00', '2011-01-14 04:00:00',\n",
       "               '2011-01-18 00:00:00', '2011-01-18 01:00:00',\n",
       "               '2011-01-18 02:00:00', '2011-01-18 03:00:00',\n",
       "               '2011-01-18 04:00:00', '2011-01-18 05:00:00',\n",
       "               '2011-01-18 06:00:00', '2011-01-18 07:00:00',\n",
       "               '2011-01-18 08:00:00', '2011-01-18 09:00:00',\n",
       "               '2011-01-18 10:00:00', '2011-01-18 11:00:00',\n",
       "               '2011-01-19 03:00:00'],\n",
       "              dtype='datetime64[ns]', freq=None)"
      ]
     },
     "execution_count": 82,
     "metadata": {},
     "output_type": "execute_result"
    }
   ],
   "source": [
    "get_missing_steps(df,  '2011-01-01 00:00:00', '2011-01-19 23:00:00','H')"
   ]
  },
  {
   "cell_type": "code",
   "execution_count": 83,
   "id": "e1458c40-85af-4a75-9606-2e51e662e6f1",
   "metadata": {},
   "outputs": [
    {
     "data": {
      "text/html": [
       "<div>\n",
       "<style scoped>\n",
       "    .dataframe tbody tr th:only-of-type {\n",
       "        vertical-align: middle;\n",
       "    }\n",
       "\n",
       "    .dataframe tbody tr th {\n",
       "        vertical-align: top;\n",
       "    }\n",
       "\n",
       "    .dataframe thead th {\n",
       "        text-align: right;\n",
       "    }\n",
       "</style>\n",
       "<table border=\"1\" class=\"dataframe\">\n",
       "  <thead>\n",
       "    <tr style=\"text-align: right;\">\n",
       "      <th></th>\n",
       "      <th>season</th>\n",
       "      <th>holiday</th>\n",
       "      <th>workingday</th>\n",
       "      <th>weather</th>\n",
       "      <th>temp</th>\n",
       "      <th>atemp</th>\n",
       "      <th>humidity</th>\n",
       "      <th>windspeed</th>\n",
       "      <th>casual</th>\n",
       "      <th>registered</th>\n",
       "      <th>count</th>\n",
       "    </tr>\n",
       "    <tr>\n",
       "      <th>datetime</th>\n",
       "      <th></th>\n",
       "      <th></th>\n",
       "      <th></th>\n",
       "      <th></th>\n",
       "      <th></th>\n",
       "      <th></th>\n",
       "      <th></th>\n",
       "      <th></th>\n",
       "      <th></th>\n",
       "      <th></th>\n",
       "      <th></th>\n",
       "    </tr>\n",
       "  </thead>\n",
       "  <tbody>\n",
       "    <tr>\n",
       "      <th>2011-01-02 00:00:00</th>\n",
       "      <td>1</td>\n",
       "      <td>0</td>\n",
       "      <td>0</td>\n",
       "      <td>2</td>\n",
       "      <td>18.86</td>\n",
       "      <td>22.725</td>\n",
       "      <td>88</td>\n",
       "      <td>19.9995</td>\n",
       "      <td>4</td>\n",
       "      <td>13</td>\n",
       "      <td>17</td>\n",
       "    </tr>\n",
       "    <tr>\n",
       "      <th>2011-01-02 01:00:00</th>\n",
       "      <td>1</td>\n",
       "      <td>0</td>\n",
       "      <td>0</td>\n",
       "      <td>2</td>\n",
       "      <td>18.04</td>\n",
       "      <td>21.970</td>\n",
       "      <td>94</td>\n",
       "      <td>16.9979</td>\n",
       "      <td>1</td>\n",
       "      <td>16</td>\n",
       "      <td>17</td>\n",
       "    </tr>\n",
       "    <tr>\n",
       "      <th>2011-01-02 02:00:00</th>\n",
       "      <td>1</td>\n",
       "      <td>0</td>\n",
       "      <td>0</td>\n",
       "      <td>2</td>\n",
       "      <td>17.22</td>\n",
       "      <td>21.210</td>\n",
       "      <td>100</td>\n",
       "      <td>19.0012</td>\n",
       "      <td>1</td>\n",
       "      <td>8</td>\n",
       "      <td>9</td>\n",
       "    </tr>\n",
       "    <tr>\n",
       "      <th>2011-01-02 03:00:00</th>\n",
       "      <td>1</td>\n",
       "      <td>0</td>\n",
       "      <td>0</td>\n",
       "      <td>2</td>\n",
       "      <td>18.86</td>\n",
       "      <td>22.725</td>\n",
       "      <td>94</td>\n",
       "      <td>12.9980</td>\n",
       "      <td>2</td>\n",
       "      <td>4</td>\n",
       "      <td>6</td>\n",
       "    </tr>\n",
       "    <tr>\n",
       "      <th>2011-01-02 04:00:00</th>\n",
       "      <td>1</td>\n",
       "      <td>0</td>\n",
       "      <td>0</td>\n",
       "      <td>2</td>\n",
       "      <td>18.86</td>\n",
       "      <td>22.725</td>\n",
       "      <td>94</td>\n",
       "      <td>12.9980</td>\n",
       "      <td>2</td>\n",
       "      <td>1</td>\n",
       "      <td>3</td>\n",
       "    </tr>\n",
       "    <tr>\n",
       "      <th>2011-01-02 06:00:00</th>\n",
       "      <td>1</td>\n",
       "      <td>0</td>\n",
       "      <td>0</td>\n",
       "      <td>3</td>\n",
       "      <td>17.22</td>\n",
       "      <td>21.210</td>\n",
       "      <td>77</td>\n",
       "      <td>19.9995</td>\n",
       "      <td>0</td>\n",
       "      <td>2</td>\n",
       "      <td>2</td>\n",
       "    </tr>\n",
       "    <tr>\n",
       "      <th>2011-01-02 07:00:00</th>\n",
       "      <td>1</td>\n",
       "      <td>0</td>\n",
       "      <td>0</td>\n",
       "      <td>2</td>\n",
       "      <td>16.40</td>\n",
       "      <td>20.455</td>\n",
       "      <td>76</td>\n",
       "      <td>12.9980</td>\n",
       "      <td>0</td>\n",
       "      <td>1</td>\n",
       "      <td>1</td>\n",
       "    </tr>\n",
       "    <tr>\n",
       "      <th>2011-01-02 08:00:00</th>\n",
       "      <td>1</td>\n",
       "      <td>0</td>\n",
       "      <td>0</td>\n",
       "      <td>3</td>\n",
       "      <td>16.40</td>\n",
       "      <td>20.455</td>\n",
       "      <td>71</td>\n",
       "      <td>15.0013</td>\n",
       "      <td>0</td>\n",
       "      <td>8</td>\n",
       "      <td>8</td>\n",
       "    </tr>\n",
       "    <tr>\n",
       "      <th>2011-01-02 09:00:00</th>\n",
       "      <td>1</td>\n",
       "      <td>0</td>\n",
       "      <td>0</td>\n",
       "      <td>2</td>\n",
       "      <td>15.58</td>\n",
       "      <td>19.695</td>\n",
       "      <td>76</td>\n",
       "      <td>15.0013</td>\n",
       "      <td>1</td>\n",
       "      <td>19</td>\n",
       "      <td>20</td>\n",
       "    </tr>\n",
       "    <tr>\n",
       "      <th>2011-01-02 10:00:00</th>\n",
       "      <td>1</td>\n",
       "      <td>0</td>\n",
       "      <td>0</td>\n",
       "      <td>2</td>\n",
       "      <td>14.76</td>\n",
       "      <td>17.425</td>\n",
       "      <td>81</td>\n",
       "      <td>15.0013</td>\n",
       "      <td>7</td>\n",
       "      <td>46</td>\n",
       "      <td>53</td>\n",
       "    </tr>\n",
       "    <tr>\n",
       "      <th>2011-01-02 11:00:00</th>\n",
       "      <td>1</td>\n",
       "      <td>0</td>\n",
       "      <td>0</td>\n",
       "      <td>2</td>\n",
       "      <td>14.76</td>\n",
       "      <td>16.665</td>\n",
       "      <td>71</td>\n",
       "      <td>16.9979</td>\n",
       "      <td>16</td>\n",
       "      <td>54</td>\n",
       "      <td>70</td>\n",
       "    </tr>\n",
       "    <tr>\n",
       "      <th>2011-01-02 12:00:00</th>\n",
       "      <td>1</td>\n",
       "      <td>0</td>\n",
       "      <td>0</td>\n",
       "      <td>2</td>\n",
       "      <td>14.76</td>\n",
       "      <td>16.665</td>\n",
       "      <td>66</td>\n",
       "      <td>19.9995</td>\n",
       "      <td>20</td>\n",
       "      <td>73</td>\n",
       "      <td>93</td>\n",
       "    </tr>\n",
       "    <tr>\n",
       "      <th>2011-01-02 13:00:00</th>\n",
       "      <td>1</td>\n",
       "      <td>0</td>\n",
       "      <td>0</td>\n",
       "      <td>2</td>\n",
       "      <td>14.76</td>\n",
       "      <td>17.425</td>\n",
       "      <td>66</td>\n",
       "      <td>8.9981</td>\n",
       "      <td>11</td>\n",
       "      <td>64</td>\n",
       "      <td>75</td>\n",
       "    </tr>\n",
       "    <tr>\n",
       "      <th>2011-01-02 14:00:00</th>\n",
       "      <td>1</td>\n",
       "      <td>0</td>\n",
       "      <td>0</td>\n",
       "      <td>3</td>\n",
       "      <td>14.76</td>\n",
       "      <td>17.425</td>\n",
       "      <td>76</td>\n",
       "      <td>12.9980</td>\n",
       "      <td>4</td>\n",
       "      <td>55</td>\n",
       "      <td>59</td>\n",
       "    </tr>\n",
       "  </tbody>\n",
       "</table>\n",
       "</div>"
      ],
      "text/plain": [
       "                     season  holiday  workingday  weather   temp   atemp  \\\n",
       "datetime                                                                   \n",
       "2011-01-02 00:00:00       1        0           0        2  18.86  22.725   \n",
       "2011-01-02 01:00:00       1        0           0        2  18.04  21.970   \n",
       "2011-01-02 02:00:00       1        0           0        2  17.22  21.210   \n",
       "2011-01-02 03:00:00       1        0           0        2  18.86  22.725   \n",
       "2011-01-02 04:00:00       1        0           0        2  18.86  22.725   \n",
       "2011-01-02 06:00:00       1        0           0        3  17.22  21.210   \n",
       "2011-01-02 07:00:00       1        0           0        2  16.40  20.455   \n",
       "2011-01-02 08:00:00       1        0           0        3  16.40  20.455   \n",
       "2011-01-02 09:00:00       1        0           0        2  15.58  19.695   \n",
       "2011-01-02 10:00:00       1        0           0        2  14.76  17.425   \n",
       "2011-01-02 11:00:00       1        0           0        2  14.76  16.665   \n",
       "2011-01-02 12:00:00       1        0           0        2  14.76  16.665   \n",
       "2011-01-02 13:00:00       1        0           0        2  14.76  17.425   \n",
       "2011-01-02 14:00:00       1        0           0        3  14.76  17.425   \n",
       "\n",
       "                     humidity  windspeed  casual  registered  count  \n",
       "datetime                                                             \n",
       "2011-01-02 00:00:00        88    19.9995       4          13     17  \n",
       "2011-01-02 01:00:00        94    16.9979       1          16     17  \n",
       "2011-01-02 02:00:00       100    19.0012       1           8      9  \n",
       "2011-01-02 03:00:00        94    12.9980       2           4      6  \n",
       "2011-01-02 04:00:00        94    12.9980       2           1      3  \n",
       "2011-01-02 06:00:00        77    19.9995       0           2      2  \n",
       "2011-01-02 07:00:00        76    12.9980       0           1      1  \n",
       "2011-01-02 08:00:00        71    15.0013       0           8      8  \n",
       "2011-01-02 09:00:00        76    15.0013       1          19     20  \n",
       "2011-01-02 10:00:00        81    15.0013       7          46     53  \n",
       "2011-01-02 11:00:00        71    16.9979      16          54     70  \n",
       "2011-01-02 12:00:00        66    19.9995      20          73     93  \n",
       "2011-01-02 13:00:00        66     8.9981      11          64     75  \n",
       "2011-01-02 14:00:00        76    12.9980       4          55     59  "
      ]
     },
     "execution_count": 83,
     "metadata": {},
     "output_type": "execute_result"
    }
   ],
   "source": [
    "# data for 5 AM is missing\n",
    "\n",
    "df['2011-01-02 00:00:00':'2011-01-02 14:00:00']"
   ]
  },
  {
   "cell_type": "code",
   "execution_count": 84,
   "id": "dcb4039b-a353-4cbf-9fb1-42824ae9b80c",
   "metadata": {},
   "outputs": [
    {
     "data": {
      "text/plain": [
       "<Axes: xlabel='datetime'>"
      ]
     },
     "execution_count": 84,
     "metadata": {},
     "output_type": "execute_result"
    },
    {
     "data": {
      "image/png": "[encoded data removed]",
      "text/plain": [
       "<Figure size 640x480 with 1 Axes>"
      ]
     },
     "metadata": {},
     "output_type": "display_data"
    }
   ],
   "source": [
    "# Plots do not show the missing data. we need to resample\n",
    "\n",
    "df['2011-01-02 00:00:00':'2011-01-02 14:00:00']['count'].plot()"
   ]
  },
  {
   "cell_type": "code",
   "execution_count": 85,
   "id": "101219fb-02ca-46cc-90cc-f9dea72a3037",
   "metadata": {},
   "outputs": [],
   "source": [
    "# resample at hourly frequency\n",
    "\n",
    "df = df.resample('1h').mean()"
   ]
  },
  {
   "cell_type": "code",
   "execution_count": 86,
   "id": "fd7d705c-7309-461e-aefd-31f8ac664a7a",
   "metadata": {},
   "outputs": [
    {
     "data": {
      "text/html": [
       "<div>\n",
       "<style scoped>\n",
       "    .dataframe tbody tr th:only-of-type {\n",
       "        vertical-align: middle;\n",
       "    }\n",
       "\n",
       "    .dataframe tbody tr th {\n",
       "        vertical-align: top;\n",
       "    }\n",
       "\n",
       "    .dataframe thead th {\n",
       "        text-align: right;\n",
       "    }\n",
       "</style>\n",
       "<table border=\"1\" class=\"dataframe\">\n",
       "  <thead>\n",
       "    <tr style=\"text-align: right;\">\n",
       "      <th></th>\n",
       "      <th>season</th>\n",
       "      <th>holiday</th>\n",
       "      <th>workingday</th>\n",
       "      <th>weather</th>\n",
       "      <th>temp</th>\n",
       "      <th>atemp</th>\n",
       "      <th>humidity</th>\n",
       "      <th>windspeed</th>\n",
       "      <th>casual</th>\n",
       "      <th>registered</th>\n",
       "      <th>count</th>\n",
       "    </tr>\n",
       "    <tr>\n",
       "      <th>datetime</th>\n",
       "      <th></th>\n",
       "      <th></th>\n",
       "      <th></th>\n",
       "      <th></th>\n",
       "      <th></th>\n",
       "      <th></th>\n",
       "      <th></th>\n",
       "      <th></th>\n",
       "      <th></th>\n",
       "      <th></th>\n",
       "      <th></th>\n",
       "    </tr>\n",
       "  </thead>\n",
       "  <tbody>\n",
       "    <tr>\n",
       "      <th>2011-01-02 00:00:00</th>\n",
       "      <td>1.0</td>\n",
       "      <td>0.0</td>\n",
       "      <td>0.0</td>\n",
       "      <td>2.0</td>\n",
       "      <td>18.86</td>\n",
       "      <td>22.725</td>\n",
       "      <td>88.0</td>\n",
       "      <td>19.9995</td>\n",
       "      <td>4.0</td>\n",
       "      <td>13.0</td>\n",
       "      <td>17.0</td>\n",
       "    </tr>\n",
       "    <tr>\n",
       "      <th>2011-01-02 01:00:00</th>\n",
       "      <td>1.0</td>\n",
       "      <td>0.0</td>\n",
       "      <td>0.0</td>\n",
       "      <td>2.0</td>\n",
       "      <td>18.04</td>\n",
       "      <td>21.970</td>\n",
       "      <td>94.0</td>\n",
       "      <td>16.9979</td>\n",
       "      <td>1.0</td>\n",
       "      <td>16.0</td>\n",
       "      <td>17.0</td>\n",
       "    </tr>\n",
       "    <tr>\n",
       "      <th>2011-01-02 02:00:00</th>\n",
       "      <td>1.0</td>\n",
       "      <td>0.0</td>\n",
       "      <td>0.0</td>\n",
       "      <td>2.0</td>\n",
       "      <td>17.22</td>\n",
       "      <td>21.210</td>\n",
       "      <td>100.0</td>\n",
       "      <td>19.0012</td>\n",
       "      <td>1.0</td>\n",
       "      <td>8.0</td>\n",
       "      <td>9.0</td>\n",
       "    </tr>\n",
       "    <tr>\n",
       "      <th>2011-01-02 03:00:00</th>\n",
       "      <td>1.0</td>\n",
       "      <td>0.0</td>\n",
       "      <td>0.0</td>\n",
       "      <td>2.0</td>\n",
       "      <td>18.86</td>\n",
       "      <td>22.725</td>\n",
       "      <td>94.0</td>\n",
       "      <td>12.9980</td>\n",
       "      <td>2.0</td>\n",
       "      <td>4.0</td>\n",
       "      <td>6.0</td>\n",
       "    </tr>\n",
       "    <tr>\n",
       "      <th>2011-01-02 04:00:00</th>\n",
       "      <td>1.0</td>\n",
       "      <td>0.0</td>\n",
       "      <td>0.0</td>\n",
       "      <td>2.0</td>\n",
       "      <td>18.86</td>\n",
       "      <td>22.725</td>\n",
       "      <td>94.0</td>\n",
       "      <td>12.9980</td>\n",
       "      <td>2.0</td>\n",
       "      <td>1.0</td>\n",
       "      <td>3.0</td>\n",
       "    </tr>\n",
       "    <tr>\n",
       "      <th>2011-01-02 05:00:00</th>\n",
       "      <td>NaN</td>\n",
       "      <td>NaN</td>\n",
       "      <td>NaN</td>\n",
       "      <td>NaN</td>\n",
       "      <td>NaN</td>\n",
       "      <td>NaN</td>\n",
       "      <td>NaN</td>\n",
       "      <td>NaN</td>\n",
       "      <td>NaN</td>\n",
       "      <td>NaN</td>\n",
       "      <td>NaN</td>\n",
       "    </tr>\n",
       "    <tr>\n",
       "      <th>2011-01-02 06:00:00</th>\n",
       "      <td>1.0</td>\n",
       "      <td>0.0</td>\n",
       "      <td>0.0</td>\n",
       "      <td>3.0</td>\n",
       "      <td>17.22</td>\n",
       "      <td>21.210</td>\n",
       "      <td>77.0</td>\n",
       "      <td>19.9995</td>\n",
       "      <td>0.0</td>\n",
       "      <td>2.0</td>\n",
       "      <td>2.0</td>\n",
       "    </tr>\n",
       "    <tr>\n",
       "      <th>2011-01-02 07:00:00</th>\n",
       "      <td>1.0</td>\n",
       "      <td>0.0</td>\n",
       "      <td>0.0</td>\n",
       "      <td>2.0</td>\n",
       "      <td>16.40</td>\n",
       "      <td>20.455</td>\n",
       "      <td>76.0</td>\n",
       "      <td>12.9980</td>\n",
       "      <td>0.0</td>\n",
       "      <td>1.0</td>\n",
       "      <td>1.0</td>\n",
       "    </tr>\n",
       "    <tr>\n",
       "      <th>2011-01-02 08:00:00</th>\n",
       "      <td>1.0</td>\n",
       "      <td>0.0</td>\n",
       "      <td>0.0</td>\n",
       "      <td>3.0</td>\n",
       "      <td>16.40</td>\n",
       "      <td>20.455</td>\n",
       "      <td>71.0</td>\n",
       "      <td>15.0013</td>\n",
       "      <td>0.0</td>\n",
       "      <td>8.0</td>\n",
       "      <td>8.0</td>\n",
       "    </tr>\n",
       "    <tr>\n",
       "      <th>2011-01-02 09:00:00</th>\n",
       "      <td>1.0</td>\n",
       "      <td>0.0</td>\n",
       "      <td>0.0</td>\n",
       "      <td>2.0</td>\n",
       "      <td>15.58</td>\n",
       "      <td>19.695</td>\n",
       "      <td>76.0</td>\n",
       "      <td>15.0013</td>\n",
       "      <td>1.0</td>\n",
       "      <td>19.0</td>\n",
       "      <td>20.0</td>\n",
       "    </tr>\n",
       "    <tr>\n",
       "      <th>2011-01-02 10:00:00</th>\n",
       "      <td>1.0</td>\n",
       "      <td>0.0</td>\n",
       "      <td>0.0</td>\n",
       "      <td>2.0</td>\n",
       "      <td>14.76</td>\n",
       "      <td>17.425</td>\n",
       "      <td>81.0</td>\n",
       "      <td>15.0013</td>\n",
       "      <td>7.0</td>\n",
       "      <td>46.0</td>\n",
       "      <td>53.0</td>\n",
       "    </tr>\n",
       "    <tr>\n",
       "      <th>2011-01-02 11:00:00</th>\n",
       "      <td>1.0</td>\n",
       "      <td>0.0</td>\n",
       "      <td>0.0</td>\n",
       "      <td>2.0</td>\n",
       "      <td>14.76</td>\n",
       "      <td>16.665</td>\n",
       "      <td>71.0</td>\n",
       "      <td>16.9979</td>\n",
       "      <td>16.0</td>\n",
       "      <td>54.0</td>\n",
       "      <td>70.0</td>\n",
       "    </tr>\n",
       "    <tr>\n",
       "      <th>2011-01-02 12:00:00</th>\n",
       "      <td>1.0</td>\n",
       "      <td>0.0</td>\n",
       "      <td>0.0</td>\n",
       "      <td>2.0</td>\n",
       "      <td>14.76</td>\n",
       "      <td>16.665</td>\n",
       "      <td>66.0</td>\n",
       "      <td>19.9995</td>\n",
       "      <td>20.0</td>\n",
       "      <td>73.0</td>\n",
       "      <td>93.0</td>\n",
       "    </tr>\n",
       "    <tr>\n",
       "      <th>2011-01-02 13:00:00</th>\n",
       "      <td>1.0</td>\n",
       "      <td>0.0</td>\n",
       "      <td>0.0</td>\n",
       "      <td>2.0</td>\n",
       "      <td>14.76</td>\n",
       "      <td>17.425</td>\n",
       "      <td>66.0</td>\n",
       "      <td>8.9981</td>\n",
       "      <td>11.0</td>\n",
       "      <td>64.0</td>\n",
       "      <td>75.0</td>\n",
       "    </tr>\n",
       "    <tr>\n",
       "      <th>2011-01-02 14:00:00</th>\n",
       "      <td>1.0</td>\n",
       "      <td>0.0</td>\n",
       "      <td>0.0</td>\n",
       "      <td>3.0</td>\n",
       "      <td>14.76</td>\n",
       "      <td>17.425</td>\n",
       "      <td>76.0</td>\n",
       "      <td>12.9980</td>\n",
       "      <td>4.0</td>\n",
       "      <td>55.0</td>\n",
       "      <td>59.0</td>\n",
       "    </tr>\n",
       "  </tbody>\n",
       "</table>\n",
       "</div>"
      ],
      "text/plain": [
       "                     season  holiday  workingday  weather   temp   atemp  \\\n",
       "datetime                                                                   \n",
       "2011-01-02 00:00:00     1.0      0.0         0.0      2.0  18.86  22.725   \n",
       "2011-01-02 01:00:00     1.0      0.0         0.0      2.0  18.04  21.970   \n",
       "2011-01-02 02:00:00     1.0      0.0         0.0      2.0  17.22  21.210   \n",
       "2011-01-02 03:00:00     1.0      0.0         0.0      2.0  18.86  22.725   \n",
       "2011-01-02 04:00:00     1.0      0.0         0.0      2.0  18.86  22.725   \n",
       "2011-01-02 05:00:00     NaN      NaN         NaN      NaN    NaN     NaN   \n",
       "2011-01-02 06:00:00     1.0      0.0         0.0      3.0  17.22  21.210   \n",
       "2011-01-02 07:00:00     1.0      0.0         0.0      2.0  16.40  20.455   \n",
       "2011-01-02 08:00:00     1.0      0.0         0.0      3.0  16.40  20.455   \n",
       "2011-01-02 09:00:00     1.0      0.0         0.0      2.0  15.58  19.695   \n",
       "2011-01-02 10:00:00     1.0      0.0         0.0      2.0  14.76  17.425   \n",
       "2011-01-02 11:00:00     1.0      0.0         0.0      2.0  14.76  16.665   \n",
       "2011-01-02 12:00:00     1.0      0.0         0.0      2.0  14.76  16.665   \n",
       "2011-01-02 13:00:00     1.0      0.0         0.0      2.0  14.76  17.425   \n",
       "2011-01-02 14:00:00     1.0      0.0         0.0      3.0  14.76  17.425   \n",
       "\n",
       "                     humidity  windspeed  casual  registered  count  \n",
       "datetime                                                             \n",
       "2011-01-02 00:00:00      88.0    19.9995     4.0        13.0   17.0  \n",
       "2011-01-02 01:00:00      94.0    16.9979     1.0        16.0   17.0  \n",
       "2011-01-02 02:00:00     100.0    19.0012     1.0         8.0    9.0  \n",
       "2011-01-02 03:00:00      94.0    12.9980     2.0         4.0    6.0  \n",
       "2011-01-02 04:00:00      94.0    12.9980     2.0         1.0    3.0  \n",
       "2011-01-02 05:00:00       NaN        NaN     NaN         NaN    NaN  \n",
       "2011-01-02 06:00:00      77.0    19.9995     0.0         2.0    2.0  \n",
       "2011-01-02 07:00:00      76.0    12.9980     0.0         1.0    1.0  \n",
       "2011-01-02 08:00:00      71.0    15.0013     0.0         8.0    8.0  \n",
       "2011-01-02 09:00:00      76.0    15.0013     1.0        19.0   20.0  \n",
       "2011-01-02 10:00:00      81.0    15.0013     7.0        46.0   53.0  \n",
       "2011-01-02 11:00:00      71.0    16.9979    16.0        54.0   70.0  \n",
       "2011-01-02 12:00:00      66.0    19.9995    20.0        73.0   93.0  \n",
       "2011-01-02 13:00:00      66.0     8.9981    11.0        64.0   75.0  \n",
       "2011-01-02 14:00:00      76.0    12.9980     4.0        55.0   59.0  "
      ]
     },
     "execution_count": 86,
     "metadata": {},
     "output_type": "execute_result"
    }
   ],
   "source": [
    "# after resample 5AM row has all NaNs\n",
    "df['2011-01-02 00:00:00':'2011-01-02 14:00:00']"
   ]
  },
  {
   "cell_type": "code",
   "execution_count": 87,
   "id": "4df8c058-2913-4a7a-82b2-3b9f3151aae2",
   "metadata": {},
   "outputs": [
    {
     "data": {
      "text/plain": [
       "<Axes: xlabel='datetime'>"
      ]
     },
     "execution_count": 87,
     "metadata": {},
     "output_type": "execute_result"
    },
    {
     "data": {
      "image/png": "[encoded data removed]",
      "text/plain": [
       "<Figure size 640x480 with 1 Axes>"
      ]
     },
     "metadata": {},
     "output_type": "display_data"
    }
   ],
   "source": [
    "# now we can see the missing data clearly\n",
    "df['2011-01-02 00:00:00':'2011-01-02 14:00:00']['count'].plot()"
   ]
  },
  {
   "cell_type": "code",
   "execution_count": 38,
   "id": "6d3b96b9-04c7-4ef1-9120-754775d952f7",
   "metadata": {},
   "outputs": [
    {
     "data": {
      "image/png": "[encoded data removed]",
      "text/plain": [
       "<Figure size 640x480 with 1 Axes>"
      ]
     },
     "metadata": {},
     "output_type": "display_data"
    }
   ],
   "source": [
    "# plot jan and feb data of 2012\n",
    "# The data from the last few days is not present and model has to predict those values\n",
    "\n",
    "_ = df['2012-01':'2012-02']['count'].plot()"
   ]
  },
  {
   "cell_type": "code",
   "execution_count": 39,
   "id": "b3909e73-60db-444f-94bc-04d6bc86dc76",
   "metadata": {},
   "outputs": [
    {
     "data": {
      "text/plain": [
       "['count', 'registered', 'casual']"
      ]
     },
     "execution_count": 39,
     "metadata": {},
     "output_type": "execute_result"
    }
   ],
   "source": [
    "target_values"
   ]
  },
  {
   "cell_type": "code",
   "execution_count": 88,
   "id": "8e745f44-333d-48d8-861f-0361ab250282",
   "metadata": {},
   "outputs": [
    {
     "data": {
      "text/plain": [
       "((Timestamp('2011-01-01 00:00:00'), Timestamp('2012-12-07 23:00:00')),\n",
       " (Timestamp('2011-01-01 00:00:00'), Timestamp('2012-12-19 23:00:00')))"
      ]
     },
     "execution_count": 88,
     "metadata": {},
     "output_type": "execute_result"
    }
   ],
   "source": [
    "dt_train_range,dt_test_range"
   ]
  },
  {
   "cell_type": "code",
   "execution_count": 41,
   "id": "3f625be7-a5b3-49fd-ad58-90a35512b2ab",
   "metadata": {},
   "outputs": [
    {
     "data": {
      "text/plain": [
       "datetime\n",
       "2011-01-01 00:00:00     16.0\n",
       "2011-01-01 01:00:00     40.0\n",
       "2011-01-01 02:00:00     32.0\n",
       "2011-01-01 03:00:00     13.0\n",
       "2011-01-01 04:00:00      1.0\n",
       "                       ...  \n",
       "2012-12-19 19:00:00    336.0\n",
       "2012-12-19 20:00:00    241.0\n",
       "2012-12-19 21:00:00    168.0\n",
       "2012-12-19 22:00:00    129.0\n",
       "2012-12-19 23:00:00     88.0\n",
       "Freq: H, Name: count, Length: 17256, dtype: float64"
      ]
     },
     "execution_count": 41,
     "metadata": {},
     "output_type": "execute_result"
    }
   ],
   "source": [
    "# rental count for test data\n",
    "\n",
    "df.loc[dt_test_range[0]:dt_test_range[1]]['count']"
   ]
  },
  {
   "cell_type": "code",
   "execution_count": 43,
   "id": "750ef309-fee6-46b3-913f-64130fcfebd5",
   "metadata": {},
   "outputs": [
    {
     "name": "stdout",
     "output_type": "stream",
     "text": [
      "Train range (Timestamp('2011-01-01 00:00:00'), Timestamp('2012-12-07 23:00:00'))\n",
      "Test range (Timestamp('2011-01-01 00:00:00'), Timestamp('2012-12-19 23:00:00'))\n"
     ]
    }
   ],
   "source": [
    "print(\"Train range\", dt_train_range)\n",
    "print(\"Test range\", dt_test_range)"
   ]
  },
  {
   "cell_type": "code",
   "execution_count": 44,
   "id": "276b35c3-bd36-45da-9fb3-e0377f1fbc5e",
   "metadata": {},
   "outputs": [
    {
     "name": "stdout",
     "output_type": "stream",
     "text": [
      "Target: ['count', 'registered', 'casual']\n"
     ]
    }
   ],
   "source": [
    "print(\"Target:\", target_values)"
   ]
  },
  {
   "cell_type": "code",
   "execution_count": 13,
   "id": "f57ac631-0f42-434f-94f1-905c9a210962",
   "metadata": {},
   "outputs": [],
   "source": [
    "time_series_test = []\n",
    "time_series_training = []\n",
    "\n",
    "for target in target_values:\n",
    "    time_series_test.append(df[dt_test_range[0]:dt_test_range[1]][target])\n",
    "    time_series_training.append(df[dt_train_range[0]:dt_train_range[1]][target])"
   ]
  },
  {
   "cell_type": "code",
   "execution_count": 21,
   "id": "4f178ec3-22f8-405f-9709-e582f2788e4f",
   "metadata": {},
   "outputs": [
    {
     "name": "stdout",
     "output_type": "stream",
     "text": [
      "*** Test ***\n",
      "*** Count ***\n",
      "datetime\n",
      "2011-01-01 00:00:00    16.0\n",
      "2011-01-01 01:00:00    40.0\n",
      "2011-01-01 02:00:00    32.0\n",
      "2011-01-01 03:00:00    13.0\n",
      "2011-01-01 04:00:00     1.0\n",
      "Freq: H, Name: count, dtype: float64\n",
      "*** Registered ***\n",
      "datetime\n",
      "2011-01-01 00:00:00    13.0\n",
      "2011-01-01 01:00:00    32.0\n",
      "2011-01-01 02:00:00    27.0\n",
      "2011-01-01 03:00:00    10.0\n",
      "2011-01-01 04:00:00     1.0\n",
      "Freq: H, Name: registered, dtype: float64\n",
      "*** Casual ***\n",
      "datetime\n",
      "2011-01-01 00:00:00    3.0\n",
      "2011-01-01 01:00:00    8.0\n",
      "2011-01-01 02:00:00    5.0\n",
      "2011-01-01 03:00:00    3.0\n",
      "2011-01-01 04:00:00    0.0\n",
      "Freq: H, Name: casual, dtype: float64\n"
     ]
    }
   ],
   "source": [
    "print('*** Test ***')\n",
    "print('*** Count ***')\n",
    "print(time_series_test[0][:5])\n",
    "print('*** Registered ***')\n",
    "print(time_series_test[1][:5])\n",
    "print('*** Casual ***')\n",
    "print(time_series_test[2][:5])"
   ]
  },
  {
   "cell_type": "code",
   "execution_count": 22,
   "id": "1e39c5dc-1f1a-4f52-a62c-768c77a75b5a",
   "metadata": {},
   "outputs": [
    {
     "name": "stdout",
     "output_type": "stream",
     "text": [
      "*** Train ***\n",
      "*** Count ***\n",
      "datetime\n",
      "2011-01-01 00:00:00    16.0\n",
      "2011-01-01 01:00:00    40.0\n",
      "2011-01-01 02:00:00    32.0\n",
      "2011-01-01 03:00:00    13.0\n",
      "2011-01-01 04:00:00     1.0\n",
      "Freq: H, Name: count, dtype: float64\n",
      "*** Registered ***\n",
      "datetime\n",
      "2011-01-01 00:00:00    13.0\n",
      "2011-01-01 01:00:00    32.0\n",
      "2011-01-01 02:00:00    27.0\n",
      "2011-01-01 03:00:00    10.0\n",
      "2011-01-01 04:00:00     1.0\n",
      "Freq: H, Name: registered, dtype: float64\n",
      "*** Casual ***\n",
      "datetime\n",
      "2011-01-01 00:00:00    3.0\n",
      "2011-01-01 01:00:00    8.0\n",
      "2011-01-01 02:00:00    5.0\n",
      "2011-01-01 03:00:00    3.0\n",
      "2011-01-01 04:00:00    0.0\n",
      "Freq: H, Name: casual, dtype: float64\n"
     ]
    }
   ],
   "source": [
    "print('*** Train ***')\n",
    "print('*** Count ***')\n",
    "print(time_series_training[0][:5])\n",
    "print('*** Registered ***')\n",
    "print(time_series_training[1][:5])\n",
    "print('*** Casual ***')\n",
    "print(time_series_training[2][:5])"
   ]
  },
  {
   "cell_type": "code",
   "execution_count": 127,
   "id": "2bf39c81-b657-454f-8a35-7cb60d4c2c8f",
   "metadata": {},
   "outputs": [
    {
     "data": {
      "image/png": "[encoded data removed]",
      "text/plain": [
       "<Figure size 640x480 with 1 Axes>"
      ]
     },
     "metadata": {},
     "output_type": "display_data"
    }
   ],
   "source": [
    "# Timeseries for test data includes all data from training + few extra samples at the end\n",
    "time_series_test[0].plot(label='test')\n",
    "time_series_training[0].plot(label='training', ls='dotted')\n",
    "plt.legend()\n",
    "plt.show()"
   ]
  },
  {
   "cell_type": "code",
   "execution_count": 107,
   "id": "7ed61916-01b9-4bc1-ae72-698ccc182da4",
   "metadata": {},
   "outputs": [
    {
     "data": {
      "text/plain": [
       "datetime\n",
       "2012-09-10 00:00:00     41.0\n",
       "2012-09-10 01:00:00     18.0\n",
       "2012-09-10 02:00:00     17.0\n",
       "2012-09-10 03:00:00     12.0\n",
       "2012-09-10 04:00:00      5.0\n",
       "2012-09-10 05:00:00     40.0\n",
       "2012-09-10 06:00:00    180.0\n",
       "2012-09-10 07:00:00    447.0\n",
       "2012-09-10 08:00:00    730.0\n",
       "2012-09-10 09:00:00    361.0\n",
       "2012-09-10 10:00:00    210.0\n",
       "2012-09-10 11:00:00    236.0\n",
       "2012-09-10 12:00:00    332.0\n",
       "2012-09-10 13:00:00    323.0\n",
       "2012-09-10 14:00:00    340.0\n",
       "2012-09-10 15:00:00    346.0\n",
       "2012-09-10 16:00:00    488.0\n",
       "2012-09-10 17:00:00    871.0\n",
       "2012-09-10 18:00:00    968.0\n",
       "2012-09-10 19:00:00    633.0\n",
       "2012-09-10 20:00:00    390.0\n",
       "2012-09-10 21:00:00    285.0\n",
       "2012-09-10 22:00:00    159.0\n",
       "2012-09-10 23:00:00     93.0\n",
       "Freq: H, Name: count, dtype: float64"
      ]
     },
     "execution_count": 107,
     "metadata": {},
     "output_type": "execute_result"
    }
   ],
   "source": [
    "time_series_test[0].loc['2012-09-10']"
   ]
  },
  {
   "cell_type": "code",
   "execution_count": 97,
   "id": "a3ac7fe3-ed77-4be8-a19c-0abe4c2800df",
   "metadata": {},
   "outputs": [
    {
     "data": {
      "text/plain": [
       "7282.0"
      ]
     },
     "execution_count": 97,
     "metadata": {},
     "output_type": "execute_result"
    }
   ],
   "source": [
    "time_series_test[0].loc['2012-10-12'].sum()"
   ]
  },
  {
   "cell_type": "code",
   "execution_count": 72,
   "id": "ce570d51-3307-4dce-9a79-b4b2836310fd",
   "metadata": {},
   "outputs": [
    {
     "data": {
      "text/html": [
       "<div>\n",
       "<style scoped>\n",
       "    .dataframe tbody tr th:only-of-type {\n",
       "        vertical-align: middle;\n",
       "    }\n",
       "\n",
       "    .dataframe tbody tr th {\n",
       "        vertical-align: top;\n",
       "    }\n",
       "\n",
       "    .dataframe thead th {\n",
       "        text-align: right;\n",
       "    }\n",
       "</style>\n",
       "<table border=\"1\" class=\"dataframe\">\n",
       "  <thead>\n",
       "    <tr style=\"text-align: right;\">\n",
       "      <th></th>\n",
       "      <th>season</th>\n",
       "      <th>holiday</th>\n",
       "      <th>workingday</th>\n",
       "      <th>weather</th>\n",
       "      <th>temp</th>\n",
       "      <th>atemp</th>\n",
       "      <th>humidity</th>\n",
       "      <th>windspeed</th>\n",
       "      <th>casual</th>\n",
       "      <th>registered</th>\n",
       "      <th>count</th>\n",
       "    </tr>\n",
       "    <tr>\n",
       "      <th>datetime</th>\n",
       "      <th></th>\n",
       "      <th></th>\n",
       "      <th></th>\n",
       "      <th></th>\n",
       "      <th></th>\n",
       "      <th></th>\n",
       "      <th></th>\n",
       "      <th></th>\n",
       "      <th></th>\n",
       "      <th></th>\n",
       "      <th></th>\n",
       "    </tr>\n",
       "  </thead>\n",
       "  <tbody>\n",
       "    <tr>\n",
       "      <th>2011-01-01 00:00:00</th>\n",
       "      <td>1.0</td>\n",
       "      <td>0.0</td>\n",
       "      <td>0.0</td>\n",
       "      <td>1.0</td>\n",
       "      <td>9.84</td>\n",
       "      <td>14.395</td>\n",
       "      <td>81.0</td>\n",
       "      <td>0.0000</td>\n",
       "      <td>3.0</td>\n",
       "      <td>13.0</td>\n",
       "      <td>16.0</td>\n",
       "    </tr>\n",
       "    <tr>\n",
       "      <th>2011-01-01 01:00:00</th>\n",
       "      <td>1.0</td>\n",
       "      <td>0.0</td>\n",
       "      <td>0.0</td>\n",
       "      <td>1.0</td>\n",
       "      <td>9.02</td>\n",
       "      <td>13.635</td>\n",
       "      <td>80.0</td>\n",
       "      <td>0.0000</td>\n",
       "      <td>8.0</td>\n",
       "      <td>32.0</td>\n",
       "      <td>40.0</td>\n",
       "    </tr>\n",
       "    <tr>\n",
       "      <th>2011-01-01 02:00:00</th>\n",
       "      <td>1.0</td>\n",
       "      <td>0.0</td>\n",
       "      <td>0.0</td>\n",
       "      <td>1.0</td>\n",
       "      <td>9.02</td>\n",
       "      <td>13.635</td>\n",
       "      <td>80.0</td>\n",
       "      <td>0.0000</td>\n",
       "      <td>5.0</td>\n",
       "      <td>27.0</td>\n",
       "      <td>32.0</td>\n",
       "    </tr>\n",
       "    <tr>\n",
       "      <th>2011-01-01 03:00:00</th>\n",
       "      <td>1.0</td>\n",
       "      <td>0.0</td>\n",
       "      <td>0.0</td>\n",
       "      <td>1.0</td>\n",
       "      <td>9.84</td>\n",
       "      <td>14.395</td>\n",
       "      <td>75.0</td>\n",
       "      <td>0.0000</td>\n",
       "      <td>3.0</td>\n",
       "      <td>10.0</td>\n",
       "      <td>13.0</td>\n",
       "    </tr>\n",
       "    <tr>\n",
       "      <th>2011-01-01 04:00:00</th>\n",
       "      <td>1.0</td>\n",
       "      <td>0.0</td>\n",
       "      <td>0.0</td>\n",
       "      <td>1.0</td>\n",
       "      <td>9.84</td>\n",
       "      <td>14.395</td>\n",
       "      <td>75.0</td>\n",
       "      <td>0.0000</td>\n",
       "      <td>0.0</td>\n",
       "      <td>1.0</td>\n",
       "      <td>1.0</td>\n",
       "    </tr>\n",
       "    <tr>\n",
       "      <th>...</th>\n",
       "      <td>...</td>\n",
       "      <td>...</td>\n",
       "      <td>...</td>\n",
       "      <td>...</td>\n",
       "      <td>...</td>\n",
       "      <td>...</td>\n",
       "      <td>...</td>\n",
       "      <td>...</td>\n",
       "      <td>...</td>\n",
       "      <td>...</td>\n",
       "      <td>...</td>\n",
       "    </tr>\n",
       "    <tr>\n",
       "      <th>2012-12-19 19:00:00</th>\n",
       "      <td>4.0</td>\n",
       "      <td>0.0</td>\n",
       "      <td>1.0</td>\n",
       "      <td>1.0</td>\n",
       "      <td>15.58</td>\n",
       "      <td>19.695</td>\n",
       "      <td>50.0</td>\n",
       "      <td>26.0027</td>\n",
       "      <td>7.0</td>\n",
       "      <td>329.0</td>\n",
       "      <td>336.0</td>\n",
       "    </tr>\n",
       "    <tr>\n",
       "      <th>2012-12-19 20:00:00</th>\n",
       "      <td>4.0</td>\n",
       "      <td>0.0</td>\n",
       "      <td>1.0</td>\n",
       "      <td>1.0</td>\n",
       "      <td>14.76</td>\n",
       "      <td>17.425</td>\n",
       "      <td>57.0</td>\n",
       "      <td>15.0013</td>\n",
       "      <td>10.0</td>\n",
       "      <td>231.0</td>\n",
       "      <td>241.0</td>\n",
       "    </tr>\n",
       "    <tr>\n",
       "      <th>2012-12-19 21:00:00</th>\n",
       "      <td>4.0</td>\n",
       "      <td>0.0</td>\n",
       "      <td>1.0</td>\n",
       "      <td>1.0</td>\n",
       "      <td>13.94</td>\n",
       "      <td>15.910</td>\n",
       "      <td>61.0</td>\n",
       "      <td>15.0013</td>\n",
       "      <td>4.0</td>\n",
       "      <td>164.0</td>\n",
       "      <td>168.0</td>\n",
       "    </tr>\n",
       "    <tr>\n",
       "      <th>2012-12-19 22:00:00</th>\n",
       "      <td>4.0</td>\n",
       "      <td>0.0</td>\n",
       "      <td>1.0</td>\n",
       "      <td>1.0</td>\n",
       "      <td>13.94</td>\n",
       "      <td>17.425</td>\n",
       "      <td>61.0</td>\n",
       "      <td>6.0032</td>\n",
       "      <td>12.0</td>\n",
       "      <td>117.0</td>\n",
       "      <td>129.0</td>\n",
       "    </tr>\n",
       "    <tr>\n",
       "      <th>2012-12-19 23:00:00</th>\n",
       "      <td>4.0</td>\n",
       "      <td>0.0</td>\n",
       "      <td>1.0</td>\n",
       "      <td>1.0</td>\n",
       "      <td>13.12</td>\n",
       "      <td>16.665</td>\n",
       "      <td>66.0</td>\n",
       "      <td>8.9981</td>\n",
       "      <td>4.0</td>\n",
       "      <td>84.0</td>\n",
       "      <td>88.0</td>\n",
       "    </tr>\n",
       "  </tbody>\n",
       "</table>\n",
       "<p>17256 rows × 11 columns</p>\n",
       "</div>"
      ],
      "text/plain": [
       "                     season  holiday  workingday  weather   temp   atemp  \\\n",
       "datetime                                                                   \n",
       "2011-01-01 00:00:00     1.0      0.0         0.0      1.0   9.84  14.395   \n",
       "2011-01-01 01:00:00     1.0      0.0         0.0      1.0   9.02  13.635   \n",
       "2011-01-01 02:00:00     1.0      0.0         0.0      1.0   9.02  13.635   \n",
       "2011-01-01 03:00:00     1.0      0.0         0.0      1.0   9.84  14.395   \n",
       "2011-01-01 04:00:00     1.0      0.0         0.0      1.0   9.84  14.395   \n",
       "...                     ...      ...         ...      ...    ...     ...   \n",
       "2012-12-19 19:00:00     4.0      0.0         1.0      1.0  15.58  19.695   \n",
       "2012-12-19 20:00:00     4.0      0.0         1.0      1.0  14.76  17.425   \n",
       "2012-12-19 21:00:00     4.0      0.0         1.0      1.0  13.94  15.910   \n",
       "2012-12-19 22:00:00     4.0      0.0         1.0      1.0  13.94  17.425   \n",
       "2012-12-19 23:00:00     4.0      0.0         1.0      1.0  13.12  16.665   \n",
       "\n",
       "                     humidity  windspeed  casual  registered  count  \n",
       "datetime                                                             \n",
       "2011-01-01 00:00:00      81.0     0.0000     3.0        13.0   16.0  \n",
       "2011-01-01 01:00:00      80.0     0.0000     8.0        32.0   40.0  \n",
       "2011-01-01 02:00:00      80.0     0.0000     5.0        27.0   32.0  \n",
       "2011-01-01 03:00:00      75.0     0.0000     3.0        10.0   13.0  \n",
       "2011-01-01 04:00:00      75.0     0.0000     0.0         1.0    1.0  \n",
       "...                       ...        ...     ...         ...    ...  \n",
       "2012-12-19 19:00:00      50.0    26.0027     7.0       329.0  336.0  \n",
       "2012-12-19 20:00:00      57.0    15.0013    10.0       231.0  241.0  \n",
       "2012-12-19 21:00:00      61.0    15.0013     4.0       164.0  168.0  \n",
       "2012-12-19 22:00:00      61.0     6.0032    12.0       117.0  129.0  \n",
       "2012-12-19 23:00:00      66.0     8.9981     4.0        84.0   88.0  \n",
       "\n",
       "[17256 rows x 11 columns]"
      ]
     },
     "execution_count": 72,
     "metadata": {},
     "output_type": "execute_result"
    }
   ],
   "source": [
    "df"
   ]
  },
  {
   "cell_type": "code",
   "execution_count": 73,
   "id": "2eaf5883-bd46-46af-bbdc-50d9c776895f",
   "metadata": {},
   "outputs": [
    {
     "data": {
      "text/html": [
       "<div>\n",
       "<style scoped>\n",
       "    .dataframe tbody tr th:only-of-type {\n",
       "        vertical-align: middle;\n",
       "    }\n",
       "\n",
       "    .dataframe tbody tr th {\n",
       "        vertical-align: top;\n",
       "    }\n",
       "\n",
       "    .dataframe thead th {\n",
       "        text-align: right;\n",
       "    }\n",
       "</style>\n",
       "<table border=\"1\" class=\"dataframe\">\n",
       "  <thead>\n",
       "    <tr style=\"text-align: right;\">\n",
       "      <th></th>\n",
       "      <th>season</th>\n",
       "      <th>holiday</th>\n",
       "      <th>workingday</th>\n",
       "      <th>weather</th>\n",
       "      <th>temp</th>\n",
       "      <th>atemp</th>\n",
       "      <th>humidity</th>\n",
       "      <th>windspeed</th>\n",
       "    </tr>\n",
       "    <tr>\n",
       "      <th>datetime</th>\n",
       "      <th></th>\n",
       "      <th></th>\n",
       "      <th></th>\n",
       "      <th></th>\n",
       "      <th></th>\n",
       "      <th></th>\n",
       "      <th></th>\n",
       "      <th></th>\n",
       "    </tr>\n",
       "  </thead>\n",
       "  <tbody>\n",
       "    <tr>\n",
       "      <th>2011-01-20 00:00:00</th>\n",
       "      <td>1</td>\n",
       "      <td>0</td>\n",
       "      <td>1</td>\n",
       "      <td>1</td>\n",
       "      <td>10.66</td>\n",
       "      <td>11.365</td>\n",
       "      <td>56</td>\n",
       "      <td>26.0027</td>\n",
       "    </tr>\n",
       "    <tr>\n",
       "      <th>2011-01-20 01:00:00</th>\n",
       "      <td>1</td>\n",
       "      <td>0</td>\n",
       "      <td>1</td>\n",
       "      <td>1</td>\n",
       "      <td>10.66</td>\n",
       "      <td>13.635</td>\n",
       "      <td>56</td>\n",
       "      <td>0.0000</td>\n",
       "    </tr>\n",
       "    <tr>\n",
       "      <th>2011-01-20 02:00:00</th>\n",
       "      <td>1</td>\n",
       "      <td>0</td>\n",
       "      <td>1</td>\n",
       "      <td>1</td>\n",
       "      <td>10.66</td>\n",
       "      <td>13.635</td>\n",
       "      <td>56</td>\n",
       "      <td>0.0000</td>\n",
       "    </tr>\n",
       "    <tr>\n",
       "      <th>2011-01-20 03:00:00</th>\n",
       "      <td>1</td>\n",
       "      <td>0</td>\n",
       "      <td>1</td>\n",
       "      <td>1</td>\n",
       "      <td>10.66</td>\n",
       "      <td>12.880</td>\n",
       "      <td>56</td>\n",
       "      <td>11.0014</td>\n",
       "    </tr>\n",
       "    <tr>\n",
       "      <th>2011-01-20 04:00:00</th>\n",
       "      <td>1</td>\n",
       "      <td>0</td>\n",
       "      <td>1</td>\n",
       "      <td>1</td>\n",
       "      <td>10.66</td>\n",
       "      <td>12.880</td>\n",
       "      <td>56</td>\n",
       "      <td>11.0014</td>\n",
       "    </tr>\n",
       "    <tr>\n",
       "      <th>...</th>\n",
       "      <td>...</td>\n",
       "      <td>...</td>\n",
       "      <td>...</td>\n",
       "      <td>...</td>\n",
       "      <td>...</td>\n",
       "      <td>...</td>\n",
       "      <td>...</td>\n",
       "      <td>...</td>\n",
       "    </tr>\n",
       "    <tr>\n",
       "      <th>2012-12-31 19:00:00</th>\n",
       "      <td>1</td>\n",
       "      <td>0</td>\n",
       "      <td>1</td>\n",
       "      <td>2</td>\n",
       "      <td>10.66</td>\n",
       "      <td>12.880</td>\n",
       "      <td>60</td>\n",
       "      <td>11.0014</td>\n",
       "    </tr>\n",
       "    <tr>\n",
       "      <th>2012-12-31 20:00:00</th>\n",
       "      <td>1</td>\n",
       "      <td>0</td>\n",
       "      <td>1</td>\n",
       "      <td>2</td>\n",
       "      <td>10.66</td>\n",
       "      <td>12.880</td>\n",
       "      <td>60</td>\n",
       "      <td>11.0014</td>\n",
       "    </tr>\n",
       "    <tr>\n",
       "      <th>2012-12-31 21:00:00</th>\n",
       "      <td>1</td>\n",
       "      <td>0</td>\n",
       "      <td>1</td>\n",
       "      <td>1</td>\n",
       "      <td>10.66</td>\n",
       "      <td>12.880</td>\n",
       "      <td>60</td>\n",
       "      <td>11.0014</td>\n",
       "    </tr>\n",
       "    <tr>\n",
       "      <th>2012-12-31 22:00:00</th>\n",
       "      <td>1</td>\n",
       "      <td>0</td>\n",
       "      <td>1</td>\n",
       "      <td>1</td>\n",
       "      <td>10.66</td>\n",
       "      <td>13.635</td>\n",
       "      <td>56</td>\n",
       "      <td>8.9981</td>\n",
       "    </tr>\n",
       "    <tr>\n",
       "      <th>2012-12-31 23:00:00</th>\n",
       "      <td>1</td>\n",
       "      <td>0</td>\n",
       "      <td>1</td>\n",
       "      <td>1</td>\n",
       "      <td>10.66</td>\n",
       "      <td>13.635</td>\n",
       "      <td>65</td>\n",
       "      <td>8.9981</td>\n",
       "    </tr>\n",
       "  </tbody>\n",
       "</table>\n",
       "<p>6493 rows × 8 columns</p>\n",
       "</div>"
      ],
      "text/plain": [
       "                     season  holiday  workingday  weather   temp   atemp  \\\n",
       "datetime                                                                   \n",
       "2011-01-20 00:00:00       1        0           1        1  10.66  11.365   \n",
       "2011-01-20 01:00:00       1        0           1        1  10.66  13.635   \n",
       "2011-01-20 02:00:00       1        0           1        1  10.66  13.635   \n",
       "2011-01-20 03:00:00       1        0           1        1  10.66  12.880   \n",
       "2011-01-20 04:00:00       1        0           1        1  10.66  12.880   \n",
       "...                     ...      ...         ...      ...    ...     ...   \n",
       "2012-12-31 19:00:00       1        0           1        2  10.66  12.880   \n",
       "2012-12-31 20:00:00       1        0           1        2  10.66  12.880   \n",
       "2012-12-31 21:00:00       1        0           1        1  10.66  12.880   \n",
       "2012-12-31 22:00:00       1        0           1        1  10.66  13.635   \n",
       "2012-12-31 23:00:00       1        0           1        1  10.66  13.635   \n",
       "\n",
       "                     humidity  windspeed  \n",
       "datetime                                  \n",
       "2011-01-20 00:00:00        56    26.0027  \n",
       "2011-01-20 01:00:00        56     0.0000  \n",
       "2011-01-20 02:00:00        56     0.0000  \n",
       "2011-01-20 03:00:00        56    11.0014  \n",
       "2011-01-20 04:00:00        56    11.0014  \n",
       "...                       ...        ...  \n",
       "2012-12-31 19:00:00        60    11.0014  \n",
       "2012-12-31 20:00:00        60    11.0014  \n",
       "2012-12-31 21:00:00        60    11.0014  \n",
       "2012-12-31 22:00:00        56     8.9981  \n",
       "2012-12-31 23:00:00        65     8.9981  \n",
       "\n",
       "[6493 rows x 8 columns]"
      ]
     },
     "execution_count": 73,
     "metadata": {},
     "output_type": "execute_result"
    }
   ],
   "source": [
    "df_test"
   ]
  },
  {
   "cell_type": "code",
   "execution_count": 174,
   "id": "bc5275ac-ad73-4982-9f6f-053a211a94d4",
   "metadata": {},
   "outputs": [],
   "source": [
    "def encode_target(ts):\n",
    "    return [x if np.isfinite(x) else \"NaN\" for x in ts]\n",
    "\n",
    "def encode_dynamic_feat(dynamic_feat):\n",
    "    l = []\n",
    "    for col in dynamic_feat:\n",
    "        assert( not dynamic_feat[col].isna().any()), col+ ' has NaN'\n",
    "        l.append(dynamic_feat[col].tolist())\n",
    "    return l\n",
    "\n",
    "def series_to_obj(ts, cat=None, dynamic_feat=None):\n",
    "\n",
    "    obj = {\"start\": str(ts.index[0]), \"target\": encode_target(ts)}\n",
    "    if cat is not None:\n",
    "        obj[\"cat\"]=cat\n",
    "    if dynamic_feat is not None:\n",
    "        obj[\"dynamic_feat\"]=encode_dynamic_feat(dynamic_feat)\n",
    "\n",
    "    return obj\n",
    "\n",
    "def series_to_jsonline(ts, cat=None, dynamic_feat=None):\n",
    "    return json.dumps(series_to_obj(ts,cat,dynamic_feat))"
   ]
  },
  {
   "cell_type": "code",
   "execution_count": 175,
   "id": "c1502c5e-7738-4bf5-aa12-41582204ef4d",
   "metadata": {},
   "outputs": [
    {
     "data": {
      "text/plain": [
       "[16.0, 40.0, 32.0, 13.0, 1.0]"
      ]
     },
     "execution_count": 175,
     "metadata": {},
     "output_type": "execute_result"
    }
   ],
   "source": [
    "list(time_series_training[0][:5])"
   ]
  },
  {
   "cell_type": "code",
   "execution_count": 176,
   "id": "86bd7bca-dd26-44e6-98d3-1994534519d2",
   "metadata": {},
   "outputs": [
    {
     "data": {
      "text/plain": [
       "{'start': '2011-01-01 00:00:00',\n",
       " 'target': [16.0, 40.0, 32.0, 13.0, 1.0],\n",
       " 'cat': [0]}"
      ]
     },
     "execution_count": 176,
     "metadata": {},
     "output_type": "execute_result"
    }
   ],
   "source": [
    "series_to_obj(time_series_training[0][:5], [0] )"
   ]
  },
  {
   "cell_type": "code",
   "execution_count": 177,
   "id": "442701de-235c-4fad-926a-b1200d13d169",
   "metadata": {},
   "outputs": [
    {
     "data": {
      "text/plain": [
       "{'start': '2011-01-01 00:00:00',\n",
       " 'target': [16.0, 40.0, 32.0, 13.0, 1.0],\n",
       " 'cat': [0]}"
      ]
     },
     "execution_count": 177,
     "metadata": {},
     "output_type": "execute_result"
    }
   ],
   "source": [
    "series_to_obj(time_series_training[0][:5], [0])"
   ]
  },
  {
   "cell_type": "code",
   "execution_count": 178,
   "id": "d8b9142a-dc06-4a81-974a-9ae4dba90308",
   "metadata": {},
   "outputs": [
    {
     "data": {
      "text/plain": [
       "'{\"start\": \"2011-01-01 00:00:00\", \"target\": [16.0, 40.0, 32.0, 13.0, 1.0], \"cat\": [0]}'"
      ]
     },
     "execution_count": 178,
     "metadata": {},
     "output_type": "execute_result"
    }
   ],
   "source": [
    "series_to_jsonline(time_series_training[0][:5], [0])"
   ]
  },
  {
   "cell_type": "code",
   "execution_count": 179,
   "id": "049f2187-e350-40a6-97d2-aada9262733e",
   "metadata": {},
   "outputs": [
    {
     "data": {
      "text/plain": [
       "'{\"start\": \"2011-01-01 00:00:00\", \"target\": [16.0, 40.0, 32.0, 13.0, 1.0], \"cat\": [0, 1, 2]}'"
      ]
     },
     "execution_count": 179,
     "metadata": {},
     "output_type": "execute_result"
    }
   ],
   "source": [
    "series_to_jsonline(time_series_training[0][:5], [0,1,2])"
   ]
  },
  {
   "cell_type": "code",
   "execution_count": 180,
   "id": "49d1377b-d597-43fd-92da-fe5c8f49b33a",
   "metadata": {},
   "outputs": [
    {
     "data": {
      "text/plain": [
       "{'start': '2011-01-01 00:00:00', 'target': [16.0, 40.0, 32.0, 13.0, 1.0]}"
      ]
     },
     "execution_count": 180,
     "metadata": {},
     "output_type": "execute_result"
    }
   ],
   "source": [
    "series_to_obj(time_series_training[0][:5],[0] if with_categories else None)"
   ]
  },
  {
   "cell_type": "code",
   "execution_count": 185,
   "id": "5aca8e9a-9429-4d55-88a3-331c72114946",
   "metadata": {},
   "outputs": [],
   "source": [
    "encoding = \"utf-8\"\n",
    "cat_idx = 0\n",
    "\n",
    "train_file_name= \"train.json\"\n",
    "test_file_name = \"test.json\"\n",
    "\n",
    "if with_categories:\n",
    "    train_file_name = \"train_with_categories.json\"\n",
    "    test_file_name = \"test_with_categories.json\"\n",
    "\n",
    "with open(train_file_name, 'wb') as fp:\n",
    "    for ts in time_series_training:\n",
    "        fp.write(series_to_jsonline(ts,[cat_idx] if with_categories else None).encode(encoding))\n",
    "        fp.write('\\n'.encode(encoding))\n",
    "        cat_idx +=1\n",
    "\n"
   ]
  },
  {
   "cell_type": "code",
   "execution_count": 186,
   "id": "b33e4c38-d4a1-479b-a253-3cbf15efc687",
   "metadata": {},
   "outputs": [],
   "source": [
    "cat_idx=0\n",
    "with open(test_file_name, 'wb') as fp:\n",
    "    for ts in time_series_test:\n",
    "        fp.write(series_to_jsonline(ts, [cat_idx] if with_categories else None).encode(encoding))\n",
    "        fp.write('\\n'.encode(encoding))\n",
    "        cat_idx +=1"
   ]
  },
  {
   "cell_type": "code",
   "execution_count": 184,
   "id": "6ab1e829-671a-47ae-96f4-963999f6268b",
   "metadata": {},
   "outputs": [
    {
     "data": {
      "text/plain": [
       "False"
      ]
     },
     "execution_count": 184,
     "metadata": {},
     "output_type": "execute_result"
    }
   ],
   "source": [
    "with_categories"
   ]
  },
  {
   "cell_type": "code",
   "execution_count": 187,
   "id": "e86dd9bd-d296-449b-ae83-408d9f02a905",
   "metadata": {},
   "outputs": [],
   "source": [
    "df.to_csv('all_data.csv', index=True, index_label='datetime')"
   ]
  },
  {
   "cell_type": "code",
   "execution_count": 189,
   "id": "44051754-a56b-4da4-a02d-28d7af70d8e5",
   "metadata": {},
   "outputs": [
    {
     "name": "stdout",
     "output_type": "stream",
     "text": [
      "17256 count\n",
      "17256 registered\n",
      "17256 casual\n"
     ]
    }
   ],
   "source": [
    "for ts in time_series_test:\n",
    "    print(len(ts), ts.name)"
   ]
  },
  {
   "cell_type": "code",
   "execution_count": 190,
   "id": "a9644c9b-7138-4704-af88-014dc276b892",
   "metadata": {},
   "outputs": [
    {
     "name": "stdout",
     "output_type": "stream",
     "text": [
      "16968 count\n",
      "16968 registered\n",
      "16968 casual\n"
     ]
    }
   ],
   "source": [
    "for ts in time_series_training:\n",
    "    print(len(ts), ts.name)"
   ]
  },
  {
   "cell_type": "code",
   "execution_count": null,
   "id": "66aac448-8db5-4bd8-ab40-c26719c52f3c",
   "metadata": {},
   "outputs": [],
   "source": []
  }
 ],
 "metadata": {
  "kernelspec": {
   "display_name": "Python 3 (ipykernel)",
   "language": "python",
   "name": "python3"
  },
  "language_info": {
   "codemirror_mode": {
    "name": "ipython",
    "version": 3
   },
   "file_extension": ".py",
   "mimetype": "text/x-python",
   "name": "python",
   "nbconvert_exporter": "python",
   "pygments_lexer": "ipython3",
   "version": "3.8.10"
  }
 },
 "nbformat": 4,
 "nbformat_minor": 5
}
