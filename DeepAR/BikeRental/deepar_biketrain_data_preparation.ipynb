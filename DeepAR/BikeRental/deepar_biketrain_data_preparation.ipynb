{
 "cells": [
  {
   "cell_type": "code",
   "execution_count": 1,
   "id": "5bd1e053",
   "metadata": {},
   "outputs": [],
   "source": [
    "import numpy as np\n",
    "import pandas as pd\n",
    "import matplotlib.pyplot as plt\n",
    "import json\n",
    "import time\n",
    "import datetime"
   ]
  },
  {
   "cell_type": "markdown",
   "id": "5902cbed",
   "metadata": {},
   "source": [
    "<h2>DeepAR - Kaggle Bike Sharing Demand Dataset</h2>\n",
    "<h4>Prepare Bike Rental Data for DeepAR training</h4>  \n",
    "<quote>We will store the total rental count, registered rental count, and casual rental count data as a time series.</quote>\n",
    "<quote>For each of the targets <b>total, registered, casual</b>, following JSON is structured as: Start Time, Array of target values, optional dynamic features and categories</quote>\n",
    "<quote>Frequency of time series data (for example, hourly, daily, monthly and so forth) is specified using hyperparameter</quote>\n",
    "\n",
    "<h4>To download original dataset, sign-in and download from this link: https://www.kaggle.com/c/bike-sharing-demand/data</h4>\n",
    "<br>\n",
    "None of these features are used: ['season', 'holiday', 'workingday', 'weather', 'temp',\n",
    "       'atemp', 'humidity', 'windspeed']<br>\n",
    "       \n",
    "Start Time From: ['datetime'] <br>\n",
    "Target Feature: [<b>'count','registered','casual'</b>]<br>\n",
    "Frequency: 'Hourly' <br>\n",
    "\n",
    "Objective: <quote>You are provided hourly rental data spanning two years. For this competition, the training set is comprised of the first 19 days of each month, while the test set is the 20th to the end of the month. You must predict the total count of bikes rented during each hour covered by the test set, using only information available prior to the rental period (Ref: Kaggle.com)</quote>"
   ]
  },
  {
   "cell_type": "code",
   "execution_count": 2,
   "id": "68b02694",
   "metadata": {},
   "outputs": [],
   "source": [
    "# controls if categroies are included in training or not\n",
    "\n",
    "target_values = ['count','registered','casual']\n",
    "\n",
    "with_categories = False"
   ]
  },
  {
   "cell_type": "code",
   "execution_count": 3,
   "id": "e74e7c4c",
   "metadata": {},
   "outputs": [],
   "source": [
    "# set datetime column as index to work with data based on Date/Time\n",
    "\n",
    "df = pd.read_csv('train.csv', parse_dates=['datetime'], index_col='datetime')\n",
    "df_test = pd.read_csv('test.csv', parse_dates=['datetime'],index_col='datetime')"
   ]
  },
  {
   "cell_type": "code",
   "execution_count": 4,
   "id": "3537946d",
   "metadata": {},
   "outputs": [
    {
     "data": {
      "text/plain": [
       "10886"
      ]
     },
     "execution_count": 4,
     "metadata": {},
     "output_type": "execute_result"
    }
   ],
   "source": [
    "df.shape[0]"
   ]
  },
  {
   "cell_type": "code",
   "execution_count": 5,
   "id": "b8174f06",
   "metadata": {},
   "outputs": [
    {
     "data": {
      "text/plain": [
       "6493"
      ]
     },
     "execution_count": 5,
     "metadata": {},
     "output_type": "execute_result"
    }
   ],
   "source": [
    "df_test.shape[0]"
   ]
  },
  {
   "cell_type": "code",
   "execution_count": 6,
   "id": "e93ca44d",
   "metadata": {},
   "outputs": [
    {
     "data": {
      "text/html": [
       "<div>\n",
       "<style scoped>\n",
       "    .dataframe tbody tr th:only-of-type {\n",
       "        vertical-align: middle;\n",
       "    }\n",
       "\n",
       "    .dataframe tbody tr th {\n",
       "        vertical-align: top;\n",
       "    }\n",
       "\n",
       "    .dataframe thead th {\n",
       "        text-align: right;\n",
       "    }\n",
       "</style>\n",
       "<table border=\"1\" class=\"dataframe\">\n",
       "  <thead>\n",
       "    <tr style=\"text-align: right;\">\n",
       "      <th></th>\n",
       "      <th>season</th>\n",
       "      <th>holiday</th>\n",
       "      <th>workingday</th>\n",
       "      <th>weather</th>\n",
       "      <th>temp</th>\n",
       "      <th>atemp</th>\n",
       "      <th>humidity</th>\n",
       "      <th>windspeed</th>\n",
       "      <th>casual</th>\n",
       "      <th>registered</th>\n",
       "      <th>count</th>\n",
       "    </tr>\n",
       "    <tr>\n",
       "      <th>datetime</th>\n",
       "      <th></th>\n",
       "      <th></th>\n",
       "      <th></th>\n",
       "      <th></th>\n",
       "      <th></th>\n",
       "      <th></th>\n",
       "      <th></th>\n",
       "      <th></th>\n",
       "      <th></th>\n",
       "      <th></th>\n",
       "      <th></th>\n",
       "    </tr>\n",
       "  </thead>\n",
       "  <tbody>\n",
       "    <tr>\n",
       "      <th>2011-01-01 00:00:00</th>\n",
       "      <td>1</td>\n",
       "      <td>0</td>\n",
       "      <td>0</td>\n",
       "      <td>1</td>\n",
       "      <td>9.84</td>\n",
       "      <td>14.395</td>\n",
       "      <td>81</td>\n",
       "      <td>0.0</td>\n",
       "      <td>3</td>\n",
       "      <td>13</td>\n",
       "      <td>16</td>\n",
       "    </tr>\n",
       "    <tr>\n",
       "      <th>2011-01-01 01:00:00</th>\n",
       "      <td>1</td>\n",
       "      <td>0</td>\n",
       "      <td>0</td>\n",
       "      <td>1</td>\n",
       "      <td>9.02</td>\n",
       "      <td>13.635</td>\n",
       "      <td>80</td>\n",
       "      <td>0.0</td>\n",
       "      <td>8</td>\n",
       "      <td>32</td>\n",
       "      <td>40</td>\n",
       "    </tr>\n",
       "    <tr>\n",
       "      <th>2011-01-01 02:00:00</th>\n",
       "      <td>1</td>\n",
       "      <td>0</td>\n",
       "      <td>0</td>\n",
       "      <td>1</td>\n",
       "      <td>9.02</td>\n",
       "      <td>13.635</td>\n",
       "      <td>80</td>\n",
       "      <td>0.0</td>\n",
       "      <td>5</td>\n",
       "      <td>27</td>\n",
       "      <td>32</td>\n",
       "    </tr>\n",
       "    <tr>\n",
       "      <th>2011-01-01 03:00:00</th>\n",
       "      <td>1</td>\n",
       "      <td>0</td>\n",
       "      <td>0</td>\n",
       "      <td>1</td>\n",
       "      <td>9.84</td>\n",
       "      <td>14.395</td>\n",
       "      <td>75</td>\n",
       "      <td>0.0</td>\n",
       "      <td>3</td>\n",
       "      <td>10</td>\n",
       "      <td>13</td>\n",
       "    </tr>\n",
       "    <tr>\n",
       "      <th>2011-01-01 04:00:00</th>\n",
       "      <td>1</td>\n",
       "      <td>0</td>\n",
       "      <td>0</td>\n",
       "      <td>1</td>\n",
       "      <td>9.84</td>\n",
       "      <td>14.395</td>\n",
       "      <td>75</td>\n",
       "      <td>0.0</td>\n",
       "      <td>0</td>\n",
       "      <td>1</td>\n",
       "      <td>1</td>\n",
       "    </tr>\n",
       "  </tbody>\n",
       "</table>\n",
       "</div>"
      ],
      "text/plain": [
       "                     season  holiday  workingday  weather  temp   atemp  \\\n",
       "datetime                                                                  \n",
       "2011-01-01 00:00:00       1        0           0        1  9.84  14.395   \n",
       "2011-01-01 01:00:00       1        0           0        1  9.02  13.635   \n",
       "2011-01-01 02:00:00       1        0           0        1  9.02  13.635   \n",
       "2011-01-01 03:00:00       1        0           0        1  9.84  14.395   \n",
       "2011-01-01 04:00:00       1        0           0        1  9.84  14.395   \n",
       "\n",
       "                     humidity  windspeed  casual  registered  count  \n",
       "datetime                                                             \n",
       "2011-01-01 00:00:00        81        0.0       3          13     16  \n",
       "2011-01-01 01:00:00        80        0.0       8          32     40  \n",
       "2011-01-01 02:00:00        80        0.0       5          27     32  \n",
       "2011-01-01 03:00:00        75        0.0       3          10     13  \n",
       "2011-01-01 04:00:00        75        0.0       0           1      1  "
      ]
     },
     "execution_count": 6,
     "metadata": {},
     "output_type": "execute_result"
    }
   ],
   "source": [
    "df.head(5)"
   ]
  },
  {
   "cell_type": "code",
   "execution_count": 8,
   "id": "d6f664ca",
   "metadata": {},
   "outputs": [
    {
     "data": {
      "text/plain": [
       "(Timestamp('2011-01-01 00:00:00'), Timestamp('2012-12-19 23:00:00'))"
      ]
     },
     "execution_count": 8,
     "metadata": {},
     "output_type": "execute_result"
    }
   ],
   "source": [
    "df.index.min(), df.index.max()"
   ]
  },
  {
   "cell_type": "code",
   "execution_count": 9,
   "id": "00944230",
   "metadata": {},
   "outputs": [
    {
     "data": {
      "text/plain": [
       "(Timestamp('2011-01-20 00:00:00'), Timestamp('2012-12-31 23:00:00'))"
      ]
     },
     "execution_count": 9,
     "metadata": {},
     "output_type": "execute_result"
    }
   ],
   "source": [
    "df_test.index.min(), df_test.index.max()"
   ]
  },
  {
   "cell_type": "code",
   "execution_count": 13,
   "id": "42f06c75",
   "metadata": {},
   "outputs": [
    {
     "data": {
      "text/plain": [
       "<Axes: xlabel='datetime'>"
      ]
     },
     "execution_count": 13,
     "metadata": {},
     "output_type": "execute_result"
    },
    {
     "data": {
      "image/png": "[encoded data removed]",
      "text/plain": [
       "<Figure size 640x480 with 1 Axes>"
      ]
     },
     "metadata": {},
     "output_type": "display_data"
    }
   ],
   "source": [
    "df.loc['2011-01','count'].plot()"
   ]
  },
  {
   "cell_type": "code",
   "execution_count": 27,
   "id": "657710bc",
   "metadata": {},
   "outputs": [
    {
     "name": "stdout",
     "output_type": "stream",
     "text": [
      "Check max hours we need to predict of months\n",
      "(2011, 1), Hours:287.0\n",
      "(2011, 2), Hours:215.0\n",
      "(2011, 3), Hours:287.0\n",
      "(2011, 4), Hours:263.0\n",
      "(2011, 5), Hours:287.0\n",
      "(2011, 6), Hours:263.0\n",
      "(2011, 7), Hours:287.0\n",
      "(2011, 8), Hours:287.0\n",
      "(2011, 9), Hours:263.0\n",
      "(2011, 10), Hours:287.0\n",
      "(2011, 11), Hours:263.0\n",
      "(2011, 12), Hours:287.0\n",
      "(2012, 1), Hours:287.0\n",
      "(2012, 2), Hours:239.0\n",
      "(2012, 3), Hours:287.0\n",
      "(2012, 4), Hours:263.0\n",
      "(2012, 5), Hours:287.0\n",
      "(2012, 6), Hours:263.0\n",
      "(2012, 7), Hours:287.0\n",
      "(2012, 8), Hours:287.0\n",
      "(2012, 9), Hours:263.0\n",
      "(2012, 10), Hours:287.0\n",
      "(2012, 11), Hours:263.0\n",
      "(2012, 12), Hours:287.0\n",
      "Maximum Prediction length in hours:  287.0\n"
     ]
    }
   ],
   "source": [
    "# We need to let DeepAR know how far in the future predictions can be made using prediction_length hyperparameter\n",
    "# Let's look at how many hours we need to predict in a month using test.csv data file\n",
    "\n",
    "hours_to_predict = []\n",
    "print(\"Check max hours we need to predict of months\")\n",
    "\n",
    "predict_window = df_test.groupby([df_test.index.year, df_test.index.month])\n",
    "\n",
    "for i, x in predict_window:\n",
    "    delta = x.index.max()-x.index.min()\n",
    "    hours =np.ceil(delta.total_seconds()/3600)\n",
    "    hours_to_predict.append(hours)\n",
    "    print(\"{0}, Hours:{1}\".format(i, hours))\n",
    "    \n",
    "print(\"Maximum Prediction length in hours: \",np.max(hours_to_predict))"
   ]
  },
  {
   "cell_type": "code",
   "execution_count": 4,
   "id": "ac8a01bc",
   "metadata": {},
   "outputs": [],
   "source": [
    "# https://docs.aws.amazon.com/sagemaker/latest/dg/deepar_hyperparameters.html\n",
    "\n",
    "# Timeseries consists hourly data and we need to predict hourly\n",
    "freq = 'H'\n",
    "\n",
    "# 12 days of hourly forecast\n",
    "prediction_length = 12*24\n",
    "\n",
    "# aws recommends setting context same as prediction length as as starting point\n",
    "# This controls how far in the past it can see to predict\n",
    "\n",
    "context_length = prediction_length"
   ]
  },
  {
   "cell_type": "code",
   "execution_count": 5,
   "id": "5d1b937b",
   "metadata": {},
   "outputs": [
    {
     "data": {
      "text/plain": [
       "288"
      ]
     },
     "execution_count": 5,
     "metadata": {},
     "output_type": "execute_result"
    }
   ],
   "source": [
    "context_length"
   ]
  },
  {
   "cell_type": "code",
   "execution_count": 25,
   "id": "126b06a9",
   "metadata": {},
   "outputs": [
    {
     "data": {
      "text/plain": [
       "(Timestamp('2012-12-31 23:00:00'),\n",
       " Timestamp('2011-01-01 00:00:00'),\n",
       " Timestamp('2012-12-19 23:00:00'))"
      ]
     },
     "execution_count": 25,
     "metadata": {},
     "output_type": "execute_result"
    }
   ],
   "source": [
    "dt_predict_max = df_test.index.max()\n",
    "\n",
    "dt_dataset_start_time = df.index.min()\n",
    "dt_dataset_end_time = df.index.max()\n",
    "\n",
    "dt_predict_max, dt_dataset_start_time, dt_dataset_end_time"
   ]
  },
  {
   "cell_type": "code",
   "execution_count": 7,
   "id": "d298c717",
   "metadata": {},
   "outputs": [],
   "source": [
    "# use for model_training\n",
    "# Start time is the first row provided by kaggle\n",
    "# Training TS end time ensures some data is withheld for model testing\n",
    "# 12 days worth of training data is withheld for testing\n",
    "\n",
    "dt_train_range = (dt_dataset_start_time, dt_dataset_end_time - datetime.timedelta(hours=12*24))\n",
    "\n",
    "# use entire data for testing\n",
    "# we can compare predicted values vs actual(i.e last 12 days is withheld for testing and model hasen't seen that data\n",
    "\n",
    "dt_test_range = ( dt_dataset_start_time, dt_dataset_end_time)"
   ]
  },
  {
   "cell_type": "code",
   "execution_count": 18,
   "id": "4a37b0a2-0672-4b49-8bf4-0155d9c8903c",
   "metadata": {},
   "outputs": [],
   "source": [
    "# Check if there are any gaps in timestamps\n",
    "\n",
    "def is_missing_steps(df, start, end, freq='D'):\n",
    "    dt_range = pd.date_range(start=start, end=end, freq=freq)\n",
    "    return not dt_range.equals(df.loc[start:end].index)\n",
    "\n",
    "def get_missing_steps(df, start, end, freq='D'):\n",
    "    dt_range = pd.date_range(start=start, end=end, freq=freq)\n",
    "    return dt_range.difference(df.loc[start:end].index)\n",
    "\n",
    "# List timeseries with only NaNs\n",
    "# they can be remove\n",
    "\n",
    "def timeseries_with_only_nans(df):\n",
    "    l = []\n",
    "    for col in df.columns:\n",
    "        if pd.isna(df[col].min()):\n",
    "            l.append(col)\n",
    "    return l\n"
   ]
  },
  {
   "cell_type": "code",
   "execution_count": 8,
   "id": "4d55618c-0765-4eca-a488-2a1cf250ce83",
   "metadata": {},
   "outputs": [
    {
     "data": {
      "text/plain": [
       "Index(['season', 'holiday', 'workingday', 'weather', 'temp', 'atemp',\n",
       "       'humidity', 'windspeed', 'casual', 'registered', 'count'],\n",
       "      dtype='object')"
      ]
     },
     "execution_count": 8,
     "metadata": {},
     "output_type": "execute_result"
    }
   ],
   "source": [
    "df.columns"
   ]
  },
  {
   "cell_type": "code",
   "execution_count": 26,
   "id": "16d1f652-54d0-4df4-b94d-b75e2b6b2894",
   "metadata": {},
   "outputs": [
    {
     "data": {
      "text/plain": [
       "True"
      ]
     },
     "execution_count": 26,
     "metadata": {},
     "output_type": "execute_result"
    }
   ],
   "source": [
    "is_missing_steps(df,  '2011-01-01 00:00:00', '2011-01-19 23:00:00','H')"
   ]
  },
  {
   "cell_type": "code",
   "execution_count": 27,
   "id": "42e11491-d66e-4858-86ea-19ed2ffdefa6",
   "metadata": {},
   "outputs": [
    {
     "data": {
      "text/plain": [
       "DatetimeIndex(['2011-01-02 05:00:00', '2011-01-03 02:00:00',\n",
       "               '2011-01-03 03:00:00', '2011-01-04 03:00:00',\n",
       "               '2011-01-05 03:00:00', '2011-01-06 03:00:00',\n",
       "               '2011-01-07 03:00:00', '2011-01-11 03:00:00',\n",
       "               '2011-01-11 04:00:00', '2011-01-12 03:00:00',\n",
       "               '2011-01-12 04:00:00', '2011-01-14 04:00:00',\n",
       "               '2011-01-18 00:00:00', '2011-01-18 01:00:00',\n",
       "               '2011-01-18 02:00:00', '2011-01-18 03:00:00',\n",
       "               '2011-01-18 04:00:00', '2011-01-18 05:00:00',\n",
       "               '2011-01-18 06:00:00', '2011-01-18 07:00:00',\n",
       "               '2011-01-18 08:00:00', '2011-01-18 09:00:00',\n",
       "               '2011-01-18 10:00:00', '2011-01-18 11:00:00',\n",
       "               '2011-01-19 03:00:00'],\n",
       "              dtype='datetime64[ns]', freq=None)"
      ]
     },
     "execution_count": 27,
     "metadata": {},
     "output_type": "execute_result"
    }
   ],
   "source": [
    "get_missing_steps(df,  '2011-01-01 00:00:00', '2011-01-19 23:00:00','H')"
   ]
  },
  {
   "cell_type": "code",
   "execution_count": 29,
   "id": "e1458c40-85af-4a75-9606-2e51e662e6f1",
   "metadata": {},
   "outputs": [
    {
     "data": {
      "text/html": [
       "<div>\n",
       "<style scoped>\n",
       "    .dataframe tbody tr th:only-of-type {\n",
       "        vertical-align: middle;\n",
       "    }\n",
       "\n",
       "    .dataframe tbody tr th {\n",
       "        vertical-align: top;\n",
       "    }\n",
       "\n",
       "    .dataframe thead th {\n",
       "        text-align: right;\n",
       "    }\n",
       "</style>\n",
       "<table border=\"1\" class=\"dataframe\">\n",
       "  <thead>\n",
       "    <tr style=\"text-align: right;\">\n",
       "      <th></th>\n",
       "      <th>season</th>\n",
       "      <th>holiday</th>\n",
       "      <th>workingday</th>\n",
       "      <th>weather</th>\n",
       "      <th>temp</th>\n",
       "      <th>atemp</th>\n",
       "      <th>humidity</th>\n",
       "      <th>windspeed</th>\n",
       "      <th>casual</th>\n",
       "      <th>registered</th>\n",
       "      <th>count</th>\n",
       "    </tr>\n",
       "    <tr>\n",
       "      <th>datetime</th>\n",
       "      <th></th>\n",
       "      <th></th>\n",
       "      <th></th>\n",
       "      <th></th>\n",
       "      <th></th>\n",
       "      <th></th>\n",
       "      <th></th>\n",
       "      <th></th>\n",
       "      <th></th>\n",
       "      <th></th>\n",
       "      <th></th>\n",
       "    </tr>\n",
       "  </thead>\n",
       "  <tbody>\n",
       "    <tr>\n",
       "      <th>2011-01-02 00:00:00</th>\n",
       "      <td>1</td>\n",
       "      <td>0</td>\n",
       "      <td>0</td>\n",
       "      <td>2</td>\n",
       "      <td>18.86</td>\n",
       "      <td>22.725</td>\n",
       "      <td>88</td>\n",
       "      <td>19.9995</td>\n",
       "      <td>4</td>\n",
       "      <td>13</td>\n",
       "      <td>17</td>\n",
       "    </tr>\n",
       "    <tr>\n",
       "      <th>2011-01-02 01:00:00</th>\n",
       "      <td>1</td>\n",
       "      <td>0</td>\n",
       "      <td>0</td>\n",
       "      <td>2</td>\n",
       "      <td>18.04</td>\n",
       "      <td>21.970</td>\n",
       "      <td>94</td>\n",
       "      <td>16.9979</td>\n",
       "      <td>1</td>\n",
       "      <td>16</td>\n",
       "      <td>17</td>\n",
       "    </tr>\n",
       "    <tr>\n",
       "      <th>2011-01-02 02:00:00</th>\n",
       "      <td>1</td>\n",
       "      <td>0</td>\n",
       "      <td>0</td>\n",
       "      <td>2</td>\n",
       "      <td>17.22</td>\n",
       "      <td>21.210</td>\n",
       "      <td>100</td>\n",
       "      <td>19.0012</td>\n",
       "      <td>1</td>\n",
       "      <td>8</td>\n",
       "      <td>9</td>\n",
       "    </tr>\n",
       "    <tr>\n",
       "      <th>2011-01-02 03:00:00</th>\n",
       "      <td>1</td>\n",
       "      <td>0</td>\n",
       "      <td>0</td>\n",
       "      <td>2</td>\n",
       "      <td>18.86</td>\n",
       "      <td>22.725</td>\n",
       "      <td>94</td>\n",
       "      <td>12.9980</td>\n",
       "      <td>2</td>\n",
       "      <td>4</td>\n",
       "      <td>6</td>\n",
       "    </tr>\n",
       "    <tr>\n",
       "      <th>2011-01-02 04:00:00</th>\n",
       "      <td>1</td>\n",
       "      <td>0</td>\n",
       "      <td>0</td>\n",
       "      <td>2</td>\n",
       "      <td>18.86</td>\n",
       "      <td>22.725</td>\n",
       "      <td>94</td>\n",
       "      <td>12.9980</td>\n",
       "      <td>2</td>\n",
       "      <td>1</td>\n",
       "      <td>3</td>\n",
       "    </tr>\n",
       "    <tr>\n",
       "      <th>2011-01-02 06:00:00</th>\n",
       "      <td>1</td>\n",
       "      <td>0</td>\n",
       "      <td>0</td>\n",
       "      <td>3</td>\n",
       "      <td>17.22</td>\n",
       "      <td>21.210</td>\n",
       "      <td>77</td>\n",
       "      <td>19.9995</td>\n",
       "      <td>0</td>\n",
       "      <td>2</td>\n",
       "      <td>2</td>\n",
       "    </tr>\n",
       "    <tr>\n",
       "      <th>2011-01-02 07:00:00</th>\n",
       "      <td>1</td>\n",
       "      <td>0</td>\n",
       "      <td>0</td>\n",
       "      <td>2</td>\n",
       "      <td>16.40</td>\n",
       "      <td>20.455</td>\n",
       "      <td>76</td>\n",
       "      <td>12.9980</td>\n",
       "      <td>0</td>\n",
       "      <td>1</td>\n",
       "      <td>1</td>\n",
       "    </tr>\n",
       "    <tr>\n",
       "      <th>2011-01-02 08:00:00</th>\n",
       "      <td>1</td>\n",
       "      <td>0</td>\n",
       "      <td>0</td>\n",
       "      <td>3</td>\n",
       "      <td>16.40</td>\n",
       "      <td>20.455</td>\n",
       "      <td>71</td>\n",
       "      <td>15.0013</td>\n",
       "      <td>0</td>\n",
       "      <td>8</td>\n",
       "      <td>8</td>\n",
       "    </tr>\n",
       "    <tr>\n",
       "      <th>2011-01-02 09:00:00</th>\n",
       "      <td>1</td>\n",
       "      <td>0</td>\n",
       "      <td>0</td>\n",
       "      <td>2</td>\n",
       "      <td>15.58</td>\n",
       "      <td>19.695</td>\n",
       "      <td>76</td>\n",
       "      <td>15.0013</td>\n",
       "      <td>1</td>\n",
       "      <td>19</td>\n",
       "      <td>20</td>\n",
       "    </tr>\n",
       "    <tr>\n",
       "      <th>2011-01-02 10:00:00</th>\n",
       "      <td>1</td>\n",
       "      <td>0</td>\n",
       "      <td>0</td>\n",
       "      <td>2</td>\n",
       "      <td>14.76</td>\n",
       "      <td>17.425</td>\n",
       "      <td>81</td>\n",
       "      <td>15.0013</td>\n",
       "      <td>7</td>\n",
       "      <td>46</td>\n",
       "      <td>53</td>\n",
       "    </tr>\n",
       "    <tr>\n",
       "      <th>2011-01-02 11:00:00</th>\n",
       "      <td>1</td>\n",
       "      <td>0</td>\n",
       "      <td>0</td>\n",
       "      <td>2</td>\n",
       "      <td>14.76</td>\n",
       "      <td>16.665</td>\n",
       "      <td>71</td>\n",
       "      <td>16.9979</td>\n",
       "      <td>16</td>\n",
       "      <td>54</td>\n",
       "      <td>70</td>\n",
       "    </tr>\n",
       "    <tr>\n",
       "      <th>2011-01-02 12:00:00</th>\n",
       "      <td>1</td>\n",
       "      <td>0</td>\n",
       "      <td>0</td>\n",
       "      <td>2</td>\n",
       "      <td>14.76</td>\n",
       "      <td>16.665</td>\n",
       "      <td>66</td>\n",
       "      <td>19.9995</td>\n",
       "      <td>20</td>\n",
       "      <td>73</td>\n",
       "      <td>93</td>\n",
       "    </tr>\n",
       "    <tr>\n",
       "      <th>2011-01-02 13:00:00</th>\n",
       "      <td>1</td>\n",
       "      <td>0</td>\n",
       "      <td>0</td>\n",
       "      <td>2</td>\n",
       "      <td>14.76</td>\n",
       "      <td>17.425</td>\n",
       "      <td>66</td>\n",
       "      <td>8.9981</td>\n",
       "      <td>11</td>\n",
       "      <td>64</td>\n",
       "      <td>75</td>\n",
       "    </tr>\n",
       "    <tr>\n",
       "      <th>2011-01-02 14:00:00</th>\n",
       "      <td>1</td>\n",
       "      <td>0</td>\n",
       "      <td>0</td>\n",
       "      <td>3</td>\n",
       "      <td>14.76</td>\n",
       "      <td>17.425</td>\n",
       "      <td>76</td>\n",
       "      <td>12.9980</td>\n",
       "      <td>4</td>\n",
       "      <td>55</td>\n",
       "      <td>59</td>\n",
       "    </tr>\n",
       "  </tbody>\n",
       "</table>\n",
       "</div>"
      ],
      "text/plain": [
       "                     season  holiday  workingday  weather   temp   atemp  \\\n",
       "datetime                                                                   \n",
       "2011-01-02 00:00:00       1        0           0        2  18.86  22.725   \n",
       "2011-01-02 01:00:00       1        0           0        2  18.04  21.970   \n",
       "2011-01-02 02:00:00       1        0           0        2  17.22  21.210   \n",
       "2011-01-02 03:00:00       1        0           0        2  18.86  22.725   \n",
       "2011-01-02 04:00:00       1        0           0        2  18.86  22.725   \n",
       "2011-01-02 06:00:00       1        0           0        3  17.22  21.210   \n",
       "2011-01-02 07:00:00       1        0           0        2  16.40  20.455   \n",
       "2011-01-02 08:00:00       1        0           0        3  16.40  20.455   \n",
       "2011-01-02 09:00:00       1        0           0        2  15.58  19.695   \n",
       "2011-01-02 10:00:00       1        0           0        2  14.76  17.425   \n",
       "2011-01-02 11:00:00       1        0           0        2  14.76  16.665   \n",
       "2011-01-02 12:00:00       1        0           0        2  14.76  16.665   \n",
       "2011-01-02 13:00:00       1        0           0        2  14.76  17.425   \n",
       "2011-01-02 14:00:00       1        0           0        3  14.76  17.425   \n",
       "\n",
       "                     humidity  windspeed  casual  registered  count  \n",
       "datetime                                                             \n",
       "2011-01-02 00:00:00        88    19.9995       4          13     17  \n",
       "2011-01-02 01:00:00        94    16.9979       1          16     17  \n",
       "2011-01-02 02:00:00       100    19.0012       1           8      9  \n",
       "2011-01-02 03:00:00        94    12.9980       2           4      6  \n",
       "2011-01-02 04:00:00        94    12.9980       2           1      3  \n",
       "2011-01-02 06:00:00        77    19.9995       0           2      2  \n",
       "2011-01-02 07:00:00        76    12.9980       0           1      1  \n",
       "2011-01-02 08:00:00        71    15.0013       0           8      8  \n",
       "2011-01-02 09:00:00        76    15.0013       1          19     20  \n",
       "2011-01-02 10:00:00        81    15.0013       7          46     53  \n",
       "2011-01-02 11:00:00        71    16.9979      16          54     70  \n",
       "2011-01-02 12:00:00        66    19.9995      20          73     93  \n",
       "2011-01-02 13:00:00        66     8.9981      11          64     75  \n",
       "2011-01-02 14:00:00        76    12.9980       4          55     59  "
      ]
     },
     "execution_count": 29,
     "metadata": {},
     "output_type": "execute_result"
    }
   ],
   "source": [
    "# data for 5 AM is missing\n",
    "\n",
    "df['2011-01-02 00:00:00':'2011-01-02 14:00:00']"
   ]
  },
  {
   "cell_type": "code",
   "execution_count": 31,
   "id": "dcb4039b-a353-4cbf-9fb1-42824ae9b80c",
   "metadata": {},
   "outputs": [
    {
     "data": {
      "text/plain": [
       "<Axes: xlabel='datetime'>"
      ]
     },
     "execution_count": 31,
     "metadata": {},
     "output_type": "execute_result"
    },
    {
     "data": {
      "image/png": "[encoded data removed]",
      "text/plain": [
       "<Figure size 640x480 with 1 Axes>"
      ]
     },
     "metadata": {},
     "output_type": "display_data"
    }
   ],
   "source": [
    "# Plots do not show the missing data. we need to resample\n",
    "\n",
    "df['2011-01-02 00:00:00':'2011-01-02 14:00:00']['count'].plot()"
   ]
  },
  {
   "cell_type": "code",
   "execution_count": 32,
   "id": "101219fb-02ca-46cc-90cc-f9dea72a3037",
   "metadata": {},
   "outputs": [],
   "source": [
    "# resample at hourly frequency\n",
    "\n",
    "df = df.resample('1h').mean()"
   ]
  },
  {
   "cell_type": "code",
   "execution_count": 33,
   "id": "fd7d705c-7309-461e-aefd-31f8ac664a7a",
   "metadata": {},
   "outputs": [
    {
     "data": {
      "text/html": [
       "<div>\n",
       "<style scoped>\n",
       "    .dataframe tbody tr th:only-of-type {\n",
       "        vertical-align: middle;\n",
       "    }\n",
       "\n",
       "    .dataframe tbody tr th {\n",
       "        vertical-align: top;\n",
       "    }\n",
       "\n",
       "    .dataframe thead th {\n",
       "        text-align: right;\n",
       "    }\n",
       "</style>\n",
       "<table border=\"1\" class=\"dataframe\">\n",
       "  <thead>\n",
       "    <tr style=\"text-align: right;\">\n",
       "      <th></th>\n",
       "      <th>season</th>\n",
       "      <th>holiday</th>\n",
       "      <th>workingday</th>\n",
       "      <th>weather</th>\n",
       "      <th>temp</th>\n",
       "      <th>atemp</th>\n",
       "      <th>humidity</th>\n",
       "      <th>windspeed</th>\n",
       "      <th>casual</th>\n",
       "      <th>registered</th>\n",
       "      <th>count</th>\n",
       "    </tr>\n",
       "    <tr>\n",
       "      <th>datetime</th>\n",
       "      <th></th>\n",
       "      <th></th>\n",
       "      <th></th>\n",
       "      <th></th>\n",
       "      <th></th>\n",
       "      <th></th>\n",
       "      <th></th>\n",
       "      <th></th>\n",
       "      <th></th>\n",
       "      <th></th>\n",
       "      <th></th>\n",
       "    </tr>\n",
       "  </thead>\n",
       "  <tbody>\n",
       "    <tr>\n",
       "      <th>2011-01-02 00:00:00</th>\n",
       "      <td>1.0</td>\n",
       "      <td>0.0</td>\n",
       "      <td>0.0</td>\n",
       "      <td>2.0</td>\n",
       "      <td>18.86</td>\n",
       "      <td>22.725</td>\n",
       "      <td>88.0</td>\n",
       "      <td>19.9995</td>\n",
       "      <td>4.0</td>\n",
       "      <td>13.0</td>\n",
       "      <td>17.0</td>\n",
       "    </tr>\n",
       "    <tr>\n",
       "      <th>2011-01-02 01:00:00</th>\n",
       "      <td>1.0</td>\n",
       "      <td>0.0</td>\n",
       "      <td>0.0</td>\n",
       "      <td>2.0</td>\n",
       "      <td>18.04</td>\n",
       "      <td>21.970</td>\n",
       "      <td>94.0</td>\n",
       "      <td>16.9979</td>\n",
       "      <td>1.0</td>\n",
       "      <td>16.0</td>\n",
       "      <td>17.0</td>\n",
       "    </tr>\n",
       "    <tr>\n",
       "      <th>2011-01-02 02:00:00</th>\n",
       "      <td>1.0</td>\n",
       "      <td>0.0</td>\n",
       "      <td>0.0</td>\n",
       "      <td>2.0</td>\n",
       "      <td>17.22</td>\n",
       "      <td>21.210</td>\n",
       "      <td>100.0</td>\n",
       "      <td>19.0012</td>\n",
       "      <td>1.0</td>\n",
       "      <td>8.0</td>\n",
       "      <td>9.0</td>\n",
       "    </tr>\n",
       "    <tr>\n",
       "      <th>2011-01-02 03:00:00</th>\n",
       "      <td>1.0</td>\n",
       "      <td>0.0</td>\n",
       "      <td>0.0</td>\n",
       "      <td>2.0</td>\n",
       "      <td>18.86</td>\n",
       "      <td>22.725</td>\n",
       "      <td>94.0</td>\n",
       "      <td>12.9980</td>\n",
       "      <td>2.0</td>\n",
       "      <td>4.0</td>\n",
       "      <td>6.0</td>\n",
       "    </tr>\n",
       "    <tr>\n",
       "      <th>2011-01-02 04:00:00</th>\n",
       "      <td>1.0</td>\n",
       "      <td>0.0</td>\n",
       "      <td>0.0</td>\n",
       "      <td>2.0</td>\n",
       "      <td>18.86</td>\n",
       "      <td>22.725</td>\n",
       "      <td>94.0</td>\n",
       "      <td>12.9980</td>\n",
       "      <td>2.0</td>\n",
       "      <td>1.0</td>\n",
       "      <td>3.0</td>\n",
       "    </tr>\n",
       "    <tr>\n",
       "      <th>2011-01-02 05:00:00</th>\n",
       "      <td>NaN</td>\n",
       "      <td>NaN</td>\n",
       "      <td>NaN</td>\n",
       "      <td>NaN</td>\n",
       "      <td>NaN</td>\n",
       "      <td>NaN</td>\n",
       "      <td>NaN</td>\n",
       "      <td>NaN</td>\n",
       "      <td>NaN</td>\n",
       "      <td>NaN</td>\n",
       "      <td>NaN</td>\n",
       "    </tr>\n",
       "    <tr>\n",
       "      <th>2011-01-02 06:00:00</th>\n",
       "      <td>1.0</td>\n",
       "      <td>0.0</td>\n",
       "      <td>0.0</td>\n",
       "      <td>3.0</td>\n",
       "      <td>17.22</td>\n",
       "      <td>21.210</td>\n",
       "      <td>77.0</td>\n",
       "      <td>19.9995</td>\n",
       "      <td>0.0</td>\n",
       "      <td>2.0</td>\n",
       "      <td>2.0</td>\n",
       "    </tr>\n",
       "    <tr>\n",
       "      <th>2011-01-02 07:00:00</th>\n",
       "      <td>1.0</td>\n",
       "      <td>0.0</td>\n",
       "      <td>0.0</td>\n",
       "      <td>2.0</td>\n",
       "      <td>16.40</td>\n",
       "      <td>20.455</td>\n",
       "      <td>76.0</td>\n",
       "      <td>12.9980</td>\n",
       "      <td>0.0</td>\n",
       "      <td>1.0</td>\n",
       "      <td>1.0</td>\n",
       "    </tr>\n",
       "    <tr>\n",
       "      <th>2011-01-02 08:00:00</th>\n",
       "      <td>1.0</td>\n",
       "      <td>0.0</td>\n",
       "      <td>0.0</td>\n",
       "      <td>3.0</td>\n",
       "      <td>16.40</td>\n",
       "      <td>20.455</td>\n",
       "      <td>71.0</td>\n",
       "      <td>15.0013</td>\n",
       "      <td>0.0</td>\n",
       "      <td>8.0</td>\n",
       "      <td>8.0</td>\n",
       "    </tr>\n",
       "    <tr>\n",
       "      <th>2011-01-02 09:00:00</th>\n",
       "      <td>1.0</td>\n",
       "      <td>0.0</td>\n",
       "      <td>0.0</td>\n",
       "      <td>2.0</td>\n",
       "      <td>15.58</td>\n",
       "      <td>19.695</td>\n",
       "      <td>76.0</td>\n",
       "      <td>15.0013</td>\n",
       "      <td>1.0</td>\n",
       "      <td>19.0</td>\n",
       "      <td>20.0</td>\n",
       "    </tr>\n",
       "    <tr>\n",
       "      <th>2011-01-02 10:00:00</th>\n",
       "      <td>1.0</td>\n",
       "      <td>0.0</td>\n",
       "      <td>0.0</td>\n",
       "      <td>2.0</td>\n",
       "      <td>14.76</td>\n",
       "      <td>17.425</td>\n",
       "      <td>81.0</td>\n",
       "      <td>15.0013</td>\n",
       "      <td>7.0</td>\n",
       "      <td>46.0</td>\n",
       "      <td>53.0</td>\n",
       "    </tr>\n",
       "    <tr>\n",
       "      <th>2011-01-02 11:00:00</th>\n",
       "      <td>1.0</td>\n",
       "      <td>0.0</td>\n",
       "      <td>0.0</td>\n",
       "      <td>2.0</td>\n",
       "      <td>14.76</td>\n",
       "      <td>16.665</td>\n",
       "      <td>71.0</td>\n",
       "      <td>16.9979</td>\n",
       "      <td>16.0</td>\n",
       "      <td>54.0</td>\n",
       "      <td>70.0</td>\n",
       "    </tr>\n",
       "    <tr>\n",
       "      <th>2011-01-02 12:00:00</th>\n",
       "      <td>1.0</td>\n",
       "      <td>0.0</td>\n",
       "      <td>0.0</td>\n",
       "      <td>2.0</td>\n",
       "      <td>14.76</td>\n",
       "      <td>16.665</td>\n",
       "      <td>66.0</td>\n",
       "      <td>19.9995</td>\n",
       "      <td>20.0</td>\n",
       "      <td>73.0</td>\n",
       "      <td>93.0</td>\n",
       "    </tr>\n",
       "    <tr>\n",
       "      <th>2011-01-02 13:00:00</th>\n",
       "      <td>1.0</td>\n",
       "      <td>0.0</td>\n",
       "      <td>0.0</td>\n",
       "      <td>2.0</td>\n",
       "      <td>14.76</td>\n",
       "      <td>17.425</td>\n",
       "      <td>66.0</td>\n",
       "      <td>8.9981</td>\n",
       "      <td>11.0</td>\n",
       "      <td>64.0</td>\n",
       "      <td>75.0</td>\n",
       "    </tr>\n",
       "    <tr>\n",
       "      <th>2011-01-02 14:00:00</th>\n",
       "      <td>1.0</td>\n",
       "      <td>0.0</td>\n",
       "      <td>0.0</td>\n",
       "      <td>3.0</td>\n",
       "      <td>14.76</td>\n",
       "      <td>17.425</td>\n",
       "      <td>76.0</td>\n",
       "      <td>12.9980</td>\n",
       "      <td>4.0</td>\n",
       "      <td>55.0</td>\n",
       "      <td>59.0</td>\n",
       "    </tr>\n",
       "  </tbody>\n",
       "</table>\n",
       "</div>"
      ],
      "text/plain": [
       "                     season  holiday  workingday  weather   temp   atemp  \\\n",
       "datetime                                                                   \n",
       "2011-01-02 00:00:00     1.0      0.0         0.0      2.0  18.86  22.725   \n",
       "2011-01-02 01:00:00     1.0      0.0         0.0      2.0  18.04  21.970   \n",
       "2011-01-02 02:00:00     1.0      0.0         0.0      2.0  17.22  21.210   \n",
       "2011-01-02 03:00:00     1.0      0.0         0.0      2.0  18.86  22.725   \n",
       "2011-01-02 04:00:00     1.0      0.0         0.0      2.0  18.86  22.725   \n",
       "2011-01-02 05:00:00     NaN      NaN         NaN      NaN    NaN     NaN   \n",
       "2011-01-02 06:00:00     1.0      0.0         0.0      3.0  17.22  21.210   \n",
       "2011-01-02 07:00:00     1.0      0.0         0.0      2.0  16.40  20.455   \n",
       "2011-01-02 08:00:00     1.0      0.0         0.0      3.0  16.40  20.455   \n",
       "2011-01-02 09:00:00     1.0      0.0         0.0      2.0  15.58  19.695   \n",
       "2011-01-02 10:00:00     1.0      0.0         0.0      2.0  14.76  17.425   \n",
       "2011-01-02 11:00:00     1.0      0.0         0.0      2.0  14.76  16.665   \n",
       "2011-01-02 12:00:00     1.0      0.0         0.0      2.0  14.76  16.665   \n",
       "2011-01-02 13:00:00     1.0      0.0         0.0      2.0  14.76  17.425   \n",
       "2011-01-02 14:00:00     1.0      0.0         0.0      3.0  14.76  17.425   \n",
       "\n",
       "                     humidity  windspeed  casual  registered  count  \n",
       "datetime                                                             \n",
       "2011-01-02 00:00:00      88.0    19.9995     4.0        13.0   17.0  \n",
       "2011-01-02 01:00:00      94.0    16.9979     1.0        16.0   17.0  \n",
       "2011-01-02 02:00:00     100.0    19.0012     1.0         8.0    9.0  \n",
       "2011-01-02 03:00:00      94.0    12.9980     2.0         4.0    6.0  \n",
       "2011-01-02 04:00:00      94.0    12.9980     2.0         1.0    3.0  \n",
       "2011-01-02 05:00:00       NaN        NaN     NaN         NaN    NaN  \n",
       "2011-01-02 06:00:00      77.0    19.9995     0.0         2.0    2.0  \n",
       "2011-01-02 07:00:00      76.0    12.9980     0.0         1.0    1.0  \n",
       "2011-01-02 08:00:00      71.0    15.0013     0.0         8.0    8.0  \n",
       "2011-01-02 09:00:00      76.0    15.0013     1.0        19.0   20.0  \n",
       "2011-01-02 10:00:00      81.0    15.0013     7.0        46.0   53.0  \n",
       "2011-01-02 11:00:00      71.0    16.9979    16.0        54.0   70.0  \n",
       "2011-01-02 12:00:00      66.0    19.9995    20.0        73.0   93.0  \n",
       "2011-01-02 13:00:00      66.0     8.9981    11.0        64.0   75.0  \n",
       "2011-01-02 14:00:00      76.0    12.9980     4.0        55.0   59.0  "
      ]
     },
     "execution_count": 33,
     "metadata": {},
     "output_type": "execute_result"
    }
   ],
   "source": [
    "# after resample 5AM row has all NaNs\n",
    "df['2011-01-02 00:00:00':'2011-01-02 14:00:00']"
   ]
  },
  {
   "cell_type": "code",
   "execution_count": 35,
   "id": "4df8c058-2913-4a7a-82b2-3b9f3151aae2",
   "metadata": {},
   "outputs": [
    {
     "data": {
      "text/plain": [
       "<Axes: xlabel='datetime'>"
      ]
     },
     "execution_count": 35,
     "metadata": {},
     "output_type": "execute_result"
    },
    {
     "data": {
      "image/png": "[encoded data removed]",
      "text/plain": [
       "<Figure size 640x480 with 1 Axes>"
      ]
     },
     "metadata": {},
     "output_type": "display_data"
    }
   ],
   "source": [
    "# now we can see the missing data clearly\n",
    "df['2011-01-02 00:00:00':'2011-01-02 14:00:00']['count'].plot()"
   ]
  },
  {
   "cell_type": "code",
   "execution_count": 38,
   "id": "6d3b96b9-04c7-4ef1-9120-754775d952f7",
   "metadata": {},
   "outputs": [
    {
     "data": {
      "image/png": "[encoded data removed]",
      "text/plain": [
       "<Figure size 640x480 with 1 Axes>"
      ]
     },
     "metadata": {},
     "output_type": "display_data"
    }
   ],
   "source": [
    "# plot jan and feb data of 2012\n",
    "# The data from the last few days is not present and model has to predict those values\n",
    "\n",
    "_ = df['2012-01':'2012-02']['count'].plot()"
   ]
  },
  {
   "cell_type": "code",
   "execution_count": 39,
   "id": "b3909e73-60db-444f-94bc-04d6bc86dc76",
   "metadata": {},
   "outputs": [
    {
     "data": {
      "text/plain": [
       "['count', 'registered', 'casual']"
      ]
     },
     "execution_count": 39,
     "metadata": {},
     "output_type": "execute_result"
    }
   ],
   "source": [
    "target_values"
   ]
  },
  {
   "cell_type": "code",
   "execution_count": 40,
   "id": "8e745f44-333d-48d8-861f-0361ab250282",
   "metadata": {},
   "outputs": [
    {
     "data": {
      "text/plain": [
       "(Timestamp('2011-01-01 00:00:00'), Timestamp('2012-12-19 23:00:00'))"
      ]
     },
     "execution_count": 40,
     "metadata": {},
     "output_type": "execute_result"
    }
   ],
   "source": [
    "dt_test_range"
   ]
  },
  {
   "cell_type": "code",
   "execution_count": 41,
   "id": "3f625be7-a5b3-49fd-ad58-90a35512b2ab",
   "metadata": {},
   "outputs": [
    {
     "data": {
      "text/plain": [
       "datetime\n",
       "2011-01-01 00:00:00     16.0\n",
       "2011-01-01 01:00:00     40.0\n",
       "2011-01-01 02:00:00     32.0\n",
       "2011-01-01 03:00:00     13.0\n",
       "2011-01-01 04:00:00      1.0\n",
       "                       ...  \n",
       "2012-12-19 19:00:00    336.0\n",
       "2012-12-19 20:00:00    241.0\n",
       "2012-12-19 21:00:00    168.0\n",
       "2012-12-19 22:00:00    129.0\n",
       "2012-12-19 23:00:00     88.0\n",
       "Freq: H, Name: count, Length: 17256, dtype: float64"
      ]
     },
     "execution_count": 41,
     "metadata": {},
     "output_type": "execute_result"
    }
   ],
   "source": [
    "# rental count for test data\n",
    "\n",
    "df.loc[dt_test_range[0]:dt_test_range[1]]['count']"
   ]
  },
  {
   "cell_type": "code",
   "execution_count": 42,
   "id": "19c9c477-9cd0-42a9-8a05-71df02556434",
   "metadata": {},
   "outputs": [
    {
     "data": {
      "text/plain": [
       "(Timestamp('2011-01-01 00:00:00'), Timestamp('2012-12-19 23:00:00'))"
      ]
     },
     "execution_count": 42,
     "metadata": {},
     "output_type": "execute_result"
    }
   ],
   "source": [
    "dt_test_range"
   ]
  },
  {
   "cell_type": "code",
   "execution_count": 43,
   "id": "750ef309-fee6-46b3-913f-64130fcfebd5",
   "metadata": {},
   "outputs": [
    {
     "name": "stdout",
     "output_type": "stream",
     "text": [
      "Train range (Timestamp('2011-01-01 00:00:00'), Timestamp('2012-12-07 23:00:00'))\n",
      "Test range (Timestamp('2011-01-01 00:00:00'), Timestamp('2012-12-19 23:00:00'))\n"
     ]
    }
   ],
   "source": [
    "print(\"Train range\", dt_train_range)\n",
    "print(\"Test range\", dt_test_range)"
   ]
  },
  {
   "cell_type": "code",
   "execution_count": 44,
   "id": "276b35c3-bd36-45da-9fb3-e0377f1fbc5e",
   "metadata": {},
   "outputs": [
    {
     "name": "stdout",
     "output_type": "stream",
     "text": [
      "Target: ['count', 'registered', 'casual']\n"
     ]
    }
   ],
   "source": [
    "print(\"Target:\", target_values)"
   ]
  },
  {
   "cell_type": "code",
   "execution_count": null,
   "id": "f57ac631-0f42-434f-94f1-905c9a210962",
   "metadata": {},
   "outputs": [],
   "source": []
  }
 ],
 "metadata": {
  "kernelspec": {
   "display_name": "Python 3 (ipykernel)",
   "language": "python",
   "name": "python3"
  },
  "language_info": {
   "codemirror_mode": {
    "name": "ipython",
    "version": 3
   },
   "file_extension": ".py",
   "mimetype": "text/x-python",
   "name": "python",
   "nbconvert_exporter": "python",
   "pygments_lexer": "ipython3",
   "version": "3.8.10"
  }
 },
 "nbformat": 4,
 "nbformat_minor": 5
}
