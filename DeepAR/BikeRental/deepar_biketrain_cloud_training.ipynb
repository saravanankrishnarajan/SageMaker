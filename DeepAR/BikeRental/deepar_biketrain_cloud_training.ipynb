{
 "cells": [
  {
   "cell_type": "markdown",
   "id": "4efe93af",
   "metadata": {},
   "source": [
    "### DeepAR Model - Bike Rental Training\n",
    "\n",
    "Note: This data is not a true timeseries as there are lots of gaps\n",
    "\n",
    "We have data only for first 20 days of each month and model needs to predict the rental for the remaining days of the month. The dataset consists of two years data. DeepAR will shine with true multiple-timeseries dataset."
   ]
  },
  {
   "cell_type": "code",
   "execution_count": 1,
   "id": "a0e36b21",
   "metadata": {},
   "outputs": [
    {
     "name": "stdout",
     "output_type": "stream",
     "text": [
      "sagemaker.config INFO - Not applying SDK defaults from location: /etc/xdg/sagemaker/config.yaml\n",
      "sagemaker.config INFO - Not applying SDK defaults from location: /home/ec2-user/.config/sagemaker/config.yaml\n"
     ]
    }
   ],
   "source": [
    "import numpy as np\n",
    "import pandas as pd\n",
    "import matplotlib.pyplot as plt\n",
    "import json\n",
    "import time\n",
    "import datetime\n",
    "\n",
    "import boto3\n",
    "import sagemaker\n",
    "from sagemaker import get_execution_role"
   ]
  },
  {
   "cell_type": "code",
   "execution_count": 2,
   "id": "3a1129db",
   "metadata": {},
   "outputs": [],
   "source": [
    "### Import s3 bucket name as environment variable\n",
    "\n",
    "import os\n",
    "env_vars = !cat ./.env\n",
    "for var in env_vars:\n",
    "    key, value = var.split('=')\n",
    "    os.environ[key] = value"
   ]
  },
  {
   "cell_type": "code",
   "execution_count": 3,
   "id": "b17195b6",
   "metadata": {},
   "outputs": [],
   "source": [
    "# set differnt job names when building different models based on choices\n",
    "# Also have jobnames easily differiantiate according to choice\n",
    "\n",
    "with_categories = True\n",
    "if with_categories:\n",
    "    base_job_name = 'deepar-biketrain-with-categories'\n",
    "else:\n",
    "    base_job_name = 'deepar-biketrain-no-categories'"
   ]
  },
  {
   "cell_type": "code",
   "execution_count": 4,
   "id": "c3635d36",
   "metadata": {},
   "outputs": [],
   "source": [
    "# specify your bucket name and dataset path in that\n",
    "\n",
    "bucket = os.environ['BUCKET_NAME']\n",
    "prefix = 'deepar/bikerental'\n",
    "\n",
    "# This structure allows multiple training and test files for model development and testing\n",
    "\n",
    "if with_categories:\n",
    "    s3_data_path = \"{}/{}/data_with_categories\".format(bucket, prefix)\n",
    "else:\n",
    "    s3_data_path = \"{}/{}/data\".format(bucket,prefix)\n",
    "    \n",
    "s3_output_path = \"{}/{}/output\".format(bucket,prefix)\n"
   ]
  },
  {
   "cell_type": "code",
   "execution_count": 5,
   "id": "e6915813",
   "metadata": {},
   "outputs": [],
   "source": [
    "#s3_data_path, s3_output_path"
   ]
  },
  {
   "cell_type": "code",
   "execution_count": 6,
   "id": "8d9b2f94",
   "metadata": {},
   "outputs": [],
   "source": [
    "# function that uploads files to s3 bucket\n",
    "\n",
    "def write_to_s3(filename, bucket, key):\n",
    "    with open(filename, 'rb') as f:\n",
    "        return boto3.Session().resource('s3').Bucket(bucket).Object(key).upload_fileobj(f)"
   ]
  },
  {
   "cell_type": "code",
   "execution_count": 7,
   "id": "f5bfe036",
   "metadata": {},
   "outputs": [],
   "source": [
    "# upload one or more training files and test files to s3\n",
    "\n",
    "if with_categories:\n",
    "    write_to_s3('train_with_categories.json', bucket, 'deepar/bikerental/data_with_categories/train/train_with_categories.json')\n",
    "    write_to_s3('test_with_categories.json', bucket, 'deepar/bikerental/data_with_categories/test/test_with_categories.json')\n",
    "else:\n",
    "    write_to_s3('train.json',bucket, 'deepar/bikerental/data/train/train.json')\n",
    "    write_to_s3('test.json', bucket, 'deepar/bikerental/data/test/test.json')"
   ]
  },
  {
   "cell_type": "code",
   "execution_count": 10,
   "id": "d108115f",
   "metadata": {},
   "outputs": [],
   "source": [
    "# Use spont instance \n",
    "\n",
    "use_spot_instances = True\n",
    "max_run = 3600\n",
    "max_wait = 3600 if use_spot_instances else None \n",
    "\n",
    "job_name = base_job_name\n",
    "\n",
    "checkpoint_s3_uri = None\n",
    "\n",
    "if use_spot_instances:\n",
    "    checkpoint_s3_uri = f's3://{bucket}/{prefix}/checkpoints/{job_name}'\n",
    "    \n",
    "#print(f'Checkpoint uri: {checkpoint_s3_uri}')"
   ]
  },
  {
   "cell_type": "code",
   "execution_count": 12,
   "id": "c356d19a",
   "metadata": {},
   "outputs": [],
   "source": [
    "# Establish a session with AWS\n",
    "\n",
    "sess = sagemaker.Session()\n",
    "role = get_execution_role()"
   ]
  },
  {
   "cell_type": "code",
   "execution_count": 16,
   "id": "97a66610",
   "metadata": {},
   "outputs": [],
   "source": [
    "# This role contains the permissions needed to train, deploy models\n",
    "# Sagemaker serveis is trusted to assume this role\n",
    "\n",
    "#print(role)"
   ]
  },
  {
   "cell_type": "code",
   "execution_count": 13,
   "id": "0520b418",
   "metadata": {},
   "outputs": [
    {
     "name": "stdout",
     "output_type": "stream",
     "text": [
      "Using DeepAR container 522234722520.dkr.ecr.us-east-1.amazonaws.com/forecasting-deepar:1\n"
     ]
    }
   ],
   "source": [
    "# SDK 2 uses image_uris.retrie to get container image\n",
    "\n",
    "container = sagemaker.image_uris.retrieve(\"forecasting-deepar\",sess.boto_region_name)\n",
    "\n",
    "print(f'Using DeepAR container {container}')"
   ]
  },
  {
   "cell_type": "code",
   "execution_count": 14,
   "id": "3f2b4f0e",
   "metadata": {},
   "outputs": [],
   "source": [
    "freq = \"H\" # Data consists hourly data\n",
    "\n",
    "prediction_length = 288 # need to predict 12 days of data in hours\n",
    "\n",
    "context_length = 288 # AWS recommends that context lenght to be same as prediction length to look past the same length as pred\n"
   ]
  },
  {
   "cell_type": "code",
   "execution_count": 15,
   "id": "99d5fcaa",
   "metadata": {},
   "outputs": [],
   "source": [
    "# Configure training job\n",
    "\n",
    "estimator = sagemaker.estimator.Estimator(\n",
    "    container,\n",
    "    role,\n",
    "    instance_count = 1,\n",
    "    instance_type = 'ml.m5.xlarge',\n",
    "    output_path = 's3://'+s3_output_path,\n",
    "    sagemaker_session=sess,\n",
    "    base_job_name= job_name,\n",
    "    use_spot_instances = use_spot_instances,\n",
    "    max_run= max_run,\n",
    "    max_wait = max_wait,\n",
    "    checkpoint_s3_uri = checkpoint_s3_uri\n",
    ")"
   ]
  },
  {
   "cell_type": "code",
   "execution_count": 13,
   "id": "7942f0f0",
   "metadata": {},
   "outputs": [
    {
     "data": {
      "text/plain": [
       "('H', 288, 288)"
      ]
     },
     "execution_count": 13,
     "metadata": {},
     "output_type": "execute_result"
    }
   ],
   "source": [
    "freq, context_length, prediction_length"
   ]
  },
  {
   "cell_type": "code",
   "execution_count": 16,
   "id": "9f362c1e",
   "metadata": {},
   "outputs": [],
   "source": [
    "# deepar hyperparameters\n",
    "\n",
    "hyperparameters = {\n",
    "    \"time_freq\" : freq,\n",
    "    \"epochs\":\"400\",\n",
    "    \"early_stopping_patience\":\"10\",\n",
    "    \"mini_batch_size\": \"64\",\n",
    "    \"learning_rate\" : \"5E-4\",\n",
    "    \"context_length\" : str(context_length),\n",
    "    \"prediction_length\" : str(prediction_length),\n",
    "    \"cardinality\" : \"auto\" if with_categories else ''\n",
    "}"
   ]
  },
  {
   "cell_type": "code",
   "execution_count": 17,
   "id": "764698ea",
   "metadata": {},
   "outputs": [
    {
     "data": {
      "text/plain": [
       "{'time_freq': 'H',\n",
       " 'epochs': '400',\n",
       " 'early_stopping_patience': '10',\n",
       " 'mini_batch_size': '64',\n",
       " 'learning_rate': '5E-4',\n",
       " 'context_length': '288',\n",
       " 'prediction_length': '288',\n",
       " 'cardinality': 'auto'}"
      ]
     },
     "execution_count": 17,
     "metadata": {},
     "output_type": "execute_result"
    }
   ],
   "source": [
    "hyperparameters"
   ]
  },
  {
   "cell_type": "code",
   "execution_count": 18,
   "id": "099439ed",
   "metadata": {},
   "outputs": [],
   "source": [
    "estimator.set_hyperparameters(**hyperparameters)"
   ]
  },
  {
   "cell_type": "code",
   "execution_count": 20,
   "id": "f7964318",
   "metadata": {},
   "outputs": [],
   "source": [
    "# creating data channels of train and test files\n",
    "\n",
    "data_channels = {\n",
    "    \"train\" : \"s3://{}/train/\".format(s3_data_path),\n",
    "    \"test\" : \"s3://{}/test\".format(s3_data_path)\n",
    "}"
   ]
  },
  {
   "cell_type": "code",
   "execution_count": 32,
   "id": "e2d01842",
   "metadata": {},
   "outputs": [],
   "source": [
    "#data_channels"
   ]
  },
  {
   "cell_type": "code",
   "execution_count": null,
   "id": "21270264",
   "metadata": {},
   "outputs": [
    {
     "name": "stderr",
     "output_type": "stream",
     "text": [
      "INFO:sagemaker:Creating training-job with name: deepar-biketrain-with-categories-2024-06-06-20-51-20-892\n"
     ]
    },
    {
     "name": "stdout",
     "output_type": "stream",
     "text": [
      "2024-06-06 20:51:21 Starting - Starting the training job...\n",
      "2024-06-06 20:51:35 Starting - Preparing the instances for training...\n",
      "2024-06-06 20:52:08 Downloading - Downloading input data."
     ]
    }
   ],
   "source": [
    "# fitting the model\n",
    "\n",
    "estimator.fit(inputs=data_channels)"
   ]
  },
  {
   "cell_type": "code",
   "execution_count": 47,
   "id": "f1b3efdd",
   "metadata": {},
   "outputs": [],
   "source": [
    "job_name = estimator.latest_training_job.name"
   ]
  },
  {
   "cell_type": "code",
   "execution_count": 21,
   "id": "9d09f715",
   "metadata": {},
   "outputs": [],
   "source": [
    "# Hard cde name for now as we stopped the notebook instance\n",
    "job_name = 'deepar-biketrain-with-categories-2024-06-06-20-51-20-892'"
   ]
  },
  {
   "cell_type": "markdown",
   "id": "841a6bc6",
   "metadata": {},
   "source": [
    "#### Create endpoint using jobname"
   ]
  },
  {
   "cell_type": "code",
   "execution_count": 22,
   "id": "9f17a6f2",
   "metadata": {},
   "outputs": [
    {
     "name": "stdout",
     "output_type": "stream",
     "text": [
      "job name: deepar-biketrain-with-categories-2024-06-06-20-51-20-892\n"
     ]
    }
   ],
   "source": [
    "print('job name: {0}'.format(job_name))"
   ]
  },
  {
   "cell_type": "code",
   "execution_count": 23,
   "id": "8f20180f",
   "metadata": {},
   "outputs": [
    {
     "name": "stdout",
     "output_type": "stream",
     "text": [
      "--------!"
     ]
    }
   ],
   "source": [
    "# create an endpoint for real-time predictions\n",
    "\n",
    "endpoint_name = sess.endpoint_from_job(\n",
    "    job_name = job_name,\n",
    "    initial_instance_count = 1,\n",
    "    instance_type = 'ml.m5.large' if use_spot_instances else 'ml.m5.xlarge',\n",
    "    image_uri = container, \n",
    "    role = role\n",
    ")"
   ]
  },
  {
   "cell_type": "code",
   "execution_count": null,
   "id": "0ed8e7a0",
   "metadata": {},
   "outputs": [],
   "source": []
  }
 ],
 "metadata": {
  "kernelspec": {
   "display_name": "conda_tensorflow2_p310",
   "language": "python",
   "name": "conda_tensorflow2_p310"
  },
  "language_info": {
   "codemirror_mode": {
    "name": "ipython",
    "version": 3
   },
   "file_extension": ".py",
   "mimetype": "text/x-python",
   "name": "python",
   "nbconvert_exporter": "python",
   "pygments_lexer": "ipython3",
   "version": "3.10.14"
  }
 },
 "nbformat": 4,
 "nbformat_minor": 5
}
